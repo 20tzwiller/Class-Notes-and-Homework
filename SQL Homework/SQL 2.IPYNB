{
    "metadata": {
        "kernelspec": {
            "name": "SQL",
            "display_name": "SQL",
            "language": "sql"
        },
        "language_info": {
            "name": "sql",
            "version": ""
        }
    },
    "nbformat_minor": 2,
    "nbformat": 4,
    "cells": [
        {
            "cell_type": "markdown",
            "source": [
                "<span style=\"font-size: 12pt; font-family: &quot;Times New Roman&quot;, serif; color: rgb(0, 0, 0); background-color: transparent; font-variant-numeric: normal; font-variant-east-asian: normal; font-variant-alternates: normal; vertical-align: baseline; white-space-collapse: preserve;\">1. In the last homework assignment, you created a list of territories that required training because they did not have at least one month during 2013 with sales of more than $750,000. Working with this sample principle, use a CASE statement to create a list of all territories in alphabetical order, with a new column called \"TrainingRequired\" that has a value of either \"Yes\" or \"No.\"</span>"
            ],
            "metadata": {
                "azdata_cell_guid": "8932c5b0-203f-4537-8e0f-98772c01cb12"
            },
            "attachments": {}
        },
        {
            "cell_type": "code",
            "source": [
                "SELECT DISTINCT ST.Name, --pulling the distinct sales territory name\n",
                "CASE \n",
                "    WHEN MAX(SUM(SOH.Subtotal)) OVER (PARTITION BY ST.Name) > 750000 --creating a partition at 750000 and compares the highest value of the monthly subtotal for each region to 750000\n",
                "        THEN 'No' --no training is needed because the goal was hit\n",
                "    ELSE 'Yes' --training is needed because the goal was not hit\n",
                "    END AS TrainingRequired --assigns it as training required \n",
                "FROM Sales.SalesOrderHeader SOH --pulling information from Sales Order Header\n",
                "INNER JOIN Sales.SalesTerritory ST --Inner joining sales territory with SOH\n",
                "    ON SOH.TerritoryID = ST.TerritoryID --on the territory column for both SOH and ST\n",
                "WHERE DATEPART(Year, SOH.OrderDate) = 2013 --only selects the year 2013 as the date \n",
                "GROUP BY ST.Name, DATEPART(Year, SOH.OrderDate), DATEPART(Month, SOH.OrderDate) --groups by the year, and then the month\n",
                "ORDER BY ST.Name ASC --ordered by names ascending so that the names are in alphabetical order"
            ],
            "metadata": {
                "language": "sql",
                "azdata_cell_guid": "7cbbf444-13cf-4449-a8f0-864560b0525d"
            },
            "outputs": [
                {
                    "output_type": "display_data",
                    "data": {
                        "text/html": "(10 rows affected)"
                    },
                    "metadata": {}
                },
                {
                    "output_type": "display_data",
                    "data": {
                        "text/html": "Total execution time: 00:00:00.058"
                    },
                    "metadata": {}
                },
                {
                    "output_type": "execute_result",
                    "execution_count": 55,
                    "data": {
                        "application/vnd.dataresource+json": {
                            "schema": {
                                "fields": [
                                    {
                                        "name": "Name"
                                    },
                                    {
                                        "name": "TrainingRequired"
                                    }
                                ]
                            },
                            "data": [
                                {
                                    "Name": "Australia",
                                    "TrainingRequired": "Yes"
                                },
                                {
                                    "Name": "Canada",
                                    "TrainingRequired": "No"
                                },
                                {
                                    "Name": "Central",
                                    "TrainingRequired": "Yes"
                                },
                                {
                                    "Name": "France",
                                    "TrainingRequired": "No"
                                },
                                {
                                    "Name": "Germany",
                                    "TrainingRequired": "Yes"
                                },
                                {
                                    "Name": "Northeast",
                                    "TrainingRequired": "Yes"
                                },
                                {
                                    "Name": "Northwest",
                                    "TrainingRequired": "No"
                                },
                                {
                                    "Name": "Southeast",
                                    "TrainingRequired": "Yes"
                                },
                                {
                                    "Name": "Southwest",
                                    "TrainingRequired": "No"
                                },
                                {
                                    "Name": "United Kingdom",
                                    "TrainingRequired": "Yes"
                                }
                            ]
                        },
                        "text/html": "<table><tr><th>Name</th><th>TrainingRequired</th></tr><tr><td>Australia</td><td>Yes</td></tr><tr><td>Canada</td><td>No</td></tr><tr><td>Central</td><td>Yes</td></tr><tr><td>France</td><td>No</td></tr><tr><td>Germany</td><td>Yes</td></tr><tr><td>Northeast</td><td>Yes</td></tr><tr><td>Northwest</td><td>No</td></tr><tr><td>Southeast</td><td>Yes</td></tr><tr><td>Southwest</td><td>No</td></tr><tr><td>United Kingdom</td><td>Yes</td></tr></table>"
                    },
                    "metadata": {}
                }
            ],
            "execution_count": 55
        },
        {
            "cell_type": "markdown",
            "source": [
                "<span style=\"font-size: 12pt; font-family: &quot;Times New Roman&quot;, serif; color: rgb(0, 0, 0); background-color: transparent; font-variant-numeric: normal; font-variant-east-asian: normal; font-variant-alternates: normal; vertical-align: baseline; white-space-collapse: preserve;\">2. The sales manager wants to know how many sales orders were shipped to each country and state/province.&nbsp; Your result set should contain three columns: Country, StateProvince, and TotalOrders in alphabetical order by country, then showing the greatest number of TotalOrders.</span>\n",
                "\n",
                "<span style=\"font-size: 12pt; font-family: &quot;Times New Roman&quot;, serif; color: rgb(0, 0, 0); background-color: transparent; font-variant-numeric: normal; font-variant-east-asian: normal; font-variant-alternates: normal; text-decoration-line: underline; text-decoration-skip-ink: none; vertical-align: baseline; white-space-collapse: preserve;\">Part A</span>\n",
                "\n",
                "<span style=\"font-size: 12pt; font-family: &quot;Times New Roman&quot;, serif; color: rgb(0, 0, 0); background-color: transparent; font-variant-numeric: normal; font-variant-east-asian: normal; font-variant-alternates: normal; vertical-align: baseline; white-space-collapse: preserve;\">Write a single query that shows the total number of sales orders from each country and each state/province within each country. Use the full name of each country and state/province.</span>"
            ],
            "metadata": {
                "azdata_cell_guid": "62a107c8-a1f1-4400-8478-451830487394"
            },
            "attachments": {}
        },
        {
            "cell_type": "code",
            "source": [
                "SELECT CR.Name AS Country_Name --begin by grabbing the country name and renaming it\n",
                "        ,SP.Name AS State_Province_Name --then the state/province name\n",
                "        ,COUNT(SOH.SalesOrderID) AS Orders --and using SalesOrderID to count the number of orders\n",
                "FROM Sales.SalesOrderHeader SOH --calling the SalesOrder Header so I can get the orders info\n",
                "JOIN Person.Address PA --but then joining it with the person addresses\n",
                "    ON SOH.ShipToAddressID = PA.AddressID --so I can link to the province table\n",
                "JOIN Person.StateProvince SP --which I do here, so I can get state/province names\n",
                "    ON PA.StateProvinceID = SP.StateProvinceID --and link by the province ID\n",
                "JOIN Person.CountryRegion CR --and then add in the country region table so I can get country names\n",
                "    ON SP.CountryRegionCode = CR.CountryRegionCode --and link on the country code\n",
                "GROUP BY CR.Name, SP.Name --then group by Country name, then province name\n",
                "ORDER BY CR.Name ASC, COUNT(SOH.SalesOrderID) DESC --and then sort by ascending names, descending count"
            ],
            "metadata": {
                "azdata_cell_guid": "31ecc021-a946-4637-b312-67c8414990b4",
                "language": "sql"
            },
            "outputs": [
                {
                    "output_type": "display_data",
                    "data": {
                        "text/html": "(70 rows affected)"
                    },
                    "metadata": {}
                },
                {
                    "output_type": "display_data",
                    "data": {
                        "text/html": "Total execution time: 00:00:00.156"
                    },
                    "metadata": {}
                },
                {
                    "output_type": "execute_result",
                    "execution_count": 46,
                    "data": {
                        "application/vnd.dataresource+json": {
                            "schema": {
                                "fields": [
                                    {
                                        "name": "Country_Name"
                                    },
                                    {
                                        "name": "State_Province_Name"
                                    },
                                    {
                                        "name": "Orders"
                                    }
                                ]
                            },
                            "data": [
                                {
                                    "Country_Name": "Australia",
                                    "State_Province_Name": "New South Wales",
                                    "Orders": "3009"
                                },
                                {
                                    "Country_Name": "Australia",
                                    "State_Province_Name": "Victoria",
                                    "Orders": "1710"
                                },
                                {
                                    "Country_Name": "Australia",
                                    "State_Province_Name": "Queensland",
                                    "Orders": "1461"
                                },
                                {
                                    "Country_Name": "Australia",
                                    "State_Province_Name": "South Australia",
                                    "Orders": "466"
                                },
                                {
                                    "Country_Name": "Australia",
                                    "State_Province_Name": "Tasmania",
                                    "Orders": "197"
                                },
                                {
                                    "Country_Name": "Canada",
                                    "State_Province_Name": "British Columbia",
                                    "Orders": "3472"
                                },
                                {
                                    "Country_Name": "Canada",
                                    "State_Province_Name": "Ontario",
                                    "Orders": "339"
                                },
                                {
                                    "Country_Name": "Canada",
                                    "State_Province_Name": "Quebec",
                                    "Orders": "146"
                                },
                                {
                                    "Country_Name": "Canada",
                                    "State_Province_Name": "Alberta",
                                    "Orders": "90"
                                },
                                {
                                    "Country_Name": "Canada",
                                    "State_Province_Name": "Manitoba",
                                    "Orders": "12"
                                },
                                {
                                    "Country_Name": "Canada",
                                    "State_Province_Name": "Brunswick",
                                    "Orders": "8"
                                },
                                {
                                    "Country_Name": "France",
                                    "State_Province_Name": "Seine (Paris)",
                                    "Orders": "575"
                                },
                                {
                                    "Country_Name": "France",
                                    "State_Province_Name": "Seine Saint Denis",
                                    "Orders": "391"
                                },
                                {
                                    "Country_Name": "France",
                                    "State_Province_Name": "Nord",
                                    "Orders": "387"
                                },
                                {
                                    "Country_Name": "France",
                                    "State_Province_Name": "Hauts de Seine",
                                    "Orders": "295"
                                },
                                {
                                    "Country_Name": "France",
                                    "State_Province_Name": "Essonne",
                                    "Orders": "236"
                                },
                                {
                                    "Country_Name": "France",
                                    "State_Province_Name": "Yveline",
                                    "Orders": "224"
                                },
                                {
                                    "Country_Name": "France",
                                    "State_Province_Name": "Loiret",
                                    "Orders": "99"
                                },
                                {
                                    "Country_Name": "France",
                                    "State_Province_Name": "Seine et Marne",
                                    "Orders": "98"
                                },
                                {
                                    "Country_Name": "France",
                                    "State_Province_Name": "Moselle",
                                    "Orders": "82"
                                },
                                {
                                    "Country_Name": "France",
                                    "State_Province_Name": "Val d'Oise",
                                    "Orders": "71"
                                },
                                {
                                    "Country_Name": "France",
                                    "State_Province_Name": "Garonne (Haute)",
                                    "Orders": "46"
                                },
                                {
                                    "Country_Name": "France",
                                    "State_Province_Name": "Val de Marne",
                                    "Orders": "43"
                                },
                                {
                                    "Country_Name": "France",
                                    "State_Province_Name": "Loir et Cher",
                                    "Orders": "38"
                                },
                                {
                                    "Country_Name": "France",
                                    "State_Province_Name": "Charente-Maritime",
                                    "Orders": "31"
                                },
                                {
                                    "Country_Name": "France",
                                    "State_Province_Name": "Somme",
                                    "Orders": "30"
                                },
                                {
                                    "Country_Name": "France",
                                    "State_Province_Name": "Pas de Calais",
                                    "Orders": "26"
                                },
                                {
                                    "Country_Name": "Germany",
                                    "State_Province_Name": "Saarland",
                                    "Orders": "658"
                                },
                                {
                                    "Country_Name": "Germany",
                                    "State_Province_Name": "Nordrhein-Westfalen",
                                    "Orders": "570"
                                },
                                {
                                    "Country_Name": "Germany",
                                    "State_Province_Name": "Hessen",
                                    "Orders": "560"
                                },
                                {
                                    "Country_Name": "Germany",
                                    "State_Province_Name": "Hamburg",
                                    "Orders": "441"
                                },
                                {
                                    "Country_Name": "Germany",
                                    "State_Province_Name": "Bayern",
                                    "Orders": "344"
                                },
                                {
                                    "Country_Name": "Germany",
                                    "State_Province_Name": "Brandenburg",
                                    "Orders": "50"
                                },
                                {
                                    "Country_Name": "United Kingdom",
                                    "State_Province_Name": "England",
                                    "Orders": "3219"
                                },
                                {
                                    "Country_Name": "United States",
                                    "State_Province_Name": "California",
                                    "Orders": "5884"
                                },
                                {
                                    "Country_Name": "United States",
                                    "State_Province_Name": "Washington",
                                    "Orders": "3042"
                                },
                                {
                                    "Country_Name": "United States",
                                    "State_Province_Name": "Oregon",
                                    "Orders": "1380"
                                },
                                {
                                    "Country_Name": "United States",
                                    "State_Province_Name": "Texas",
                                    "Orders": "253"
                                },
                                {
                                    "Country_Name": "United States",
                                    "State_Province_Name": "Florida",
                                    "Orders": "159"
                                },
                                {
                                    "Country_Name": "United States",
                                    "State_Province_Name": "Michigan",
                                    "Orders": "104"
                                },
                                {
                                    "Country_Name": "United States",
                                    "State_Province_Name": "Tennessee",
                                    "Orders": "92"
                                },
                                {
                                    "Country_Name": "United States",
                                    "State_Province_Name": "Ohio",
                                    "Orders": "83"
                                },
                                {
                                    "Country_Name": "United States",
                                    "State_Province_Name": "Georgia",
                                    "Orders": "76"
                                },
                                {
                                    "Country_Name": "United States",
                                    "State_Province_Name": "Illinois",
                                    "Orders": "73"
                                },
                                {
                                    "Country_Name": "United States",
                                    "State_Province_Name": "Missouri",
                                    "Orders": "68"
                                },
                                {
                                    "Country_Name": "United States",
                                    "State_Province_Name": "Arizona",
                                    "Orders": "67"
                                },
                                {
                                    "Country_Name": "United States",
                                    "State_Province_Name": "Indiana",
                                    "Orders": "65"
                                },
                                {
                                    "Country_Name": "United States",
                                    "State_Province_Name": "Colorado",
                                    "Orders": "64"
                                },
                                {
                                    "Country_Name": "United States",
                                    "State_Province_Name": "Utah",
                                    "Orders": "60"
                                },
                                {
                                    "Country_Name": "United States",
                                    "State_Province_Name": "Connecticut",
                                    "Orders": "59"
                                },
                                {
                                    "Country_Name": "United States",
                                    "State_Province_Name": "New York",
                                    "Orders": "53"
                                },
                                {
                                    "Country_Name": "United States",
                                    "State_Province_Name": "Nevada",
                                    "Orders": "49"
                                },
                                {
                                    "Country_Name": "United States",
                                    "State_Province_Name": "New Hampshire",
                                    "Orders": "48"
                                },
                                {
                                    "Country_Name": "United States",
                                    "State_Province_Name": "North Carolina",
                                    "Orders": "42"
                                },
                                {
                                    "Country_Name": "United States",
                                    "State_Province_Name": "Minnesota",
                                    "Orders": "38"
                                },
                                {
                                    "Country_Name": "United States",
                                    "State_Province_Name": "Virginia",
                                    "Orders": "34"
                                },
                                {
                                    "Country_Name": "United States",
                                    "State_Province_Name": "Wyoming",
                                    "Orders": "34"
                                },
                                {
                                    "Country_Name": "United States",
                                    "State_Province_Name": "Massachusetts",
                                    "Orders": "25"
                                },
                                {
                                    "Country_Name": "United States",
                                    "State_Province_Name": "Wisconsin",
                                    "Orders": "24"
                                },
                                {
                                    "Country_Name": "United States",
                                    "State_Province_Name": "Kentucky",
                                    "Orders": "23"
                                },
                                {
                                    "Country_Name": "United States",
                                    "State_Province_Name": "Alabama",
                                    "Orders": "22"
                                },
                                {
                                    "Country_Name": "United States",
                                    "State_Province_Name": "South Carolina",
                                    "Orders": "22"
                                },
                                {
                                    "Country_Name": "United States",
                                    "State_Province_Name": "New Mexico",
                                    "Orders": "20"
                                },
                                {
                                    "Country_Name": "United States",
                                    "State_Province_Name": "Mississippi",
                                    "Orders": "16"
                                },
                                {
                                    "Country_Name": "United States",
                                    "State_Province_Name": "Montana",
                                    "Orders": "16"
                                },
                                {
                                    "Country_Name": "United States",
                                    "State_Province_Name": "South Dakota",
                                    "Orders": "14"
                                },
                                {
                                    "Country_Name": "United States",
                                    "State_Province_Name": "Idaho",
                                    "Orders": "13"
                                },
                                {
                                    "Country_Name": "United States",
                                    "State_Province_Name": "Maine",
                                    "Orders": "12"
                                },
                                {
                                    "Country_Name": "United States",
                                    "State_Province_Name": "Rhode Island",
                                    "Orders": "6"
                                },
                                {
                                    "Country_Name": "United States",
                                    "State_Province_Name": "Maryland",
                                    "Orders": "1"
                                }
                            ]
                        },
                        "text/html": "<table><tr><th>Country_Name</th><th>State_Province_Name</th><th>Orders</th></tr><tr><td>Australia</td><td>New South Wales</td><td>3009</td></tr><tr><td>Australia</td><td>Victoria</td><td>1710</td></tr><tr><td>Australia</td><td>Queensland</td><td>1461</td></tr><tr><td>Australia</td><td>South Australia</td><td>466</td></tr><tr><td>Australia</td><td>Tasmania</td><td>197</td></tr><tr><td>Canada</td><td>British Columbia</td><td>3472</td></tr><tr><td>Canada</td><td>Ontario</td><td>339</td></tr><tr><td>Canada</td><td>Quebec</td><td>146</td></tr><tr><td>Canada</td><td>Alberta</td><td>90</td></tr><tr><td>Canada</td><td>Manitoba</td><td>12</td></tr><tr><td>Canada</td><td>Brunswick</td><td>8</td></tr><tr><td>France</td><td>Seine (Paris)</td><td>575</td></tr><tr><td>France</td><td>Seine Saint Denis</td><td>391</td></tr><tr><td>France</td><td>Nord</td><td>387</td></tr><tr><td>France</td><td>Hauts de Seine</td><td>295</td></tr><tr><td>France</td><td>Essonne</td><td>236</td></tr><tr><td>France</td><td>Yveline</td><td>224</td></tr><tr><td>France</td><td>Loiret</td><td>99</td></tr><tr><td>France</td><td>Seine et Marne</td><td>98</td></tr><tr><td>France</td><td>Moselle</td><td>82</td></tr><tr><td>France</td><td>Val d&#39;Oise</td><td>71</td></tr><tr><td>France</td><td>Garonne (Haute)</td><td>46</td></tr><tr><td>France</td><td>Val de Marne</td><td>43</td></tr><tr><td>France</td><td>Loir et Cher</td><td>38</td></tr><tr><td>France</td><td>Charente-Maritime</td><td>31</td></tr><tr><td>France</td><td>Somme</td><td>30</td></tr><tr><td>France</td><td>Pas de Calais</td><td>26</td></tr><tr><td>Germany</td><td>Saarland</td><td>658</td></tr><tr><td>Germany</td><td>Nordrhein-Westfalen</td><td>570</td></tr><tr><td>Germany</td><td>Hessen</td><td>560</td></tr><tr><td>Germany</td><td>Hamburg</td><td>441</td></tr><tr><td>Germany</td><td>Bayern</td><td>344</td></tr><tr><td>Germany</td><td>Brandenburg</td><td>50</td></tr><tr><td>United Kingdom</td><td>England</td><td>3219</td></tr><tr><td>United States</td><td>California</td><td>5884</td></tr><tr><td>United States</td><td>Washington</td><td>3042</td></tr><tr><td>United States</td><td>Oregon</td><td>1380</td></tr><tr><td>United States</td><td>Texas</td><td>253</td></tr><tr><td>United States</td><td>Florida</td><td>159</td></tr><tr><td>United States</td><td>Michigan</td><td>104</td></tr><tr><td>United States</td><td>Tennessee</td><td>92</td></tr><tr><td>United States</td><td>Ohio</td><td>83</td></tr><tr><td>United States</td><td>Georgia</td><td>76</td></tr><tr><td>United States</td><td>Illinois</td><td>73</td></tr><tr><td>United States</td><td>Missouri</td><td>68</td></tr><tr><td>United States</td><td>Arizona</td><td>67</td></tr><tr><td>United States</td><td>Indiana</td><td>65</td></tr><tr><td>United States</td><td>Colorado</td><td>64</td></tr><tr><td>United States</td><td>Utah</td><td>60</td></tr><tr><td>United States</td><td>Connecticut</td><td>59</td></tr><tr><td>United States</td><td>New York</td><td>53</td></tr><tr><td>United States</td><td>Nevada</td><td>49</td></tr><tr><td>United States</td><td>New Hampshire</td><td>48</td></tr><tr><td>United States</td><td>North Carolina</td><td>42</td></tr><tr><td>United States</td><td>Minnesota</td><td>38</td></tr><tr><td>United States</td><td>Virginia</td><td>34</td></tr><tr><td>United States</td><td>Wyoming</td><td>34</td></tr><tr><td>United States</td><td>Massachusetts</td><td>25</td></tr><tr><td>United States</td><td>Wisconsin</td><td>24</td></tr><tr><td>United States</td><td>Kentucky</td><td>23</td></tr><tr><td>United States</td><td>Alabama</td><td>22</td></tr><tr><td>United States</td><td>South Carolina</td><td>22</td></tr><tr><td>United States</td><td>New Mexico</td><td>20</td></tr><tr><td>United States</td><td>Mississippi</td><td>16</td></tr><tr><td>United States</td><td>Montana</td><td>16</td></tr><tr><td>United States</td><td>South Dakota</td><td>14</td></tr><tr><td>United States</td><td>Idaho</td><td>13</td></tr><tr><td>United States</td><td>Maine</td><td>12</td></tr><tr><td>United States</td><td>Rhode Island</td><td>6</td></tr><tr><td>United States</td><td>Maryland</td><td>1</td></tr></table>"
                    },
                    "metadata": {}
                }
            ],
            "execution_count": 46
        },
        {
            "cell_type": "markdown",
            "source": [
                "<span style=\"font-size: 12pt; font-family: &quot;Times New Roman&quot;, serif; color: rgb(0, 0, 0); background-color: transparent; font-variant-numeric: normal; font-variant-east-asian: normal; font-variant-alternates: normal; text-decoration-line: underline; text-decoration-skip-ink: none; vertical-align: baseline; white-space-collapse: preserve;\">Part B</span>\n",
                "\n",
                "<span style=\"font-size: 12pt; font-family: &quot;Times New Roman&quot;, serif; color: rgb(0, 0, 0); background-color: transparent; font-variant-numeric: normal; font-variant-east-asian: normal; font-variant-alternates: normal; vertical-align: baseline; white-space-collapse: preserve;\">Modify your query to only show cases with 100 or more orders, sorted in the same fashion as Part A.</span>"
            ],
            "metadata": {
                "azdata_cell_guid": "fbfe1007-01fb-49df-bbb8-7e02823f8ba6"
            },
            "attachments": {}
        },
        {
            "cell_type": "code",
            "source": [
                "--All I have to do for this one is add in a having clause so my comments are all the same\n",
                "SELECT CR.Name AS Country_Name --begin by grabbing the country name and renaming it\n",
                "        ,SP.Name AS State_Province_Name --then the state/province name\n",
                "        ,COUNT(SOH.SalesOrderID) AS Orders --and using SalesOrderID to count the number of orders\n",
                "FROM Sales.SalesOrderHeader SOH --calling the SalesOrder Header so I can get the orders info\n",
                "JOIN Person.Address PA --but then joining it with the person addresses\n",
                "    ON SOH.ShipToAddressID = PA.AddressID --so I can link to the province table\n",
                "JOIN Person.StateProvince SP --which I do here, so I can get state/province names\n",
                "    ON PA.StateProvinceID = SP.StateProvinceID --and link by the province ID\n",
                "JOIN Person.CountryRegion CR --and then add in the country region table so I can get country names\n",
                "    ON SP.CountryRegionCode = CR.CountryRegionCode --and link on the country code\n",
                "GROUP BY CR.Name, SP.Name --then group by Country name, then province name\n",
                "HAVING COUNT(SOH.SalesOrderID) >= 100 --and then I recquire that the COUNT of the Sales Order ID to be 100 or more\n",
                "ORDER BY CR.Name ASC, COUNT(SOH.SalesOrderID) DESC --and then sort by ascending "
            ],
            "metadata": {
                "azdata_cell_guid": "565c4249-b769-4e57-b209-bfe7cc0e217b",
                "language": "sql"
            },
            "outputs": [
                {
                    "output_type": "display_data",
                    "data": {
                        "text/html": "(26 rows affected)"
                    },
                    "metadata": {}
                },
                {
                    "output_type": "display_data",
                    "data": {
                        "text/html": "Total execution time: 00:00:00.146"
                    },
                    "metadata": {}
                },
                {
                    "output_type": "execute_result",
                    "execution_count": 45,
                    "data": {
                        "application/vnd.dataresource+json": {
                            "schema": {
                                "fields": [
                                    {
                                        "name": "Country_Name"
                                    },
                                    {
                                        "name": "State_Province_Name"
                                    },
                                    {
                                        "name": "Orders"
                                    }
                                ]
                            },
                            "data": [
                                {
                                    "Country_Name": "Australia",
                                    "State_Province_Name": "New South Wales",
                                    "Orders": "3009"
                                },
                                {
                                    "Country_Name": "Australia",
                                    "State_Province_Name": "Victoria",
                                    "Orders": "1710"
                                },
                                {
                                    "Country_Name": "Australia",
                                    "State_Province_Name": "Queensland",
                                    "Orders": "1461"
                                },
                                {
                                    "Country_Name": "Australia",
                                    "State_Province_Name": "South Australia",
                                    "Orders": "466"
                                },
                                {
                                    "Country_Name": "Australia",
                                    "State_Province_Name": "Tasmania",
                                    "Orders": "197"
                                },
                                {
                                    "Country_Name": "Canada",
                                    "State_Province_Name": "British Columbia",
                                    "Orders": "3472"
                                },
                                {
                                    "Country_Name": "Canada",
                                    "State_Province_Name": "Ontario",
                                    "Orders": "339"
                                },
                                {
                                    "Country_Name": "Canada",
                                    "State_Province_Name": "Quebec",
                                    "Orders": "146"
                                },
                                {
                                    "Country_Name": "France",
                                    "State_Province_Name": "Seine (Paris)",
                                    "Orders": "575"
                                },
                                {
                                    "Country_Name": "France",
                                    "State_Province_Name": "Seine Saint Denis",
                                    "Orders": "391"
                                },
                                {
                                    "Country_Name": "France",
                                    "State_Province_Name": "Nord",
                                    "Orders": "387"
                                },
                                {
                                    "Country_Name": "France",
                                    "State_Province_Name": "Hauts de Seine",
                                    "Orders": "295"
                                },
                                {
                                    "Country_Name": "France",
                                    "State_Province_Name": "Essonne",
                                    "Orders": "236"
                                },
                                {
                                    "Country_Name": "France",
                                    "State_Province_Name": "Yveline",
                                    "Orders": "224"
                                },
                                {
                                    "Country_Name": "Germany",
                                    "State_Province_Name": "Saarland",
                                    "Orders": "658"
                                },
                                {
                                    "Country_Name": "Germany",
                                    "State_Province_Name": "Nordrhein-Westfalen",
                                    "Orders": "570"
                                },
                                {
                                    "Country_Name": "Germany",
                                    "State_Province_Name": "Hessen",
                                    "Orders": "560"
                                },
                                {
                                    "Country_Name": "Germany",
                                    "State_Province_Name": "Hamburg",
                                    "Orders": "441"
                                },
                                {
                                    "Country_Name": "Germany",
                                    "State_Province_Name": "Bayern",
                                    "Orders": "344"
                                },
                                {
                                    "Country_Name": "United Kingdom",
                                    "State_Province_Name": "England",
                                    "Orders": "3219"
                                },
                                {
                                    "Country_Name": "United States",
                                    "State_Province_Name": "California",
                                    "Orders": "5884"
                                },
                                {
                                    "Country_Name": "United States",
                                    "State_Province_Name": "Washington",
                                    "Orders": "3042"
                                },
                                {
                                    "Country_Name": "United States",
                                    "State_Province_Name": "Oregon",
                                    "Orders": "1380"
                                },
                                {
                                    "Country_Name": "United States",
                                    "State_Province_Name": "Texas",
                                    "Orders": "253"
                                },
                                {
                                    "Country_Name": "United States",
                                    "State_Province_Name": "Florida",
                                    "Orders": "159"
                                },
                                {
                                    "Country_Name": "United States",
                                    "State_Province_Name": "Michigan",
                                    "Orders": "104"
                                }
                            ]
                        },
                        "text/html": "<table><tr><th>Country_Name</th><th>State_Province_Name</th><th>Orders</th></tr><tr><td>Australia</td><td>New South Wales</td><td>3009</td></tr><tr><td>Australia</td><td>Victoria</td><td>1710</td></tr><tr><td>Australia</td><td>Queensland</td><td>1461</td></tr><tr><td>Australia</td><td>South Australia</td><td>466</td></tr><tr><td>Australia</td><td>Tasmania</td><td>197</td></tr><tr><td>Canada</td><td>British Columbia</td><td>3472</td></tr><tr><td>Canada</td><td>Ontario</td><td>339</td></tr><tr><td>Canada</td><td>Quebec</td><td>146</td></tr><tr><td>France</td><td>Seine (Paris)</td><td>575</td></tr><tr><td>France</td><td>Seine Saint Denis</td><td>391</td></tr><tr><td>France</td><td>Nord</td><td>387</td></tr><tr><td>France</td><td>Hauts de Seine</td><td>295</td></tr><tr><td>France</td><td>Essonne</td><td>236</td></tr><tr><td>France</td><td>Yveline</td><td>224</td></tr><tr><td>Germany</td><td>Saarland</td><td>658</td></tr><tr><td>Germany</td><td>Nordrhein-Westfalen</td><td>570</td></tr><tr><td>Germany</td><td>Hessen</td><td>560</td></tr><tr><td>Germany</td><td>Hamburg</td><td>441</td></tr><tr><td>Germany</td><td>Bayern</td><td>344</td></tr><tr><td>United Kingdom</td><td>England</td><td>3219</td></tr><tr><td>United States</td><td>California</td><td>5884</td></tr><tr><td>United States</td><td>Washington</td><td>3042</td></tr><tr><td>United States</td><td>Oregon</td><td>1380</td></tr><tr><td>United States</td><td>Texas</td><td>253</td></tr><tr><td>United States</td><td>Florida</td><td>159</td></tr><tr><td>United States</td><td>Michigan</td><td>104</td></tr></table>"
                    },
                    "metadata": {}
                }
            ],
            "execution_count": 45
        },
        {
            "cell_type": "markdown",
            "source": [
                "<span style=\"font-size: 12pt; font-family: &quot;Times New Roman&quot;, serif; color: rgb(0, 0, 0); background-color: transparent; font-variant-numeric: normal; font-variant-east-asian: normal; font-variant-alternates: normal; vertical-align: baseline; white-space-collapse: preserve;\">3. Produce a report showing the total number of units for each product sold by AdventureWorks that also includes the category of each product and each product's sales rank and quintile within the category.&nbsp; Make sure the result set is alphabetical by category and in the appropriate rank order.</span>"
            ],
            "metadata": {
                "language": "sql",
                "azdata_cell_guid": "4f6768ef-eb7e-43d8-9777-5ab7e13d67f6"
            },
            "attachments": {}
        },
        {
            "cell_type": "code",
            "source": [
                "WITH Temp_Data AS --For this, I made a CTE so I could then Rank and Ntile them in the second select statement\n",
                "                    (SELECT PP.Name Product_Name --grabing the product name from Production.Product\n",
                "                            ,PC.Name AS Product_Category --the product category name\n",
                "                            ,COUNT(SOD.OrderQty) Number_of_Units_Sold --and count of the units sold\n",
                "                        FROM Sales.SalesOrderDetail SOD --from the Sales Order Detail so I can get Order Quantity\n",
                "                        JOIN Sales.SpecialOfferProduct SOP --joined with Special Offer Product\n",
                "                            ON SOD.ProductID = SOP.ProductID --based on Product ID\n",
                "                        JOIN Production.ProductProductPhoto PPP --So I can link to Product Photo\n",
                "                            ON SOD.ProductID = PPP.ProductID --Also on Product ID\n",
                "                        JOIN Production.Product PP --So I can then get to the product table so I can get the product name\n",
                "                            ON PPP.ProductID = PP.ProductID --also on product ID\n",
                "                        JOIN Production.ProductSubcategory PS --and then got to the product subcategory so I can get the subcategory name\n",
                "                            ON PS.ProductSubcategoryID = PP.ProductSubcategoryID  --linked by the subcategory ID\n",
                "                        JOIN Production.ProductCategory PC --so I could finally get the category name (That was a lot of joins!)\n",
                "                            ON PC.ProductCategoryId = PS.ProductCategoryId --based on the category ID\n",
                "                        GROUP BY PC.Name, PP.Name) --then grouping them by the Category name, then product name\n",
                "SELECT Product_Category --now I am making a select from my CTE, grabing the product catgeory\n",
                "       ,Product_Name --the product name\n",
                "      ,Number_of_Units_Sold, --and number of units sold\n",
                "RANK() OVER (PARTITION BY Product_Category ORDER BY Number_of_Units_Sold DESC) AS Product_Rank, --Then I ranked the products inside of their category\n",
                "NTILE(5) OVER (PARTITION BY Product_Category ORDER BY Number_of_Units_Sold DESC) AS Category_Quintile --then added in the quintile inside of the category\n",
                "FROM Temp_Data --all from the CTE Temp_data\n",
                "ORDER BY Product_Category ASC, Product_Rank ASC --and then ordered by the Category and Product_Rank"
            ],
            "metadata": {
                "language": "sql",
                "azdata_cell_guid": "4b740e6b-4739-4111-8985-5baa71ec5ab4"
            },
            "outputs": [
                {
                    "output_type": "display_data",
                    "data": {
                        "text/html": "(266 rows affected)"
                    },
                    "metadata": {}
                },
                {
                    "output_type": "display_data",
                    "data": {
                        "text/html": "Total execution time: 00:00:00.135"
                    },
                    "metadata": {}
                },
                {
                    "output_type": "execute_result",
                    "execution_count": 132,
                    "data": {
                        "application/vnd.dataresource+json": {
                            "schema": {
                                "fields": [
                                    {
                                        "name": "Product_Category"
                                    },
                                    {
                                        "name": "Product_Name"
                                    },
                                    {
                                        "name": "Number_of_Units_Sold"
                                    },
                                    {
                                        "name": "Product_Rank"
                                    },
                                    {
                                        "name": "Category_Quintile"
                                    }
                                ]
                            },
                            "data": [
                                {
                                    "Product_Category": "Accessories",
                                    "Product_Name": "Water Bottle - 30 oz.",
                                    "Number_of_Units_Sold": "18752",
                                    "Product_Rank": "1",
                                    "Category_Quintile": "1"
                                },
                                {
                                    "Product_Category": "Accessories",
                                    "Product_Name": "Sport-100 Helmet, Blue",
                                    "Number_of_Units_Sold": "15450",
                                    "Product_Rank": "2",
                                    "Category_Quintile": "1"
                                },
                                {
                                    "Product_Category": "Accessories",
                                    "Product_Name": "Sport-100 Helmet, Red",
                                    "Number_of_Units_Sold": "15415",
                                    "Product_Rank": "3",
                                    "Category_Quintile": "1"
                                },
                                {
                                    "Product_Category": "Accessories",
                                    "Product_Name": "Sport-100 Helmet, Black",
                                    "Number_of_Units_Sold": "15035",
                                    "Product_Rank": "4",
                                    "Category_Quintile": "1"
                                },
                                {
                                    "Product_Category": "Accessories",
                                    "Product_Name": "Patch Kit/8 Patches",
                                    "Number_of_Units_Sold": "6708",
                                    "Product_Rank": "5",
                                    "Category_Quintile": "1"
                                },
                                {
                                    "Product_Category": "Accessories",
                                    "Product_Name": "Bike Wash - Dissolver",
                                    "Number_of_Units_Sold": "5308",
                                    "Product_Rank": "6",
                                    "Category_Quintile": "2"
                                },
                                {
                                    "Product_Category": "Accessories",
                                    "Product_Name": "Hydration Pack - 70 oz.",
                                    "Number_of_Units_Sold": "3222",
                                    "Product_Rank": "7",
                                    "Category_Quintile": "2"
                                },
                                {
                                    "Product_Category": "Accessories",
                                    "Product_Name": "Hitch Rack - 4-Bike",
                                    "Number_of_Units_Sold": "3184",
                                    "Product_Rank": "8",
                                    "Category_Quintile": "2"
                                },
                                {
                                    "Product_Category": "Accessories",
                                    "Product_Name": "Mountain Tire Tube",
                                    "Number_of_Units_Sold": "3095",
                                    "Product_Rank": "9",
                                    "Category_Quintile": "2"
                                },
                                {
                                    "Product_Category": "Accessories",
                                    "Product_Name": "HL Mountain Tire",
                                    "Number_of_Units_Sold": "2792",
                                    "Product_Rank": "10",
                                    "Category_Quintile": "2"
                                },
                                {
                                    "Product_Category": "Accessories",
                                    "Product_Name": "Road Tire Tube",
                                    "Number_of_Units_Sold": "2376",
                                    "Product_Rank": "11",
                                    "Category_Quintile": "3"
                                },
                                {
                                    "Product_Category": "Accessories",
                                    "Product_Name": "ML Mountain Tire",
                                    "Number_of_Units_Sold": "2322",
                                    "Product_Rank": "12",
                                    "Category_Quintile": "3"
                                },
                                {
                                    "Product_Category": "Accessories",
                                    "Product_Name": "Fender Set - Mountain",
                                    "Number_of_Units_Sold": "2121",
                                    "Product_Rank": "13",
                                    "Category_Quintile": "3"
                                },
                                {
                                    "Product_Category": "Accessories",
                                    "Product_Name": "Mountain Bottle Cage",
                                    "Number_of_Units_Sold": "2025",
                                    "Product_Rank": "14",
                                    "Category_Quintile": "3"
                                },
                                {
                                    "Product_Category": "Accessories",
                                    "Product_Name": "LL Mountain Tire",
                                    "Number_of_Units_Sold": "1724",
                                    "Product_Rank": "15",
                                    "Category_Quintile": "3"
                                },
                                {
                                    "Product_Category": "Accessories",
                                    "Product_Name": "Road Bottle Cage",
                                    "Number_of_Units_Sold": "1712",
                                    "Product_Rank": "16",
                                    "Category_Quintile": "4"
                                },
                                {
                                    "Product_Category": "Accessories",
                                    "Product_Name": "Touring Tire Tube",
                                    "Number_of_Units_Sold": "1488",
                                    "Product_Rank": "17",
                                    "Category_Quintile": "4"
                                },
                                {
                                    "Product_Category": "Accessories",
                                    "Product_Name": "LL Road Tire",
                                    "Number_of_Units_Sold": "1044",
                                    "Product_Rank": "18",
                                    "Category_Quintile": "4"
                                },
                                {
                                    "Product_Category": "Accessories",
                                    "Product_Name": "Touring Tire",
                                    "Number_of_Units_Sold": "935",
                                    "Product_Rank": "19",
                                    "Category_Quintile": "4"
                                },
                                {
                                    "Product_Category": "Accessories",
                                    "Product_Name": "ML Road Tire",
                                    "Number_of_Units_Sold": "926",
                                    "Product_Rank": "20",
                                    "Category_Quintile": "4"
                                },
                                {
                                    "Product_Category": "Accessories",
                                    "Product_Name": "HL Road Tire",
                                    "Number_of_Units_Sold": "858",
                                    "Product_Rank": "21",
                                    "Category_Quintile": "5"
                                },
                                {
                                    "Product_Category": "Accessories",
                                    "Product_Name": "Minipump",
                                    "Number_of_Units_Sold": "534",
                                    "Product_Rank": "22",
                                    "Category_Quintile": "5"
                                },
                                {
                                    "Product_Category": "Accessories",
                                    "Product_Name": "Cable Lock",
                                    "Number_of_Units_Sold": "520",
                                    "Product_Rank": "23",
                                    "Category_Quintile": "5"
                                },
                                {
                                    "Product_Category": "Accessories",
                                    "Product_Name": "All-Purpose Bike Stand",
                                    "Number_of_Units_Sold": "249",
                                    "Product_Rank": "24",
                                    "Category_Quintile": "5"
                                },
                                {
                                    "Product_Category": "Bikes",
                                    "Product_Name": "Mountain-200 Black, 38",
                                    "Number_of_Units_Sold": "5008",
                                    "Product_Rank": "1",
                                    "Category_Quintile": "1"
                                },
                                {
                                    "Product_Category": "Bikes",
                                    "Product_Name": "Mountain-200 Black, 42",
                                    "Number_of_Units_Sold": "3531",
                                    "Product_Rank": "2",
                                    "Category_Quintile": "1"
                                },
                                {
                                    "Product_Category": "Bikes",
                                    "Product_Name": "Mountain-200 Black, 46",
                                    "Number_of_Units_Sold": "3177",
                                    "Product_Rank": "3",
                                    "Category_Quintile": "1"
                                },
                                {
                                    "Product_Category": "Bikes",
                                    "Product_Name": "Mountain-200 Silver, 42",
                                    "Number_of_Units_Sold": "3120",
                                    "Product_Rank": "4",
                                    "Category_Quintile": "1"
                                },
                                {
                                    "Product_Category": "Bikes",
                                    "Product_Name": "Road-650 Red, 44",
                                    "Number_of_Units_Sold": "2756",
                                    "Product_Rank": "5",
                                    "Category_Quintile": "1"
                                },
                                {
                                    "Product_Category": "Bikes",
                                    "Product_Name": "Road-350-W Yellow, 48",
                                    "Number_of_Units_Sold": "2264",
                                    "Product_Rank": "6",
                                    "Category_Quintile": "1"
                                },
                                {
                                    "Product_Category": "Bikes",
                                    "Product_Name": "Mountain-200 Silver, 38",
                                    "Number_of_Units_Sold": "2188",
                                    "Product_Rank": "7",
                                    "Category_Quintile": "1"
                                },
                                {
                                    "Product_Category": "Bikes",
                                    "Product_Name": "Road-550-W Yellow, 48",
                                    "Number_of_Units_Sold": "2169",
                                    "Product_Rank": "8",
                                    "Category_Quintile": "1"
                                },
                                {
                                    "Product_Category": "Bikes",
                                    "Product_Name": "Road-250 Black, 48",
                                    "Number_of_Units_Sold": "2136",
                                    "Product_Rank": "9",
                                    "Category_Quintile": "1"
                                },
                                {
                                    "Product_Category": "Bikes",
                                    "Product_Name": "Road-650 Black, 52",
                                    "Number_of_Units_Sold": "2109",
                                    "Product_Rank": "10",
                                    "Category_Quintile": "1"
                                },
                                {
                                    "Product_Category": "Bikes",
                                    "Product_Name": "Mountain-200 Silver, 46",
                                    "Number_of_Units_Sold": "2108",
                                    "Product_Rank": "11",
                                    "Category_Quintile": "1"
                                },
                                {
                                    "Product_Category": "Bikes",
                                    "Product_Name": "Road-750 Black, 48",
                                    "Number_of_Units_Sold": "2055",
                                    "Product_Rank": "12",
                                    "Category_Quintile": "1"
                                },
                                {
                                    "Product_Category": "Bikes",
                                    "Product_Name": "Road-650 Red, 60",
                                    "Number_of_Units_Sold": "2040",
                                    "Product_Rank": "13",
                                    "Category_Quintile": "1"
                                },
                                {
                                    "Product_Category": "Bikes",
                                    "Product_Name": "Road-650 Red, 48",
                                    "Number_of_Units_Sold": "1947",
                                    "Product_Rank": "14",
                                    "Category_Quintile": "1"
                                },
                                {
                                    "Product_Category": "Bikes",
                                    "Product_Name": "Road-650 Black, 58",
                                    "Number_of_Units_Sold": "1926",
                                    "Product_Rank": "15",
                                    "Category_Quintile": "1"
                                },
                                {
                                    "Product_Category": "Bikes",
                                    "Product_Name": "Road-650 Red, 62",
                                    "Number_of_Units_Sold": "1914",
                                    "Product_Rank": "16",
                                    "Category_Quintile": "1"
                                },
                                {
                                    "Product_Category": "Bikes",
                                    "Product_Name": "Touring-1000 Yellow, 46",
                                    "Number_of_Units_Sold": "1760",
                                    "Product_Rank": "17",
                                    "Category_Quintile": "1"
                                },
                                {
                                    "Product_Category": "Bikes",
                                    "Product_Name": "Touring-1000 Yellow, 60",
                                    "Number_of_Units_Sold": "1732",
                                    "Product_Rank": "18",
                                    "Category_Quintile": "1"
                                },
                                {
                                    "Product_Category": "Bikes",
                                    "Product_Name": "Road-350-W Yellow, 40",
                                    "Number_of_Units_Sold": "1719",
                                    "Product_Rank": "19",
                                    "Category_Quintile": "1"
                                },
                                {
                                    "Product_Category": "Bikes",
                                    "Product_Name": "Road-550-W Yellow, 38",
                                    "Number_of_Units_Sold": "1450",
                                    "Product_Rank": "20",
                                    "Category_Quintile": "1"
                                },
                                {
                                    "Product_Category": "Bikes",
                                    "Product_Name": "Road-250 Black, 44",
                                    "Number_of_Units_Sold": "1410",
                                    "Product_Rank": "21",
                                    "Category_Quintile": "2"
                                },
                                {
                                    "Product_Category": "Bikes",
                                    "Product_Name": "Road-750 Black, 52",
                                    "Number_of_Units_Sold": "1392",
                                    "Product_Rank": "22",
                                    "Category_Quintile": "2"
                                },
                                {
                                    "Product_Category": "Bikes",
                                    "Product_Name": "Road-550-W Yellow, 40",
                                    "Number_of_Units_Sold": "1374",
                                    "Product_Rank": "23",
                                    "Category_Quintile": "2"
                                },
                                {
                                    "Product_Category": "Bikes",
                                    "Product_Name": "Road-350-W Yellow, 42",
                                    "Number_of_Units_Sold": "1365",
                                    "Product_Rank": "24",
                                    "Category_Quintile": "2"
                                },
                                {
                                    "Product_Category": "Bikes",
                                    "Product_Name": "Touring-1000 Blue, 46",
                                    "Number_of_Units_Sold": "1326",
                                    "Product_Rank": "25",
                                    "Category_Quintile": "2"
                                },
                                {
                                    "Product_Category": "Bikes",
                                    "Product_Name": "Touring-1000 Blue, 60",
                                    "Number_of_Units_Sold": "1317",
                                    "Product_Rank": "26",
                                    "Category_Quintile": "2"
                                },
                                {
                                    "Product_Category": "Bikes",
                                    "Product_Name": "Touring-3000 Blue, 50",
                                    "Number_of_Units_Sold": "1224",
                                    "Product_Rank": "27",
                                    "Category_Quintile": "2"
                                },
                                {
                                    "Product_Category": "Bikes",
                                    "Product_Name": "Touring-2000 Blue, 54",
                                    "Number_of_Units_Sold": "1140",
                                    "Product_Rank": "28",
                                    "Category_Quintile": "2"
                                },
                                {
                                    "Product_Category": "Bikes",
                                    "Product_Name": "Road-250 Red, 44",
                                    "Number_of_Units_Sold": "1092",
                                    "Product_Rank": "29",
                                    "Category_Quintile": "2"
                                },
                                {
                                    "Product_Category": "Bikes",
                                    "Product_Name": "Touring-3000 Yellow, 62",
                                    "Number_of_Units_Sold": "957",
                                    "Product_Rank": "30",
                                    "Category_Quintile": "2"
                                },
                                {
                                    "Product_Category": "Bikes",
                                    "Product_Name": "Touring-3000 Yellow, 44",
                                    "Number_of_Units_Sold": "954",
                                    "Product_Rank": "31",
                                    "Category_Quintile": "2"
                                },
                                {
                                    "Product_Category": "Bikes",
                                    "Product_Name": "Road-650 Black, 60",
                                    "Number_of_Units_Sold": "920",
                                    "Product_Rank": "32",
                                    "Category_Quintile": "2"
                                },
                                {
                                    "Product_Category": "Bikes",
                                    "Product_Name": "Road-650 Black, 44",
                                    "Number_of_Units_Sold": "882",
                                    "Product_Rank": "33",
                                    "Category_Quintile": "2"
                                },
                                {
                                    "Product_Category": "Bikes",
                                    "Product_Name": "Road-250 Red, 48",
                                    "Number_of_Units_Sold": "754",
                                    "Product_Rank": "34",
                                    "Category_Quintile": "2"
                                },
                                {
                                    "Product_Category": "Bikes",
                                    "Product_Name": "Mountain-100 Black, 44",
                                    "Number_of_Units_Sold": "726",
                                    "Product_Rank": "35",
                                    "Category_Quintile": "2"
                                },
                                {
                                    "Product_Category": "Bikes",
                                    "Product_Name": "Mountain-100 Black, 38",
                                    "Number_of_Units_Sold": "702",
                                    "Product_Rank": "36",
                                    "Category_Quintile": "2"
                                },
                                {
                                    "Product_Category": "Bikes",
                                    "Product_Name": "Mountain-100 Silver, 44",
                                    "Number_of_Units_Sold": "699",
                                    "Product_Rank": "37",
                                    "Category_Quintile": "2"
                                },
                                {
                                    "Product_Category": "Bikes",
                                    "Product_Name": "Touring-2000 Blue, 60",
                                    "Number_of_Units_Sold": "692",
                                    "Product_Rank": "38",
                                    "Category_Quintile": "2"
                                },
                                {
                                    "Product_Category": "Bikes",
                                    "Product_Name": "Touring-1000 Yellow, 50",
                                    "Number_of_Units_Sold": "684",
                                    "Product_Rank": "39",
                                    "Category_Quintile": "2"
                                },
                                {
                                    "Product_Category": "Bikes",
                                    "Product_Name": "Mountain-100 Black, 42",
                                    "Number_of_Units_Sold": "684",
                                    "Product_Rank": "39",
                                    "Category_Quintile": "2"
                                },
                                {
                                    "Product_Category": "Bikes",
                                    "Product_Name": "Road-250 Black, 52",
                                    "Number_of_Units_Sold": "667",
                                    "Product_Rank": "41",
                                    "Category_Quintile": "3"
                                },
                                {
                                    "Product_Category": "Bikes",
                                    "Product_Name": "Mountain-100 Silver, 42",
                                    "Number_of_Units_Sold": "663",
                                    "Product_Rank": "42",
                                    "Category_Quintile": "3"
                                },
                                {
                                    "Product_Category": "Bikes",
                                    "Product_Name": "Road-550-W Yellow, 42",
                                    "Number_of_Units_Sold": "648",
                                    "Product_Rank": "43",
                                    "Category_Quintile": "3"
                                },
                                {
                                    "Product_Category": "Bikes",
                                    "Product_Name": "Mountain-400-W Silver, 40",
                                    "Number_of_Units_Sold": "602",
                                    "Product_Rank": "44",
                                    "Category_Quintile": "3"
                                },
                                {
                                    "Product_Category": "Bikes",
                                    "Product_Name": "Touring-2000 Blue, 46",
                                    "Number_of_Units_Sold": "566",
                                    "Product_Rank": "45",
                                    "Category_Quintile": "3"
                                },
                                {
                                    "Product_Category": "Bikes",
                                    "Product_Name": "Touring-3000 Blue, 54",
                                    "Number_of_Units_Sold": "562",
                                    "Product_Rank": "46",
                                    "Category_Quintile": "3"
                                },
                                {
                                    "Product_Category": "Bikes",
                                    "Product_Name": "Touring-3000 Yellow, 50",
                                    "Number_of_Units_Sold": "560",
                                    "Product_Rank": "47",
                                    "Category_Quintile": "3"
                                },
                                {
                                    "Product_Category": "Bikes",
                                    "Product_Name": "Touring-1000 Yellow, 54",
                                    "Number_of_Units_Sold": "542",
                                    "Product_Rank": "48",
                                    "Category_Quintile": "3"
                                },
                                {
                                    "Product_Category": "Bikes",
                                    "Product_Name": "Road-750 Black, 58",
                                    "Number_of_Units_Sold": "537",
                                    "Product_Rank": "49",
                                    "Category_Quintile": "3"
                                },
                                {
                                    "Product_Category": "Bikes",
                                    "Product_Name": "Road-250 Red, 58",
                                    "Number_of_Units_Sold": "526",
                                    "Product_Rank": "50",
                                    "Category_Quintile": "3"
                                },
                                {
                                    "Product_Category": "Bikes",
                                    "Product_Name": "Road-550-W Yellow, 44",
                                    "Number_of_Units_Sold": "495",
                                    "Product_Rank": "51",
                                    "Category_Quintile": "3"
                                },
                                {
                                    "Product_Category": "Bikes",
                                    "Product_Name": "Road-250 Black, 58",
                                    "Number_of_Units_Sold": "486",
                                    "Product_Rank": "52",
                                    "Category_Quintile": "3"
                                },
                                {
                                    "Product_Category": "Bikes",
                                    "Product_Name": "Mountain-100 Black, 48",
                                    "Number_of_Units_Sold": "486",
                                    "Product_Rank": "52",
                                    "Category_Quintile": "3"
                                },
                                {
                                    "Product_Category": "Bikes",
                                    "Product_Name": "Mountain-100 Silver, 38",
                                    "Number_of_Units_Sold": "482",
                                    "Product_Rank": "54",
                                    "Category_Quintile": "3"
                                },
                                {
                                    "Product_Category": "Bikes",
                                    "Product_Name": "Mountain-400-W Silver, 46",
                                    "Number_of_Units_Sold": "478",
                                    "Product_Rank": "55",
                                    "Category_Quintile": "3"
                                },
                                {
                                    "Product_Category": "Bikes",
                                    "Product_Name": "Touring-3000 Blue, 58",
                                    "Number_of_Units_Sold": "478",
                                    "Product_Rank": "55",
                                    "Category_Quintile": "3"
                                },
                                {
                                    "Product_Category": "Bikes",
                                    "Product_Name": "Road-150 Red, 56",
                                    "Number_of_Units_Sold": "475",
                                    "Product_Rank": "57",
                                    "Category_Quintile": "3"
                                },
                                {
                                    "Product_Category": "Bikes",
                                    "Product_Name": "Mountain-500 Silver, 52",
                                    "Number_of_Units_Sold": "472",
                                    "Product_Rank": "58",
                                    "Category_Quintile": "3"
                                },
                                {
                                    "Product_Category": "Bikes",
                                    "Product_Name": "Road-150 Red, 62",
                                    "Number_of_Units_Sold": "470",
                                    "Product_Rank": "59",
                                    "Category_Quintile": "3"
                                },
                                {
                                    "Product_Category": "Bikes",
                                    "Product_Name": "Road-750 Black, 44",
                                    "Number_of_Units_Sold": "466",
                                    "Product_Rank": "60",
                                    "Category_Quintile": "4"
                                },
                                {
                                    "Product_Category": "Bikes",
                                    "Product_Name": "Mountain-500 Silver, 48",
                                    "Number_of_Units_Sold": "456",
                                    "Product_Rank": "61",
                                    "Category_Quintile": "4"
                                },
                                {
                                    "Product_Category": "Bikes",
                                    "Product_Name": "Touring-3000 Yellow, 54",
                                    "Number_of_Units_Sold": "454",
                                    "Product_Rank": "62",
                                    "Category_Quintile": "4"
                                },
                                {
                                    "Product_Category": "Bikes",
                                    "Product_Name": "Road-450 Red, 58",
                                    "Number_of_Units_Sold": "452",
                                    "Product_Rank": "63",
                                    "Category_Quintile": "4"
                                },
                                {
                                    "Product_Category": "Bikes",
                                    "Product_Name": "Mountain-300 Black, 40",
                                    "Number_of_Units_Sold": "446",
                                    "Product_Rank": "64",
                                    "Category_Quintile": "4"
                                },
                                {
                                    "Product_Category": "Bikes",
                                    "Product_Name": "Mountain-300 Black, 48",
                                    "Number_of_Units_Sold": "446",
                                    "Product_Rank": "64",
                                    "Category_Quintile": "4"
                                },
                                {
                                    "Product_Category": "Bikes",
                                    "Product_Name": "Mountain-500 Silver, 40",
                                    "Number_of_Units_Sold": "442",
                                    "Product_Rank": "66",
                                    "Category_Quintile": "4"
                                },
                                {
                                    "Product_Category": "Bikes",
                                    "Product_Name": "Mountain-500 Silver, 42",
                                    "Number_of_Units_Sold": "442",
                                    "Product_Rank": "66",
                                    "Category_Quintile": "4"
                                },
                                {
                                    "Product_Category": "Bikes",
                                    "Product_Name": "Mountain-300 Black, 38",
                                    "Number_of_Units_Sold": "440",
                                    "Product_Rank": "68",
                                    "Category_Quintile": "4"
                                },
                                {
                                    "Product_Category": "Bikes",
                                    "Product_Name": "Road-650 Red, 52",
                                    "Number_of_Units_Sold": "440",
                                    "Product_Rank": "68",
                                    "Category_Quintile": "4"
                                },
                                {
                                    "Product_Category": "Bikes",
                                    "Product_Name": "Road-150 Red, 48",
                                    "Number_of_Units_Sold": "409",
                                    "Product_Rank": "70",
                                    "Category_Quintile": "4"
                                },
                                {
                                    "Product_Category": "Bikes",
                                    "Product_Name": "Mountain-100 Silver, 48",
                                    "Number_of_Units_Sold": "408",
                                    "Product_Rank": "71",
                                    "Category_Quintile": "4"
                                },
                                {
                                    "Product_Category": "Bikes",
                                    "Product_Name": "Mountain-500 Silver, 44",
                                    "Number_of_Units_Sold": "390",
                                    "Product_Rank": "72",
                                    "Category_Quintile": "4"
                                },
                                {
                                    "Product_Category": "Bikes",
                                    "Product_Name": "Road-150 Red, 52",
                                    "Number_of_Units_Sold": "378",
                                    "Product_Rank": "73",
                                    "Category_Quintile": "4"
                                },
                                {
                                    "Product_Category": "Bikes",
                                    "Product_Name": "Road-150 Red, 44",
                                    "Number_of_Units_Sold": "358",
                                    "Product_Rank": "74",
                                    "Category_Quintile": "4"
                                },
                                {
                                    "Product_Category": "Bikes",
                                    "Product_Name": "Touring-1000 Blue, 50",
                                    "Number_of_Units_Sold": "336",
                                    "Product_Rank": "75",
                                    "Category_Quintile": "4"
                                },
                                {
                                    "Product_Category": "Bikes",
                                    "Product_Name": "Road-350-W Yellow, 44",
                                    "Number_of_Units_Sold": "332",
                                    "Product_Rank": "76",
                                    "Category_Quintile": "4"
                                },
                                {
                                    "Product_Category": "Bikes",
                                    "Product_Name": "Touring-3000 Yellow, 58",
                                    "Number_of_Units_Sold": "318",
                                    "Product_Rank": "77",
                                    "Category_Quintile": "4"
                                },
                                {
                                    "Product_Category": "Bikes",
                                    "Product_Name": "Touring-3000 Blue, 44",
                                    "Number_of_Units_Sold": "314",
                                    "Product_Rank": "78",
                                    "Category_Quintile": "4"
                                },
                                {
                                    "Product_Category": "Bikes",
                                    "Product_Name": "Touring-3000 Blue, 62",
                                    "Number_of_Units_Sold": "314",
                                    "Product_Rank": "78",
                                    "Category_Quintile": "5"
                                },
                                {
                                    "Product_Category": "Bikes",
                                    "Product_Name": "Road-250 Red, 52",
                                    "Number_of_Units_Sold": "314",
                                    "Product_Rank": "78",
                                    "Category_Quintile": "5"
                                },
                                {
                                    "Product_Category": "Bikes",
                                    "Product_Name": "Road-650 Black, 48",
                                    "Number_of_Units_Sold": "293",
                                    "Product_Rank": "81",
                                    "Category_Quintile": "5"
                                },
                                {
                                    "Product_Category": "Bikes",
                                    "Product_Name": "Road-650 Black, 62",
                                    "Number_of_Units_Sold": "293",
                                    "Product_Rank": "81",
                                    "Category_Quintile": "5"
                                },
                                {
                                    "Product_Category": "Bikes",
                                    "Product_Name": "Road-650 Red, 58",
                                    "Number_of_Units_Sold": "282",
                                    "Product_Rank": "83",
                                    "Category_Quintile": "5"
                                },
                                {
                                    "Product_Category": "Bikes",
                                    "Product_Name": "Touring-1000 Blue, 54",
                                    "Number_of_Units_Sold": "277",
                                    "Product_Rank": "84",
                                    "Category_Quintile": "5"
                                },
                                {
                                    "Product_Category": "Bikes",
                                    "Product_Name": "Road-450 Red, 52",
                                    "Number_of_Units_Sold": "267",
                                    "Product_Rank": "85",
                                    "Category_Quintile": "5"
                                },
                                {
                                    "Product_Category": "Bikes",
                                    "Product_Name": "Mountain-400-W Silver, 38",
                                    "Number_of_Units_Sold": "253",
                                    "Product_Rank": "86",
                                    "Category_Quintile": "5"
                                },
                                {
                                    "Product_Category": "Bikes",
                                    "Product_Name": "Mountain-500 Black, 48",
                                    "Number_of_Units_Sold": "232",
                                    "Product_Rank": "87",
                                    "Category_Quintile": "5"
                                },
                                {
                                    "Product_Category": "Bikes",
                                    "Product_Name": "Mountain-400-W Silver, 42",
                                    "Number_of_Units_Sold": "231",
                                    "Product_Rank": "88",
                                    "Category_Quintile": "5"
                                },
                                {
                                    "Product_Category": "Bikes",
                                    "Product_Name": "Mountain-300 Black, 44",
                                    "Number_of_Units_Sold": "228",
                                    "Product_Rank": "89",
                                    "Category_Quintile": "5"
                                },
                                {
                                    "Product_Category": "Bikes",
                                    "Product_Name": "Touring-2000 Blue, 50",
                                    "Number_of_Units_Sold": "198",
                                    "Product_Rank": "90",
                                    "Category_Quintile": "5"
                                },
                                {
                                    "Product_Category": "Bikes",
                                    "Product_Name": "Mountain-500 Black, 42",
                                    "Number_of_Units_Sold": "195",
                                    "Product_Rank": "91",
                                    "Category_Quintile": "5"
                                },
                                {
                                    "Product_Category": "Bikes",
                                    "Product_Name": "Mountain-500 Black, 44",
                                    "Number_of_Units_Sold": "193",
                                    "Product_Rank": "92",
                                    "Category_Quintile": "5"
                                },
                                {
                                    "Product_Category": "Bikes",
                                    "Product_Name": "Road-450 Red, 44",
                                    "Number_of_Units_Sold": "171",
                                    "Product_Rank": "93",
                                    "Category_Quintile": "5"
                                },
                                {
                                    "Product_Category": "Bikes",
                                    "Product_Name": "Road-450 Red, 60",
                                    "Number_of_Units_Sold": "164",
                                    "Product_Rank": "94",
                                    "Category_Quintile": "5"
                                },
                                {
                                    "Product_Category": "Bikes",
                                    "Product_Name": "Mountain-500 Black, 40",
                                    "Number_of_Units_Sold": "150",
                                    "Product_Rank": "95",
                                    "Category_Quintile": "5"
                                },
                                {
                                    "Product_Category": "Bikes",
                                    "Product_Name": "Mountain-500 Black, 52",
                                    "Number_of_Units_Sold": "146",
                                    "Product_Rank": "96",
                                    "Category_Quintile": "5"
                                },
                                {
                                    "Product_Category": "Bikes",
                                    "Product_Name": "Road-450 Red, 48",
                                    "Number_of_Units_Sold": "77",
                                    "Product_Rank": "97",
                                    "Category_Quintile": "5"
                                },
                                {
                                    "Product_Category": "Clothing",
                                    "Product_Name": "AWC Logo Cap",
                                    "Number_of_Units_Sold": "13528",
                                    "Product_Rank": "1",
                                    "Category_Quintile": "1"
                                },
                                {
                                    "Product_Category": "Clothing",
                                    "Product_Name": "Long-Sleeve Logo Jersey, L",
                                    "Number_of_Units_Sold": "6540",
                                    "Product_Rank": "2",
                                    "Category_Quintile": "1"
                                },
                                {
                                    "Product_Category": "Clothing",
                                    "Product_Name": "Long-Sleeve Logo Jersey, M",
                                    "Number_of_Units_Sold": "3654",
                                    "Product_Rank": "3",
                                    "Category_Quintile": "1"
                                },
                                {
                                    "Product_Category": "Clothing",
                                    "Product_Name": "Short-Sleeve Classic Jersey, XL",
                                    "Number_of_Units_Sold": "3616",
                                    "Product_Rank": "4",
                                    "Category_Quintile": "1"
                                },
                                {
                                    "Product_Category": "Clothing",
                                    "Product_Name": "Women's Mountain Shorts, L",
                                    "Number_of_Units_Sold": "3535",
                                    "Product_Rank": "5",
                                    "Category_Quintile": "1"
                                },
                                {
                                    "Product_Category": "Clothing",
                                    "Product_Name": "Half-Finger Gloves, M",
                                    "Number_of_Units_Sold": "3258",
                                    "Product_Rank": "6",
                                    "Category_Quintile": "1"
                                },
                                {
                                    "Product_Category": "Clothing",
                                    "Product_Name": "Classic Vest, S",
                                    "Number_of_Units_Sold": "2728",
                                    "Product_Rank": "7",
                                    "Category_Quintile": "1"
                                },
                                {
                                    "Product_Category": "Clothing",
                                    "Product_Name": "Half-Finger Gloves, S",
                                    "Number_of_Units_Sold": "2649",
                                    "Product_Rank": "8",
                                    "Category_Quintile": "2"
                                },
                                {
                                    "Product_Category": "Clothing",
                                    "Product_Name": "Women's Mountain Shorts, S",
                                    "Number_of_Units_Sold": "2592",
                                    "Product_Rank": "9",
                                    "Category_Quintile": "2"
                                },
                                {
                                    "Product_Category": "Clothing",
                                    "Product_Name": "Racing Socks, L",
                                    "Number_of_Units_Sold": "2416",
                                    "Product_Rank": "10",
                                    "Category_Quintile": "2"
                                },
                                {
                                    "Product_Category": "Clothing",
                                    "Product_Name": "Short-Sleeve Classic Jersey, L",
                                    "Number_of_Units_Sold": "2415",
                                    "Product_Rank": "11",
                                    "Category_Quintile": "2"
                                },
                                {
                                    "Product_Category": "Clothing",
                                    "Product_Name": "Long-Sleeve Logo Jersey, XL",
                                    "Number_of_Units_Sold": "2152",
                                    "Product_Rank": "12",
                                    "Category_Quintile": "2"
                                },
                                {
                                    "Product_Category": "Clothing",
                                    "Product_Name": "Short-Sleeve Classic Jersey, S",
                                    "Number_of_Units_Sold": "2151",
                                    "Product_Rank": "13",
                                    "Category_Quintile": "2"
                                },
                                {
                                    "Product_Category": "Clothing",
                                    "Product_Name": "Full-Finger Gloves, L",
                                    "Number_of_Units_Sold": "1820",
                                    "Product_Rank": "14",
                                    "Category_Quintile": "2"
                                },
                                {
                                    "Product_Category": "Clothing",
                                    "Product_Name": "Women's Tights, S",
                                    "Number_of_Units_Sold": "1688",
                                    "Product_Rank": "15",
                                    "Category_Quintile": "3"
                                },
                                {
                                    "Product_Category": "Clothing",
                                    "Product_Name": "Classic Vest, M",
                                    "Number_of_Units_Sold": "1665",
                                    "Product_Rank": "16",
                                    "Category_Quintile": "3"
                                },
                                {
                                    "Product_Category": "Clothing",
                                    "Product_Name": "Full-Finger Gloves, M",
                                    "Number_of_Units_Sold": "1436",
                                    "Product_Rank": "17",
                                    "Category_Quintile": "3"
                                },
                                {
                                    "Product_Category": "Clothing",
                                    "Product_Name": "Half-Finger Gloves, L",
                                    "Number_of_Units_Sold": "1346",
                                    "Product_Rank": "18",
                                    "Category_Quintile": "3"
                                },
                                {
                                    "Product_Category": "Clothing",
                                    "Product_Name": "Women's Tights, L",
                                    "Number_of_Units_Sold": "1323",
                                    "Product_Rank": "19",
                                    "Category_Quintile": "3"
                                },
                                {
                                    "Product_Category": "Clothing",
                                    "Product_Name": "Racing Socks, M",
                                    "Number_of_Units_Sold": "1186",
                                    "Product_Rank": "20",
                                    "Category_Quintile": "3"
                                },
                                {
                                    "Product_Category": "Clothing",
                                    "Product_Name": "Men's Bib-Shorts, M",
                                    "Number_of_Units_Sold": "1059",
                                    "Product_Rank": "21",
                                    "Category_Quintile": "3"
                                },
                                {
                                    "Product_Category": "Clothing",
                                    "Product_Name": "Men's Sports Shorts, M",
                                    "Number_of_Units_Sold": "849",
                                    "Product_Rank": "22",
                                    "Category_Quintile": "4"
                                },
                                {
                                    "Product_Category": "Clothing",
                                    "Product_Name": "Mountain Bike Socks, M",
                                    "Number_of_Units_Sold": "752",
                                    "Product_Rank": "23",
                                    "Category_Quintile": "4"
                                },
                                {
                                    "Product_Category": "Clothing",
                                    "Product_Name": "Women's Mountain Shorts, M",
                                    "Number_of_Units_Sold": "681",
                                    "Product_Rank": "24",
                                    "Category_Quintile": "4"
                                },
                                {
                                    "Product_Category": "Clothing",
                                    "Product_Name": "Men's Bib-Shorts, S",
                                    "Number_of_Units_Sold": "462",
                                    "Product_Rank": "25",
                                    "Category_Quintile": "4"
                                },
                                {
                                    "Product_Category": "Clothing",
                                    "Product_Name": "Long-Sleeve Logo Jersey, S",
                                    "Number_of_Units_Sold": "429",
                                    "Product_Rank": "26",
                                    "Category_Quintile": "4"
                                },
                                {
                                    "Product_Category": "Clothing",
                                    "Product_Name": "Short-Sleeve Classic Jersey, M",
                                    "Number_of_Units_Sold": "407",
                                    "Product_Rank": "27",
                                    "Category_Quintile": "4"
                                },
                                {
                                    "Product_Category": "Clothing",
                                    "Product_Name": "Men's Sports Shorts, S",
                                    "Number_of_Units_Sold": "320",
                                    "Product_Rank": "28",
                                    "Category_Quintile": "4"
                                },
                                {
                                    "Product_Category": "Clothing",
                                    "Product_Name": "Full-Finger Gloves, S",
                                    "Number_of_Units_Sold": "240",
                                    "Product_Rank": "29",
                                    "Category_Quintile": "5"
                                },
                                {
                                    "Product_Category": "Clothing",
                                    "Product_Name": "Classic Vest, L",
                                    "Number_of_Units_Sold": "201",
                                    "Product_Rank": "30",
                                    "Category_Quintile": "5"
                                },
                                {
                                    "Product_Category": "Clothing",
                                    "Product_Name": "Men's Bib-Shorts, L",
                                    "Number_of_Units_Sold": "178",
                                    "Product_Rank": "31",
                                    "Category_Quintile": "5"
                                },
                                {
                                    "Product_Category": "Clothing",
                                    "Product_Name": "Men's Sports Shorts, L",
                                    "Number_of_Units_Sold": "131",
                                    "Product_Rank": "32",
                                    "Category_Quintile": "5"
                                },
                                {
                                    "Product_Category": "Clothing",
                                    "Product_Name": "Women's Tights, M",
                                    "Number_of_Units_Sold": "114",
                                    "Product_Rank": "33",
                                    "Category_Quintile": "5"
                                },
                                {
                                    "Product_Category": "Clothing",
                                    "Product_Name": "Mountain Bike Socks, L",
                                    "Number_of_Units_Sold": "44",
                                    "Product_Rank": "34",
                                    "Category_Quintile": "5"
                                },
                                {
                                    "Product_Category": "Components",
                                    "Product_Name": "LL Road Frame - Black, 52",
                                    "Number_of_Units_Sold": "1800",
                                    "Product_Rank": "1",
                                    "Category_Quintile": "1"
                                },
                                {
                                    "Product_Category": "Components",
                                    "Product_Name": "ML Road Frame-W - Yellow, 44",
                                    "Number_of_Units_Sold": "1467",
                                    "Product_Rank": "2",
                                    "Category_Quintile": "1"
                                },
                                {
                                    "Product_Category": "Components",
                                    "Product_Name": "LL Road Frame - Red, 44",
                                    "Number_of_Units_Sold": "1122",
                                    "Product_Rank": "3",
                                    "Category_Quintile": "1"
                                },
                                {
                                    "Product_Category": "Components",
                                    "Product_Name": "ML Mountain Handlebars",
                                    "Number_of_Units_Sold": "1014",
                                    "Product_Rank": "4",
                                    "Category_Quintile": "1"
                                },
                                {
                                    "Product_Category": "Components",
                                    "Product_Name": "HL Mountain Frame - Silver, 38",
                                    "Number_of_Units_Sold": "982",
                                    "Product_Rank": "5",
                                    "Category_Quintile": "1"
                                },
                                {
                                    "Product_Category": "Components",
                                    "Product_Name": "LL Mountain Handlebars",
                                    "Number_of_Units_Sold": "903",
                                    "Product_Rank": "6",
                                    "Category_Quintile": "1"
                                },
                                {
                                    "Product_Category": "Components",
                                    "Product_Name": "LL Road Frame - Red, 62",
                                    "Number_of_Units_Sold": "864",
                                    "Product_Rank": "7",
                                    "Category_Quintile": "1"
                                },
                                {
                                    "Product_Category": "Components",
                                    "Product_Name": "ML Mountain Rear Wheel",
                                    "Number_of_Units_Sold": "795",
                                    "Product_Rank": "8",
                                    "Category_Quintile": "1"
                                },
                                {
                                    "Product_Category": "Components",
                                    "Product_Name": "LL Road Frame - Black, 58",
                                    "Number_of_Units_Sold": "784",
                                    "Product_Rank": "9",
                                    "Category_Quintile": "1"
                                },
                                {
                                    "Product_Category": "Components",
                                    "Product_Name": "HL Mountain Rear Wheel",
                                    "Number_of_Units_Sold": "774",
                                    "Product_Rank": "10",
                                    "Category_Quintile": "1"
                                },
                                {
                                    "Product_Category": "Components",
                                    "Product_Name": "HL Mountain Pedal",
                                    "Number_of_Units_Sold": "765",
                                    "Product_Rank": "11",
                                    "Category_Quintile": "1"
                                },
                                {
                                    "Product_Category": "Components",
                                    "Product_Name": "LL Road Frame - Red, 60",
                                    "Number_of_Units_Sold": "750",
                                    "Product_Rank": "12",
                                    "Category_Quintile": "1"
                                },
                                {
                                    "Product_Category": "Components",
                                    "Product_Name": "LL Road Pedal",
                                    "Number_of_Units_Sold": "618",
                                    "Product_Rank": "13",
                                    "Category_Quintile": "1"
                                },
                                {
                                    "Product_Category": "Components",
                                    "Product_Name": "LL Road Frame - Red, 48",
                                    "Number_of_Units_Sold": "576",
                                    "Product_Rank": "14",
                                    "Category_Quintile": "1"
                                },
                                {
                                    "Product_Category": "Components",
                                    "Product_Name": "Front Brakes",
                                    "Number_of_Units_Sold": "532",
                                    "Product_Rank": "15",
                                    "Category_Quintile": "1"
                                },
                                {
                                    "Product_Category": "Components",
                                    "Product_Name": "ML Road Pedal",
                                    "Number_of_Units_Sold": "530",
                                    "Product_Rank": "16",
                                    "Category_Quintile": "1"
                                },
                                {
                                    "Product_Category": "Components",
                                    "Product_Name": "HL Road Pedal",
                                    "Number_of_Units_Sold": "528",
                                    "Product_Rank": "17",
                                    "Category_Quintile": "1"
                                },
                                {
                                    "Product_Category": "Components",
                                    "Product_Name": "Front Derailleur",
                                    "Number_of_Units_Sold": "514",
                                    "Product_Rank": "18",
                                    "Category_Quintile": "1"
                                },
                                {
                                    "Product_Category": "Components",
                                    "Product_Name": "ML Mountain Frame - Black, 48",
                                    "Number_of_Units_Sold": "512",
                                    "Product_Rank": "19",
                                    "Category_Quintile": "1"
                                },
                                {
                                    "Product_Category": "Components",
                                    "Product_Name": "HL Touring Frame - Blue, 54",
                                    "Number_of_Units_Sold": "507",
                                    "Product_Rank": "20",
                                    "Category_Quintile": "1"
                                },
                                {
                                    "Product_Category": "Components",
                                    "Product_Name": "ML Mountain Frame-W - Silver, 40",
                                    "Number_of_Units_Sold": "506",
                                    "Product_Rank": "21",
                                    "Category_Quintile": "1"
                                },
                                {
                                    "Product_Category": "Components",
                                    "Product_Name": "Chain",
                                    "Number_of_Units_Sold": "500",
                                    "Product_Rank": "22",
                                    "Category_Quintile": "1"
                                },
                                {
                                    "Product_Category": "Components",
                                    "Product_Name": "HL Mountain Frame - Black, 42",
                                    "Number_of_Units_Sold": "481",
                                    "Product_Rank": "23",
                                    "Category_Quintile": "1"
                                },
                                {
                                    "Product_Category": "Components",
                                    "Product_Name": "LL Mountain Front Wheel",
                                    "Number_of_Units_Sold": "464",
                                    "Product_Rank": "24",
                                    "Category_Quintile": "2"
                                },
                                {
                                    "Product_Category": "Components",
                                    "Product_Name": "LL Mountain Frame - Black, 44",
                                    "Number_of_Units_Sold": "454",
                                    "Product_Rank": "25",
                                    "Category_Quintile": "2"
                                },
                                {
                                    "Product_Category": "Components",
                                    "Product_Name": "LL Mountain Frame - Silver, 42",
                                    "Number_of_Units_Sold": "448",
                                    "Product_Rank": "26",
                                    "Category_Quintile": "2"
                                },
                                {
                                    "Product_Category": "Components",
                                    "Product_Name": "HL Crankset",
                                    "Number_of_Units_Sold": "438",
                                    "Product_Rank": "27",
                                    "Category_Quintile": "2"
                                },
                                {
                                    "Product_Category": "Components",
                                    "Product_Name": "HL Touring Frame - Blue, 60",
                                    "Number_of_Units_Sold": "420",
                                    "Product_Rank": "28",
                                    "Category_Quintile": "2"
                                },
                                {
                                    "Product_Category": "Components",
                                    "Product_Name": "LL Mountain Pedal",
                                    "Number_of_Units_Sold": "390",
                                    "Product_Rank": "29",
                                    "Category_Quintile": "2"
                                },
                                {
                                    "Product_Category": "Components",
                                    "Product_Name": "ML Road Frame-W - Yellow, 38",
                                    "Number_of_Units_Sold": "356",
                                    "Product_Rank": "30",
                                    "Category_Quintile": "2"
                                },
                                {
                                    "Product_Category": "Components",
                                    "Product_Name": "ML Road Frame-W - Yellow, 48",
                                    "Number_of_Units_Sold": "350",
                                    "Product_Rank": "31",
                                    "Category_Quintile": "2"
                                },
                                {
                                    "Product_Category": "Components",
                                    "Product_Name": "ML Headset",
                                    "Number_of_Units_Sold": "330",
                                    "Product_Rank": "32",
                                    "Category_Quintile": "2"
                                },
                                {
                                    "Product_Category": "Components",
                                    "Product_Name": "LL Mountain Frame - Silver, 40",
                                    "Number_of_Units_Sold": "328",
                                    "Product_Rank": "33",
                                    "Category_Quintile": "2"
                                },
                                {
                                    "Product_Category": "Components",
                                    "Product_Name": "HL Touring Frame - Yellow, 54",
                                    "Number_of_Units_Sold": "322",
                                    "Product_Rank": "34",
                                    "Category_Quintile": "2"
                                },
                                {
                                    "Product_Category": "Components",
                                    "Product_Name": "ML Mountain Pedal",
                                    "Number_of_Units_Sold": "316",
                                    "Product_Rank": "35",
                                    "Category_Quintile": "2"
                                },
                                {
                                    "Product_Category": "Components",
                                    "Product_Name": "LL Mountain Seat/Saddle",
                                    "Number_of_Units_Sold": "306",
                                    "Product_Rank": "36",
                                    "Category_Quintile": "2"
                                },
                                {
                                    "Product_Category": "Components",
                                    "Product_Name": "LL Road Rear Wheel",
                                    "Number_of_Units_Sold": "305",
                                    "Product_Rank": "37",
                                    "Category_Quintile": "2"
                                },
                                {
                                    "Product_Category": "Components",
                                    "Product_Name": "HL Mountain Frame - Black, 38",
                                    "Number_of_Units_Sold": "289",
                                    "Product_Rank": "38",
                                    "Category_Quintile": "2"
                                },
                                {
                                    "Product_Category": "Components",
                                    "Product_Name": "HL Mountain Frame - Silver, 46",
                                    "Number_of_Units_Sold": "288",
                                    "Product_Rank": "39",
                                    "Category_Quintile": "2"
                                },
                                {
                                    "Product_Category": "Components",
                                    "Product_Name": "ML Mountain Seat/Saddle",
                                    "Number_of_Units_Sold": "276",
                                    "Product_Rank": "40",
                                    "Category_Quintile": "2"
                                },
                                {
                                    "Product_Category": "Components",
                                    "Product_Name": "HL Touring Frame - Yellow, 60",
                                    "Number_of_Units_Sold": "270",
                                    "Product_Rank": "41",
                                    "Category_Quintile": "2"
                                },
                                {
                                    "Product_Category": "Components",
                                    "Product_Name": "HL Road Handlebars",
                                    "Number_of_Units_Sold": "270",
                                    "Product_Rank": "41",
                                    "Category_Quintile": "2"
                                },
                                {
                                    "Product_Category": "Components",
                                    "Product_Name": "LL Touring Frame - Yellow, 62",
                                    "Number_of_Units_Sold": "260",
                                    "Product_Rank": "43",
                                    "Category_Quintile": "2"
                                },
                                {
                                    "Product_Category": "Components",
                                    "Product_Name": "LL Touring Frame - Yellow, 44",
                                    "Number_of_Units_Sold": "234",
                                    "Product_Rank": "44",
                                    "Category_Quintile": "2"
                                },
                                {
                                    "Product_Category": "Components",
                                    "Product_Name": "HL Fork",
                                    "Number_of_Units_Sold": "234",
                                    "Product_Rank": "44",
                                    "Category_Quintile": "2"
                                },
                                {
                                    "Product_Category": "Components",
                                    "Product_Name": "ML Mountain Frame-W - Silver, 42",
                                    "Number_of_Units_Sold": "230",
                                    "Product_Rank": "46",
                                    "Category_Quintile": "3"
                                },
                                {
                                    "Product_Category": "Components",
                                    "Product_Name": "ML Mountain Frame - Black, 38",
                                    "Number_of_Units_Sold": "226",
                                    "Product_Rank": "47",
                                    "Category_Quintile": "3"
                                },
                                {
                                    "Product_Category": "Components",
                                    "Product_Name": "HL Mountain Seat/Saddle",
                                    "Number_of_Units_Sold": "222",
                                    "Product_Rank": "48",
                                    "Category_Quintile": "3"
                                },
                                {
                                    "Product_Category": "Components",
                                    "Product_Name": "LL Road Frame - Black, 44",
                                    "Number_of_Units_Sold": "220",
                                    "Product_Rank": "49",
                                    "Category_Quintile": "3"
                                },
                                {
                                    "Product_Category": "Components",
                                    "Product_Name": "HL Road Frame - Red, 44",
                                    "Number_of_Units_Sold": "219",
                                    "Product_Rank": "50",
                                    "Category_Quintile": "3"
                                },
                                {
                                    "Product_Category": "Components",
                                    "Product_Name": "HL Road Frame - Red, 62",
                                    "Number_of_Units_Sold": "218",
                                    "Product_Rank": "51",
                                    "Category_Quintile": "3"
                                },
                                {
                                    "Product_Category": "Components",
                                    "Product_Name": "HL Bottom Bracket",
                                    "Number_of_Units_Sold": "218",
                                    "Product_Rank": "51",
                                    "Category_Quintile": "3"
                                },
                                {
                                    "Product_Category": "Components",
                                    "Product_Name": "HL Mountain Handlebars",
                                    "Number_of_Units_Sold": "216",
                                    "Product_Rank": "53",
                                    "Category_Quintile": "3"
                                },
                                {
                                    "Product_Category": "Components",
                                    "Product_Name": "HL Road Front Wheel",
                                    "Number_of_Units_Sold": "206",
                                    "Product_Rank": "54",
                                    "Category_Quintile": "3"
                                },
                                {
                                    "Product_Category": "Components",
                                    "Product_Name": "HL Road Frame - Black, 44",
                                    "Number_of_Units_Sold": "201",
                                    "Product_Rank": "55",
                                    "Category_Quintile": "3"
                                },
                                {
                                    "Product_Category": "Components",
                                    "Product_Name": "ML Mountain Frame - Black, 44",
                                    "Number_of_Units_Sold": "198",
                                    "Product_Rank": "56",
                                    "Category_Quintile": "3"
                                },
                                {
                                    "Product_Category": "Components",
                                    "Product_Name": "ML Road Front Wheel",
                                    "Number_of_Units_Sold": "195",
                                    "Product_Rank": "57",
                                    "Category_Quintile": "3"
                                },
                                {
                                    "Product_Category": "Components",
                                    "Product_Name": "HL Touring Seat/Saddle",
                                    "Number_of_Units_Sold": "177",
                                    "Product_Rank": "58",
                                    "Category_Quintile": "3"
                                },
                                {
                                    "Product_Category": "Components",
                                    "Product_Name": "LL Crankset",
                                    "Number_of_Units_Sold": "176",
                                    "Product_Rank": "59",
                                    "Category_Quintile": "3"
                                },
                                {
                                    "Product_Category": "Components",
                                    "Product_Name": "HL Mountain Frame - Silver, 42",
                                    "Number_of_Units_Sold": "167",
                                    "Product_Rank": "60",
                                    "Category_Quintile": "3"
                                },
                                {
                                    "Product_Category": "Components",
                                    "Product_Name": "LL Mountain Frame - Black, 48",
                                    "Number_of_Units_Sold": "164",
                                    "Product_Rank": "61",
                                    "Category_Quintile": "3"
                                },
                                {
                                    "Product_Category": "Components",
                                    "Product_Name": "LL Mountain Frame - Black, 42",
                                    "Number_of_Units_Sold": "162",
                                    "Product_Rank": "62",
                                    "Category_Quintile": "3"
                                },
                                {
                                    "Product_Category": "Components",
                                    "Product_Name": "LL Mountain Frame - Silver, 44",
                                    "Number_of_Units_Sold": "159",
                                    "Product_Rank": "63",
                                    "Category_Quintile": "3"
                                },
                                {
                                    "Product_Category": "Components",
                                    "Product_Name": "LL Mountain Frame - Silver, 52",
                                    "Number_of_Units_Sold": "159",
                                    "Product_Rank": "63",
                                    "Category_Quintile": "3"
                                },
                                {
                                    "Product_Category": "Components",
                                    "Product_Name": "LL Bottom Bracket",
                                    "Number_of_Units_Sold": "150",
                                    "Product_Rank": "65",
                                    "Category_Quintile": "3"
                                },
                                {
                                    "Product_Category": "Components",
                                    "Product_Name": "LL Mountain Rear Wheel",
                                    "Number_of_Units_Sold": "148",
                                    "Product_Rank": "66",
                                    "Category_Quintile": "3"
                                },
                                {
                                    "Product_Category": "Components",
                                    "Product_Name": "Rear Derailleur",
                                    "Number_of_Units_Sold": "145",
                                    "Product_Rank": "67",
                                    "Category_Quintile": "3"
                                },
                                {
                                    "Product_Category": "Components",
                                    "Product_Name": "Touring Pedal",
                                    "Number_of_Units_Sold": "142",
                                    "Product_Rank": "68",
                                    "Category_Quintile": "4"
                                },
                                {
                                    "Product_Category": "Components",
                                    "Product_Name": "ML Road Frame - Red, 48",
                                    "Number_of_Units_Sold": "130",
                                    "Product_Rank": "69",
                                    "Category_Quintile": "4"
                                },
                                {
                                    "Product_Category": "Components",
                                    "Product_Name": "LL Touring Frame - Blue, 50",
                                    "Number_of_Units_Sold": "126",
                                    "Product_Rank": "70",
                                    "Category_Quintile": "4"
                                },
                                {
                                    "Product_Category": "Components",
                                    "Product_Name": "ML Mountain Front Wheel",
                                    "Number_of_Units_Sold": "114",
                                    "Product_Rank": "71",
                                    "Category_Quintile": "4"
                                },
                                {
                                    "Product_Category": "Components",
                                    "Product_Name": "Rear Brakes",
                                    "Number_of_Units_Sold": "113",
                                    "Product_Rank": "72",
                                    "Category_Quintile": "4"
                                },
                                {
                                    "Product_Category": "Components",
                                    "Product_Name": "LL Touring Frame - Yellow, 50",
                                    "Number_of_Units_Sold": "110",
                                    "Product_Rank": "73",
                                    "Category_Quintile": "4"
                                },
                                {
                                    "Product_Category": "Components",
                                    "Product_Name": "HL Headset",
                                    "Number_of_Units_Sold": "110",
                                    "Product_Rank": "73",
                                    "Category_Quintile": "4"
                                },
                                {
                                    "Product_Category": "Components",
                                    "Product_Name": "HL Touring Handlebars",
                                    "Number_of_Units_Sold": "109",
                                    "Product_Rank": "75",
                                    "Category_Quintile": "4"
                                },
                                {
                                    "Product_Category": "Components",
                                    "Product_Name": "HL Mountain Front Wheel",
                                    "Number_of_Units_Sold": "104",
                                    "Product_Rank": "76",
                                    "Category_Quintile": "4"
                                },
                                {
                                    "Product_Category": "Components",
                                    "Product_Name": "LL Road Frame - Black, 60",
                                    "Number_of_Units_Sold": "104",
                                    "Product_Rank": "76",
                                    "Category_Quintile": "4"
                                },
                                {
                                    "Product_Category": "Components",
                                    "Product_Name": "LL Touring Frame - Blue, 54",
                                    "Number_of_Units_Sold": "99",
                                    "Product_Rank": "78",
                                    "Category_Quintile": "4"
                                },
                                {
                                    "Product_Category": "Components",
                                    "Product_Name": "LL Road Handlebars",
                                    "Number_of_Units_Sold": "98",
                                    "Product_Rank": "79",
                                    "Category_Quintile": "4"
                                },
                                {
                                    "Product_Category": "Components",
                                    "Product_Name": "LL Road Frame - Red, 52",
                                    "Number_of_Units_Sold": "96",
                                    "Product_Rank": "80",
                                    "Category_Quintile": "4"
                                },
                                {
                                    "Product_Category": "Components",
                                    "Product_Name": "HL Mountain Frame - Silver, 48",
                                    "Number_of_Units_Sold": "94",
                                    "Product_Rank": "81",
                                    "Category_Quintile": "4"
                                },
                                {
                                    "Product_Category": "Components",
                                    "Product_Name": "ML Road Frame-W - Yellow, 40",
                                    "Number_of_Units_Sold": "88",
                                    "Product_Rank": "82",
                                    "Category_Quintile": "4"
                                },
                                {
                                    "Product_Category": "Components",
                                    "Product_Name": "ML Mountain Frame-W - Silver, 46",
                                    "Number_of_Units_Sold": "87",
                                    "Product_Rank": "83",
                                    "Category_Quintile": "4"
                                },
                                {
                                    "Product_Category": "Components",
                                    "Product_Name": "LL Fork",
                                    "Number_of_Units_Sold": "83",
                                    "Product_Rank": "84",
                                    "Category_Quintile": "4"
                                },
                                {
                                    "Product_Category": "Components",
                                    "Product_Name": "HL Mountain Frame - Black, 48",
                                    "Number_of_Units_Sold": "76",
                                    "Product_Rank": "85",
                                    "Category_Quintile": "4"
                                },
                                {
                                    "Product_Category": "Components",
                                    "Product_Name": "HL Road Seat/Saddle",
                                    "Number_of_Units_Sold": "60",
                                    "Product_Rank": "86",
                                    "Category_Quintile": "4"
                                },
                                {
                                    "Product_Category": "Components",
                                    "Product_Name": "HL Touring Frame - Blue, 46",
                                    "Number_of_Units_Sold": "58",
                                    "Product_Rank": "87",
                                    "Category_Quintile": "4"
                                },
                                {
                                    "Product_Category": "Components",
                                    "Product_Name": "HL Touring Frame - Blue, 50",
                                    "Number_of_Units_Sold": "58",
                                    "Product_Rank": "87",
                                    "Category_Quintile": "4"
                                },
                                {
                                    "Product_Category": "Components",
                                    "Product_Name": "HL Road Frame - Black, 48",
                                    "Number_of_Units_Sold": "47",
                                    "Product_Rank": "89",
                                    "Category_Quintile": "4"
                                },
                                {
                                    "Product_Category": "Components",
                                    "Product_Name": "HL Road Rear Wheel",
                                    "Number_of_Units_Sold": "46",
                                    "Product_Rank": "90",
                                    "Category_Quintile": "5"
                                },
                                {
                                    "Product_Category": "Components",
                                    "Product_Name": "LL Headset",
                                    "Number_of_Units_Sold": "46",
                                    "Product_Rank": "90",
                                    "Category_Quintile": "5"
                                },
                                {
                                    "Product_Category": "Components",
                                    "Product_Name": "HL Road Frame - Red, 48",
                                    "Number_of_Units_Sold": "44",
                                    "Product_Rank": "92",
                                    "Category_Quintile": "5"
                                },
                                {
                                    "Product_Category": "Components",
                                    "Product_Name": "ML Road Frame - Red, 52",
                                    "Number_of_Units_Sold": "44",
                                    "Product_Rank": "92",
                                    "Category_Quintile": "5"
                                },
                                {
                                    "Product_Category": "Components",
                                    "Product_Name": "LL Touring Seat/Saddle",
                                    "Number_of_Units_Sold": "43",
                                    "Product_Rank": "94",
                                    "Category_Quintile": "5"
                                },
                                {
                                    "Product_Category": "Components",
                                    "Product_Name": "ML Touring Seat/Saddle",
                                    "Number_of_Units_Sold": "41",
                                    "Product_Rank": "95",
                                    "Category_Quintile": "5"
                                },
                                {
                                    "Product_Category": "Components",
                                    "Product_Name": "HL Touring Frame - Yellow, 46",
                                    "Number_of_Units_Sold": "41",
                                    "Product_Rank": "95",
                                    "Category_Quintile": "5"
                                },
                                {
                                    "Product_Category": "Components",
                                    "Product_Name": "HL Touring Frame - Yellow, 50",
                                    "Number_of_Units_Sold": "39",
                                    "Product_Rank": "97",
                                    "Category_Quintile": "5"
                                },
                                {
                                    "Product_Category": "Components",
                                    "Product_Name": "ML Mountain Frame - Black, 40",
                                    "Number_of_Units_Sold": "33",
                                    "Product_Rank": "98",
                                    "Category_Quintile": "5"
                                },
                                {
                                    "Product_Category": "Components",
                                    "Product_Name": "ML Road Rear Wheel",
                                    "Number_of_Units_Sold": "31",
                                    "Product_Rank": "99",
                                    "Category_Quintile": "5"
                                },
                                {
                                    "Product_Category": "Components",
                                    "Product_Name": "LL Touring Handlebars",
                                    "Number_of_Units_Sold": "30",
                                    "Product_Rank": "100",
                                    "Category_Quintile": "5"
                                },
                                {
                                    "Product_Category": "Components",
                                    "Product_Name": "ML Crankset",
                                    "Number_of_Units_Sold": "28",
                                    "Product_Rank": "101",
                                    "Category_Quintile": "5"
                                },
                                {
                                    "Product_Category": "Components",
                                    "Product_Name": "LL Touring Frame - Yellow, 58",
                                    "Number_of_Units_Sold": "20",
                                    "Product_Rank": "102",
                                    "Category_Quintile": "5"
                                },
                                {
                                    "Product_Category": "Components",
                                    "Product_Name": "LL Mountain Frame - Silver, 48",
                                    "Number_of_Units_Sold": "16",
                                    "Product_Rank": "103",
                                    "Category_Quintile": "5"
                                },
                                {
                                    "Product_Category": "Components",
                                    "Product_Name": "LL Touring Frame - Blue, 44",
                                    "Number_of_Units_Sold": "14",
                                    "Product_Rank": "104",
                                    "Category_Quintile": "5"
                                },
                                {
                                    "Product_Category": "Components",
                                    "Product_Name": "HL Mountain Frame - Black, 44",
                                    "Number_of_Units_Sold": "13",
                                    "Product_Rank": "105",
                                    "Category_Quintile": "5"
                                },
                                {
                                    "Product_Category": "Components",
                                    "Product_Name": "LL Mountain Frame - Black, 52",
                                    "Number_of_Units_Sold": "9",
                                    "Product_Rank": "106",
                                    "Category_Quintile": "5"
                                },
                                {
                                    "Product_Category": "Components",
                                    "Product_Name": "LL Touring Frame - Blue, 62",
                                    "Number_of_Units_Sold": "9",
                                    "Product_Rank": "106",
                                    "Category_Quintile": "5"
                                },
                                {
                                    "Product_Category": "Components",
                                    "Product_Name": "LL Road Seat/Saddle",
                                    "Number_of_Units_Sold": "6",
                                    "Product_Rank": "108",
                                    "Category_Quintile": "5"
                                },
                                {
                                    "Product_Category": "Components",
                                    "Product_Name": "LL Mountain Frame - Black, 40",
                                    "Number_of_Units_Sold": "6",
                                    "Product_Rank": "108",
                                    "Category_Quintile": "5"
                                },
                                {
                                    "Product_Category": "Components",
                                    "Product_Name": "ML Mountain Frame-W - Silver, 38",
                                    "Number_of_Units_Sold": "5",
                                    "Product_Rank": "110",
                                    "Category_Quintile": "5"
                                },
                                {
                                    "Product_Category": "Components",
                                    "Product_Name": "LL Touring Frame - Blue, 58",
                                    "Number_of_Units_Sold": "2",
                                    "Product_Rank": "111",
                                    "Category_Quintile": "5"
                                }
                            ]
                        },
                        "text/html": "<table><tr><th>Product_Category</th><th>Product_Name</th><th>Number_of_Units_Sold</th><th>Product_Rank</th><th>Category_Quintile</th></tr><tr><td>Accessories</td><td>Water Bottle - 30 oz.</td><td>18752</td><td>1</td><td>1</td></tr><tr><td>Accessories</td><td>Sport-100 Helmet, Blue</td><td>15450</td><td>2</td><td>1</td></tr><tr><td>Accessories</td><td>Sport-100 Helmet, Red</td><td>15415</td><td>3</td><td>1</td></tr><tr><td>Accessories</td><td>Sport-100 Helmet, Black</td><td>15035</td><td>4</td><td>1</td></tr><tr><td>Accessories</td><td>Patch Kit/8 Patches</td><td>6708</td><td>5</td><td>1</td></tr><tr><td>Accessories</td><td>Bike Wash - Dissolver</td><td>5308</td><td>6</td><td>2</td></tr><tr><td>Accessories</td><td>Hydration Pack - 70 oz.</td><td>3222</td><td>7</td><td>2</td></tr><tr><td>Accessories</td><td>Hitch Rack - 4-Bike</td><td>3184</td><td>8</td><td>2</td></tr><tr><td>Accessories</td><td>Mountain Tire Tube</td><td>3095</td><td>9</td><td>2</td></tr><tr><td>Accessories</td><td>HL Mountain Tire</td><td>2792</td><td>10</td><td>2</td></tr><tr><td>Accessories</td><td>Road Tire Tube</td><td>2376</td><td>11</td><td>3</td></tr><tr><td>Accessories</td><td>ML Mountain Tire</td><td>2322</td><td>12</td><td>3</td></tr><tr><td>Accessories</td><td>Fender Set - Mountain</td><td>2121</td><td>13</td><td>3</td></tr><tr><td>Accessories</td><td>Mountain Bottle Cage</td><td>2025</td><td>14</td><td>3</td></tr><tr><td>Accessories</td><td>LL Mountain Tire</td><td>1724</td><td>15</td><td>3</td></tr><tr><td>Accessories</td><td>Road Bottle Cage</td><td>1712</td><td>16</td><td>4</td></tr><tr><td>Accessories</td><td>Touring Tire Tube</td><td>1488</td><td>17</td><td>4</td></tr><tr><td>Accessories</td><td>LL Road Tire</td><td>1044</td><td>18</td><td>4</td></tr><tr><td>Accessories</td><td>Touring Tire</td><td>935</td><td>19</td><td>4</td></tr><tr><td>Accessories</td><td>ML Road Tire</td><td>926</td><td>20</td><td>4</td></tr><tr><td>Accessories</td><td>HL Road Tire</td><td>858</td><td>21</td><td>5</td></tr><tr><td>Accessories</td><td>Minipump</td><td>534</td><td>22</td><td>5</td></tr><tr><td>Accessories</td><td>Cable Lock</td><td>520</td><td>23</td><td>5</td></tr><tr><td>Accessories</td><td>All-Purpose Bike Stand</td><td>249</td><td>24</td><td>5</td></tr><tr><td>Bikes</td><td>Mountain-200 Black, 38</td><td>5008</td><td>1</td><td>1</td></tr><tr><td>Bikes</td><td>Mountain-200 Black, 42</td><td>3531</td><td>2</td><td>1</td></tr><tr><td>Bikes</td><td>Mountain-200 Black, 46</td><td>3177</td><td>3</td><td>1</td></tr><tr><td>Bikes</td><td>Mountain-200 Silver, 42</td><td>3120</td><td>4</td><td>1</td></tr><tr><td>Bikes</td><td>Road-650 Red, 44</td><td>2756</td><td>5</td><td>1</td></tr><tr><td>Bikes</td><td>Road-350-W Yellow, 48</td><td>2264</td><td>6</td><td>1</td></tr><tr><td>Bikes</td><td>Mountain-200 Silver, 38</td><td>2188</td><td>7</td><td>1</td></tr><tr><td>Bikes</td><td>Road-550-W Yellow, 48</td><td>2169</td><td>8</td><td>1</td></tr><tr><td>Bikes</td><td>Road-250 Black, 48</td><td>2136</td><td>9</td><td>1</td></tr><tr><td>Bikes</td><td>Road-650 Black, 52</td><td>2109</td><td>10</td><td>1</td></tr><tr><td>Bikes</td><td>Mountain-200 Silver, 46</td><td>2108</td><td>11</td><td>1</td></tr><tr><td>Bikes</td><td>Road-750 Black, 48</td><td>2055</td><td>12</td><td>1</td></tr><tr><td>Bikes</td><td>Road-650 Red, 60</td><td>2040</td><td>13</td><td>1</td></tr><tr><td>Bikes</td><td>Road-650 Red, 48</td><td>1947</td><td>14</td><td>1</td></tr><tr><td>Bikes</td><td>Road-650 Black, 58</td><td>1926</td><td>15</td><td>1</td></tr><tr><td>Bikes</td><td>Road-650 Red, 62</td><td>1914</td><td>16</td><td>1</td></tr><tr><td>Bikes</td><td>Touring-1000 Yellow, 46</td><td>1760</td><td>17</td><td>1</td></tr><tr><td>Bikes</td><td>Touring-1000 Yellow, 60</td><td>1732</td><td>18</td><td>1</td></tr><tr><td>Bikes</td><td>Road-350-W Yellow, 40</td><td>1719</td><td>19</td><td>1</td></tr><tr><td>Bikes</td><td>Road-550-W Yellow, 38</td><td>1450</td><td>20</td><td>1</td></tr><tr><td>Bikes</td><td>Road-250 Black, 44</td><td>1410</td><td>21</td><td>2</td></tr><tr><td>Bikes</td><td>Road-750 Black, 52</td><td>1392</td><td>22</td><td>2</td></tr><tr><td>Bikes</td><td>Road-550-W Yellow, 40</td><td>1374</td><td>23</td><td>2</td></tr><tr><td>Bikes</td><td>Road-350-W Yellow, 42</td><td>1365</td><td>24</td><td>2</td></tr><tr><td>Bikes</td><td>Touring-1000 Blue, 46</td><td>1326</td><td>25</td><td>2</td></tr><tr><td>Bikes</td><td>Touring-1000 Blue, 60</td><td>1317</td><td>26</td><td>2</td></tr><tr><td>Bikes</td><td>Touring-3000 Blue, 50</td><td>1224</td><td>27</td><td>2</td></tr><tr><td>Bikes</td><td>Touring-2000 Blue, 54</td><td>1140</td><td>28</td><td>2</td></tr><tr><td>Bikes</td><td>Road-250 Red, 44</td><td>1092</td><td>29</td><td>2</td></tr><tr><td>Bikes</td><td>Touring-3000 Yellow, 62</td><td>957</td><td>30</td><td>2</td></tr><tr><td>Bikes</td><td>Touring-3000 Yellow, 44</td><td>954</td><td>31</td><td>2</td></tr><tr><td>Bikes</td><td>Road-650 Black, 60</td><td>920</td><td>32</td><td>2</td></tr><tr><td>Bikes</td><td>Road-650 Black, 44</td><td>882</td><td>33</td><td>2</td></tr><tr><td>Bikes</td><td>Road-250 Red, 48</td><td>754</td><td>34</td><td>2</td></tr><tr><td>Bikes</td><td>Mountain-100 Black, 44</td><td>726</td><td>35</td><td>2</td></tr><tr><td>Bikes</td><td>Mountain-100 Black, 38</td><td>702</td><td>36</td><td>2</td></tr><tr><td>Bikes</td><td>Mountain-100 Silver, 44</td><td>699</td><td>37</td><td>2</td></tr><tr><td>Bikes</td><td>Touring-2000 Blue, 60</td><td>692</td><td>38</td><td>2</td></tr><tr><td>Bikes</td><td>Touring-1000 Yellow, 50</td><td>684</td><td>39</td><td>2</td></tr><tr><td>Bikes</td><td>Mountain-100 Black, 42</td><td>684</td><td>39</td><td>2</td></tr><tr><td>Bikes</td><td>Road-250 Black, 52</td><td>667</td><td>41</td><td>3</td></tr><tr><td>Bikes</td><td>Mountain-100 Silver, 42</td><td>663</td><td>42</td><td>3</td></tr><tr><td>Bikes</td><td>Road-550-W Yellow, 42</td><td>648</td><td>43</td><td>3</td></tr><tr><td>Bikes</td><td>Mountain-400-W Silver, 40</td><td>602</td><td>44</td><td>3</td></tr><tr><td>Bikes</td><td>Touring-2000 Blue, 46</td><td>566</td><td>45</td><td>3</td></tr><tr><td>Bikes</td><td>Touring-3000 Blue, 54</td><td>562</td><td>46</td><td>3</td></tr><tr><td>Bikes</td><td>Touring-3000 Yellow, 50</td><td>560</td><td>47</td><td>3</td></tr><tr><td>Bikes</td><td>Touring-1000 Yellow, 54</td><td>542</td><td>48</td><td>3</td></tr><tr><td>Bikes</td><td>Road-750 Black, 58</td><td>537</td><td>49</td><td>3</td></tr><tr><td>Bikes</td><td>Road-250 Red, 58</td><td>526</td><td>50</td><td>3</td></tr><tr><td>Bikes</td><td>Road-550-W Yellow, 44</td><td>495</td><td>51</td><td>3</td></tr><tr><td>Bikes</td><td>Road-250 Black, 58</td><td>486</td><td>52</td><td>3</td></tr><tr><td>Bikes</td><td>Mountain-100 Black, 48</td><td>486</td><td>52</td><td>3</td></tr><tr><td>Bikes</td><td>Mountain-100 Silver, 38</td><td>482</td><td>54</td><td>3</td></tr><tr><td>Bikes</td><td>Mountain-400-W Silver, 46</td><td>478</td><td>55</td><td>3</td></tr><tr><td>Bikes</td><td>Touring-3000 Blue, 58</td><td>478</td><td>55</td><td>3</td></tr><tr><td>Bikes</td><td>Road-150 Red, 56</td><td>475</td><td>57</td><td>3</td></tr><tr><td>Bikes</td><td>Mountain-500 Silver, 52</td><td>472</td><td>58</td><td>3</td></tr><tr><td>Bikes</td><td>Road-150 Red, 62</td><td>470</td><td>59</td><td>3</td></tr><tr><td>Bikes</td><td>Road-750 Black, 44</td><td>466</td><td>60</td><td>4</td></tr><tr><td>Bikes</td><td>Mountain-500 Silver, 48</td><td>456</td><td>61</td><td>4</td></tr><tr><td>Bikes</td><td>Touring-3000 Yellow, 54</td><td>454</td><td>62</td><td>4</td></tr><tr><td>Bikes</td><td>Road-450 Red, 58</td><td>452</td><td>63</td><td>4</td></tr><tr><td>Bikes</td><td>Mountain-300 Black, 40</td><td>446</td><td>64</td><td>4</td></tr><tr><td>Bikes</td><td>Mountain-300 Black, 48</td><td>446</td><td>64</td><td>4</td></tr><tr><td>Bikes</td><td>Mountain-500 Silver, 40</td><td>442</td><td>66</td><td>4</td></tr><tr><td>Bikes</td><td>Mountain-500 Silver, 42</td><td>442</td><td>66</td><td>4</td></tr><tr><td>Bikes</td><td>Mountain-300 Black, 38</td><td>440</td><td>68</td><td>4</td></tr><tr><td>Bikes</td><td>Road-650 Red, 52</td><td>440</td><td>68</td><td>4</td></tr><tr><td>Bikes</td><td>Road-150 Red, 48</td><td>409</td><td>70</td><td>4</td></tr><tr><td>Bikes</td><td>Mountain-100 Silver, 48</td><td>408</td><td>71</td><td>4</td></tr><tr><td>Bikes</td><td>Mountain-500 Silver, 44</td><td>390</td><td>72</td><td>4</td></tr><tr><td>Bikes</td><td>Road-150 Red, 52</td><td>378</td><td>73</td><td>4</td></tr><tr><td>Bikes</td><td>Road-150 Red, 44</td><td>358</td><td>74</td><td>4</td></tr><tr><td>Bikes</td><td>Touring-1000 Blue, 50</td><td>336</td><td>75</td><td>4</td></tr><tr><td>Bikes</td><td>Road-350-W Yellow, 44</td><td>332</td><td>76</td><td>4</td></tr><tr><td>Bikes</td><td>Touring-3000 Yellow, 58</td><td>318</td><td>77</td><td>4</td></tr><tr><td>Bikes</td><td>Touring-3000 Blue, 44</td><td>314</td><td>78</td><td>4</td></tr><tr><td>Bikes</td><td>Touring-3000 Blue, 62</td><td>314</td><td>78</td><td>5</td></tr><tr><td>Bikes</td><td>Road-250 Red, 52</td><td>314</td><td>78</td><td>5</td></tr><tr><td>Bikes</td><td>Road-650 Black, 48</td><td>293</td><td>81</td><td>5</td></tr><tr><td>Bikes</td><td>Road-650 Black, 62</td><td>293</td><td>81</td><td>5</td></tr><tr><td>Bikes</td><td>Road-650 Red, 58</td><td>282</td><td>83</td><td>5</td></tr><tr><td>Bikes</td><td>Touring-1000 Blue, 54</td><td>277</td><td>84</td><td>5</td></tr><tr><td>Bikes</td><td>Road-450 Red, 52</td><td>267</td><td>85</td><td>5</td></tr><tr><td>Bikes</td><td>Mountain-400-W Silver, 38</td><td>253</td><td>86</td><td>5</td></tr><tr><td>Bikes</td><td>Mountain-500 Black, 48</td><td>232</td><td>87</td><td>5</td></tr><tr><td>Bikes</td><td>Mountain-400-W Silver, 42</td><td>231</td><td>88</td><td>5</td></tr><tr><td>Bikes</td><td>Mountain-300 Black, 44</td><td>228</td><td>89</td><td>5</td></tr><tr><td>Bikes</td><td>Touring-2000 Blue, 50</td><td>198</td><td>90</td><td>5</td></tr><tr><td>Bikes</td><td>Mountain-500 Black, 42</td><td>195</td><td>91</td><td>5</td></tr><tr><td>Bikes</td><td>Mountain-500 Black, 44</td><td>193</td><td>92</td><td>5</td></tr><tr><td>Bikes</td><td>Road-450 Red, 44</td><td>171</td><td>93</td><td>5</td></tr><tr><td>Bikes</td><td>Road-450 Red, 60</td><td>164</td><td>94</td><td>5</td></tr><tr><td>Bikes</td><td>Mountain-500 Black, 40</td><td>150</td><td>95</td><td>5</td></tr><tr><td>Bikes</td><td>Mountain-500 Black, 52</td><td>146</td><td>96</td><td>5</td></tr><tr><td>Bikes</td><td>Road-450 Red, 48</td><td>77</td><td>97</td><td>5</td></tr><tr><td>Clothing</td><td>AWC Logo Cap</td><td>13528</td><td>1</td><td>1</td></tr><tr><td>Clothing</td><td>Long-Sleeve Logo Jersey, L</td><td>6540</td><td>2</td><td>1</td></tr><tr><td>Clothing</td><td>Long-Sleeve Logo Jersey, M</td><td>3654</td><td>3</td><td>1</td></tr><tr><td>Clothing</td><td>Short-Sleeve Classic Jersey, XL</td><td>3616</td><td>4</td><td>1</td></tr><tr><td>Clothing</td><td>Women&#39;s Mountain Shorts, L</td><td>3535</td><td>5</td><td>1</td></tr><tr><td>Clothing</td><td>Half-Finger Gloves, M</td><td>3258</td><td>6</td><td>1</td></tr><tr><td>Clothing</td><td>Classic Vest, S</td><td>2728</td><td>7</td><td>1</td></tr><tr><td>Clothing</td><td>Half-Finger Gloves, S</td><td>2649</td><td>8</td><td>2</td></tr><tr><td>Clothing</td><td>Women&#39;s Mountain Shorts, S</td><td>2592</td><td>9</td><td>2</td></tr><tr><td>Clothing</td><td>Racing Socks, L</td><td>2416</td><td>10</td><td>2</td></tr><tr><td>Clothing</td><td>Short-Sleeve Classic Jersey, L</td><td>2415</td><td>11</td><td>2</td></tr><tr><td>Clothing</td><td>Long-Sleeve Logo Jersey, XL</td><td>2152</td><td>12</td><td>2</td></tr><tr><td>Clothing</td><td>Short-Sleeve Classic Jersey, S</td><td>2151</td><td>13</td><td>2</td></tr><tr><td>Clothing</td><td>Full-Finger Gloves, L</td><td>1820</td><td>14</td><td>2</td></tr><tr><td>Clothing</td><td>Women&#39;s Tights, S</td><td>1688</td><td>15</td><td>3</td></tr><tr><td>Clothing</td><td>Classic Vest, M</td><td>1665</td><td>16</td><td>3</td></tr><tr><td>Clothing</td><td>Full-Finger Gloves, M</td><td>1436</td><td>17</td><td>3</td></tr><tr><td>Clothing</td><td>Half-Finger Gloves, L</td><td>1346</td><td>18</td><td>3</td></tr><tr><td>Clothing</td><td>Women&#39;s Tights, L</td><td>1323</td><td>19</td><td>3</td></tr><tr><td>Clothing</td><td>Racing Socks, M</td><td>1186</td><td>20</td><td>3</td></tr><tr><td>Clothing</td><td>Men&#39;s Bib-Shorts, M</td><td>1059</td><td>21</td><td>3</td></tr><tr><td>Clothing</td><td>Men&#39;s Sports Shorts, M</td><td>849</td><td>22</td><td>4</td></tr><tr><td>Clothing</td><td>Mountain Bike Socks, M</td><td>752</td><td>23</td><td>4</td></tr><tr><td>Clothing</td><td>Women&#39;s Mountain Shorts, M</td><td>681</td><td>24</td><td>4</td></tr><tr><td>Clothing</td><td>Men&#39;s Bib-Shorts, S</td><td>462</td><td>25</td><td>4</td></tr><tr><td>Clothing</td><td>Long-Sleeve Logo Jersey, S</td><td>429</td><td>26</td><td>4</td></tr><tr><td>Clothing</td><td>Short-Sleeve Classic Jersey, M</td><td>407</td><td>27</td><td>4</td></tr><tr><td>Clothing</td><td>Men&#39;s Sports Shorts, S</td><td>320</td><td>28</td><td>4</td></tr><tr><td>Clothing</td><td>Full-Finger Gloves, S</td><td>240</td><td>29</td><td>5</td></tr><tr><td>Clothing</td><td>Classic Vest, L</td><td>201</td><td>30</td><td>5</td></tr><tr><td>Clothing</td><td>Men&#39;s Bib-Shorts, L</td><td>178</td><td>31</td><td>5</td></tr><tr><td>Clothing</td><td>Men&#39;s Sports Shorts, L</td><td>131</td><td>32</td><td>5</td></tr><tr><td>Clothing</td><td>Women&#39;s Tights, M</td><td>114</td><td>33</td><td>5</td></tr><tr><td>Clothing</td><td>Mountain Bike Socks, L</td><td>44</td><td>34</td><td>5</td></tr><tr><td>Components</td><td>LL Road Frame - Black, 52</td><td>1800</td><td>1</td><td>1</td></tr><tr><td>Components</td><td>ML Road Frame-W - Yellow, 44</td><td>1467</td><td>2</td><td>1</td></tr><tr><td>Components</td><td>LL Road Frame - Red, 44</td><td>1122</td><td>3</td><td>1</td></tr><tr><td>Components</td><td>ML Mountain Handlebars</td><td>1014</td><td>4</td><td>1</td></tr><tr><td>Components</td><td>HL Mountain Frame - Silver, 38</td><td>982</td><td>5</td><td>1</td></tr><tr><td>Components</td><td>LL Mountain Handlebars</td><td>903</td><td>6</td><td>1</td></tr><tr><td>Components</td><td>LL Road Frame - Red, 62</td><td>864</td><td>7</td><td>1</td></tr><tr><td>Components</td><td>ML Mountain Rear Wheel</td><td>795</td><td>8</td><td>1</td></tr><tr><td>Components</td><td>LL Road Frame - Black, 58</td><td>784</td><td>9</td><td>1</td></tr><tr><td>Components</td><td>HL Mountain Rear Wheel</td><td>774</td><td>10</td><td>1</td></tr><tr><td>Components</td><td>HL Mountain Pedal</td><td>765</td><td>11</td><td>1</td></tr><tr><td>Components</td><td>LL Road Frame - Red, 60</td><td>750</td><td>12</td><td>1</td></tr><tr><td>Components</td><td>LL Road Pedal</td><td>618</td><td>13</td><td>1</td></tr><tr><td>Components</td><td>LL Road Frame - Red, 48</td><td>576</td><td>14</td><td>1</td></tr><tr><td>Components</td><td>Front Brakes</td><td>532</td><td>15</td><td>1</td></tr><tr><td>Components</td><td>ML Road Pedal</td><td>530</td><td>16</td><td>1</td></tr><tr><td>Components</td><td>HL Road Pedal</td><td>528</td><td>17</td><td>1</td></tr><tr><td>Components</td><td>Front Derailleur</td><td>514</td><td>18</td><td>1</td></tr><tr><td>Components</td><td>ML Mountain Frame - Black, 48</td><td>512</td><td>19</td><td>1</td></tr><tr><td>Components</td><td>HL Touring Frame - Blue, 54</td><td>507</td><td>20</td><td>1</td></tr><tr><td>Components</td><td>ML Mountain Frame-W - Silver, 40</td><td>506</td><td>21</td><td>1</td></tr><tr><td>Components</td><td>Chain</td><td>500</td><td>22</td><td>1</td></tr><tr><td>Components</td><td>HL Mountain Frame - Black, 42</td><td>481</td><td>23</td><td>1</td></tr><tr><td>Components</td><td>LL Mountain Front Wheel</td><td>464</td><td>24</td><td>2</td></tr><tr><td>Components</td><td>LL Mountain Frame - Black, 44</td><td>454</td><td>25</td><td>2</td></tr><tr><td>Components</td><td>LL Mountain Frame - Silver, 42</td><td>448</td><td>26</td><td>2</td></tr><tr><td>Components</td><td>HL Crankset</td><td>438</td><td>27</td><td>2</td></tr><tr><td>Components</td><td>HL Touring Frame - Blue, 60</td><td>420</td><td>28</td><td>2</td></tr><tr><td>Components</td><td>LL Mountain Pedal</td><td>390</td><td>29</td><td>2</td></tr><tr><td>Components</td><td>ML Road Frame-W - Yellow, 38</td><td>356</td><td>30</td><td>2</td></tr><tr><td>Components</td><td>ML Road Frame-W - Yellow, 48</td><td>350</td><td>31</td><td>2</td></tr><tr><td>Components</td><td>ML Headset</td><td>330</td><td>32</td><td>2</td></tr><tr><td>Components</td><td>LL Mountain Frame - Silver, 40</td><td>328</td><td>33</td><td>2</td></tr><tr><td>Components</td><td>HL Touring Frame - Yellow, 54</td><td>322</td><td>34</td><td>2</td></tr><tr><td>Components</td><td>ML Mountain Pedal</td><td>316</td><td>35</td><td>2</td></tr><tr><td>Components</td><td>LL Mountain Seat/Saddle</td><td>306</td><td>36</td><td>2</td></tr><tr><td>Components</td><td>LL Road Rear Wheel</td><td>305</td><td>37</td><td>2</td></tr><tr><td>Components</td><td>HL Mountain Frame - Black, 38</td><td>289</td><td>38</td><td>2</td></tr><tr><td>Components</td><td>HL Mountain Frame - Silver, 46</td><td>288</td><td>39</td><td>2</td></tr><tr><td>Components</td><td>ML Mountain Seat/Saddle</td><td>276</td><td>40</td><td>2</td></tr><tr><td>Components</td><td>HL Touring Frame - Yellow, 60</td><td>270</td><td>41</td><td>2</td></tr><tr><td>Components</td><td>HL Road Handlebars</td><td>270</td><td>41</td><td>2</td></tr><tr><td>Components</td><td>LL Touring Frame - Yellow, 62</td><td>260</td><td>43</td><td>2</td></tr><tr><td>Components</td><td>LL Touring Frame - Yellow, 44</td><td>234</td><td>44</td><td>2</td></tr><tr><td>Components</td><td>HL Fork</td><td>234</td><td>44</td><td>2</td></tr><tr><td>Components</td><td>ML Mountain Frame-W - Silver, 42</td><td>230</td><td>46</td><td>3</td></tr><tr><td>Components</td><td>ML Mountain Frame - Black, 38</td><td>226</td><td>47</td><td>3</td></tr><tr><td>Components</td><td>HL Mountain Seat/Saddle</td><td>222</td><td>48</td><td>3</td></tr><tr><td>Components</td><td>LL Road Frame - Black, 44</td><td>220</td><td>49</td><td>3</td></tr><tr><td>Components</td><td>HL Road Frame - Red, 44</td><td>219</td><td>50</td><td>3</td></tr><tr><td>Components</td><td>HL Road Frame - Red, 62</td><td>218</td><td>51</td><td>3</td></tr><tr><td>Components</td><td>HL Bottom Bracket</td><td>218</td><td>51</td><td>3</td></tr><tr><td>Components</td><td>HL Mountain Handlebars</td><td>216</td><td>53</td><td>3</td></tr><tr><td>Components</td><td>HL Road Front Wheel</td><td>206</td><td>54</td><td>3</td></tr><tr><td>Components</td><td>HL Road Frame - Black, 44</td><td>201</td><td>55</td><td>3</td></tr><tr><td>Components</td><td>ML Mountain Frame - Black, 44</td><td>198</td><td>56</td><td>3</td></tr><tr><td>Components</td><td>ML Road Front Wheel</td><td>195</td><td>57</td><td>3</td></tr><tr><td>Components</td><td>HL Touring Seat/Saddle</td><td>177</td><td>58</td><td>3</td></tr><tr><td>Components</td><td>LL Crankset</td><td>176</td><td>59</td><td>3</td></tr><tr><td>Components</td><td>HL Mountain Frame - Silver, 42</td><td>167</td><td>60</td><td>3</td></tr><tr><td>Components</td><td>LL Mountain Frame - Black, 48</td><td>164</td><td>61</td><td>3</td></tr><tr><td>Components</td><td>LL Mountain Frame - Black, 42</td><td>162</td><td>62</td><td>3</td></tr><tr><td>Components</td><td>LL Mountain Frame - Silver, 44</td><td>159</td><td>63</td><td>3</td></tr><tr><td>Components</td><td>LL Mountain Frame - Silver, 52</td><td>159</td><td>63</td><td>3</td></tr><tr><td>Components</td><td>LL Bottom Bracket</td><td>150</td><td>65</td><td>3</td></tr><tr><td>Components</td><td>LL Mountain Rear Wheel</td><td>148</td><td>66</td><td>3</td></tr><tr><td>Components</td><td>Rear Derailleur</td><td>145</td><td>67</td><td>3</td></tr><tr><td>Components</td><td>Touring Pedal</td><td>142</td><td>68</td><td>4</td></tr><tr><td>Components</td><td>ML Road Frame - Red, 48</td><td>130</td><td>69</td><td>4</td></tr><tr><td>Components</td><td>LL Touring Frame - Blue, 50</td><td>126</td><td>70</td><td>4</td></tr><tr><td>Components</td><td>ML Mountain Front Wheel</td><td>114</td><td>71</td><td>4</td></tr><tr><td>Components</td><td>Rear Brakes</td><td>113</td><td>72</td><td>4</td></tr><tr><td>Components</td><td>LL Touring Frame - Yellow, 50</td><td>110</td><td>73</td><td>4</td></tr><tr><td>Components</td><td>HL Headset</td><td>110</td><td>73</td><td>4</td></tr><tr><td>Components</td><td>HL Touring Handlebars</td><td>109</td><td>75</td><td>4</td></tr><tr><td>Components</td><td>HL Mountain Front Wheel</td><td>104</td><td>76</td><td>4</td></tr><tr><td>Components</td><td>LL Road Frame - Black, 60</td><td>104</td><td>76</td><td>4</td></tr><tr><td>Components</td><td>LL Touring Frame - Blue, 54</td><td>99</td><td>78</td><td>4</td></tr><tr><td>Components</td><td>LL Road Handlebars</td><td>98</td><td>79</td><td>4</td></tr><tr><td>Components</td><td>LL Road Frame - Red, 52</td><td>96</td><td>80</td><td>4</td></tr><tr><td>Components</td><td>HL Mountain Frame - Silver, 48</td><td>94</td><td>81</td><td>4</td></tr><tr><td>Components</td><td>ML Road Frame-W - Yellow, 40</td><td>88</td><td>82</td><td>4</td></tr><tr><td>Components</td><td>ML Mountain Frame-W - Silver, 46</td><td>87</td><td>83</td><td>4</td></tr><tr><td>Components</td><td>LL Fork</td><td>83</td><td>84</td><td>4</td></tr><tr><td>Components</td><td>HL Mountain Frame - Black, 48</td><td>76</td><td>85</td><td>4</td></tr><tr><td>Components</td><td>HL Road Seat/Saddle</td><td>60</td><td>86</td><td>4</td></tr><tr><td>Components</td><td>HL Touring Frame - Blue, 46</td><td>58</td><td>87</td><td>4</td></tr><tr><td>Components</td><td>HL Touring Frame - Blue, 50</td><td>58</td><td>87</td><td>4</td></tr><tr><td>Components</td><td>HL Road Frame - Black, 48</td><td>47</td><td>89</td><td>4</td></tr><tr><td>Components</td><td>HL Road Rear Wheel</td><td>46</td><td>90</td><td>5</td></tr><tr><td>Components</td><td>LL Headset</td><td>46</td><td>90</td><td>5</td></tr><tr><td>Components</td><td>HL Road Frame - Red, 48</td><td>44</td><td>92</td><td>5</td></tr><tr><td>Components</td><td>ML Road Frame - Red, 52</td><td>44</td><td>92</td><td>5</td></tr><tr><td>Components</td><td>LL Touring Seat/Saddle</td><td>43</td><td>94</td><td>5</td></tr><tr><td>Components</td><td>ML Touring Seat/Saddle</td><td>41</td><td>95</td><td>5</td></tr><tr><td>Components</td><td>HL Touring Frame - Yellow, 46</td><td>41</td><td>95</td><td>5</td></tr><tr><td>Components</td><td>HL Touring Frame - Yellow, 50</td><td>39</td><td>97</td><td>5</td></tr><tr><td>Components</td><td>ML Mountain Frame - Black, 40</td><td>33</td><td>98</td><td>5</td></tr><tr><td>Components</td><td>ML Road Rear Wheel</td><td>31</td><td>99</td><td>5</td></tr><tr><td>Components</td><td>LL Touring Handlebars</td><td>30</td><td>100</td><td>5</td></tr><tr><td>Components</td><td>ML Crankset</td><td>28</td><td>101</td><td>5</td></tr><tr><td>Components</td><td>LL Touring Frame - Yellow, 58</td><td>20</td><td>102</td><td>5</td></tr><tr><td>Components</td><td>LL Mountain Frame - Silver, 48</td><td>16</td><td>103</td><td>5</td></tr><tr><td>Components</td><td>LL Touring Frame - Blue, 44</td><td>14</td><td>104</td><td>5</td></tr><tr><td>Components</td><td>HL Mountain Frame - Black, 44</td><td>13</td><td>105</td><td>5</td></tr><tr><td>Components</td><td>LL Mountain Frame - Black, 52</td><td>9</td><td>106</td><td>5</td></tr><tr><td>Components</td><td>LL Touring Frame - Blue, 62</td><td>9</td><td>106</td><td>5</td></tr><tr><td>Components</td><td>LL Road Seat/Saddle</td><td>6</td><td>108</td><td>5</td></tr><tr><td>Components</td><td>LL Mountain Frame - Black, 40</td><td>6</td><td>108</td><td>5</td></tr><tr><td>Components</td><td>ML Mountain Frame-W - Silver, 38</td><td>5</td><td>110</td><td>5</td></tr><tr><td>Components</td><td>LL Touring Frame - Blue, 58</td><td>2</td><td>111</td><td>5</td></tr></table>"
                    },
                    "metadata": {}
                }
            ],
            "execution_count": 132
        }
    ]
}