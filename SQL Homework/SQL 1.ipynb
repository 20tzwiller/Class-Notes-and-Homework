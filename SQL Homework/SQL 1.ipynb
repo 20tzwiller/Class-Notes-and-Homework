{
    "metadata": {
        "kernelspec": {
            "name": "SQL",
            "display_name": "SQL",
            "language": "sql"
        },
        "language_info": {
            "name": "sql",
            "version": ""
        }
    },
    "nbformat_minor": 2,
    "nbformat": 4,
    "cells": [
        {
            "cell_type": "markdown",
            "source": [
                "<span style=\"font-size: 12pt; font-family: &quot;Times New Roman&quot;, serif; color: rgb(0, 0, 0); background-color: transparent; font-variant-numeric: normal; font-variant-east-asian: normal; font-variant-alternates: normal; text-decoration-line: underline; text-decoration-skip-ink: none; vertical-align: baseline; white-space-collapse: preserve;\">Part A</span>\n",
                "\n",
                "<span style=\"font-size: 12pt; font-family: &quot;Times New Roman&quot;, serif; color: rgb(0, 0, 0); background-color: transparent; font-variant-numeric: normal; font-variant-east-asian: normal; font-variant-alternates: normal; vertical-align: baseline; white-space-collapse: preserve;\">The first step in the succession planning exercise is to come up with a list of all of the job titles of employees in the company.&nbsp; Produce a list of unique job titles sorted in alphabetical order.</span>\n",
                "\n",
                "<span style=\"font-size: 12pt; font-family: &quot;Times New Roman&quot;, serif; color: rgb(0, 0, 0); background-color: transparent; font-variant-numeric: normal; font-variant-east-asian: normal; font-variant-alternates: normal; vertical-align: baseline; white-space-collapse: preserve;\"><br></span>"
            ],
            "metadata": {
                "azdata_cell_guid": "066e3cf5-98f7-4da9-ab29-a98a7c3bfe4b"
            },
            "attachments": {}
        },
        {
            "cell_type": "code",
            "source": [
                "--Question 1A\n",
                "SELECT DISTINCT JobTitle --Distinct makes sure that it only returns unique values\n",
                "FROM HumanResources.Employee --picks right schema and table\n",
                "ORDER BY JobTitle ASC --orders alphabetically "
            ],
            "metadata": {
                "azdata_cell_guid": "af1cf7f4-60aa-4404-9db0-a8d3a85d216a",
                "language": "sql"
            },
            "outputs": [
                {
                    "output_type": "display_data",
                    "data": {
                        "text/html": "(67 rows affected)"
                    },
                    "metadata": {}
                },
                {
                    "output_type": "display_data",
                    "data": {
                        "text/html": "Total execution time: 00:00:00.035"
                    },
                    "metadata": {}
                },
                {
                    "output_type": "execute_result",
                    "execution_count": 5,
                    "data": {
                        "application/vnd.dataresource+json": {
                            "schema": {
                                "fields": [
                                    {
                                        "name": "JobTitle"
                                    }
                                ]
                            },
                            "data": [
                                {
                                    "JobTitle": "Accountant"
                                },
                                {
                                    "JobTitle": "Accounts Manager"
                                },
                                {
                                    "JobTitle": "Accounts Payable Specialist"
                                },
                                {
                                    "JobTitle": "Accounts Receivable Specialist"
                                },
                                {
                                    "JobTitle": "Application Specialist"
                                },
                                {
                                    "JobTitle": "Assistant to the Chief Financial Officer"
                                },
                                {
                                    "JobTitle": "Benefits Specialist"
                                },
                                {
                                    "JobTitle": "Buyer"
                                },
                                {
                                    "JobTitle": "Chief Executive Officer"
                                },
                                {
                                    "JobTitle": "Chief Financial Officer"
                                },
                                {
                                    "JobTitle": "Control Specialist"
                                },
                                {
                                    "JobTitle": "Database Administrator"
                                },
                                {
                                    "JobTitle": "Design Engineer"
                                },
                                {
                                    "JobTitle": "Document Control Assistant"
                                },
                                {
                                    "JobTitle": "Document Control Manager"
                                },
                                {
                                    "JobTitle": "Engineering Manager"
                                },
                                {
                                    "JobTitle": "European Sales Manager"
                                },
                                {
                                    "JobTitle": "Facilities Administrative Assistant"
                                },
                                {
                                    "JobTitle": "Facilities Manager"
                                },
                                {
                                    "JobTitle": "Finance Manager"
                                },
                                {
                                    "JobTitle": "Human Resources Administrative Assistant"
                                },
                                {
                                    "JobTitle": "Human Resources Manager"
                                },
                                {
                                    "JobTitle": "Information Services Manager"
                                },
                                {
                                    "JobTitle": "Janitor"
                                },
                                {
                                    "JobTitle": "Maintenance Supervisor"
                                },
                                {
                                    "JobTitle": "Marketing Assistant"
                                },
                                {
                                    "JobTitle": "Marketing Manager"
                                },
                                {
                                    "JobTitle": "Marketing Specialist"
                                },
                                {
                                    "JobTitle": "Master Scheduler"
                                },
                                {
                                    "JobTitle": "Network Administrator"
                                },
                                {
                                    "JobTitle": "Network Manager"
                                },
                                {
                                    "JobTitle": "North American Sales Manager"
                                },
                                {
                                    "JobTitle": "Pacific Sales Manager"
                                },
                                {
                                    "JobTitle": "Production Control Manager"
                                },
                                {
                                    "JobTitle": "Production Supervisor - WC10"
                                },
                                {
                                    "JobTitle": "Production Supervisor - WC20"
                                },
                                {
                                    "JobTitle": "Production Supervisor - WC30"
                                },
                                {
                                    "JobTitle": "Production Supervisor - WC40"
                                },
                                {
                                    "JobTitle": "Production Supervisor - WC45"
                                },
                                {
                                    "JobTitle": "Production Supervisor - WC50"
                                },
                                {
                                    "JobTitle": "Production Supervisor - WC60"
                                },
                                {
                                    "JobTitle": "Production Technician - WC10"
                                },
                                {
                                    "JobTitle": "Production Technician - WC20"
                                },
                                {
                                    "JobTitle": "Production Technician - WC30"
                                },
                                {
                                    "JobTitle": "Production Technician - WC40"
                                },
                                {
                                    "JobTitle": "Production Technician - WC45"
                                },
                                {
                                    "JobTitle": "Production Technician - WC50"
                                },
                                {
                                    "JobTitle": "Production Technician - WC60"
                                },
                                {
                                    "JobTitle": "Purchasing Assistant"
                                },
                                {
                                    "JobTitle": "Purchasing Manager"
                                },
                                {
                                    "JobTitle": "Quality Assurance Manager"
                                },
                                {
                                    "JobTitle": "Quality Assurance Supervisor"
                                },
                                {
                                    "JobTitle": "Quality Assurance Technician"
                                },
                                {
                                    "JobTitle": "Recruiter"
                                },
                                {
                                    "JobTitle": "Research and Development Engineer"
                                },
                                {
                                    "JobTitle": "Research and Development Manager"
                                },
                                {
                                    "JobTitle": "Sales Representative"
                                },
                                {
                                    "JobTitle": "Scheduling Assistant"
                                },
                                {
                                    "JobTitle": "Senior Design Engineer"
                                },
                                {
                                    "JobTitle": "Senior Tool Designer"
                                },
                                {
                                    "JobTitle": "Shipping and Receiving Clerk"
                                },
                                {
                                    "JobTitle": "Shipping and Receiving Supervisor"
                                },
                                {
                                    "JobTitle": "Stocker"
                                },
                                {
                                    "JobTitle": "Tool Designer"
                                },
                                {
                                    "JobTitle": "Vice President of Engineering"
                                },
                                {
                                    "JobTitle": "Vice President of Production"
                                },
                                {
                                    "JobTitle": "Vice President of Sales"
                                }
                            ]
                        },
                        "text/html": "<table><tr><th>JobTitle</th></tr><tr><td>Accountant</td></tr><tr><td>Accounts Manager</td></tr><tr><td>Accounts Payable Specialist</td></tr><tr><td>Accounts Receivable Specialist</td></tr><tr><td>Application Specialist</td></tr><tr><td>Assistant to the Chief Financial Officer</td></tr><tr><td>Benefits Specialist</td></tr><tr><td>Buyer</td></tr><tr><td>Chief Executive Officer</td></tr><tr><td>Chief Financial Officer</td></tr><tr><td>Control Specialist</td></tr><tr><td>Database Administrator</td></tr><tr><td>Design Engineer</td></tr><tr><td>Document Control Assistant</td></tr><tr><td>Document Control Manager</td></tr><tr><td>Engineering Manager</td></tr><tr><td>European Sales Manager</td></tr><tr><td>Facilities Administrative Assistant</td></tr><tr><td>Facilities Manager</td></tr><tr><td>Finance Manager</td></tr><tr><td>Human Resources Administrative Assistant</td></tr><tr><td>Human Resources Manager</td></tr><tr><td>Information Services Manager</td></tr><tr><td>Janitor</td></tr><tr><td>Maintenance Supervisor</td></tr><tr><td>Marketing Assistant</td></tr><tr><td>Marketing Manager</td></tr><tr><td>Marketing Specialist</td></tr><tr><td>Master Scheduler</td></tr><tr><td>Network Administrator</td></tr><tr><td>Network Manager</td></tr><tr><td>North American Sales Manager</td></tr><tr><td>Pacific Sales Manager</td></tr><tr><td>Production Control Manager</td></tr><tr><td>Production Supervisor - WC10</td></tr><tr><td>Production Supervisor - WC20</td></tr><tr><td>Production Supervisor - WC30</td></tr><tr><td>Production Supervisor - WC40</td></tr><tr><td>Production Supervisor - WC45</td></tr><tr><td>Production Supervisor - WC50</td></tr><tr><td>Production Supervisor - WC60</td></tr><tr><td>Production Technician - WC10</td></tr><tr><td>Production Technician - WC20</td></tr><tr><td>Production Technician - WC30</td></tr><tr><td>Production Technician - WC40</td></tr><tr><td>Production Technician - WC45</td></tr><tr><td>Production Technician - WC50</td></tr><tr><td>Production Technician - WC60</td></tr><tr><td>Purchasing Assistant</td></tr><tr><td>Purchasing Manager</td></tr><tr><td>Quality Assurance Manager</td></tr><tr><td>Quality Assurance Supervisor</td></tr><tr><td>Quality Assurance Technician</td></tr><tr><td>Recruiter</td></tr><tr><td>Research and Development Engineer</td></tr><tr><td>Research and Development Manager</td></tr><tr><td>Sales Representative</td></tr><tr><td>Scheduling Assistant</td></tr><tr><td>Senior Design Engineer</td></tr><tr><td>Senior Tool Designer</td></tr><tr><td>Shipping and Receiving Clerk</td></tr><tr><td>Shipping and Receiving Supervisor</td></tr><tr><td>Stocker</td></tr><tr><td>Tool Designer</td></tr><tr><td>Vice President of Engineering</td></tr><tr><td>Vice President of Production</td></tr><tr><td>Vice President of Sales</td></tr></table>"
                    },
                    "metadata": {}
                }
            ],
            "execution_count": 5
        },
        {
            "cell_type": "markdown",
            "source": [
                "<span style=\"font-size: 12pt; font-family: &quot;Times New Roman&quot;, serif; color: rgb(0, 0, 0); background-color: transparent; font-variant-numeric: normal; font-variant-east-asian: normal; font-variant-alternates: normal; vertical-align: baseline; white-space-collapse: preserve;\">The Human Resources team would like to identify the job titles of employees in management roles.&nbsp; Revise your query from Part A to limit the results to those employees who have the word “Manager”, “Supervisor”, “Chief”, or “Vice President” in their titles.&nbsp; Be careful that your results only include employees who are in management roles.&nbsp; As with the previous query, you should produce a list of unique job titles sorted alphabetically.</span>"
            ],
            "metadata": {
                "azdata_cell_guid": "271679d2-02f2-4c23-8979-9327154e9367"
            },
            "attachments": {}
        },
        {
            "cell_type": "code",
            "source": [
                "--Question 1B\n",
                "SELECT DISTINCT JobTitle --only returns one\n",
                "FROM HumanResources.Employee --right table, schema \n",
                "WHERE (JobTitle LIKE '%Manager%' --finds jobs with manager\n",
                "or JobTitle LIKE '%Supervisor%' --finds jobs with supervisor\n",
                "or JobTitle LIKE '%Chief%' --finds jobs with chiefs\n",
                "or JobTitle LIKE '%Vice President%') --finds jobs with VP\n",
                "AND NOT JobTitle LIKE '%Assistant%' --prevents jobs with Assistant from being returned\n",
                "ORDER BY JobTitle ASC --alphabetical"
            ],
            "metadata": {
                "language": "sql",
                "azdata_cell_guid": "b45071e7-83c7-455d-a1e0-94ef5b777f00"
            },
            "outputs": [
                {
                    "output_type": "display_data",
                    "data": {
                        "text/html": "(31 rows affected)"
                    },
                    "metadata": {}
                },
                {
                    "output_type": "display_data",
                    "data": {
                        "text/html": "Total execution time: 00:00:00.041"
                    },
                    "metadata": {}
                },
                {
                    "output_type": "execute_result",
                    "execution_count": 4,
                    "data": {
                        "application/vnd.dataresource+json": {
                            "schema": {
                                "fields": [
                                    {
                                        "name": "JobTitle"
                                    }
                                ]
                            },
                            "data": [
                                {
                                    "JobTitle": "Accounts Manager"
                                },
                                {
                                    "JobTitle": "Chief Executive Officer"
                                },
                                {
                                    "JobTitle": "Chief Financial Officer"
                                },
                                {
                                    "JobTitle": "Document Control Manager"
                                },
                                {
                                    "JobTitle": "Engineering Manager"
                                },
                                {
                                    "JobTitle": "European Sales Manager"
                                },
                                {
                                    "JobTitle": "Facilities Manager"
                                },
                                {
                                    "JobTitle": "Finance Manager"
                                },
                                {
                                    "JobTitle": "Human Resources Manager"
                                },
                                {
                                    "JobTitle": "Information Services Manager"
                                },
                                {
                                    "JobTitle": "Maintenance Supervisor"
                                },
                                {
                                    "JobTitle": "Marketing Manager"
                                },
                                {
                                    "JobTitle": "Network Manager"
                                },
                                {
                                    "JobTitle": "North American Sales Manager"
                                },
                                {
                                    "JobTitle": "Pacific Sales Manager"
                                },
                                {
                                    "JobTitle": "Production Control Manager"
                                },
                                {
                                    "JobTitle": "Production Supervisor - WC10"
                                },
                                {
                                    "JobTitle": "Production Supervisor - WC20"
                                },
                                {
                                    "JobTitle": "Production Supervisor - WC30"
                                },
                                {
                                    "JobTitle": "Production Supervisor - WC40"
                                },
                                {
                                    "JobTitle": "Production Supervisor - WC45"
                                },
                                {
                                    "JobTitle": "Production Supervisor - WC50"
                                },
                                {
                                    "JobTitle": "Production Supervisor - WC60"
                                },
                                {
                                    "JobTitle": "Purchasing Manager"
                                },
                                {
                                    "JobTitle": "Quality Assurance Manager"
                                },
                                {
                                    "JobTitle": "Quality Assurance Supervisor"
                                },
                                {
                                    "JobTitle": "Research and Development Manager"
                                },
                                {
                                    "JobTitle": "Shipping and Receiving Supervisor"
                                },
                                {
                                    "JobTitle": "Vice President of Engineering"
                                },
                                {
                                    "JobTitle": "Vice President of Production"
                                },
                                {
                                    "JobTitle": "Vice President of Sales"
                                }
                            ]
                        },
                        "text/html": "<table><tr><th>JobTitle</th></tr><tr><td>Accounts Manager</td></tr><tr><td>Chief Executive Officer</td></tr><tr><td>Chief Financial Officer</td></tr><tr><td>Document Control Manager</td></tr><tr><td>Engineering Manager</td></tr><tr><td>European Sales Manager</td></tr><tr><td>Facilities Manager</td></tr><tr><td>Finance Manager</td></tr><tr><td>Human Resources Manager</td></tr><tr><td>Information Services Manager</td></tr><tr><td>Maintenance Supervisor</td></tr><tr><td>Marketing Manager</td></tr><tr><td>Network Manager</td></tr><tr><td>North American Sales Manager</td></tr><tr><td>Pacific Sales Manager</td></tr><tr><td>Production Control Manager</td></tr><tr><td>Production Supervisor - WC10</td></tr><tr><td>Production Supervisor - WC20</td></tr><tr><td>Production Supervisor - WC30</td></tr><tr><td>Production Supervisor - WC40</td></tr><tr><td>Production Supervisor - WC45</td></tr><tr><td>Production Supervisor - WC50</td></tr><tr><td>Production Supervisor - WC60</td></tr><tr><td>Purchasing Manager</td></tr><tr><td>Quality Assurance Manager</td></tr><tr><td>Quality Assurance Supervisor</td></tr><tr><td>Research and Development Manager</td></tr><tr><td>Shipping and Receiving Supervisor</td></tr><tr><td>Vice President of Engineering</td></tr><tr><td>Vice President of Production</td></tr><tr><td>Vice President of Sales</td></tr></table>"
                    },
                    "metadata": {}
                }
            ],
            "execution_count": 4
        },
        {
            "cell_type": "markdown",
            "source": [
                "<span style=\"font-size: 12pt; font-family: &quot;Times New Roman&quot;, serif; color: rgb(0, 0, 0); background-color: transparent; font-variant-numeric: normal; font-variant-east-asian: normal; font-variant-alternates: normal; vertical-align: baseline; white-space-collapse: preserve;\">The Human Resources team would like to know how many employees are in management roles (using the same four job titles as in Part B).&nbsp; Modify your query from Part B to return only the number of employees in those roles.&nbsp; Name the result “Managers”.</span>"
            ],
            "metadata": {
                "azdata_cell_guid": "84351c20-24cc-460e-b5cf-0255a7784fec"
            },
            "attachments": {}
        },
        {
            "cell_type": "code",
            "source": [
                "--Question 1C\n",
                "SELECT COUNT(JobTitle) AS 'Managers' --returns a numerical value as an alias \n",
                "FROM HumanResources.Employee --finds the right table\n",
                "WHERE (JobTitle LIKE '%Manager%' --finds jobs with manager\n",
                "or JobTitle LIKE '%Supervisor%' --finds jobs with supervisor\n",
                "or JobTitle LIKE '%Chief%' --finds jobs with chiefs\n",
                "or JobTitle LIKE '%Vice President%') --finds jobs with VP\n",
                "AND NOT JobTitle LIKE '%Assistant%' --prevents jobs with Assistant from being returned"
            ],
            "metadata": {
                "language": "sql",
                "azdata_cell_guid": "c9768629-b91b-4bd6-ae80-c41522d87145"
            },
            "outputs": [
                {
                    "output_type": "display_data",
                    "data": {
                        "text/html": "(1 row affected)"
                    },
                    "metadata": {}
                },
                {
                    "output_type": "display_data",
                    "data": {
                        "text/html": "Total execution time: 00:00:00.036"
                    },
                    "metadata": {}
                },
                {
                    "output_type": "execute_result",
                    "execution_count": 3,
                    "data": {
                        "application/vnd.dataresource+json": {
                            "schema": {
                                "fields": [
                                    {
                                        "name": "Managers"
                                    }
                                ]
                            },
                            "data": [
                                {
                                    "Managers": "46"
                                }
                            ]
                        },
                        "text/html": "<table><tr><th>Managers</th></tr><tr><td>46</td></tr></table>"
                    },
                    "metadata": {}
                }
            ],
            "execution_count": 3
        },
        {
            "cell_type": "markdown",
            "source": [
                "<span style=\"font-size: 12pt; font-family: &quot;Times New Roman&quot;, serif; color: rgb(0, 0, 0); background-color: transparent; font-variant-numeric: normal; font-variant-east-asian: normal; font-variant-alternates: normal; vertical-align: baseline; white-space-collapse: preserve;\">Using a single SQL query, produce a list of </span> <span style=\"font-size: 12pt; font-family: &quot;Times New Roman&quot;, serif; color: rgb(0, 0, 0); background-color: transparent; font-variant-numeric: normal; font-variant-east-asian: normal; font-variant-alternates: normal; text-decoration-line: underline; text-decoration-skip-ink: none; vertical-align: baseline; white-space-collapse: preserve;\">current</span> <span style=\"font-size: 12pt; font-family: &quot;Times New Roman&quot;, serif; color: rgb(0, 0, 0); background-color: transparent; font-variant-numeric: normal; font-variant-east-asian: normal; font-variant-alternates: normal; vertical-align: baseline; white-space-collapse: preserve;\"> employees at AdventureWorks who are at least 60 years old.&nbsp; The result of your query should be a table of BusinessEntityID (rename this as “EmployeeID”), JobTitle, and BirthDate.&nbsp; Sort this result set so that the youngest relevant employee appears at the top of the list.&nbsp;</span>"
            ],
            "metadata": {
                "azdata_cell_guid": "1c5c187a-1a95-40c7-bd84-ea392454dab0"
            },
            "attachments": {}
        },
        {
            "cell_type": "code",
            "source": [
                "--Question 1D\n",
                "SELECT BusinessEntityID AS 'EmployeeID' --returns entity ID as an alias\n",
                ", JobTitle --returns title\n",
                ", BirthDate -- returns birthdate\n",
                "From HumanResources.Employee -- selects right table\n",
                "WHERE DATEDIFF(Year, BirthDate, GETDATE()) >= 60 --pulls the current date (so that it remains useable after today) and calcultates the year difference between birthdate and today (GETDATE)\n",
                "ORDER BY BirthDate DESC --returns youngest employees"
            ],
            "metadata": {
                "language": "sql",
                "azdata_cell_guid": "68203be5-8794-4475-a5e8-5efc90eaff67"
            },
            "outputs": [
                {
                    "output_type": "display_data",
                    "data": {
                        "text/html": "(26 rows affected)"
                    },
                    "metadata": {}
                },
                {
                    "output_type": "display_data",
                    "data": {
                        "text/html": "Total execution time: 00:00:00.034"
                    },
                    "metadata": {}
                },
                {
                    "output_type": "execute_result",
                    "execution_count": 2,
                    "data": {
                        "application/vnd.dataresource+json": {
                            "schema": {
                                "fields": [
                                    {
                                        "name": "EmployeeID"
                                    },
                                    {
                                        "name": "JobTitle"
                                    },
                                    {
                                        "name": "BirthDate"
                                    }
                                ]
                            },
                            "data": [
                                {
                                    "EmployeeID": "262",
                                    "JobTitle": "Assistant to the Chief Financial Officer",
                                    "BirthDate": "1964-06-21"
                                },
                                {
                                    "EmployeeID": "282",
                                    "JobTitle": "Sales Representative",
                                    "BirthDate": "1963-12-11"
                                },
                                {
                                    "EmployeeID": "206",
                                    "JobTitle": "Production Technician - WC45",
                                    "BirthDate": "1962-09-13"
                                },
                                {
                                    "EmployeeID": "23",
                                    "JobTitle": "Marketing Specialist",
                                    "BirthDate": "1962-09-13"
                                },
                                {
                                    "EmployeeID": "277",
                                    "JobTitle": "Sales Representative",
                                    "BirthDate": "1962-08-29"
                                },
                                {
                                    "EmployeeID": "15",
                                    "JobTitle": "Design Engineer",
                                    "BirthDate": "1961-05-02"
                                },
                                {
                                    "EmployeeID": "12",
                                    "JobTitle": "Tool Designer",
                                    "BirthDate": "1959-07-29"
                                },
                                {
                                    "EmployeeID": "6",
                                    "JobTitle": "Design Engineer",
                                    "BirthDate": "1959-03-11"
                                },
                                {
                                    "EmployeeID": "287",
                                    "JobTitle": "European Sales Manager",
                                    "BirthDate": "1957-09-20"
                                },
                                {
                                    "EmployeeID": "27",
                                    "JobTitle": "Production Supervisor - WC60",
                                    "BirthDate": "1956-10-08"
                                },
                                {
                                    "EmployeeID": "50",
                                    "JobTitle": "Production Technician - WC10",
                                    "BirthDate": "1956-08-30"
                                },
                                {
                                    "EmployeeID": "62",
                                    "JobTitle": "Production Supervisor - WC60",
                                    "BirthDate": "1956-08-07"
                                },
                                {
                                    "EmployeeID": "51",
                                    "JobTitle": "Production Technician - WC10",
                                    "BirthDate": "1956-07-11"
                                },
                                {
                                    "EmployeeID": "48",
                                    "JobTitle": "Production Technician - WC10",
                                    "BirthDate": "1956-06-04"
                                },
                                {
                                    "EmployeeID": "52",
                                    "JobTitle": "Production Technician - WC10",
                                    "BirthDate": "1956-04-04"
                                },
                                {
                                    "EmployeeID": "55",
                                    "JobTitle": "Production Supervisor - WC50",
                                    "BirthDate": "1956-04-01"
                                },
                                {
                                    "EmployeeID": "53",
                                    "JobTitle": "Production Technician - WC10",
                                    "BirthDate": "1956-03-29"
                                },
                                {
                                    "EmployeeID": "49",
                                    "JobTitle": "Production Technician - WC10",
                                    "BirthDate": "1956-03-26"
                                },
                                {
                                    "EmployeeID": "40",
                                    "JobTitle": "Production Supervisor - WC60",
                                    "BirthDate": "1956-01-16"
                                },
                                {
                                    "EmployeeID": "63",
                                    "JobTitle": "Production Technician - WC60",
                                    "BirthDate": "1955-01-30"
                                },
                                {
                                    "EmployeeID": "231",
                                    "JobTitle": "Janitor",
                                    "BirthDate": "1954-04-24"
                                },
                                {
                                    "EmployeeID": "140",
                                    "JobTitle": "Production Technician - WC20",
                                    "BirthDate": "1953-04-30"
                                },
                                {
                                    "EmployeeID": "5",
                                    "JobTitle": "Design Engineer",
                                    "BirthDate": "1952-09-27"
                                },
                                {
                                    "EmployeeID": "256",
                                    "JobTitle": "Buyer",
                                    "BirthDate": "1952-05-12"
                                },
                                {
                                    "EmployeeID": "84",
                                    "JobTitle": "Production Technician - WC40",
                                    "BirthDate": "1952-03-02"
                                },
                                {
                                    "EmployeeID": "274",
                                    "JobTitle": "North American Sales Manager",
                                    "BirthDate": "1951-10-17"
                                }
                            ]
                        },
                        "text/html": "<table><tr><th>EmployeeID</th><th>JobTitle</th><th>BirthDate</th></tr><tr><td>262</td><td>Assistant to the Chief Financial Officer</td><td>1964-06-21</td></tr><tr><td>282</td><td>Sales Representative</td><td>1963-12-11</td></tr><tr><td>206</td><td>Production Technician - WC45</td><td>1962-09-13</td></tr><tr><td>23</td><td>Marketing Specialist</td><td>1962-09-13</td></tr><tr><td>277</td><td>Sales Representative</td><td>1962-08-29</td></tr><tr><td>15</td><td>Design Engineer</td><td>1961-05-02</td></tr><tr><td>12</td><td>Tool Designer</td><td>1959-07-29</td></tr><tr><td>6</td><td>Design Engineer</td><td>1959-03-11</td></tr><tr><td>287</td><td>European Sales Manager</td><td>1957-09-20</td></tr><tr><td>27</td><td>Production Supervisor - WC60</td><td>1956-10-08</td></tr><tr><td>50</td><td>Production Technician - WC10</td><td>1956-08-30</td></tr><tr><td>62</td><td>Production Supervisor - WC60</td><td>1956-08-07</td></tr><tr><td>51</td><td>Production Technician - WC10</td><td>1956-07-11</td></tr><tr><td>48</td><td>Production Technician - WC10</td><td>1956-06-04</td></tr><tr><td>52</td><td>Production Technician - WC10</td><td>1956-04-04</td></tr><tr><td>55</td><td>Production Supervisor - WC50</td><td>1956-04-01</td></tr><tr><td>53</td><td>Production Technician - WC10</td><td>1956-03-29</td></tr><tr><td>49</td><td>Production Technician - WC10</td><td>1956-03-26</td></tr><tr><td>40</td><td>Production Supervisor - WC60</td><td>1956-01-16</td></tr><tr><td>63</td><td>Production Technician - WC60</td><td>1955-01-30</td></tr><tr><td>231</td><td>Janitor</td><td>1954-04-24</td></tr><tr><td>140</td><td>Production Technician - WC20</td><td>1953-04-30</td></tr><tr><td>5</td><td>Design Engineer</td><td>1952-09-27</td></tr><tr><td>256</td><td>Buyer</td><td>1952-05-12</td></tr><tr><td>84</td><td>Production Technician - WC40</td><td>1952-03-02</td></tr><tr><td>274</td><td>North American Sales Manager</td><td>1951-10-17</td></tr></table>"
                    },
                    "metadata": {}
                }
            ],
            "execution_count": 2
        },
        {
            "cell_type": "markdown",
            "source": [
                "<span style=\"font-size: 12pt; font-family: &quot;Times New Roman&quot;, serif; color: rgb(0, 0, 0); background-color: transparent; font-variant-numeric: normal; font-variant-east-asian: normal; font-variant-alternates: normal; vertical-align: baseline; white-space-collapse: preserve;\">A consultant working with the HR team determined that employees with less than seven years of employment are much less likely to leave the company when they become eligible for retirement.&nbsp; Start with the list of employees who are at least 60 years old from Part D and revise your query to show the employee’s HireDate and the number of full years of employment (call this column EmploymentYears).&nbsp; Filter the results to only show employees with at least seven full years of employment.&nbsp; This time, sort the table to show the relevant employees with the most service first.</span>"
            ],
            "metadata": {
                "azdata_cell_guid": "e0a40f05-94a7-4c88-9362-d29c275b9aab"
            },
            "attachments": {}
        },
        {
            "cell_type": "code",
            "source": [
                "--Question 1E\n",
                "SELECT BusinessEntityID AS 'EmployeeID'--returns entity as the alias of EmployeeID\n",
                ", JobTitle\n",
                ", BirthDate\n",
                ", HireDate\n",
                ", DATEDIFF(Year, HireDate, GETDATE()) AS 'EmploymentYears' --uses GETDATE to stay up to date (making it reuseable) and uses Date Dif to calculate track EmploymentYears\n",
                "-- https://www.w3schools.com/SQl/func_sqlserver_getdate.asp Where I found GETDATE\n",
                "-- https://www.w3schools.com/sql/func_sqlserver_datediff.asp Where I Found DATEDIFF from\n",
                "From HumanResources.Employee\n",
                "WHERE DATEDIFF(Year, BirthDate, GETDATE()) >= 60 --uses DATEDIFF and GETDATE to return employees older than/equal to 60\n",
                "AND DATEDIFF(Year, HireDate, GETDATE()) > 7 --uses DATEDIFF and GETDATE to return employees who have worked with the company for more than 7 years\n",
                "ORDER BY HireDate ASC --returns employees who have worked at the company longer first"
            ],
            "metadata": {
                "azdata_cell_guid": "fcca4f0a-51f0-4747-9388-baa73849dc21",
                "language": "sql"
            },
            "outputs": [
                {
                    "output_type": "display_data",
                    "data": {
                        "text/html": "(26 rows affected)"
                    },
                    "metadata": {}
                },
                {
                    "output_type": "display_data",
                    "data": {
                        "text/html": "Total execution time: 00:00:00.037"
                    },
                    "metadata": {}
                },
                {
                    "output_type": "execute_result",
                    "execution_count": 1,
                    "data": {
                        "application/vnd.dataresource+json": {
                            "schema": {
                                "fields": [
                                    {
                                        "name": "EmployeeID"
                                    },
                                    {
                                        "name": "JobTitle"
                                    },
                                    {
                                        "name": "BirthDate"
                                    },
                                    {
                                        "name": "HireDate"
                                    },
                                    {
                                        "name": "EmploymentYears"
                                    }
                                ]
                            },
                            "data": [
                                {
                                    "EmployeeID": "12",
                                    "JobTitle": "Tool Designer",
                                    "BirthDate": "1959-07-29",
                                    "HireDate": "2007-12-11",
                                    "EmploymentYears": "17"
                                },
                                {
                                    "EmployeeID": "40",
                                    "JobTitle": "Production Supervisor - WC60",
                                    "BirthDate": "1956-01-16",
                                    "HireDate": "2007-12-26",
                                    "EmploymentYears": "17"
                                },
                                {
                                    "EmployeeID": "48",
                                    "JobTitle": "Production Technician - WC10",
                                    "BirthDate": "1956-06-04",
                                    "HireDate": "2008-01-06",
                                    "EmploymentYears": "16"
                                },
                                {
                                    "EmployeeID": "5",
                                    "JobTitle": "Design Engineer",
                                    "BirthDate": "1952-09-27",
                                    "HireDate": "2008-01-06",
                                    "EmploymentYears": "16"
                                },
                                {
                                    "EmployeeID": "49",
                                    "JobTitle": "Production Technician - WC10",
                                    "BirthDate": "1956-03-26",
                                    "HireDate": "2008-01-07",
                                    "EmploymentYears": "16"
                                },
                                {
                                    "EmployeeID": "6",
                                    "JobTitle": "Design Engineer",
                                    "BirthDate": "1959-03-11",
                                    "HireDate": "2008-01-24",
                                    "EmploymentYears": "16"
                                },
                                {
                                    "EmployeeID": "50",
                                    "JobTitle": "Production Technician - WC10",
                                    "BirthDate": "1956-08-30",
                                    "HireDate": "2008-02-02",
                                    "EmploymentYears": "16"
                                },
                                {
                                    "EmployeeID": "55",
                                    "JobTitle": "Production Supervisor - WC50",
                                    "BirthDate": "1956-04-01",
                                    "HireDate": "2008-02-08",
                                    "EmploymentYears": "16"
                                },
                                {
                                    "EmployeeID": "51",
                                    "JobTitle": "Production Technician - WC10",
                                    "BirthDate": "1956-07-11",
                                    "HireDate": "2008-02-20",
                                    "EmploymentYears": "16"
                                },
                                {
                                    "EmployeeID": "27",
                                    "JobTitle": "Production Supervisor - WC60",
                                    "BirthDate": "1956-10-08",
                                    "HireDate": "2008-02-27",
                                    "EmploymentYears": "16"
                                },
                                {
                                    "EmployeeID": "52",
                                    "JobTitle": "Production Technician - WC10",
                                    "BirthDate": "1956-04-04",
                                    "HireDate": "2008-03-10",
                                    "EmploymentYears": "16"
                                },
                                {
                                    "EmployeeID": "62",
                                    "JobTitle": "Production Supervisor - WC60",
                                    "BirthDate": "1956-08-07",
                                    "HireDate": "2008-03-17",
                                    "EmploymentYears": "16"
                                },
                                {
                                    "EmployeeID": "53",
                                    "JobTitle": "Production Technician - WC10",
                                    "BirthDate": "1956-03-29",
                                    "HireDate": "2008-03-28",
                                    "EmploymentYears": "16"
                                },
                                {
                                    "EmployeeID": "206",
                                    "JobTitle": "Production Technician - WC45",
                                    "BirthDate": "1962-09-13",
                                    "HireDate": "2008-12-02",
                                    "EmploymentYears": "16"
                                },
                                {
                                    "EmployeeID": "23",
                                    "JobTitle": "Marketing Specialist",
                                    "BirthDate": "1962-09-13",
                                    "HireDate": "2009-01-12",
                                    "EmploymentYears": "15"
                                },
                                {
                                    "EmployeeID": "262",
                                    "JobTitle": "Assistant to the Chief Financial Officer",
                                    "BirthDate": "1964-06-21",
                                    "HireDate": "2009-01-12",
                                    "EmploymentYears": "15"
                                },
                                {
                                    "EmployeeID": "140",
                                    "JobTitle": "Production Technician - WC20",
                                    "BirthDate": "1953-04-30",
                                    "HireDate": "2010-01-22",
                                    "EmploymentYears": "14"
                                },
                                {
                                    "EmployeeID": "256",
                                    "JobTitle": "Buyer",
                                    "BirthDate": "1952-05-12",
                                    "HireDate": "2010-01-23",
                                    "EmploymentYears": "14"
                                },
                                {
                                    "EmployeeID": "63",
                                    "JobTitle": "Production Technician - WC60",
                                    "BirthDate": "1955-01-30",
                                    "HireDate": "2010-01-29",
                                    "EmploymentYears": "14"
                                },
                                {
                                    "EmployeeID": "84",
                                    "JobTitle": "Production Technician - WC40",
                                    "BirthDate": "1952-03-02",
                                    "HireDate": "2010-02-05",
                                    "EmploymentYears": "14"
                                },
                                {
                                    "EmployeeID": "231",
                                    "JobTitle": "Janitor",
                                    "BirthDate": "1954-04-24",
                                    "HireDate": "2010-03-07",
                                    "EmploymentYears": "14"
                                },
                                {
                                    "EmployeeID": "274",
                                    "JobTitle": "North American Sales Manager",
                                    "BirthDate": "1951-10-17",
                                    "HireDate": "2011-01-04",
                                    "EmploymentYears": "13"
                                },
                                {
                                    "EmployeeID": "15",
                                    "JobTitle": "Design Engineer",
                                    "BirthDate": "1961-05-02",
                                    "HireDate": "2011-01-18",
                                    "EmploymentYears": "13"
                                },
                                {
                                    "EmployeeID": "277",
                                    "JobTitle": "Sales Representative",
                                    "BirthDate": "1962-08-29",
                                    "HireDate": "2011-05-31",
                                    "EmploymentYears": "13"
                                },
                                {
                                    "EmployeeID": "282",
                                    "JobTitle": "Sales Representative",
                                    "BirthDate": "1963-12-11",
                                    "HireDate": "2011-05-31",
                                    "EmploymentYears": "13"
                                },
                                {
                                    "EmployeeID": "287",
                                    "JobTitle": "European Sales Manager",
                                    "BirthDate": "1957-09-20",
                                    "HireDate": "2012-04-16",
                                    "EmploymentYears": "12"
                                }
                            ]
                        },
                        "text/html": "<table><tr><th>EmployeeID</th><th>JobTitle</th><th>BirthDate</th><th>HireDate</th><th>EmploymentYears</th></tr><tr><td>12</td><td>Tool Designer</td><td>1959-07-29</td><td>2007-12-11</td><td>17</td></tr><tr><td>40</td><td>Production Supervisor - WC60</td><td>1956-01-16</td><td>2007-12-26</td><td>17</td></tr><tr><td>48</td><td>Production Technician - WC10</td><td>1956-06-04</td><td>2008-01-06</td><td>16</td></tr><tr><td>5</td><td>Design Engineer</td><td>1952-09-27</td><td>2008-01-06</td><td>16</td></tr><tr><td>49</td><td>Production Technician - WC10</td><td>1956-03-26</td><td>2008-01-07</td><td>16</td></tr><tr><td>6</td><td>Design Engineer</td><td>1959-03-11</td><td>2008-01-24</td><td>16</td></tr><tr><td>50</td><td>Production Technician - WC10</td><td>1956-08-30</td><td>2008-02-02</td><td>16</td></tr><tr><td>55</td><td>Production Supervisor - WC50</td><td>1956-04-01</td><td>2008-02-08</td><td>16</td></tr><tr><td>51</td><td>Production Technician - WC10</td><td>1956-07-11</td><td>2008-02-20</td><td>16</td></tr><tr><td>27</td><td>Production Supervisor - WC60</td><td>1956-10-08</td><td>2008-02-27</td><td>16</td></tr><tr><td>52</td><td>Production Technician - WC10</td><td>1956-04-04</td><td>2008-03-10</td><td>16</td></tr><tr><td>62</td><td>Production Supervisor - WC60</td><td>1956-08-07</td><td>2008-03-17</td><td>16</td></tr><tr><td>53</td><td>Production Technician - WC10</td><td>1956-03-29</td><td>2008-03-28</td><td>16</td></tr><tr><td>206</td><td>Production Technician - WC45</td><td>1962-09-13</td><td>2008-12-02</td><td>16</td></tr><tr><td>23</td><td>Marketing Specialist</td><td>1962-09-13</td><td>2009-01-12</td><td>15</td></tr><tr><td>262</td><td>Assistant to the Chief Financial Officer</td><td>1964-06-21</td><td>2009-01-12</td><td>15</td></tr><tr><td>140</td><td>Production Technician - WC20</td><td>1953-04-30</td><td>2010-01-22</td><td>14</td></tr><tr><td>256</td><td>Buyer</td><td>1952-05-12</td><td>2010-01-23</td><td>14</td></tr><tr><td>63</td><td>Production Technician - WC60</td><td>1955-01-30</td><td>2010-01-29</td><td>14</td></tr><tr><td>84</td><td>Production Technician - WC40</td><td>1952-03-02</td><td>2010-02-05</td><td>14</td></tr><tr><td>231</td><td>Janitor</td><td>1954-04-24</td><td>2010-03-07</td><td>14</td></tr><tr><td>274</td><td>North American Sales Manager</td><td>1951-10-17</td><td>2011-01-04</td><td>13</td></tr><tr><td>15</td><td>Design Engineer</td><td>1961-05-02</td><td>2011-01-18</td><td>13</td></tr><tr><td>277</td><td>Sales Representative</td><td>1962-08-29</td><td>2011-05-31</td><td>13</td></tr><tr><td>282</td><td>Sales Representative</td><td>1963-12-11</td><td>2011-05-31</td><td>13</td></tr><tr><td>287</td><td>European Sales Manager</td><td>1957-09-20</td><td>2012-04-16</td><td>12</td></tr></table>"
                    },
                    "metadata": {}
                }
            ],
            "execution_count": 1
        },
        {
            "cell_type": "markdown",
            "source": [
                "<span style=\"font-size: 12pt; font-family: &quot;Times New Roman&quot;, serif; color: rgb(0, 0, 0); background-color: transparent; font-variant-numeric: normal; font-variant-east-asian: normal; font-variant-alternates: normal; vertical-align: baseline; white-space-collapse: preserve;\">The product management team would like to provide the warehouse manager with a listing of all the products currently offered for sale and the minimum inventory level for each product.&nbsp; This minimum inventory is known as the safety stock level.&nbsp; To determine whether a product is currently offered for sale, check both the FinishedGoodsFlag and the SellEndDate.</span>\n",
                "\n",
                "<span style=\"font-size: 12pt; font-family: &quot;Times New Roman&quot;, serif; color: rgb(0, 0, 0); background-color: transparent; font-variant-numeric: normal; font-variant-east-asian: normal; font-variant-alternates: normal; vertical-align: baseline; white-space-collapse: preserve;\"><span id=\"docs-internal-guid-4c9dcf76-7fff-3a24-f996-344f073818f0\"><span style=\"font-size: 12pt; background-color: transparent; font-variant-numeric: normal; font-variant-east-asian: normal; font-variant-alternates: normal; vertical-align: baseline;\">Create a table containing, for all relevant products, the product name, list price, and safety stock level.&nbsp; Sort the table to show the products with the lowest safety stock levels first.&nbsp; Products with the same safety stock level should then be alphabetized by name.</span></span><br></span>"
            ],
            "metadata": {
                "azdata_cell_guid": "f8565939-087b-4fbd-963b-49428801340b"
            },
            "attachments": {}
        },
        {
            "cell_type": "code",
            "source": [
                "--Question 2A\n",
                "SELECT DISTINCT Name\n",
                ",ListPrice\n",
                ",SafetyStockLevel\n",
                ",SellEndDate\n",
                "FROM Production.Product\n",
                "WHERE FinishedGoodsFlag = 1 --makes sure that the product returned is actually for sale\n",
                "AND SellEndDate IS NULL -- makes sure that the product returned has not been discontinued\n",
                "-- https://www.w3schools.com/sql/sql_null_values.asp where I found IS NULL\n",
                "ORDER BY SafetyStockLevel \n",
                ",Name"
            ],
            "metadata": {
                "language": "sql",
                "azdata_cell_guid": "1d18be1b-b0f4-4d95-9517-b6b599878048"
            },
            "outputs": [
                {
                    "output_type": "display_data",
                    "data": {
                        "text/html": "(197 rows affected)"
                    },
                    "metadata": {}
                },
                {
                    "output_type": "display_data",
                    "data": {
                        "text/html": "Total execution time: 00:00:00.036"
                    },
                    "metadata": {}
                },
                {
                    "output_type": "execute_result",
                    "execution_count": 6,
                    "data": {
                        "application/vnd.dataresource+json": {
                            "schema": {
                                "fields": [
                                    {
                                        "name": "Name"
                                    },
                                    {
                                        "name": "ListPrice"
                                    },
                                    {
                                        "name": "SafetyStockLevel"
                                    },
                                    {
                                        "name": "SellEndDate"
                                    }
                                ]
                            },
                            "data": [
                                {
                                    "Name": "All-Purpose Bike Stand",
                                    "ListPrice": "159.00",
                                    "SafetyStockLevel": "4",
                                    "SellEndDate": "NULL"
                                },
                                {
                                    "Name": "AWC Logo Cap",
                                    "ListPrice": "8.99",
                                    "SafetyStockLevel": "4",
                                    "SellEndDate": "NULL"
                                },
                                {
                                    "Name": "Bike Wash - Dissolver",
                                    "ListPrice": "7.95",
                                    "SafetyStockLevel": "4",
                                    "SellEndDate": "NULL"
                                },
                                {
                                    "Name": "Classic Vest, L",
                                    "ListPrice": "63.50",
                                    "SafetyStockLevel": "4",
                                    "SellEndDate": "NULL"
                                },
                                {
                                    "Name": "Classic Vest, M",
                                    "ListPrice": "63.50",
                                    "SafetyStockLevel": "4",
                                    "SellEndDate": "NULL"
                                },
                                {
                                    "Name": "Classic Vest, S",
                                    "ListPrice": "63.50",
                                    "SafetyStockLevel": "4",
                                    "SellEndDate": "NULL"
                                },
                                {
                                    "Name": "Fender Set - Mountain",
                                    "ListPrice": "21.98",
                                    "SafetyStockLevel": "4",
                                    "SellEndDate": "NULL"
                                },
                                {
                                    "Name": "Half-Finger Gloves, L",
                                    "ListPrice": "24.49",
                                    "SafetyStockLevel": "4",
                                    "SellEndDate": "NULL"
                                },
                                {
                                    "Name": "Half-Finger Gloves, M",
                                    "ListPrice": "24.49",
                                    "SafetyStockLevel": "4",
                                    "SellEndDate": "NULL"
                                },
                                {
                                    "Name": "Half-Finger Gloves, S",
                                    "ListPrice": "24.49",
                                    "SafetyStockLevel": "4",
                                    "SellEndDate": "NULL"
                                },
                                {
                                    "Name": "Hitch Rack - 4-Bike",
                                    "ListPrice": "120.00",
                                    "SafetyStockLevel": "4",
                                    "SellEndDate": "NULL"
                                },
                                {
                                    "Name": "Hydration Pack - 70 oz.",
                                    "ListPrice": "54.99",
                                    "SafetyStockLevel": "4",
                                    "SellEndDate": "NULL"
                                },
                                {
                                    "Name": "Long-Sleeve Logo Jersey, L",
                                    "ListPrice": "49.99",
                                    "SafetyStockLevel": "4",
                                    "SellEndDate": "NULL"
                                },
                                {
                                    "Name": "Long-Sleeve Logo Jersey, M",
                                    "ListPrice": "49.99",
                                    "SafetyStockLevel": "4",
                                    "SellEndDate": "NULL"
                                },
                                {
                                    "Name": "Long-Sleeve Logo Jersey, S",
                                    "ListPrice": "49.99",
                                    "SafetyStockLevel": "4",
                                    "SellEndDate": "NULL"
                                },
                                {
                                    "Name": "Long-Sleeve Logo Jersey, XL",
                                    "ListPrice": "49.99",
                                    "SafetyStockLevel": "4",
                                    "SellEndDate": "NULL"
                                },
                                {
                                    "Name": "Mountain Bottle Cage",
                                    "ListPrice": "9.99",
                                    "SafetyStockLevel": "4",
                                    "SellEndDate": "NULL"
                                },
                                {
                                    "Name": "Patch Kit/8 Patches",
                                    "ListPrice": "2.29",
                                    "SafetyStockLevel": "4",
                                    "SellEndDate": "NULL"
                                },
                                {
                                    "Name": "Racing Socks, L",
                                    "ListPrice": "8.99",
                                    "SafetyStockLevel": "4",
                                    "SellEndDate": "NULL"
                                },
                                {
                                    "Name": "Racing Socks, M",
                                    "ListPrice": "8.99",
                                    "SafetyStockLevel": "4",
                                    "SellEndDate": "NULL"
                                },
                                {
                                    "Name": "Road Bottle Cage",
                                    "ListPrice": "8.99",
                                    "SafetyStockLevel": "4",
                                    "SellEndDate": "NULL"
                                },
                                {
                                    "Name": "Short-Sleeve Classic Jersey, L",
                                    "ListPrice": "53.99",
                                    "SafetyStockLevel": "4",
                                    "SellEndDate": "NULL"
                                },
                                {
                                    "Name": "Short-Sleeve Classic Jersey, M",
                                    "ListPrice": "53.99",
                                    "SafetyStockLevel": "4",
                                    "SellEndDate": "NULL"
                                },
                                {
                                    "Name": "Short-Sleeve Classic Jersey, S",
                                    "ListPrice": "53.99",
                                    "SafetyStockLevel": "4",
                                    "SellEndDate": "NULL"
                                },
                                {
                                    "Name": "Short-Sleeve Classic Jersey, XL",
                                    "ListPrice": "53.99",
                                    "SafetyStockLevel": "4",
                                    "SellEndDate": "NULL"
                                },
                                {
                                    "Name": "Sport-100 Helmet, Black",
                                    "ListPrice": "34.99",
                                    "SafetyStockLevel": "4",
                                    "SellEndDate": "NULL"
                                },
                                {
                                    "Name": "Sport-100 Helmet, Blue",
                                    "ListPrice": "34.99",
                                    "SafetyStockLevel": "4",
                                    "SellEndDate": "NULL"
                                },
                                {
                                    "Name": "Sport-100 Helmet, Red",
                                    "ListPrice": "34.99",
                                    "SafetyStockLevel": "4",
                                    "SellEndDate": "NULL"
                                },
                                {
                                    "Name": "Water Bottle - 30 oz.",
                                    "ListPrice": "4.99",
                                    "SafetyStockLevel": "4",
                                    "SellEndDate": "NULL"
                                },
                                {
                                    "Name": "Women's Mountain Shorts, L",
                                    "ListPrice": "69.99",
                                    "SafetyStockLevel": "4",
                                    "SellEndDate": "NULL"
                                },
                                {
                                    "Name": "Women's Mountain Shorts, M",
                                    "ListPrice": "69.99",
                                    "SafetyStockLevel": "4",
                                    "SellEndDate": "NULL"
                                },
                                {
                                    "Name": "Women's Mountain Shorts, S",
                                    "ListPrice": "69.99",
                                    "SafetyStockLevel": "4",
                                    "SellEndDate": "NULL"
                                },
                                {
                                    "Name": "Mountain-200 Black, 38",
                                    "ListPrice": "2294.99",
                                    "SafetyStockLevel": "100",
                                    "SellEndDate": "NULL"
                                },
                                {
                                    "Name": "Mountain-200 Black, 42",
                                    "ListPrice": "2294.99",
                                    "SafetyStockLevel": "100",
                                    "SellEndDate": "NULL"
                                },
                                {
                                    "Name": "Mountain-200 Black, 46",
                                    "ListPrice": "2294.99",
                                    "SafetyStockLevel": "100",
                                    "SellEndDate": "NULL"
                                },
                                {
                                    "Name": "Mountain-200 Silver, 38",
                                    "ListPrice": "2319.99",
                                    "SafetyStockLevel": "100",
                                    "SellEndDate": "NULL"
                                },
                                {
                                    "Name": "Mountain-200 Silver, 42",
                                    "ListPrice": "2319.99",
                                    "SafetyStockLevel": "100",
                                    "SellEndDate": "NULL"
                                },
                                {
                                    "Name": "Mountain-200 Silver, 46",
                                    "ListPrice": "2319.99",
                                    "SafetyStockLevel": "100",
                                    "SellEndDate": "NULL"
                                },
                                {
                                    "Name": "Mountain-400-W Silver, 38",
                                    "ListPrice": "769.49",
                                    "SafetyStockLevel": "100",
                                    "SellEndDate": "NULL"
                                },
                                {
                                    "Name": "Mountain-400-W Silver, 40",
                                    "ListPrice": "769.49",
                                    "SafetyStockLevel": "100",
                                    "SellEndDate": "NULL"
                                },
                                {
                                    "Name": "Mountain-400-W Silver, 42",
                                    "ListPrice": "769.49",
                                    "SafetyStockLevel": "100",
                                    "SellEndDate": "NULL"
                                },
                                {
                                    "Name": "Mountain-400-W Silver, 46",
                                    "ListPrice": "769.49",
                                    "SafetyStockLevel": "100",
                                    "SellEndDate": "NULL"
                                },
                                {
                                    "Name": "Mountain-500 Black, 40",
                                    "ListPrice": "539.99",
                                    "SafetyStockLevel": "100",
                                    "SellEndDate": "NULL"
                                },
                                {
                                    "Name": "Mountain-500 Black, 42",
                                    "ListPrice": "539.99",
                                    "SafetyStockLevel": "100",
                                    "SellEndDate": "NULL"
                                },
                                {
                                    "Name": "Mountain-500 Black, 44",
                                    "ListPrice": "539.99",
                                    "SafetyStockLevel": "100",
                                    "SellEndDate": "NULL"
                                },
                                {
                                    "Name": "Mountain-500 Black, 48",
                                    "ListPrice": "539.99",
                                    "SafetyStockLevel": "100",
                                    "SellEndDate": "NULL"
                                },
                                {
                                    "Name": "Mountain-500 Black, 52",
                                    "ListPrice": "539.99",
                                    "SafetyStockLevel": "100",
                                    "SellEndDate": "NULL"
                                },
                                {
                                    "Name": "Mountain-500 Silver, 40",
                                    "ListPrice": "564.99",
                                    "SafetyStockLevel": "100",
                                    "SellEndDate": "NULL"
                                },
                                {
                                    "Name": "Mountain-500 Silver, 42",
                                    "ListPrice": "564.99",
                                    "SafetyStockLevel": "100",
                                    "SellEndDate": "NULL"
                                },
                                {
                                    "Name": "Mountain-500 Silver, 44",
                                    "ListPrice": "564.99",
                                    "SafetyStockLevel": "100",
                                    "SellEndDate": "NULL"
                                },
                                {
                                    "Name": "Mountain-500 Silver, 48",
                                    "ListPrice": "564.99",
                                    "SafetyStockLevel": "100",
                                    "SellEndDate": "NULL"
                                },
                                {
                                    "Name": "Mountain-500 Silver, 52",
                                    "ListPrice": "564.99",
                                    "SafetyStockLevel": "100",
                                    "SellEndDate": "NULL"
                                },
                                {
                                    "Name": "Road-250 Black, 44",
                                    "ListPrice": "2443.35",
                                    "SafetyStockLevel": "100",
                                    "SellEndDate": "NULL"
                                },
                                {
                                    "Name": "Road-250 Black, 48",
                                    "ListPrice": "2443.35",
                                    "SafetyStockLevel": "100",
                                    "SellEndDate": "NULL"
                                },
                                {
                                    "Name": "Road-250 Black, 52",
                                    "ListPrice": "2443.35",
                                    "SafetyStockLevel": "100",
                                    "SellEndDate": "NULL"
                                },
                                {
                                    "Name": "Road-250 Black, 58",
                                    "ListPrice": "2443.35",
                                    "SafetyStockLevel": "100",
                                    "SellEndDate": "NULL"
                                },
                                {
                                    "Name": "Road-250 Red, 58",
                                    "ListPrice": "2443.35",
                                    "SafetyStockLevel": "100",
                                    "SellEndDate": "NULL"
                                },
                                {
                                    "Name": "Road-350-W Yellow, 40",
                                    "ListPrice": "1700.99",
                                    "SafetyStockLevel": "100",
                                    "SellEndDate": "NULL"
                                },
                                {
                                    "Name": "Road-350-W Yellow, 42",
                                    "ListPrice": "1700.99",
                                    "SafetyStockLevel": "100",
                                    "SellEndDate": "NULL"
                                },
                                {
                                    "Name": "Road-350-W Yellow, 44",
                                    "ListPrice": "1700.99",
                                    "SafetyStockLevel": "100",
                                    "SellEndDate": "NULL"
                                },
                                {
                                    "Name": "Road-350-W Yellow, 48",
                                    "ListPrice": "1700.99",
                                    "SafetyStockLevel": "100",
                                    "SellEndDate": "NULL"
                                },
                                {
                                    "Name": "Road-550-W Yellow, 38",
                                    "ListPrice": "1120.49",
                                    "SafetyStockLevel": "100",
                                    "SellEndDate": "NULL"
                                },
                                {
                                    "Name": "Road-550-W Yellow, 40",
                                    "ListPrice": "1120.49",
                                    "SafetyStockLevel": "100",
                                    "SellEndDate": "NULL"
                                },
                                {
                                    "Name": "Road-550-W Yellow, 42",
                                    "ListPrice": "1120.49",
                                    "SafetyStockLevel": "100",
                                    "SellEndDate": "NULL"
                                },
                                {
                                    "Name": "Road-550-W Yellow, 44",
                                    "ListPrice": "1120.49",
                                    "SafetyStockLevel": "100",
                                    "SellEndDate": "NULL"
                                },
                                {
                                    "Name": "Road-550-W Yellow, 48",
                                    "ListPrice": "1120.49",
                                    "SafetyStockLevel": "100",
                                    "SellEndDate": "NULL"
                                },
                                {
                                    "Name": "Road-750 Black, 44",
                                    "ListPrice": "539.99",
                                    "SafetyStockLevel": "100",
                                    "SellEndDate": "NULL"
                                },
                                {
                                    "Name": "Road-750 Black, 48",
                                    "ListPrice": "539.99",
                                    "SafetyStockLevel": "100",
                                    "SellEndDate": "NULL"
                                },
                                {
                                    "Name": "Road-750 Black, 52",
                                    "ListPrice": "539.99",
                                    "SafetyStockLevel": "100",
                                    "SellEndDate": "NULL"
                                },
                                {
                                    "Name": "Road-750 Black, 58",
                                    "ListPrice": "539.99",
                                    "SafetyStockLevel": "100",
                                    "SellEndDate": "NULL"
                                },
                                {
                                    "Name": "Touring-1000 Blue, 46",
                                    "ListPrice": "2384.07",
                                    "SafetyStockLevel": "100",
                                    "SellEndDate": "NULL"
                                },
                                {
                                    "Name": "Touring-1000 Blue, 50",
                                    "ListPrice": "2384.07",
                                    "SafetyStockLevel": "100",
                                    "SellEndDate": "NULL"
                                },
                                {
                                    "Name": "Touring-1000 Blue, 54",
                                    "ListPrice": "2384.07",
                                    "SafetyStockLevel": "100",
                                    "SellEndDate": "NULL"
                                },
                                {
                                    "Name": "Touring-1000 Blue, 60",
                                    "ListPrice": "2384.07",
                                    "SafetyStockLevel": "100",
                                    "SellEndDate": "NULL"
                                },
                                {
                                    "Name": "Touring-1000 Yellow, 46",
                                    "ListPrice": "2384.07",
                                    "SafetyStockLevel": "100",
                                    "SellEndDate": "NULL"
                                },
                                {
                                    "Name": "Touring-1000 Yellow, 50",
                                    "ListPrice": "2384.07",
                                    "SafetyStockLevel": "100",
                                    "SellEndDate": "NULL"
                                },
                                {
                                    "Name": "Touring-1000 Yellow, 54",
                                    "ListPrice": "2384.07",
                                    "SafetyStockLevel": "100",
                                    "SellEndDate": "NULL"
                                },
                                {
                                    "Name": "Touring-1000 Yellow, 60",
                                    "ListPrice": "2384.07",
                                    "SafetyStockLevel": "100",
                                    "SellEndDate": "NULL"
                                },
                                {
                                    "Name": "Touring-2000 Blue, 46",
                                    "ListPrice": "1214.85",
                                    "SafetyStockLevel": "100",
                                    "SellEndDate": "NULL"
                                },
                                {
                                    "Name": "Touring-2000 Blue, 50",
                                    "ListPrice": "1214.85",
                                    "SafetyStockLevel": "100",
                                    "SellEndDate": "NULL"
                                },
                                {
                                    "Name": "Touring-2000 Blue, 54",
                                    "ListPrice": "1214.85",
                                    "SafetyStockLevel": "100",
                                    "SellEndDate": "NULL"
                                },
                                {
                                    "Name": "Touring-2000 Blue, 60",
                                    "ListPrice": "1214.85",
                                    "SafetyStockLevel": "100",
                                    "SellEndDate": "NULL"
                                },
                                {
                                    "Name": "Touring-3000 Blue, 44",
                                    "ListPrice": "742.35",
                                    "SafetyStockLevel": "100",
                                    "SellEndDate": "NULL"
                                },
                                {
                                    "Name": "Touring-3000 Blue, 50",
                                    "ListPrice": "742.35",
                                    "SafetyStockLevel": "100",
                                    "SellEndDate": "NULL"
                                },
                                {
                                    "Name": "Touring-3000 Blue, 54",
                                    "ListPrice": "742.35",
                                    "SafetyStockLevel": "100",
                                    "SellEndDate": "NULL"
                                },
                                {
                                    "Name": "Touring-3000 Blue, 58",
                                    "ListPrice": "742.35",
                                    "SafetyStockLevel": "100",
                                    "SellEndDate": "NULL"
                                },
                                {
                                    "Name": "Touring-3000 Blue, 62",
                                    "ListPrice": "742.35",
                                    "SafetyStockLevel": "100",
                                    "SellEndDate": "NULL"
                                },
                                {
                                    "Name": "Touring-3000 Yellow, 44",
                                    "ListPrice": "742.35",
                                    "SafetyStockLevel": "100",
                                    "SellEndDate": "NULL"
                                },
                                {
                                    "Name": "Touring-3000 Yellow, 50",
                                    "ListPrice": "742.35",
                                    "SafetyStockLevel": "100",
                                    "SellEndDate": "NULL"
                                },
                                {
                                    "Name": "Touring-3000 Yellow, 54",
                                    "ListPrice": "742.35",
                                    "SafetyStockLevel": "100",
                                    "SellEndDate": "NULL"
                                },
                                {
                                    "Name": "Touring-3000 Yellow, 58",
                                    "ListPrice": "742.35",
                                    "SafetyStockLevel": "100",
                                    "SellEndDate": "NULL"
                                },
                                {
                                    "Name": "Touring-3000 Yellow, 62",
                                    "ListPrice": "742.35",
                                    "SafetyStockLevel": "100",
                                    "SellEndDate": "NULL"
                                },
                                {
                                    "Name": "Chain",
                                    "ListPrice": "20.24",
                                    "SafetyStockLevel": "500",
                                    "SellEndDate": "NULL"
                                },
                                {
                                    "Name": "Front Brakes",
                                    "ListPrice": "106.50",
                                    "SafetyStockLevel": "500",
                                    "SellEndDate": "NULL"
                                },
                                {
                                    "Name": "Front Derailleur",
                                    "ListPrice": "91.49",
                                    "SafetyStockLevel": "500",
                                    "SellEndDate": "NULL"
                                },
                                {
                                    "Name": "HL Bottom Bracket",
                                    "ListPrice": "121.49",
                                    "SafetyStockLevel": "500",
                                    "SellEndDate": "NULL"
                                },
                                {
                                    "Name": "HL Crankset",
                                    "ListPrice": "404.99",
                                    "SafetyStockLevel": "500",
                                    "SellEndDate": "NULL"
                                },
                                {
                                    "Name": "HL Mountain Frame - Black, 38",
                                    "ListPrice": "1349.60",
                                    "SafetyStockLevel": "500",
                                    "SellEndDate": "NULL"
                                },
                                {
                                    "Name": "HL Mountain Frame - Black, 42",
                                    "ListPrice": "1349.60",
                                    "SafetyStockLevel": "500",
                                    "SellEndDate": "NULL"
                                },
                                {
                                    "Name": "HL Mountain Frame - Black, 46",
                                    "ListPrice": "1349.60",
                                    "SafetyStockLevel": "500",
                                    "SellEndDate": "NULL"
                                },
                                {
                                    "Name": "HL Mountain Frame - Silver, 38",
                                    "ListPrice": "1364.50",
                                    "SafetyStockLevel": "500",
                                    "SellEndDate": "NULL"
                                },
                                {
                                    "Name": "HL Mountain Frame - Silver, 42",
                                    "ListPrice": "1364.50",
                                    "SafetyStockLevel": "500",
                                    "SellEndDate": "NULL"
                                },
                                {
                                    "Name": "HL Mountain Frame - Silver, 46",
                                    "ListPrice": "1364.50",
                                    "SafetyStockLevel": "500",
                                    "SellEndDate": "NULL"
                                },
                                {
                                    "Name": "HL Mountain Handlebars",
                                    "ListPrice": "120.27",
                                    "SafetyStockLevel": "500",
                                    "SellEndDate": "NULL"
                                },
                                {
                                    "Name": "HL Mountain Pedal",
                                    "ListPrice": "80.99",
                                    "SafetyStockLevel": "500",
                                    "SellEndDate": "NULL"
                                },
                                {
                                    "Name": "HL Mountain Seat/Saddle",
                                    "ListPrice": "52.64",
                                    "SafetyStockLevel": "500",
                                    "SellEndDate": "NULL"
                                },
                                {
                                    "Name": "HL Mountain Tire",
                                    "ListPrice": "35.00",
                                    "SafetyStockLevel": "500",
                                    "SellEndDate": "NULL"
                                },
                                {
                                    "Name": "HL Road Frame - Black, 44",
                                    "ListPrice": "1431.50",
                                    "SafetyStockLevel": "500",
                                    "SellEndDate": "NULL"
                                },
                                {
                                    "Name": "HL Road Frame - Black, 48",
                                    "ListPrice": "1431.50",
                                    "SafetyStockLevel": "500",
                                    "SellEndDate": "NULL"
                                },
                                {
                                    "Name": "HL Road Frame - Black, 52",
                                    "ListPrice": "1431.50",
                                    "SafetyStockLevel": "500",
                                    "SellEndDate": "NULL"
                                },
                                {
                                    "Name": "HL Road Frame - Black, 58",
                                    "ListPrice": "1431.50",
                                    "SafetyStockLevel": "500",
                                    "SellEndDate": "NULL"
                                },
                                {
                                    "Name": "HL Road Frame - Black, 62",
                                    "ListPrice": "1431.50",
                                    "SafetyStockLevel": "500",
                                    "SellEndDate": "NULL"
                                },
                                {
                                    "Name": "HL Road Frame - Red, 44",
                                    "ListPrice": "1431.50",
                                    "SafetyStockLevel": "500",
                                    "SellEndDate": "NULL"
                                },
                                {
                                    "Name": "HL Road Frame - Red, 48",
                                    "ListPrice": "1431.50",
                                    "SafetyStockLevel": "500",
                                    "SellEndDate": "NULL"
                                },
                                {
                                    "Name": "HL Road Frame - Red, 52",
                                    "ListPrice": "1431.50",
                                    "SafetyStockLevel": "500",
                                    "SellEndDate": "NULL"
                                },
                                {
                                    "Name": "HL Road Frame - Red, 56",
                                    "ListPrice": "1431.50",
                                    "SafetyStockLevel": "500",
                                    "SellEndDate": "NULL"
                                },
                                {
                                    "Name": "HL Road Frame - Red, 58",
                                    "ListPrice": "1431.50",
                                    "SafetyStockLevel": "500",
                                    "SellEndDate": "NULL"
                                },
                                {
                                    "Name": "HL Road Frame - Red, 62",
                                    "ListPrice": "1431.50",
                                    "SafetyStockLevel": "500",
                                    "SellEndDate": "NULL"
                                },
                                {
                                    "Name": "HL Road Handlebars",
                                    "ListPrice": "120.27",
                                    "SafetyStockLevel": "500",
                                    "SellEndDate": "NULL"
                                },
                                {
                                    "Name": "HL Road Pedal",
                                    "ListPrice": "80.99",
                                    "SafetyStockLevel": "500",
                                    "SellEndDate": "NULL"
                                },
                                {
                                    "Name": "HL Road Seat/Saddle",
                                    "ListPrice": "52.64",
                                    "SafetyStockLevel": "500",
                                    "SellEndDate": "NULL"
                                },
                                {
                                    "Name": "HL Road Tire",
                                    "ListPrice": "32.60",
                                    "SafetyStockLevel": "500",
                                    "SellEndDate": "NULL"
                                },
                                {
                                    "Name": "HL Touring Frame - Blue, 46",
                                    "ListPrice": "1003.91",
                                    "SafetyStockLevel": "500",
                                    "SellEndDate": "NULL"
                                },
                                {
                                    "Name": "HL Touring Frame - Blue, 50",
                                    "ListPrice": "1003.91",
                                    "SafetyStockLevel": "500",
                                    "SellEndDate": "NULL"
                                },
                                {
                                    "Name": "HL Touring Frame - Blue, 54",
                                    "ListPrice": "1003.91",
                                    "SafetyStockLevel": "500",
                                    "SellEndDate": "NULL"
                                },
                                {
                                    "Name": "HL Touring Frame - Blue, 60",
                                    "ListPrice": "1003.91",
                                    "SafetyStockLevel": "500",
                                    "SellEndDate": "NULL"
                                },
                                {
                                    "Name": "HL Touring Frame - Yellow, 46",
                                    "ListPrice": "1003.91",
                                    "SafetyStockLevel": "500",
                                    "SellEndDate": "NULL"
                                },
                                {
                                    "Name": "HL Touring Frame - Yellow, 50",
                                    "ListPrice": "1003.91",
                                    "SafetyStockLevel": "500",
                                    "SellEndDate": "NULL"
                                },
                                {
                                    "Name": "HL Touring Frame - Yellow, 54",
                                    "ListPrice": "1003.91",
                                    "SafetyStockLevel": "500",
                                    "SellEndDate": "NULL"
                                },
                                {
                                    "Name": "HL Touring Frame - Yellow, 60",
                                    "ListPrice": "1003.91",
                                    "SafetyStockLevel": "500",
                                    "SellEndDate": "NULL"
                                },
                                {
                                    "Name": "HL Touring Handlebars",
                                    "ListPrice": "91.57",
                                    "SafetyStockLevel": "500",
                                    "SellEndDate": "NULL"
                                },
                                {
                                    "Name": "HL Touring Seat/Saddle",
                                    "ListPrice": "52.64",
                                    "SafetyStockLevel": "500",
                                    "SellEndDate": "NULL"
                                },
                                {
                                    "Name": "LL Bottom Bracket",
                                    "ListPrice": "53.99",
                                    "SafetyStockLevel": "500",
                                    "SellEndDate": "NULL"
                                },
                                {
                                    "Name": "LL Crankset",
                                    "ListPrice": "175.49",
                                    "SafetyStockLevel": "500",
                                    "SellEndDate": "NULL"
                                },
                                {
                                    "Name": "LL Mountain Frame - Black, 40",
                                    "ListPrice": "249.79",
                                    "SafetyStockLevel": "500",
                                    "SellEndDate": "NULL"
                                },
                                {
                                    "Name": "LL Mountain Frame - Black, 42",
                                    "ListPrice": "249.79",
                                    "SafetyStockLevel": "500",
                                    "SellEndDate": "NULL"
                                },
                                {
                                    "Name": "LL Mountain Frame - Black, 44",
                                    "ListPrice": "249.79",
                                    "SafetyStockLevel": "500",
                                    "SellEndDate": "NULL"
                                },
                                {
                                    "Name": "LL Mountain Frame - Black, 48",
                                    "ListPrice": "249.79",
                                    "SafetyStockLevel": "500",
                                    "SellEndDate": "NULL"
                                },
                                {
                                    "Name": "LL Mountain Frame - Black, 52",
                                    "ListPrice": "249.79",
                                    "SafetyStockLevel": "500",
                                    "SellEndDate": "NULL"
                                },
                                {
                                    "Name": "LL Mountain Frame - Silver, 40",
                                    "ListPrice": "264.05",
                                    "SafetyStockLevel": "500",
                                    "SellEndDate": "NULL"
                                },
                                {
                                    "Name": "LL Mountain Frame - Silver, 42",
                                    "ListPrice": "264.05",
                                    "SafetyStockLevel": "500",
                                    "SellEndDate": "NULL"
                                },
                                {
                                    "Name": "LL Mountain Frame - Silver, 44",
                                    "ListPrice": "264.05",
                                    "SafetyStockLevel": "500",
                                    "SellEndDate": "NULL"
                                },
                                {
                                    "Name": "LL Mountain Frame - Silver, 48",
                                    "ListPrice": "264.05",
                                    "SafetyStockLevel": "500",
                                    "SellEndDate": "NULL"
                                },
                                {
                                    "Name": "LL Mountain Frame - Silver, 52",
                                    "ListPrice": "264.05",
                                    "SafetyStockLevel": "500",
                                    "SellEndDate": "NULL"
                                },
                                {
                                    "Name": "LL Mountain Handlebars",
                                    "ListPrice": "44.54",
                                    "SafetyStockLevel": "500",
                                    "SellEndDate": "NULL"
                                },
                                {
                                    "Name": "LL Mountain Pedal",
                                    "ListPrice": "40.49",
                                    "SafetyStockLevel": "500",
                                    "SellEndDate": "NULL"
                                },
                                {
                                    "Name": "LL Mountain Seat/Saddle",
                                    "ListPrice": "27.12",
                                    "SafetyStockLevel": "500",
                                    "SellEndDate": "NULL"
                                },
                                {
                                    "Name": "LL Mountain Tire",
                                    "ListPrice": "24.99",
                                    "SafetyStockLevel": "500",
                                    "SellEndDate": "NULL"
                                },
                                {
                                    "Name": "LL Road Frame - Black, 44",
                                    "ListPrice": "337.22",
                                    "SafetyStockLevel": "500",
                                    "SellEndDate": "NULL"
                                },
                                {
                                    "Name": "LL Road Frame - Black, 48",
                                    "ListPrice": "337.22",
                                    "SafetyStockLevel": "500",
                                    "SellEndDate": "NULL"
                                },
                                {
                                    "Name": "LL Road Frame - Black, 52",
                                    "ListPrice": "337.22",
                                    "SafetyStockLevel": "500",
                                    "SellEndDate": "NULL"
                                },
                                {
                                    "Name": "LL Road Frame - Black, 58",
                                    "ListPrice": "337.22",
                                    "SafetyStockLevel": "500",
                                    "SellEndDate": "NULL"
                                },
                                {
                                    "Name": "LL Road Frame - Black, 60",
                                    "ListPrice": "337.22",
                                    "SafetyStockLevel": "500",
                                    "SellEndDate": "NULL"
                                },
                                {
                                    "Name": "LL Road Frame - Black, 62",
                                    "ListPrice": "337.22",
                                    "SafetyStockLevel": "500",
                                    "SellEndDate": "NULL"
                                },
                                {
                                    "Name": "LL Road Handlebars",
                                    "ListPrice": "44.54",
                                    "SafetyStockLevel": "500",
                                    "SellEndDate": "NULL"
                                },
                                {
                                    "Name": "LL Road Pedal",
                                    "ListPrice": "40.49",
                                    "SafetyStockLevel": "500",
                                    "SellEndDate": "NULL"
                                },
                                {
                                    "Name": "LL Road Seat/Saddle",
                                    "ListPrice": "27.12",
                                    "SafetyStockLevel": "500",
                                    "SellEndDate": "NULL"
                                },
                                {
                                    "Name": "LL Road Tire",
                                    "ListPrice": "21.49",
                                    "SafetyStockLevel": "500",
                                    "SellEndDate": "NULL"
                                },
                                {
                                    "Name": "LL Touring Frame - Blue, 44",
                                    "ListPrice": "333.42",
                                    "SafetyStockLevel": "500",
                                    "SellEndDate": "NULL"
                                },
                                {
                                    "Name": "LL Touring Frame - Blue, 50",
                                    "ListPrice": "333.42",
                                    "SafetyStockLevel": "500",
                                    "SellEndDate": "NULL"
                                },
                                {
                                    "Name": "LL Touring Frame - Blue, 54",
                                    "ListPrice": "333.42",
                                    "SafetyStockLevel": "500",
                                    "SellEndDate": "NULL"
                                },
                                {
                                    "Name": "LL Touring Frame - Blue, 58",
                                    "ListPrice": "333.42",
                                    "SafetyStockLevel": "500",
                                    "SellEndDate": "NULL"
                                },
                                {
                                    "Name": "LL Touring Frame - Blue, 62",
                                    "ListPrice": "333.42",
                                    "SafetyStockLevel": "500",
                                    "SellEndDate": "NULL"
                                },
                                {
                                    "Name": "LL Touring Frame - Yellow, 44",
                                    "ListPrice": "333.42",
                                    "SafetyStockLevel": "500",
                                    "SellEndDate": "NULL"
                                },
                                {
                                    "Name": "LL Touring Frame - Yellow, 50",
                                    "ListPrice": "333.42",
                                    "SafetyStockLevel": "500",
                                    "SellEndDate": "NULL"
                                },
                                {
                                    "Name": "LL Touring Frame - Yellow, 54",
                                    "ListPrice": "333.42",
                                    "SafetyStockLevel": "500",
                                    "SellEndDate": "NULL"
                                },
                                {
                                    "Name": "LL Touring Frame - Yellow, 58",
                                    "ListPrice": "333.42",
                                    "SafetyStockLevel": "500",
                                    "SellEndDate": "NULL"
                                },
                                {
                                    "Name": "LL Touring Frame - Yellow, 62",
                                    "ListPrice": "333.42",
                                    "SafetyStockLevel": "500",
                                    "SellEndDate": "NULL"
                                },
                                {
                                    "Name": "LL Touring Handlebars",
                                    "ListPrice": "46.09",
                                    "SafetyStockLevel": "500",
                                    "SellEndDate": "NULL"
                                },
                                {
                                    "Name": "LL Touring Seat/Saddle",
                                    "ListPrice": "27.12",
                                    "SafetyStockLevel": "500",
                                    "SellEndDate": "NULL"
                                },
                                {
                                    "Name": "ML Bottom Bracket",
                                    "ListPrice": "101.24",
                                    "SafetyStockLevel": "500",
                                    "SellEndDate": "NULL"
                                },
                                {
                                    "Name": "ML Crankset",
                                    "ListPrice": "256.49",
                                    "SafetyStockLevel": "500",
                                    "SellEndDate": "NULL"
                                },
                                {
                                    "Name": "ML Mountain Frame-W - Silver, 38",
                                    "ListPrice": "364.09",
                                    "SafetyStockLevel": "500",
                                    "SellEndDate": "NULL"
                                },
                                {
                                    "Name": "ML Mountain Frame-W - Silver, 40",
                                    "ListPrice": "364.09",
                                    "SafetyStockLevel": "500",
                                    "SellEndDate": "NULL"
                                },
                                {
                                    "Name": "ML Mountain Frame-W - Silver, 42",
                                    "ListPrice": "364.09",
                                    "SafetyStockLevel": "500",
                                    "SellEndDate": "NULL"
                                },
                                {
                                    "Name": "ML Mountain Frame-W - Silver, 46",
                                    "ListPrice": "364.09",
                                    "SafetyStockLevel": "500",
                                    "SellEndDate": "NULL"
                                },
                                {
                                    "Name": "ML Mountain Handlebars",
                                    "ListPrice": "61.92",
                                    "SafetyStockLevel": "500",
                                    "SellEndDate": "NULL"
                                },
                                {
                                    "Name": "ML Mountain Pedal",
                                    "ListPrice": "62.09",
                                    "SafetyStockLevel": "500",
                                    "SellEndDate": "NULL"
                                },
                                {
                                    "Name": "ML Mountain Seat/Saddle",
                                    "ListPrice": "39.14",
                                    "SafetyStockLevel": "500",
                                    "SellEndDate": "NULL"
                                },
                                {
                                    "Name": "ML Mountain Tire",
                                    "ListPrice": "29.99",
                                    "SafetyStockLevel": "500",
                                    "SellEndDate": "NULL"
                                },
                                {
                                    "Name": "ML Road Frame-W - Yellow, 38",
                                    "ListPrice": "594.83",
                                    "SafetyStockLevel": "500",
                                    "SellEndDate": "NULL"
                                },
                                {
                                    "Name": "ML Road Frame-W - Yellow, 40",
                                    "ListPrice": "594.83",
                                    "SafetyStockLevel": "500",
                                    "SellEndDate": "NULL"
                                },
                                {
                                    "Name": "ML Road Frame-W - Yellow, 42",
                                    "ListPrice": "594.83",
                                    "SafetyStockLevel": "500",
                                    "SellEndDate": "NULL"
                                },
                                {
                                    "Name": "ML Road Frame-W - Yellow, 44",
                                    "ListPrice": "594.83",
                                    "SafetyStockLevel": "500",
                                    "SellEndDate": "NULL"
                                },
                                {
                                    "Name": "ML Road Frame-W - Yellow, 48",
                                    "ListPrice": "594.83",
                                    "SafetyStockLevel": "500",
                                    "SellEndDate": "NULL"
                                },
                                {
                                    "Name": "ML Road Handlebars",
                                    "ListPrice": "61.92",
                                    "SafetyStockLevel": "500",
                                    "SellEndDate": "NULL"
                                },
                                {
                                    "Name": "ML Road Pedal",
                                    "ListPrice": "62.09",
                                    "SafetyStockLevel": "500",
                                    "SellEndDate": "NULL"
                                },
                                {
                                    "Name": "ML Road Seat/Saddle",
                                    "ListPrice": "39.14",
                                    "SafetyStockLevel": "500",
                                    "SellEndDate": "NULL"
                                },
                                {
                                    "Name": "ML Road Tire",
                                    "ListPrice": "24.99",
                                    "SafetyStockLevel": "500",
                                    "SellEndDate": "NULL"
                                },
                                {
                                    "Name": "ML Touring Seat/Saddle",
                                    "ListPrice": "39.14",
                                    "SafetyStockLevel": "500",
                                    "SellEndDate": "NULL"
                                },
                                {
                                    "Name": "Mountain Tire Tube",
                                    "ListPrice": "4.99",
                                    "SafetyStockLevel": "500",
                                    "SellEndDate": "NULL"
                                },
                                {
                                    "Name": "Rear Brakes",
                                    "ListPrice": "106.50",
                                    "SafetyStockLevel": "500",
                                    "SellEndDate": "NULL"
                                },
                                {
                                    "Name": "Rear Derailleur",
                                    "ListPrice": "121.46",
                                    "SafetyStockLevel": "500",
                                    "SellEndDate": "NULL"
                                },
                                {
                                    "Name": "Road Tire Tube",
                                    "ListPrice": "3.99",
                                    "SafetyStockLevel": "500",
                                    "SellEndDate": "NULL"
                                },
                                {
                                    "Name": "Touring Pedal",
                                    "ListPrice": "80.99",
                                    "SafetyStockLevel": "500",
                                    "SellEndDate": "NULL"
                                },
                                {
                                    "Name": "Touring Tire",
                                    "ListPrice": "28.99",
                                    "SafetyStockLevel": "500",
                                    "SellEndDate": "NULL"
                                },
                                {
                                    "Name": "Touring Tire Tube",
                                    "ListPrice": "4.99",
                                    "SafetyStockLevel": "500",
                                    "SellEndDate": "NULL"
                                }
                            ]
                        },
                        "text/html": "<table><tr><th>Name</th><th>ListPrice</th><th>SafetyStockLevel</th><th>SellEndDate</th></tr><tr><td>All-Purpose Bike Stand</td><td>159.00</td><td>4</td><td>NULL</td></tr><tr><td>AWC Logo Cap</td><td>8.99</td><td>4</td><td>NULL</td></tr><tr><td>Bike Wash - Dissolver</td><td>7.95</td><td>4</td><td>NULL</td></tr><tr><td>Classic Vest, L</td><td>63.50</td><td>4</td><td>NULL</td></tr><tr><td>Classic Vest, M</td><td>63.50</td><td>4</td><td>NULL</td></tr><tr><td>Classic Vest, S</td><td>63.50</td><td>4</td><td>NULL</td></tr><tr><td>Fender Set - Mountain</td><td>21.98</td><td>4</td><td>NULL</td></tr><tr><td>Half-Finger Gloves, L</td><td>24.49</td><td>4</td><td>NULL</td></tr><tr><td>Half-Finger Gloves, M</td><td>24.49</td><td>4</td><td>NULL</td></tr><tr><td>Half-Finger Gloves, S</td><td>24.49</td><td>4</td><td>NULL</td></tr><tr><td>Hitch Rack - 4-Bike</td><td>120.00</td><td>4</td><td>NULL</td></tr><tr><td>Hydration Pack - 70 oz.</td><td>54.99</td><td>4</td><td>NULL</td></tr><tr><td>Long-Sleeve Logo Jersey, L</td><td>49.99</td><td>4</td><td>NULL</td></tr><tr><td>Long-Sleeve Logo Jersey, M</td><td>49.99</td><td>4</td><td>NULL</td></tr><tr><td>Long-Sleeve Logo Jersey, S</td><td>49.99</td><td>4</td><td>NULL</td></tr><tr><td>Long-Sleeve Logo Jersey, XL</td><td>49.99</td><td>4</td><td>NULL</td></tr><tr><td>Mountain Bottle Cage</td><td>9.99</td><td>4</td><td>NULL</td></tr><tr><td>Patch Kit/8 Patches</td><td>2.29</td><td>4</td><td>NULL</td></tr><tr><td>Racing Socks, L</td><td>8.99</td><td>4</td><td>NULL</td></tr><tr><td>Racing Socks, M</td><td>8.99</td><td>4</td><td>NULL</td></tr><tr><td>Road Bottle Cage</td><td>8.99</td><td>4</td><td>NULL</td></tr><tr><td>Short-Sleeve Classic Jersey, L</td><td>53.99</td><td>4</td><td>NULL</td></tr><tr><td>Short-Sleeve Classic Jersey, M</td><td>53.99</td><td>4</td><td>NULL</td></tr><tr><td>Short-Sleeve Classic Jersey, S</td><td>53.99</td><td>4</td><td>NULL</td></tr><tr><td>Short-Sleeve Classic Jersey, XL</td><td>53.99</td><td>4</td><td>NULL</td></tr><tr><td>Sport-100 Helmet, Black</td><td>34.99</td><td>4</td><td>NULL</td></tr><tr><td>Sport-100 Helmet, Blue</td><td>34.99</td><td>4</td><td>NULL</td></tr><tr><td>Sport-100 Helmet, Red</td><td>34.99</td><td>4</td><td>NULL</td></tr><tr><td>Water Bottle - 30 oz.</td><td>4.99</td><td>4</td><td>NULL</td></tr><tr><td>Women&#39;s Mountain Shorts, L</td><td>69.99</td><td>4</td><td>NULL</td></tr><tr><td>Women&#39;s Mountain Shorts, M</td><td>69.99</td><td>4</td><td>NULL</td></tr><tr><td>Women&#39;s Mountain Shorts, S</td><td>69.99</td><td>4</td><td>NULL</td></tr><tr><td>Mountain-200 Black, 38</td><td>2294.99</td><td>100</td><td>NULL</td></tr><tr><td>Mountain-200 Black, 42</td><td>2294.99</td><td>100</td><td>NULL</td></tr><tr><td>Mountain-200 Black, 46</td><td>2294.99</td><td>100</td><td>NULL</td></tr><tr><td>Mountain-200 Silver, 38</td><td>2319.99</td><td>100</td><td>NULL</td></tr><tr><td>Mountain-200 Silver, 42</td><td>2319.99</td><td>100</td><td>NULL</td></tr><tr><td>Mountain-200 Silver, 46</td><td>2319.99</td><td>100</td><td>NULL</td></tr><tr><td>Mountain-400-W Silver, 38</td><td>769.49</td><td>100</td><td>NULL</td></tr><tr><td>Mountain-400-W Silver, 40</td><td>769.49</td><td>100</td><td>NULL</td></tr><tr><td>Mountain-400-W Silver, 42</td><td>769.49</td><td>100</td><td>NULL</td></tr><tr><td>Mountain-400-W Silver, 46</td><td>769.49</td><td>100</td><td>NULL</td></tr><tr><td>Mountain-500 Black, 40</td><td>539.99</td><td>100</td><td>NULL</td></tr><tr><td>Mountain-500 Black, 42</td><td>539.99</td><td>100</td><td>NULL</td></tr><tr><td>Mountain-500 Black, 44</td><td>539.99</td><td>100</td><td>NULL</td></tr><tr><td>Mountain-500 Black, 48</td><td>539.99</td><td>100</td><td>NULL</td></tr><tr><td>Mountain-500 Black, 52</td><td>539.99</td><td>100</td><td>NULL</td></tr><tr><td>Mountain-500 Silver, 40</td><td>564.99</td><td>100</td><td>NULL</td></tr><tr><td>Mountain-500 Silver, 42</td><td>564.99</td><td>100</td><td>NULL</td></tr><tr><td>Mountain-500 Silver, 44</td><td>564.99</td><td>100</td><td>NULL</td></tr><tr><td>Mountain-500 Silver, 48</td><td>564.99</td><td>100</td><td>NULL</td></tr><tr><td>Mountain-500 Silver, 52</td><td>564.99</td><td>100</td><td>NULL</td></tr><tr><td>Road-250 Black, 44</td><td>2443.35</td><td>100</td><td>NULL</td></tr><tr><td>Road-250 Black, 48</td><td>2443.35</td><td>100</td><td>NULL</td></tr><tr><td>Road-250 Black, 52</td><td>2443.35</td><td>100</td><td>NULL</td></tr><tr><td>Road-250 Black, 58</td><td>2443.35</td><td>100</td><td>NULL</td></tr><tr><td>Road-250 Red, 58</td><td>2443.35</td><td>100</td><td>NULL</td></tr><tr><td>Road-350-W Yellow, 40</td><td>1700.99</td><td>100</td><td>NULL</td></tr><tr><td>Road-350-W Yellow, 42</td><td>1700.99</td><td>100</td><td>NULL</td></tr><tr><td>Road-350-W Yellow, 44</td><td>1700.99</td><td>100</td><td>NULL</td></tr><tr><td>Road-350-W Yellow, 48</td><td>1700.99</td><td>100</td><td>NULL</td></tr><tr><td>Road-550-W Yellow, 38</td><td>1120.49</td><td>100</td><td>NULL</td></tr><tr><td>Road-550-W Yellow, 40</td><td>1120.49</td><td>100</td><td>NULL</td></tr><tr><td>Road-550-W Yellow, 42</td><td>1120.49</td><td>100</td><td>NULL</td></tr><tr><td>Road-550-W Yellow, 44</td><td>1120.49</td><td>100</td><td>NULL</td></tr><tr><td>Road-550-W Yellow, 48</td><td>1120.49</td><td>100</td><td>NULL</td></tr><tr><td>Road-750 Black, 44</td><td>539.99</td><td>100</td><td>NULL</td></tr><tr><td>Road-750 Black, 48</td><td>539.99</td><td>100</td><td>NULL</td></tr><tr><td>Road-750 Black, 52</td><td>539.99</td><td>100</td><td>NULL</td></tr><tr><td>Road-750 Black, 58</td><td>539.99</td><td>100</td><td>NULL</td></tr><tr><td>Touring-1000 Blue, 46</td><td>2384.07</td><td>100</td><td>NULL</td></tr><tr><td>Touring-1000 Blue, 50</td><td>2384.07</td><td>100</td><td>NULL</td></tr><tr><td>Touring-1000 Blue, 54</td><td>2384.07</td><td>100</td><td>NULL</td></tr><tr><td>Touring-1000 Blue, 60</td><td>2384.07</td><td>100</td><td>NULL</td></tr><tr><td>Touring-1000 Yellow, 46</td><td>2384.07</td><td>100</td><td>NULL</td></tr><tr><td>Touring-1000 Yellow, 50</td><td>2384.07</td><td>100</td><td>NULL</td></tr><tr><td>Touring-1000 Yellow, 54</td><td>2384.07</td><td>100</td><td>NULL</td></tr><tr><td>Touring-1000 Yellow, 60</td><td>2384.07</td><td>100</td><td>NULL</td></tr><tr><td>Touring-2000 Blue, 46</td><td>1214.85</td><td>100</td><td>NULL</td></tr><tr><td>Touring-2000 Blue, 50</td><td>1214.85</td><td>100</td><td>NULL</td></tr><tr><td>Touring-2000 Blue, 54</td><td>1214.85</td><td>100</td><td>NULL</td></tr><tr><td>Touring-2000 Blue, 60</td><td>1214.85</td><td>100</td><td>NULL</td></tr><tr><td>Touring-3000 Blue, 44</td><td>742.35</td><td>100</td><td>NULL</td></tr><tr><td>Touring-3000 Blue, 50</td><td>742.35</td><td>100</td><td>NULL</td></tr><tr><td>Touring-3000 Blue, 54</td><td>742.35</td><td>100</td><td>NULL</td></tr><tr><td>Touring-3000 Blue, 58</td><td>742.35</td><td>100</td><td>NULL</td></tr><tr><td>Touring-3000 Blue, 62</td><td>742.35</td><td>100</td><td>NULL</td></tr><tr><td>Touring-3000 Yellow, 44</td><td>742.35</td><td>100</td><td>NULL</td></tr><tr><td>Touring-3000 Yellow, 50</td><td>742.35</td><td>100</td><td>NULL</td></tr><tr><td>Touring-3000 Yellow, 54</td><td>742.35</td><td>100</td><td>NULL</td></tr><tr><td>Touring-3000 Yellow, 58</td><td>742.35</td><td>100</td><td>NULL</td></tr><tr><td>Touring-3000 Yellow, 62</td><td>742.35</td><td>100</td><td>NULL</td></tr><tr><td>Chain</td><td>20.24</td><td>500</td><td>NULL</td></tr><tr><td>Front Brakes</td><td>106.50</td><td>500</td><td>NULL</td></tr><tr><td>Front Derailleur</td><td>91.49</td><td>500</td><td>NULL</td></tr><tr><td>HL Bottom Bracket</td><td>121.49</td><td>500</td><td>NULL</td></tr><tr><td>HL Crankset</td><td>404.99</td><td>500</td><td>NULL</td></tr><tr><td>HL Mountain Frame - Black, 38</td><td>1349.60</td><td>500</td><td>NULL</td></tr><tr><td>HL Mountain Frame - Black, 42</td><td>1349.60</td><td>500</td><td>NULL</td></tr><tr><td>HL Mountain Frame - Black, 46</td><td>1349.60</td><td>500</td><td>NULL</td></tr><tr><td>HL Mountain Frame - Silver, 38</td><td>1364.50</td><td>500</td><td>NULL</td></tr><tr><td>HL Mountain Frame - Silver, 42</td><td>1364.50</td><td>500</td><td>NULL</td></tr><tr><td>HL Mountain Frame - Silver, 46</td><td>1364.50</td><td>500</td><td>NULL</td></tr><tr><td>HL Mountain Handlebars</td><td>120.27</td><td>500</td><td>NULL</td></tr><tr><td>HL Mountain Pedal</td><td>80.99</td><td>500</td><td>NULL</td></tr><tr><td>HL Mountain Seat/Saddle</td><td>52.64</td><td>500</td><td>NULL</td></tr><tr><td>HL Mountain Tire</td><td>35.00</td><td>500</td><td>NULL</td></tr><tr><td>HL Road Frame - Black, 44</td><td>1431.50</td><td>500</td><td>NULL</td></tr><tr><td>HL Road Frame - Black, 48</td><td>1431.50</td><td>500</td><td>NULL</td></tr><tr><td>HL Road Frame - Black, 52</td><td>1431.50</td><td>500</td><td>NULL</td></tr><tr><td>HL Road Frame - Black, 58</td><td>1431.50</td><td>500</td><td>NULL</td></tr><tr><td>HL Road Frame - Black, 62</td><td>1431.50</td><td>500</td><td>NULL</td></tr><tr><td>HL Road Frame - Red, 44</td><td>1431.50</td><td>500</td><td>NULL</td></tr><tr><td>HL Road Frame - Red, 48</td><td>1431.50</td><td>500</td><td>NULL</td></tr><tr><td>HL Road Frame - Red, 52</td><td>1431.50</td><td>500</td><td>NULL</td></tr><tr><td>HL Road Frame - Red, 56</td><td>1431.50</td><td>500</td><td>NULL</td></tr><tr><td>HL Road Frame - Red, 58</td><td>1431.50</td><td>500</td><td>NULL</td></tr><tr><td>HL Road Frame - Red, 62</td><td>1431.50</td><td>500</td><td>NULL</td></tr><tr><td>HL Road Handlebars</td><td>120.27</td><td>500</td><td>NULL</td></tr><tr><td>HL Road Pedal</td><td>80.99</td><td>500</td><td>NULL</td></tr><tr><td>HL Road Seat/Saddle</td><td>52.64</td><td>500</td><td>NULL</td></tr><tr><td>HL Road Tire</td><td>32.60</td><td>500</td><td>NULL</td></tr><tr><td>HL Touring Frame - Blue, 46</td><td>1003.91</td><td>500</td><td>NULL</td></tr><tr><td>HL Touring Frame - Blue, 50</td><td>1003.91</td><td>500</td><td>NULL</td></tr><tr><td>HL Touring Frame - Blue, 54</td><td>1003.91</td><td>500</td><td>NULL</td></tr><tr><td>HL Touring Frame - Blue, 60</td><td>1003.91</td><td>500</td><td>NULL</td></tr><tr><td>HL Touring Frame - Yellow, 46</td><td>1003.91</td><td>500</td><td>NULL</td></tr><tr><td>HL Touring Frame - Yellow, 50</td><td>1003.91</td><td>500</td><td>NULL</td></tr><tr><td>HL Touring Frame - Yellow, 54</td><td>1003.91</td><td>500</td><td>NULL</td></tr><tr><td>HL Touring Frame - Yellow, 60</td><td>1003.91</td><td>500</td><td>NULL</td></tr><tr><td>HL Touring Handlebars</td><td>91.57</td><td>500</td><td>NULL</td></tr><tr><td>HL Touring Seat/Saddle</td><td>52.64</td><td>500</td><td>NULL</td></tr><tr><td>LL Bottom Bracket</td><td>53.99</td><td>500</td><td>NULL</td></tr><tr><td>LL Crankset</td><td>175.49</td><td>500</td><td>NULL</td></tr><tr><td>LL Mountain Frame - Black, 40</td><td>249.79</td><td>500</td><td>NULL</td></tr><tr><td>LL Mountain Frame - Black, 42</td><td>249.79</td><td>500</td><td>NULL</td></tr><tr><td>LL Mountain Frame - Black, 44</td><td>249.79</td><td>500</td><td>NULL</td></tr><tr><td>LL Mountain Frame - Black, 48</td><td>249.79</td><td>500</td><td>NULL</td></tr><tr><td>LL Mountain Frame - Black, 52</td><td>249.79</td><td>500</td><td>NULL</td></tr><tr><td>LL Mountain Frame - Silver, 40</td><td>264.05</td><td>500</td><td>NULL</td></tr><tr><td>LL Mountain Frame - Silver, 42</td><td>264.05</td><td>500</td><td>NULL</td></tr><tr><td>LL Mountain Frame - Silver, 44</td><td>264.05</td><td>500</td><td>NULL</td></tr><tr><td>LL Mountain Frame - Silver, 48</td><td>264.05</td><td>500</td><td>NULL</td></tr><tr><td>LL Mountain Frame - Silver, 52</td><td>264.05</td><td>500</td><td>NULL</td></tr><tr><td>LL Mountain Handlebars</td><td>44.54</td><td>500</td><td>NULL</td></tr><tr><td>LL Mountain Pedal</td><td>40.49</td><td>500</td><td>NULL</td></tr><tr><td>LL Mountain Seat/Saddle</td><td>27.12</td><td>500</td><td>NULL</td></tr><tr><td>LL Mountain Tire</td><td>24.99</td><td>500</td><td>NULL</td></tr><tr><td>LL Road Frame - Black, 44</td><td>337.22</td><td>500</td><td>NULL</td></tr><tr><td>LL Road Frame - Black, 48</td><td>337.22</td><td>500</td><td>NULL</td></tr><tr><td>LL Road Frame - Black, 52</td><td>337.22</td><td>500</td><td>NULL</td></tr><tr><td>LL Road Frame - Black, 58</td><td>337.22</td><td>500</td><td>NULL</td></tr><tr><td>LL Road Frame - Black, 60</td><td>337.22</td><td>500</td><td>NULL</td></tr><tr><td>LL Road Frame - Black, 62</td><td>337.22</td><td>500</td><td>NULL</td></tr><tr><td>LL Road Handlebars</td><td>44.54</td><td>500</td><td>NULL</td></tr><tr><td>LL Road Pedal</td><td>40.49</td><td>500</td><td>NULL</td></tr><tr><td>LL Road Seat/Saddle</td><td>27.12</td><td>500</td><td>NULL</td></tr><tr><td>LL Road Tire</td><td>21.49</td><td>500</td><td>NULL</td></tr><tr><td>LL Touring Frame - Blue, 44</td><td>333.42</td><td>500</td><td>NULL</td></tr><tr><td>LL Touring Frame - Blue, 50</td><td>333.42</td><td>500</td><td>NULL</td></tr><tr><td>LL Touring Frame - Blue, 54</td><td>333.42</td><td>500</td><td>NULL</td></tr><tr><td>LL Touring Frame - Blue, 58</td><td>333.42</td><td>500</td><td>NULL</td></tr><tr><td>LL Touring Frame - Blue, 62</td><td>333.42</td><td>500</td><td>NULL</td></tr><tr><td>LL Touring Frame - Yellow, 44</td><td>333.42</td><td>500</td><td>NULL</td></tr><tr><td>LL Touring Frame - Yellow, 50</td><td>333.42</td><td>500</td><td>NULL</td></tr><tr><td>LL Touring Frame - Yellow, 54</td><td>333.42</td><td>500</td><td>NULL</td></tr><tr><td>LL Touring Frame - Yellow, 58</td><td>333.42</td><td>500</td><td>NULL</td></tr><tr><td>LL Touring Frame - Yellow, 62</td><td>333.42</td><td>500</td><td>NULL</td></tr><tr><td>LL Touring Handlebars</td><td>46.09</td><td>500</td><td>NULL</td></tr><tr><td>LL Touring Seat/Saddle</td><td>27.12</td><td>500</td><td>NULL</td></tr><tr><td>ML Bottom Bracket</td><td>101.24</td><td>500</td><td>NULL</td></tr><tr><td>ML Crankset</td><td>256.49</td><td>500</td><td>NULL</td></tr><tr><td>ML Mountain Frame-W - Silver, 38</td><td>364.09</td><td>500</td><td>NULL</td></tr><tr><td>ML Mountain Frame-W - Silver, 40</td><td>364.09</td><td>500</td><td>NULL</td></tr><tr><td>ML Mountain Frame-W - Silver, 42</td><td>364.09</td><td>500</td><td>NULL</td></tr><tr><td>ML Mountain Frame-W - Silver, 46</td><td>364.09</td><td>500</td><td>NULL</td></tr><tr><td>ML Mountain Handlebars</td><td>61.92</td><td>500</td><td>NULL</td></tr><tr><td>ML Mountain Pedal</td><td>62.09</td><td>500</td><td>NULL</td></tr><tr><td>ML Mountain Seat/Saddle</td><td>39.14</td><td>500</td><td>NULL</td></tr><tr><td>ML Mountain Tire</td><td>29.99</td><td>500</td><td>NULL</td></tr><tr><td>ML Road Frame-W - Yellow, 38</td><td>594.83</td><td>500</td><td>NULL</td></tr><tr><td>ML Road Frame-W - Yellow, 40</td><td>594.83</td><td>500</td><td>NULL</td></tr><tr><td>ML Road Frame-W - Yellow, 42</td><td>594.83</td><td>500</td><td>NULL</td></tr><tr><td>ML Road Frame-W - Yellow, 44</td><td>594.83</td><td>500</td><td>NULL</td></tr><tr><td>ML Road Frame-W - Yellow, 48</td><td>594.83</td><td>500</td><td>NULL</td></tr><tr><td>ML Road Handlebars</td><td>61.92</td><td>500</td><td>NULL</td></tr><tr><td>ML Road Pedal</td><td>62.09</td><td>500</td><td>NULL</td></tr><tr><td>ML Road Seat/Saddle</td><td>39.14</td><td>500</td><td>NULL</td></tr><tr><td>ML Road Tire</td><td>24.99</td><td>500</td><td>NULL</td></tr><tr><td>ML Touring Seat/Saddle</td><td>39.14</td><td>500</td><td>NULL</td></tr><tr><td>Mountain Tire Tube</td><td>4.99</td><td>500</td><td>NULL</td></tr><tr><td>Rear Brakes</td><td>106.50</td><td>500</td><td>NULL</td></tr><tr><td>Rear Derailleur</td><td>121.46</td><td>500</td><td>NULL</td></tr><tr><td>Road Tire Tube</td><td>3.99</td><td>500</td><td>NULL</td></tr><tr><td>Touring Pedal</td><td>80.99</td><td>500</td><td>NULL</td></tr><tr><td>Touring Tire</td><td>28.99</td><td>500</td><td>NULL</td></tr><tr><td>Touring Tire Tube</td><td>4.99</td><td>500</td><td>NULL</td></tr></table>"
                    },
                    "metadata": {}
                }
            ],
            "execution_count": 6
        },
        {
            "cell_type": "markdown",
            "source": [
                "<span style=\"font-size: 12pt; font-family: &quot;Times New Roman&quot;, serif; color: rgb(0, 0, 0); background-color: transparent; font-variant-numeric: normal; font-variant-east-asian: normal; font-variant-alternates: normal; vertical-align: baseline; white-space-collapse: preserve;\">The product management team would like to verify that the colors of all products are listed correctly in the database.&nbsp; Write a SQL query that looks for any product in the database where the product name contains “yellow” and the color field is not set to “Yellow”.&nbsp; Return the product's name and color, sorted by product name in alphabetical order.&nbsp; (Remember, our database is case insensitive, so capitalization doesn’t matter.)</span>"
            ],
            "metadata": {
                "azdata_cell_guid": "9d342030-3155-4313-a82c-43c15da67a43"
            },
            "attachments": {}
        },
        {
            "cell_type": "code",
            "source": [
                "--Question 2B\n",
                "SELECT DISTINCT Name\n",
                ",Color\n",
                "FROM Production.Product\n",
                "WHERE Name LIKE '%Yellow%' --finds names containing yellow\n",
                "AND Color NOT LIKE '%Yellow%' --finds colors that are not labeled as yellow\n",
                "ORDER BY Name ASC"
            ],
            "metadata": {
                "language": "sql",
                "azdata_cell_guid": "8fec9861-2d95-4113-9ddb-1ee3bd86389d"
            },
            "outputs": [
                {
                    "output_type": "display_data",
                    "data": {
                        "text/html": "(1 row affected)"
                    },
                    "metadata": {}
                },
                {
                    "output_type": "display_data",
                    "data": {
                        "text/html": "Total execution time: 00:00:00.060"
                    },
                    "metadata": {}
                },
                {
                    "output_type": "execute_result",
                    "metadata": {},
                    "execution_count": 1,
                    "data": {
                        "application/vnd.dataresource+json": {
                            "schema": {
                                "fields": [
                                    {
                                        "name": "Name"
                                    },
                                    {
                                        "name": "Color"
                                    }
                                ]
                            },
                            "data": [
                                {
                                    "Name": "Road-550-W Yellow, 40",
                                    "Color": "Blue"
                                }
                            ]
                        },
                        "text/html": [
                            "<table>",
                            "<tr><th>Name</th><th>Color</th></tr>",
                            "<tr><td>Road-550-W Yellow, 40</td><td>Blue</td></tr>",
                            "</table>"
                        ]
                    }
                }
            ],
            "execution_count": 1
        },
        {
            "cell_type": "markdown",
            "source": [
                "<span style=\"font-size: 12pt; font-family: &quot;Times New Roman&quot;, serif; color: rgb(0, 0, 0); background-color: transparent; font-variant-numeric: normal; font-variant-east-asian: normal; font-variant-alternates: normal; vertical-align: baseline; white-space-collapse: preserve;\">As part of the product refresh cycle, the product managers would like to perform a review of all products that AdventureWorks began selling during the first five months of 2013.&nbsp; Create a list of those products, including the product name and the date it was first made available for sale.&nbsp; Sort the list in alphabetical order by product name.</span>\n",
                "\n",
                "<span style=\"font-size: 12pt; font-family: &quot;Times New Roman&quot;, serif; color: rgb(0, 0, 0); background-color: transparent; font-variant-numeric: normal; font-variant-east-asian: normal; font-variant-alternates: normal; vertical-align: baseline; white-space-collapse: preserve;\"><br></span>"
            ],
            "metadata": {
                "azdata_cell_guid": "ab6528c5-f818-419b-a245-67d17abcdb18"
            },
            "attachments": {}
        },
        {
            "cell_type": "code",
            "source": [
                "-- Question 2C\n",
                "SELECT DISTINCT Name\n",
                ",SellStartDate\n",
                "FROM Production.Product\n",
                "WHERE FinishedGoodsFlag = 1\n",
                "AND SellStartDate >= '2013-01-01' --finds start date that is greater than / equal to Jan 1 2013\n",
                "AND SellStartDate < '2013-06-01' -- finds start dates that are lesser than June 1 2013 (so it contains all of May)\n",
                "AND SellEndDate IS NULL -- and only keeps current products in the rotation\n",
                "ORDER BY Name ASC"
            ],
            "metadata": {
                "language": "sql",
                "azdata_cell_guid": "98f3ab1c-cf6c-41b2-9b3b-2ed92a82c3f5"
            },
            "outputs": [
                {
                    "output_type": "display_data",
                    "data": {
                        "text/html": "(136 rows affected)"
                    },
                    "metadata": {}
                },
                {
                    "output_type": "display_data",
                    "data": {
                        "text/html": "Total execution time: 00:00:00.042"
                    },
                    "metadata": {}
                },
                {
                    "output_type": "execute_result",
                    "execution_count": 8,
                    "data": {
                        "application/vnd.dataresource+json": {
                            "schema": {
                                "fields": [
                                    {
                                        "name": "Name"
                                    },
                                    {
                                        "name": "SellStartDate"
                                    }
                                ]
                            },
                            "data": [
                                {
                                    "Name": "All-Purpose Bike Stand",
                                    "SellStartDate": "2013-05-30 00:00:00.000"
                                },
                                {
                                    "Name": "Bike Wash - Dissolver",
                                    "SellStartDate": "2013-05-30 00:00:00.000"
                                },
                                {
                                    "Name": "Chain",
                                    "SellStartDate": "2013-05-30 00:00:00.000"
                                },
                                {
                                    "Name": "Classic Vest, L",
                                    "SellStartDate": "2013-05-30 00:00:00.000"
                                },
                                {
                                    "Name": "Classic Vest, M",
                                    "SellStartDate": "2013-05-30 00:00:00.000"
                                },
                                {
                                    "Name": "Classic Vest, S",
                                    "SellStartDate": "2013-05-30 00:00:00.000"
                                },
                                {
                                    "Name": "Fender Set - Mountain",
                                    "SellStartDate": "2013-05-30 00:00:00.000"
                                },
                                {
                                    "Name": "Front Brakes",
                                    "SellStartDate": "2013-05-30 00:00:00.000"
                                },
                                {
                                    "Name": "Front Derailleur",
                                    "SellStartDate": "2013-05-30 00:00:00.000"
                                },
                                {
                                    "Name": "Hitch Rack - 4-Bike",
                                    "SellStartDate": "2013-05-30 00:00:00.000"
                                },
                                {
                                    "Name": "HL Bottom Bracket",
                                    "SellStartDate": "2013-05-30 00:00:00.000"
                                },
                                {
                                    "Name": "HL Crankset",
                                    "SellStartDate": "2013-05-30 00:00:00.000"
                                },
                                {
                                    "Name": "HL Mountain Pedal",
                                    "SellStartDate": "2013-05-30 00:00:00.000"
                                },
                                {
                                    "Name": "HL Mountain Seat/Saddle",
                                    "SellStartDate": "2013-05-30 00:00:00.000"
                                },
                                {
                                    "Name": "HL Mountain Tire",
                                    "SellStartDate": "2013-05-30 00:00:00.000"
                                },
                                {
                                    "Name": "HL Road Pedal",
                                    "SellStartDate": "2013-05-30 00:00:00.000"
                                },
                                {
                                    "Name": "HL Road Seat/Saddle",
                                    "SellStartDate": "2013-05-30 00:00:00.000"
                                },
                                {
                                    "Name": "HL Road Tire",
                                    "SellStartDate": "2013-05-30 00:00:00.000"
                                },
                                {
                                    "Name": "HL Touring Frame - Blue, 46",
                                    "SellStartDate": "2013-05-30 00:00:00.000"
                                },
                                {
                                    "Name": "HL Touring Frame - Blue, 50",
                                    "SellStartDate": "2013-05-30 00:00:00.000"
                                },
                                {
                                    "Name": "HL Touring Frame - Blue, 54",
                                    "SellStartDate": "2013-05-30 00:00:00.000"
                                },
                                {
                                    "Name": "HL Touring Frame - Blue, 60",
                                    "SellStartDate": "2013-05-30 00:00:00.000"
                                },
                                {
                                    "Name": "HL Touring Frame - Yellow, 46",
                                    "SellStartDate": "2013-05-30 00:00:00.000"
                                },
                                {
                                    "Name": "HL Touring Frame - Yellow, 50",
                                    "SellStartDate": "2013-05-30 00:00:00.000"
                                },
                                {
                                    "Name": "HL Touring Frame - Yellow, 54",
                                    "SellStartDate": "2013-05-30 00:00:00.000"
                                },
                                {
                                    "Name": "HL Touring Frame - Yellow, 60",
                                    "SellStartDate": "2013-05-30 00:00:00.000"
                                },
                                {
                                    "Name": "HL Touring Handlebars",
                                    "SellStartDate": "2013-05-30 00:00:00.000"
                                },
                                {
                                    "Name": "HL Touring Seat/Saddle",
                                    "SellStartDate": "2013-05-30 00:00:00.000"
                                },
                                {
                                    "Name": "Hydration Pack - 70 oz.",
                                    "SellStartDate": "2013-05-30 00:00:00.000"
                                },
                                {
                                    "Name": "LL Bottom Bracket",
                                    "SellStartDate": "2013-05-30 00:00:00.000"
                                },
                                {
                                    "Name": "LL Crankset",
                                    "SellStartDate": "2013-05-30 00:00:00.000"
                                },
                                {
                                    "Name": "LL Mountain Frame - Black, 40",
                                    "SellStartDate": "2013-05-30 00:00:00.000"
                                },
                                {
                                    "Name": "LL Mountain Frame - Black, 42",
                                    "SellStartDate": "2013-05-30 00:00:00.000"
                                },
                                {
                                    "Name": "LL Mountain Frame - Black, 44",
                                    "SellStartDate": "2013-05-30 00:00:00.000"
                                },
                                {
                                    "Name": "LL Mountain Frame - Black, 48",
                                    "SellStartDate": "2013-05-30 00:00:00.000"
                                },
                                {
                                    "Name": "LL Mountain Frame - Black, 52",
                                    "SellStartDate": "2013-05-30 00:00:00.000"
                                },
                                {
                                    "Name": "LL Mountain Frame - Silver, 40",
                                    "SellStartDate": "2013-05-30 00:00:00.000"
                                },
                                {
                                    "Name": "LL Mountain Frame - Silver, 42",
                                    "SellStartDate": "2013-05-30 00:00:00.000"
                                },
                                {
                                    "Name": "LL Mountain Frame - Silver, 44",
                                    "SellStartDate": "2013-05-30 00:00:00.000"
                                },
                                {
                                    "Name": "LL Mountain Frame - Silver, 48",
                                    "SellStartDate": "2013-05-30 00:00:00.000"
                                },
                                {
                                    "Name": "LL Mountain Frame - Silver, 52",
                                    "SellStartDate": "2013-05-30 00:00:00.000"
                                },
                                {
                                    "Name": "LL Mountain Pedal",
                                    "SellStartDate": "2013-05-30 00:00:00.000"
                                },
                                {
                                    "Name": "LL Mountain Seat/Saddle",
                                    "SellStartDate": "2013-05-30 00:00:00.000"
                                },
                                {
                                    "Name": "LL Mountain Tire",
                                    "SellStartDate": "2013-05-30 00:00:00.000"
                                },
                                {
                                    "Name": "LL Road Pedal",
                                    "SellStartDate": "2013-05-30 00:00:00.000"
                                },
                                {
                                    "Name": "LL Road Seat/Saddle",
                                    "SellStartDate": "2013-05-30 00:00:00.000"
                                },
                                {
                                    "Name": "LL Road Tire",
                                    "SellStartDate": "2013-05-30 00:00:00.000"
                                },
                                {
                                    "Name": "LL Touring Frame - Blue, 44",
                                    "SellStartDate": "2013-05-30 00:00:00.000"
                                },
                                {
                                    "Name": "LL Touring Frame - Blue, 50",
                                    "SellStartDate": "2013-05-30 00:00:00.000"
                                },
                                {
                                    "Name": "LL Touring Frame - Blue, 54",
                                    "SellStartDate": "2013-05-30 00:00:00.000"
                                },
                                {
                                    "Name": "LL Touring Frame - Blue, 58",
                                    "SellStartDate": "2013-05-30 00:00:00.000"
                                },
                                {
                                    "Name": "LL Touring Frame - Blue, 62",
                                    "SellStartDate": "2013-05-30 00:00:00.000"
                                },
                                {
                                    "Name": "LL Touring Frame - Yellow, 44",
                                    "SellStartDate": "2013-05-30 00:00:00.000"
                                },
                                {
                                    "Name": "LL Touring Frame - Yellow, 50",
                                    "SellStartDate": "2013-05-30 00:00:00.000"
                                },
                                {
                                    "Name": "LL Touring Frame - Yellow, 54",
                                    "SellStartDate": "2013-05-30 00:00:00.000"
                                },
                                {
                                    "Name": "LL Touring Frame - Yellow, 58",
                                    "SellStartDate": "2013-05-30 00:00:00.000"
                                },
                                {
                                    "Name": "LL Touring Frame - Yellow, 62",
                                    "SellStartDate": "2013-05-30 00:00:00.000"
                                },
                                {
                                    "Name": "LL Touring Handlebars",
                                    "SellStartDate": "2013-05-30 00:00:00.000"
                                },
                                {
                                    "Name": "LL Touring Seat/Saddle",
                                    "SellStartDate": "2013-05-30 00:00:00.000"
                                },
                                {
                                    "Name": "ML Bottom Bracket",
                                    "SellStartDate": "2013-05-30 00:00:00.000"
                                },
                                {
                                    "Name": "ML Crankset",
                                    "SellStartDate": "2013-05-30 00:00:00.000"
                                },
                                {
                                    "Name": "ML Mountain Frame-W - Silver, 38",
                                    "SellStartDate": "2013-05-30 00:00:00.000"
                                },
                                {
                                    "Name": "ML Mountain Frame-W - Silver, 40",
                                    "SellStartDate": "2013-05-30 00:00:00.000"
                                },
                                {
                                    "Name": "ML Mountain Frame-W - Silver, 42",
                                    "SellStartDate": "2013-05-30 00:00:00.000"
                                },
                                {
                                    "Name": "ML Mountain Frame-W - Silver, 46",
                                    "SellStartDate": "2013-05-30 00:00:00.000"
                                },
                                {
                                    "Name": "ML Mountain Pedal",
                                    "SellStartDate": "2013-05-30 00:00:00.000"
                                },
                                {
                                    "Name": "ML Mountain Seat/Saddle",
                                    "SellStartDate": "2013-05-30 00:00:00.000"
                                },
                                {
                                    "Name": "ML Mountain Tire",
                                    "SellStartDate": "2013-05-30 00:00:00.000"
                                },
                                {
                                    "Name": "ML Road Pedal",
                                    "SellStartDate": "2013-05-30 00:00:00.000"
                                },
                                {
                                    "Name": "ML Road Seat/Saddle",
                                    "SellStartDate": "2013-05-30 00:00:00.000"
                                },
                                {
                                    "Name": "ML Road Tire",
                                    "SellStartDate": "2013-05-30 00:00:00.000"
                                },
                                {
                                    "Name": "ML Touring Seat/Saddle",
                                    "SellStartDate": "2013-05-30 00:00:00.000"
                                },
                                {
                                    "Name": "Mountain Bottle Cage",
                                    "SellStartDate": "2013-05-30 00:00:00.000"
                                },
                                {
                                    "Name": "Mountain Tire Tube",
                                    "SellStartDate": "2013-05-30 00:00:00.000"
                                },
                                {
                                    "Name": "Mountain-400-W Silver, 38",
                                    "SellStartDate": "2013-05-30 00:00:00.000"
                                },
                                {
                                    "Name": "Mountain-400-W Silver, 40",
                                    "SellStartDate": "2013-05-30 00:00:00.000"
                                },
                                {
                                    "Name": "Mountain-400-W Silver, 42",
                                    "SellStartDate": "2013-05-30 00:00:00.000"
                                },
                                {
                                    "Name": "Mountain-400-W Silver, 46",
                                    "SellStartDate": "2013-05-30 00:00:00.000"
                                },
                                {
                                    "Name": "Mountain-500 Black, 40",
                                    "SellStartDate": "2013-05-30 00:00:00.000"
                                },
                                {
                                    "Name": "Mountain-500 Black, 42",
                                    "SellStartDate": "2013-05-30 00:00:00.000"
                                },
                                {
                                    "Name": "Mountain-500 Black, 44",
                                    "SellStartDate": "2013-05-30 00:00:00.000"
                                },
                                {
                                    "Name": "Mountain-500 Black, 48",
                                    "SellStartDate": "2013-05-30 00:00:00.000"
                                },
                                {
                                    "Name": "Mountain-500 Black, 52",
                                    "SellStartDate": "2013-05-30 00:00:00.000"
                                },
                                {
                                    "Name": "Mountain-500 Silver, 40",
                                    "SellStartDate": "2013-05-30 00:00:00.000"
                                },
                                {
                                    "Name": "Mountain-500 Silver, 42",
                                    "SellStartDate": "2013-05-30 00:00:00.000"
                                },
                                {
                                    "Name": "Mountain-500 Silver, 44",
                                    "SellStartDate": "2013-05-30 00:00:00.000"
                                },
                                {
                                    "Name": "Mountain-500 Silver, 48",
                                    "SellStartDate": "2013-05-30 00:00:00.000"
                                },
                                {
                                    "Name": "Mountain-500 Silver, 52",
                                    "SellStartDate": "2013-05-30 00:00:00.000"
                                },
                                {
                                    "Name": "Patch Kit/8 Patches",
                                    "SellStartDate": "2013-05-30 00:00:00.000"
                                },
                                {
                                    "Name": "Racing Socks, L",
                                    "SellStartDate": "2013-05-30 00:00:00.000"
                                },
                                {
                                    "Name": "Racing Socks, M",
                                    "SellStartDate": "2013-05-30 00:00:00.000"
                                },
                                {
                                    "Name": "Rear Brakes",
                                    "SellStartDate": "2013-05-30 00:00:00.000"
                                },
                                {
                                    "Name": "Rear Derailleur",
                                    "SellStartDate": "2013-05-30 00:00:00.000"
                                },
                                {
                                    "Name": "Road Bottle Cage",
                                    "SellStartDate": "2013-05-30 00:00:00.000"
                                },
                                {
                                    "Name": "Road Tire Tube",
                                    "SellStartDate": "2013-05-30 00:00:00.000"
                                },
                                {
                                    "Name": "Road-350-W Yellow, 40",
                                    "SellStartDate": "2013-05-30 00:00:00.000"
                                },
                                {
                                    "Name": "Road-350-W Yellow, 42",
                                    "SellStartDate": "2013-05-30 00:00:00.000"
                                },
                                {
                                    "Name": "Road-350-W Yellow, 44",
                                    "SellStartDate": "2013-05-30 00:00:00.000"
                                },
                                {
                                    "Name": "Road-350-W Yellow, 48",
                                    "SellStartDate": "2013-05-30 00:00:00.000"
                                },
                                {
                                    "Name": "Road-750 Black, 44",
                                    "SellStartDate": "2013-05-30 00:00:00.000"
                                },
                                {
                                    "Name": "Road-750 Black, 48",
                                    "SellStartDate": "2013-05-30 00:00:00.000"
                                },
                                {
                                    "Name": "Road-750 Black, 52",
                                    "SellStartDate": "2013-05-30 00:00:00.000"
                                },
                                {
                                    "Name": "Road-750 Black, 58",
                                    "SellStartDate": "2013-05-30 00:00:00.000"
                                },
                                {
                                    "Name": "Short-Sleeve Classic Jersey, L",
                                    "SellStartDate": "2013-05-30 00:00:00.000"
                                },
                                {
                                    "Name": "Short-Sleeve Classic Jersey, M",
                                    "SellStartDate": "2013-05-30 00:00:00.000"
                                },
                                {
                                    "Name": "Short-Sleeve Classic Jersey, S",
                                    "SellStartDate": "2013-05-30 00:00:00.000"
                                },
                                {
                                    "Name": "Short-Sleeve Classic Jersey, XL",
                                    "SellStartDate": "2013-05-30 00:00:00.000"
                                },
                                {
                                    "Name": "Touring Pedal",
                                    "SellStartDate": "2013-05-30 00:00:00.000"
                                },
                                {
                                    "Name": "Touring Tire",
                                    "SellStartDate": "2013-05-30 00:00:00.000"
                                },
                                {
                                    "Name": "Touring Tire Tube",
                                    "SellStartDate": "2013-05-30 00:00:00.000"
                                },
                                {
                                    "Name": "Touring-1000 Blue, 46",
                                    "SellStartDate": "2013-05-30 00:00:00.000"
                                },
                                {
                                    "Name": "Touring-1000 Blue, 50",
                                    "SellStartDate": "2013-05-30 00:00:00.000"
                                },
                                {
                                    "Name": "Touring-1000 Blue, 54",
                                    "SellStartDate": "2013-05-30 00:00:00.000"
                                },
                                {
                                    "Name": "Touring-1000 Blue, 60",
                                    "SellStartDate": "2013-05-30 00:00:00.000"
                                },
                                {
                                    "Name": "Touring-1000 Yellow, 46",
                                    "SellStartDate": "2013-05-30 00:00:00.000"
                                },
                                {
                                    "Name": "Touring-1000 Yellow, 50",
                                    "SellStartDate": "2013-05-30 00:00:00.000"
                                },
                                {
                                    "Name": "Touring-1000 Yellow, 54",
                                    "SellStartDate": "2013-05-30 00:00:00.000"
                                },
                                {
                                    "Name": "Touring-1000 Yellow, 60",
                                    "SellStartDate": "2013-05-30 00:00:00.000"
                                },
                                {
                                    "Name": "Touring-2000 Blue, 46",
                                    "SellStartDate": "2013-05-30 00:00:00.000"
                                },
                                {
                                    "Name": "Touring-2000 Blue, 50",
                                    "SellStartDate": "2013-05-30 00:00:00.000"
                                },
                                {
                                    "Name": "Touring-2000 Blue, 54",
                                    "SellStartDate": "2013-05-30 00:00:00.000"
                                },
                                {
                                    "Name": "Touring-2000 Blue, 60",
                                    "SellStartDate": "2013-05-30 00:00:00.000"
                                },
                                {
                                    "Name": "Touring-3000 Blue, 44",
                                    "SellStartDate": "2013-05-30 00:00:00.000"
                                },
                                {
                                    "Name": "Touring-3000 Blue, 50",
                                    "SellStartDate": "2013-05-30 00:00:00.000"
                                },
                                {
                                    "Name": "Touring-3000 Blue, 54",
                                    "SellStartDate": "2013-05-30 00:00:00.000"
                                },
                                {
                                    "Name": "Touring-3000 Blue, 58",
                                    "SellStartDate": "2013-05-30 00:00:00.000"
                                },
                                {
                                    "Name": "Touring-3000 Blue, 62",
                                    "SellStartDate": "2013-05-30 00:00:00.000"
                                },
                                {
                                    "Name": "Touring-3000 Yellow, 44",
                                    "SellStartDate": "2013-05-30 00:00:00.000"
                                },
                                {
                                    "Name": "Touring-3000 Yellow, 50",
                                    "SellStartDate": "2013-05-30 00:00:00.000"
                                },
                                {
                                    "Name": "Touring-3000 Yellow, 54",
                                    "SellStartDate": "2013-05-30 00:00:00.000"
                                },
                                {
                                    "Name": "Touring-3000 Yellow, 58",
                                    "SellStartDate": "2013-05-30 00:00:00.000"
                                },
                                {
                                    "Name": "Touring-3000 Yellow, 62",
                                    "SellStartDate": "2013-05-30 00:00:00.000"
                                },
                                {
                                    "Name": "Water Bottle - 30 oz.",
                                    "SellStartDate": "2013-05-30 00:00:00.000"
                                },
                                {
                                    "Name": "Women's Mountain Shorts, L",
                                    "SellStartDate": "2013-05-30 00:00:00.000"
                                },
                                {
                                    "Name": "Women's Mountain Shorts, M",
                                    "SellStartDate": "2013-05-30 00:00:00.000"
                                },
                                {
                                    "Name": "Women's Mountain Shorts, S",
                                    "SellStartDate": "2013-05-30 00:00:00.000"
                                }
                            ]
                        },
                        "text/html": "<table><tr><th>Name</th><th>SellStartDate</th></tr><tr><td>All-Purpose Bike Stand</td><td>2013-05-30 00:00:00.000</td></tr><tr><td>Bike Wash - Dissolver</td><td>2013-05-30 00:00:00.000</td></tr><tr><td>Chain</td><td>2013-05-30 00:00:00.000</td></tr><tr><td>Classic Vest, L</td><td>2013-05-30 00:00:00.000</td></tr><tr><td>Classic Vest, M</td><td>2013-05-30 00:00:00.000</td></tr><tr><td>Classic Vest, S</td><td>2013-05-30 00:00:00.000</td></tr><tr><td>Fender Set - Mountain</td><td>2013-05-30 00:00:00.000</td></tr><tr><td>Front Brakes</td><td>2013-05-30 00:00:00.000</td></tr><tr><td>Front Derailleur</td><td>2013-05-30 00:00:00.000</td></tr><tr><td>Hitch Rack - 4-Bike</td><td>2013-05-30 00:00:00.000</td></tr><tr><td>HL Bottom Bracket</td><td>2013-05-30 00:00:00.000</td></tr><tr><td>HL Crankset</td><td>2013-05-30 00:00:00.000</td></tr><tr><td>HL Mountain Pedal</td><td>2013-05-30 00:00:00.000</td></tr><tr><td>HL Mountain Seat/Saddle</td><td>2013-05-30 00:00:00.000</td></tr><tr><td>HL Mountain Tire</td><td>2013-05-30 00:00:00.000</td></tr><tr><td>HL Road Pedal</td><td>2013-05-30 00:00:00.000</td></tr><tr><td>HL Road Seat/Saddle</td><td>2013-05-30 00:00:00.000</td></tr><tr><td>HL Road Tire</td><td>2013-05-30 00:00:00.000</td></tr><tr><td>HL Touring Frame - Blue, 46</td><td>2013-05-30 00:00:00.000</td></tr><tr><td>HL Touring Frame - Blue, 50</td><td>2013-05-30 00:00:00.000</td></tr><tr><td>HL Touring Frame - Blue, 54</td><td>2013-05-30 00:00:00.000</td></tr><tr><td>HL Touring Frame - Blue, 60</td><td>2013-05-30 00:00:00.000</td></tr><tr><td>HL Touring Frame - Yellow, 46</td><td>2013-05-30 00:00:00.000</td></tr><tr><td>HL Touring Frame - Yellow, 50</td><td>2013-05-30 00:00:00.000</td></tr><tr><td>HL Touring Frame - Yellow, 54</td><td>2013-05-30 00:00:00.000</td></tr><tr><td>HL Touring Frame - Yellow, 60</td><td>2013-05-30 00:00:00.000</td></tr><tr><td>HL Touring Handlebars</td><td>2013-05-30 00:00:00.000</td></tr><tr><td>HL Touring Seat/Saddle</td><td>2013-05-30 00:00:00.000</td></tr><tr><td>Hydration Pack - 70 oz.</td><td>2013-05-30 00:00:00.000</td></tr><tr><td>LL Bottom Bracket</td><td>2013-05-30 00:00:00.000</td></tr><tr><td>LL Crankset</td><td>2013-05-30 00:00:00.000</td></tr><tr><td>LL Mountain Frame - Black, 40</td><td>2013-05-30 00:00:00.000</td></tr><tr><td>LL Mountain Frame - Black, 42</td><td>2013-05-30 00:00:00.000</td></tr><tr><td>LL Mountain Frame - Black, 44</td><td>2013-05-30 00:00:00.000</td></tr><tr><td>LL Mountain Frame - Black, 48</td><td>2013-05-30 00:00:00.000</td></tr><tr><td>LL Mountain Frame - Black, 52</td><td>2013-05-30 00:00:00.000</td></tr><tr><td>LL Mountain Frame - Silver, 40</td><td>2013-05-30 00:00:00.000</td></tr><tr><td>LL Mountain Frame - Silver, 42</td><td>2013-05-30 00:00:00.000</td></tr><tr><td>LL Mountain Frame - Silver, 44</td><td>2013-05-30 00:00:00.000</td></tr><tr><td>LL Mountain Frame - Silver, 48</td><td>2013-05-30 00:00:00.000</td></tr><tr><td>LL Mountain Frame - Silver, 52</td><td>2013-05-30 00:00:00.000</td></tr><tr><td>LL Mountain Pedal</td><td>2013-05-30 00:00:00.000</td></tr><tr><td>LL Mountain Seat/Saddle</td><td>2013-05-30 00:00:00.000</td></tr><tr><td>LL Mountain Tire</td><td>2013-05-30 00:00:00.000</td></tr><tr><td>LL Road Pedal</td><td>2013-05-30 00:00:00.000</td></tr><tr><td>LL Road Seat/Saddle</td><td>2013-05-30 00:00:00.000</td></tr><tr><td>LL Road Tire</td><td>2013-05-30 00:00:00.000</td></tr><tr><td>LL Touring Frame - Blue, 44</td><td>2013-05-30 00:00:00.000</td></tr><tr><td>LL Touring Frame - Blue, 50</td><td>2013-05-30 00:00:00.000</td></tr><tr><td>LL Touring Frame - Blue, 54</td><td>2013-05-30 00:00:00.000</td></tr><tr><td>LL Touring Frame - Blue, 58</td><td>2013-05-30 00:00:00.000</td></tr><tr><td>LL Touring Frame - Blue, 62</td><td>2013-05-30 00:00:00.000</td></tr><tr><td>LL Touring Frame - Yellow, 44</td><td>2013-05-30 00:00:00.000</td></tr><tr><td>LL Touring Frame - Yellow, 50</td><td>2013-05-30 00:00:00.000</td></tr><tr><td>LL Touring Frame - Yellow, 54</td><td>2013-05-30 00:00:00.000</td></tr><tr><td>LL Touring Frame - Yellow, 58</td><td>2013-05-30 00:00:00.000</td></tr><tr><td>LL Touring Frame - Yellow, 62</td><td>2013-05-30 00:00:00.000</td></tr><tr><td>LL Touring Handlebars</td><td>2013-05-30 00:00:00.000</td></tr><tr><td>LL Touring Seat/Saddle</td><td>2013-05-30 00:00:00.000</td></tr><tr><td>ML Bottom Bracket</td><td>2013-05-30 00:00:00.000</td></tr><tr><td>ML Crankset</td><td>2013-05-30 00:00:00.000</td></tr><tr><td>ML Mountain Frame-W - Silver, 38</td><td>2013-05-30 00:00:00.000</td></tr><tr><td>ML Mountain Frame-W - Silver, 40</td><td>2013-05-30 00:00:00.000</td></tr><tr><td>ML Mountain Frame-W - Silver, 42</td><td>2013-05-30 00:00:00.000</td></tr><tr><td>ML Mountain Frame-W - Silver, 46</td><td>2013-05-30 00:00:00.000</td></tr><tr><td>ML Mountain Pedal</td><td>2013-05-30 00:00:00.000</td></tr><tr><td>ML Mountain Seat/Saddle</td><td>2013-05-30 00:00:00.000</td></tr><tr><td>ML Mountain Tire</td><td>2013-05-30 00:00:00.000</td></tr><tr><td>ML Road Pedal</td><td>2013-05-30 00:00:00.000</td></tr><tr><td>ML Road Seat/Saddle</td><td>2013-05-30 00:00:00.000</td></tr><tr><td>ML Road Tire</td><td>2013-05-30 00:00:00.000</td></tr><tr><td>ML Touring Seat/Saddle</td><td>2013-05-30 00:00:00.000</td></tr><tr><td>Mountain Bottle Cage</td><td>2013-05-30 00:00:00.000</td></tr><tr><td>Mountain Tire Tube</td><td>2013-05-30 00:00:00.000</td></tr><tr><td>Mountain-400-W Silver, 38</td><td>2013-05-30 00:00:00.000</td></tr><tr><td>Mountain-400-W Silver, 40</td><td>2013-05-30 00:00:00.000</td></tr><tr><td>Mountain-400-W Silver, 42</td><td>2013-05-30 00:00:00.000</td></tr><tr><td>Mountain-400-W Silver, 46</td><td>2013-05-30 00:00:00.000</td></tr><tr><td>Mountain-500 Black, 40</td><td>2013-05-30 00:00:00.000</td></tr><tr><td>Mountain-500 Black, 42</td><td>2013-05-30 00:00:00.000</td></tr><tr><td>Mountain-500 Black, 44</td><td>2013-05-30 00:00:00.000</td></tr><tr><td>Mountain-500 Black, 48</td><td>2013-05-30 00:00:00.000</td></tr><tr><td>Mountain-500 Black, 52</td><td>2013-05-30 00:00:00.000</td></tr><tr><td>Mountain-500 Silver, 40</td><td>2013-05-30 00:00:00.000</td></tr><tr><td>Mountain-500 Silver, 42</td><td>2013-05-30 00:00:00.000</td></tr><tr><td>Mountain-500 Silver, 44</td><td>2013-05-30 00:00:00.000</td></tr><tr><td>Mountain-500 Silver, 48</td><td>2013-05-30 00:00:00.000</td></tr><tr><td>Mountain-500 Silver, 52</td><td>2013-05-30 00:00:00.000</td></tr><tr><td>Patch Kit/8 Patches</td><td>2013-05-30 00:00:00.000</td></tr><tr><td>Racing Socks, L</td><td>2013-05-30 00:00:00.000</td></tr><tr><td>Racing Socks, M</td><td>2013-05-30 00:00:00.000</td></tr><tr><td>Rear Brakes</td><td>2013-05-30 00:00:00.000</td></tr><tr><td>Rear Derailleur</td><td>2013-05-30 00:00:00.000</td></tr><tr><td>Road Bottle Cage</td><td>2013-05-30 00:00:00.000</td></tr><tr><td>Road Tire Tube</td><td>2013-05-30 00:00:00.000</td></tr><tr><td>Road-350-W Yellow, 40</td><td>2013-05-30 00:00:00.000</td></tr><tr><td>Road-350-W Yellow, 42</td><td>2013-05-30 00:00:00.000</td></tr><tr><td>Road-350-W Yellow, 44</td><td>2013-05-30 00:00:00.000</td></tr><tr><td>Road-350-W Yellow, 48</td><td>2013-05-30 00:00:00.000</td></tr><tr><td>Road-750 Black, 44</td><td>2013-05-30 00:00:00.000</td></tr><tr><td>Road-750 Black, 48</td><td>2013-05-30 00:00:00.000</td></tr><tr><td>Road-750 Black, 52</td><td>2013-05-30 00:00:00.000</td></tr><tr><td>Road-750 Black, 58</td><td>2013-05-30 00:00:00.000</td></tr><tr><td>Short-Sleeve Classic Jersey, L</td><td>2013-05-30 00:00:00.000</td></tr><tr><td>Short-Sleeve Classic Jersey, M</td><td>2013-05-30 00:00:00.000</td></tr><tr><td>Short-Sleeve Classic Jersey, S</td><td>2013-05-30 00:00:00.000</td></tr><tr><td>Short-Sleeve Classic Jersey, XL</td><td>2013-05-30 00:00:00.000</td></tr><tr><td>Touring Pedal</td><td>2013-05-30 00:00:00.000</td></tr><tr><td>Touring Tire</td><td>2013-05-30 00:00:00.000</td></tr><tr><td>Touring Tire Tube</td><td>2013-05-30 00:00:00.000</td></tr><tr><td>Touring-1000 Blue, 46</td><td>2013-05-30 00:00:00.000</td></tr><tr><td>Touring-1000 Blue, 50</td><td>2013-05-30 00:00:00.000</td></tr><tr><td>Touring-1000 Blue, 54</td><td>2013-05-30 00:00:00.000</td></tr><tr><td>Touring-1000 Blue, 60</td><td>2013-05-30 00:00:00.000</td></tr><tr><td>Touring-1000 Yellow, 46</td><td>2013-05-30 00:00:00.000</td></tr><tr><td>Touring-1000 Yellow, 50</td><td>2013-05-30 00:00:00.000</td></tr><tr><td>Touring-1000 Yellow, 54</td><td>2013-05-30 00:00:00.000</td></tr><tr><td>Touring-1000 Yellow, 60</td><td>2013-05-30 00:00:00.000</td></tr><tr><td>Touring-2000 Blue, 46</td><td>2013-05-30 00:00:00.000</td></tr><tr><td>Touring-2000 Blue, 50</td><td>2013-05-30 00:00:00.000</td></tr><tr><td>Touring-2000 Blue, 54</td><td>2013-05-30 00:00:00.000</td></tr><tr><td>Touring-2000 Blue, 60</td><td>2013-05-30 00:00:00.000</td></tr><tr><td>Touring-3000 Blue, 44</td><td>2013-05-30 00:00:00.000</td></tr><tr><td>Touring-3000 Blue, 50</td><td>2013-05-30 00:00:00.000</td></tr><tr><td>Touring-3000 Blue, 54</td><td>2013-05-30 00:00:00.000</td></tr><tr><td>Touring-3000 Blue, 58</td><td>2013-05-30 00:00:00.000</td></tr><tr><td>Touring-3000 Blue, 62</td><td>2013-05-30 00:00:00.000</td></tr><tr><td>Touring-3000 Yellow, 44</td><td>2013-05-30 00:00:00.000</td></tr><tr><td>Touring-3000 Yellow, 50</td><td>2013-05-30 00:00:00.000</td></tr><tr><td>Touring-3000 Yellow, 54</td><td>2013-05-30 00:00:00.000</td></tr><tr><td>Touring-3000 Yellow, 58</td><td>2013-05-30 00:00:00.000</td></tr><tr><td>Touring-3000 Yellow, 62</td><td>2013-05-30 00:00:00.000</td></tr><tr><td>Water Bottle - 30 oz.</td><td>2013-05-30 00:00:00.000</td></tr><tr><td>Women&#39;s Mountain Shorts, L</td><td>2013-05-30 00:00:00.000</td></tr><tr><td>Women&#39;s Mountain Shorts, M</td><td>2013-05-30 00:00:00.000</td></tr><tr><td>Women&#39;s Mountain Shorts, S</td><td>2013-05-30 00:00:00.000</td></tr></table>"
                    },
                    "metadata": {}
                }
            ],
            "execution_count": 8
        },
        {
            "cell_type": "markdown",
            "source": [
                "<span style=\"font-size: 12pt; font-family: &quot;Times New Roman&quot;, serif; color: rgb(0, 0, 0); background-color: transparent; font-variant-numeric: normal; font-variant-east-asian: normal; font-variant-alternates: normal; vertical-align: baseline; white-space-collapse: preserve;\">The product management team would like to know which products had a sales launch (sales start date) that took place during the second half of the week.&nbsp; Produce a list of products that started sales on or after the Wednesday of their launch week.&nbsp; Include the product name, sales start date, and the day of the week.&nbsp; Sort the results by sales start date in ascending order, then by product name in alphabetical order.&nbsp; (NOTE: It is OK to simply provide the number of the weekday.&nbsp; For example, Sunday = 1, Monday = 2, etc.)&nbsp; (Hint: If you’re stuck on this, Google the DATEPART() function)</span>"
            ],
            "metadata": {
                "azdata_cell_guid": "6f48abec-086b-40e9-9ced-f296383af02a"
            },
            "attachments": {}
        },
        {
            "cell_type": "code",
            "source": [
                "--Question 2D\n",
                "SELECT DISTINCT Name \n",
                ", SellStartDate\n",
                ",DATEPART(WEEKDAY, SellStartDate) AS 'Day of the Week' --uses WEEKDAY in DATEPART to find the day of the week\n",
                "--https://www.w3schools.com/sqL/func_sqlserver_datepart.asp the site I found the DATEPART function from\n",
                "FROM Production.Product \n",
                "WHERE ListPrice > 0 -- done to make sure that it only pulls products that have a price (assumes that products without a price have not had a sales launch and are only used internally)\n",
                "AND DATEPART(WEEKDAY, SellStartDate) >= 4 --uses WEEKDAY in DATEPART and only returns dates of 4 or greater (Sunday is 1)\n",
                "ORDER BY SellStartDate ASC\n",
                ", Name ASC"
            ],
            "metadata": {
                "language": "sql",
                "azdata_cell_guid": "406d20fa-0d27-4fd8-9086-a1b89de531a2"
            },
            "outputs": [
                {
                    "output_type": "display_data",
                    "data": {
                        "text/html": "(232 rows affected)"
                    },
                    "metadata": {}
                },
                {
                    "output_type": "display_data",
                    "data": {
                        "text/html": "Total execution time: 00:00:00.039"
                    },
                    "metadata": {}
                },
                {
                    "output_type": "execute_result",
                    "execution_count": 9,
                    "data": {
                        "application/vnd.dataresource+json": {
                            "schema": {
                                "fields": [
                                    {
                                        "name": "Name"
                                    },
                                    {
                                        "name": "SellStartDate"
                                    },
                                    {
                                        "name": "Day of the Week"
                                    }
                                ]
                            },
                            "data": [
                                {
                                    "Name": "HL Mountain Seat Assembly",
                                    "SellStartDate": "2008-04-30 00:00:00.000",
                                    "Day of the Week": "4"
                                },
                                {
                                    "Name": "HL Road Frame - Black, 58",
                                    "SellStartDate": "2008-04-30 00:00:00.000",
                                    "Day of the Week": "4"
                                },
                                {
                                    "Name": "HL Road Frame - Red, 58",
                                    "SellStartDate": "2008-04-30 00:00:00.000",
                                    "Day of the Week": "4"
                                },
                                {
                                    "Name": "HL Road Seat Assembly",
                                    "SellStartDate": "2008-04-30 00:00:00.000",
                                    "Day of the Week": "4"
                                },
                                {
                                    "Name": "HL Touring Seat Assembly",
                                    "SellStartDate": "2008-04-30 00:00:00.000",
                                    "Day of the Week": "4"
                                },
                                {
                                    "Name": "LL Mountain Seat Assembly",
                                    "SellStartDate": "2008-04-30 00:00:00.000",
                                    "Day of the Week": "4"
                                },
                                {
                                    "Name": "LL Road Seat Assembly",
                                    "SellStartDate": "2008-04-30 00:00:00.000",
                                    "Day of the Week": "4"
                                },
                                {
                                    "Name": "LL Touring Seat Assembly",
                                    "SellStartDate": "2008-04-30 00:00:00.000",
                                    "Day of the Week": "4"
                                },
                                {
                                    "Name": "ML Mountain Seat Assembly",
                                    "SellStartDate": "2008-04-30 00:00:00.000",
                                    "Day of the Week": "4"
                                },
                                {
                                    "Name": "ML Road Seat Assembly",
                                    "SellStartDate": "2008-04-30 00:00:00.000",
                                    "Day of the Week": "4"
                                },
                                {
                                    "Name": "ML Touring Seat Assembly",
                                    "SellStartDate": "2008-04-30 00:00:00.000",
                                    "Day of the Week": "4"
                                },
                                {
                                    "Name": "Cable Lock",
                                    "SellStartDate": "2012-05-30 00:00:00.000",
                                    "Day of the Week": "4"
                                },
                                {
                                    "Name": "Full-Finger Gloves, L",
                                    "SellStartDate": "2012-05-30 00:00:00.000",
                                    "Day of the Week": "4"
                                },
                                {
                                    "Name": "Full-Finger Gloves, M",
                                    "SellStartDate": "2012-05-30 00:00:00.000",
                                    "Day of the Week": "4"
                                },
                                {
                                    "Name": "Full-Finger Gloves, S",
                                    "SellStartDate": "2012-05-30 00:00:00.000",
                                    "Day of the Week": "4"
                                },
                                {
                                    "Name": "Half-Finger Gloves, L",
                                    "SellStartDate": "2012-05-30 00:00:00.000",
                                    "Day of the Week": "4"
                                },
                                {
                                    "Name": "Half-Finger Gloves, M",
                                    "SellStartDate": "2012-05-30 00:00:00.000",
                                    "Day of the Week": "4"
                                },
                                {
                                    "Name": "Half-Finger Gloves, S",
                                    "SellStartDate": "2012-05-30 00:00:00.000",
                                    "Day of the Week": "4"
                                },
                                {
                                    "Name": "Headlights - Dual-Beam",
                                    "SellStartDate": "2012-05-30 00:00:00.000",
                                    "Day of the Week": "4"
                                },
                                {
                                    "Name": "Headlights - Weatherproof",
                                    "SellStartDate": "2012-05-30 00:00:00.000",
                                    "Day of the Week": "4"
                                },
                                {
                                    "Name": "HL Fork",
                                    "SellStartDate": "2012-05-30 00:00:00.000",
                                    "Day of the Week": "4"
                                },
                                {
                                    "Name": "HL Headset",
                                    "SellStartDate": "2012-05-30 00:00:00.000",
                                    "Day of the Week": "4"
                                },
                                {
                                    "Name": "HL Mountain Front Wheel",
                                    "SellStartDate": "2012-05-30 00:00:00.000",
                                    "Day of the Week": "4"
                                },
                                {
                                    "Name": "HL Mountain Handlebars",
                                    "SellStartDate": "2012-05-30 00:00:00.000",
                                    "Day of the Week": "4"
                                },
                                {
                                    "Name": "HL Mountain Rear Wheel",
                                    "SellStartDate": "2012-05-30 00:00:00.000",
                                    "Day of the Week": "4"
                                },
                                {
                                    "Name": "HL Road Frame - Black, 44",
                                    "SellStartDate": "2012-05-30 00:00:00.000",
                                    "Day of the Week": "4"
                                },
                                {
                                    "Name": "HL Road Frame - Black, 48",
                                    "SellStartDate": "2012-05-30 00:00:00.000",
                                    "Day of the Week": "4"
                                },
                                {
                                    "Name": "HL Road Frame - Black, 52",
                                    "SellStartDate": "2012-05-30 00:00:00.000",
                                    "Day of the Week": "4"
                                },
                                {
                                    "Name": "HL Road Frame - Black, 62",
                                    "SellStartDate": "2012-05-30 00:00:00.000",
                                    "Day of the Week": "4"
                                },
                                {
                                    "Name": "HL Road Front Wheel",
                                    "SellStartDate": "2012-05-30 00:00:00.000",
                                    "Day of the Week": "4"
                                },
                                {
                                    "Name": "HL Road Handlebars",
                                    "SellStartDate": "2012-05-30 00:00:00.000",
                                    "Day of the Week": "4"
                                },
                                {
                                    "Name": "HL Road Rear Wheel",
                                    "SellStartDate": "2012-05-30 00:00:00.000",
                                    "Day of the Week": "4"
                                },
                                {
                                    "Name": "LL Fork",
                                    "SellStartDate": "2012-05-30 00:00:00.000",
                                    "Day of the Week": "4"
                                },
                                {
                                    "Name": "LL Headset",
                                    "SellStartDate": "2012-05-30 00:00:00.000",
                                    "Day of the Week": "4"
                                },
                                {
                                    "Name": "LL Mountain Front Wheel",
                                    "SellStartDate": "2012-05-30 00:00:00.000",
                                    "Day of the Week": "4"
                                },
                                {
                                    "Name": "LL Mountain Handlebars",
                                    "SellStartDate": "2012-05-30 00:00:00.000",
                                    "Day of the Week": "4"
                                },
                                {
                                    "Name": "LL Mountain Rear Wheel",
                                    "SellStartDate": "2012-05-30 00:00:00.000",
                                    "Day of the Week": "4"
                                },
                                {
                                    "Name": "LL Road Front Wheel",
                                    "SellStartDate": "2012-05-30 00:00:00.000",
                                    "Day of the Week": "4"
                                },
                                {
                                    "Name": "LL Road Handlebars",
                                    "SellStartDate": "2012-05-30 00:00:00.000",
                                    "Day of the Week": "4"
                                },
                                {
                                    "Name": "LL Road Rear Wheel",
                                    "SellStartDate": "2012-05-30 00:00:00.000",
                                    "Day of the Week": "4"
                                },
                                {
                                    "Name": "Men's Bib-Shorts, L",
                                    "SellStartDate": "2012-05-30 00:00:00.000",
                                    "Day of the Week": "4"
                                },
                                {
                                    "Name": "Men's Bib-Shorts, M",
                                    "SellStartDate": "2012-05-30 00:00:00.000",
                                    "Day of the Week": "4"
                                },
                                {
                                    "Name": "Men's Bib-Shorts, S",
                                    "SellStartDate": "2012-05-30 00:00:00.000",
                                    "Day of the Week": "4"
                                },
                                {
                                    "Name": "Men's Sports Shorts, L",
                                    "SellStartDate": "2012-05-30 00:00:00.000",
                                    "Day of the Week": "4"
                                },
                                {
                                    "Name": "Men's Sports Shorts, M",
                                    "SellStartDate": "2012-05-30 00:00:00.000",
                                    "Day of the Week": "4"
                                },
                                {
                                    "Name": "Men's Sports Shorts, S",
                                    "SellStartDate": "2012-05-30 00:00:00.000",
                                    "Day of the Week": "4"
                                },
                                {
                                    "Name": "Men's Sports Shorts, XL",
                                    "SellStartDate": "2012-05-30 00:00:00.000",
                                    "Day of the Week": "4"
                                },
                                {
                                    "Name": "Minipump",
                                    "SellStartDate": "2012-05-30 00:00:00.000",
                                    "Day of the Week": "4"
                                },
                                {
                                    "Name": "ML Fork",
                                    "SellStartDate": "2012-05-30 00:00:00.000",
                                    "Day of the Week": "4"
                                },
                                {
                                    "Name": "ML Headset",
                                    "SellStartDate": "2012-05-30 00:00:00.000",
                                    "Day of the Week": "4"
                                },
                                {
                                    "Name": "ML Mountain Frame - Black, 38",
                                    "SellStartDate": "2012-05-30 00:00:00.000",
                                    "Day of the Week": "4"
                                },
                                {
                                    "Name": "ML Mountain Frame - Black, 40",
                                    "SellStartDate": "2012-05-30 00:00:00.000",
                                    "Day of the Week": "4"
                                },
                                {
                                    "Name": "ML Mountain Frame - Black, 44",
                                    "SellStartDate": "2012-05-30 00:00:00.000",
                                    "Day of the Week": "4"
                                },
                                {
                                    "Name": "ML Mountain Frame - Black, 48",
                                    "SellStartDate": "2012-05-30 00:00:00.000",
                                    "Day of the Week": "4"
                                },
                                {
                                    "Name": "ML Mountain Front Wheel",
                                    "SellStartDate": "2012-05-30 00:00:00.000",
                                    "Day of the Week": "4"
                                },
                                {
                                    "Name": "ML Mountain Handlebars",
                                    "SellStartDate": "2012-05-30 00:00:00.000",
                                    "Day of the Week": "4"
                                },
                                {
                                    "Name": "ML Mountain Rear Wheel",
                                    "SellStartDate": "2012-05-30 00:00:00.000",
                                    "Day of the Week": "4"
                                },
                                {
                                    "Name": "ML Road Frame-W - Yellow, 38",
                                    "SellStartDate": "2012-05-30 00:00:00.000",
                                    "Day of the Week": "4"
                                },
                                {
                                    "Name": "ML Road Frame-W - Yellow, 40",
                                    "SellStartDate": "2012-05-30 00:00:00.000",
                                    "Day of the Week": "4"
                                },
                                {
                                    "Name": "ML Road Frame-W - Yellow, 42",
                                    "SellStartDate": "2012-05-30 00:00:00.000",
                                    "Day of the Week": "4"
                                },
                                {
                                    "Name": "ML Road Frame-W - Yellow, 44",
                                    "SellStartDate": "2012-05-30 00:00:00.000",
                                    "Day of the Week": "4"
                                },
                                {
                                    "Name": "ML Road Frame-W - Yellow, 48",
                                    "SellStartDate": "2012-05-30 00:00:00.000",
                                    "Day of the Week": "4"
                                },
                                {
                                    "Name": "ML Road Front Wheel",
                                    "SellStartDate": "2012-05-30 00:00:00.000",
                                    "Day of the Week": "4"
                                },
                                {
                                    "Name": "ML Road Handlebars",
                                    "SellStartDate": "2012-05-30 00:00:00.000",
                                    "Day of the Week": "4"
                                },
                                {
                                    "Name": "ML Road Rear Wheel",
                                    "SellStartDate": "2012-05-30 00:00:00.000",
                                    "Day of the Week": "4"
                                },
                                {
                                    "Name": "Mountain Pump",
                                    "SellStartDate": "2012-05-30 00:00:00.000",
                                    "Day of the Week": "4"
                                },
                                {
                                    "Name": "Mountain-200 Black, 38",
                                    "SellStartDate": "2012-05-30 00:00:00.000",
                                    "Day of the Week": "4"
                                },
                                {
                                    "Name": "Mountain-200 Black, 42",
                                    "SellStartDate": "2012-05-30 00:00:00.000",
                                    "Day of the Week": "4"
                                },
                                {
                                    "Name": "Mountain-200 Black, 46",
                                    "SellStartDate": "2012-05-30 00:00:00.000",
                                    "Day of the Week": "4"
                                },
                                {
                                    "Name": "Mountain-200 Silver, 38",
                                    "SellStartDate": "2012-05-30 00:00:00.000",
                                    "Day of the Week": "4"
                                },
                                {
                                    "Name": "Mountain-200 Silver, 42",
                                    "SellStartDate": "2012-05-30 00:00:00.000",
                                    "Day of the Week": "4"
                                },
                                {
                                    "Name": "Mountain-200 Silver, 46",
                                    "SellStartDate": "2012-05-30 00:00:00.000",
                                    "Day of the Week": "4"
                                },
                                {
                                    "Name": "Mountain-300 Black, 38",
                                    "SellStartDate": "2012-05-30 00:00:00.000",
                                    "Day of the Week": "4"
                                },
                                {
                                    "Name": "Mountain-300 Black, 40",
                                    "SellStartDate": "2012-05-30 00:00:00.000",
                                    "Day of the Week": "4"
                                },
                                {
                                    "Name": "Mountain-300 Black, 44",
                                    "SellStartDate": "2012-05-30 00:00:00.000",
                                    "Day of the Week": "4"
                                },
                                {
                                    "Name": "Mountain-300 Black, 48",
                                    "SellStartDate": "2012-05-30 00:00:00.000",
                                    "Day of the Week": "4"
                                },
                                {
                                    "Name": "Road-250 Black, 44",
                                    "SellStartDate": "2012-05-30 00:00:00.000",
                                    "Day of the Week": "4"
                                },
                                {
                                    "Name": "Road-250 Black, 48",
                                    "SellStartDate": "2012-05-30 00:00:00.000",
                                    "Day of the Week": "4"
                                },
                                {
                                    "Name": "Road-250 Black, 52",
                                    "SellStartDate": "2012-05-30 00:00:00.000",
                                    "Day of the Week": "4"
                                },
                                {
                                    "Name": "Road-250 Black, 58",
                                    "SellStartDate": "2012-05-30 00:00:00.000",
                                    "Day of the Week": "4"
                                },
                                {
                                    "Name": "Road-250 Red, 44",
                                    "SellStartDate": "2012-05-30 00:00:00.000",
                                    "Day of the Week": "4"
                                },
                                {
                                    "Name": "Road-250 Red, 48",
                                    "SellStartDate": "2012-05-30 00:00:00.000",
                                    "Day of the Week": "4"
                                },
                                {
                                    "Name": "Road-250 Red, 52",
                                    "SellStartDate": "2012-05-30 00:00:00.000",
                                    "Day of the Week": "4"
                                },
                                {
                                    "Name": "Road-250 Red, 58",
                                    "SellStartDate": "2012-05-30 00:00:00.000",
                                    "Day of the Week": "4"
                                },
                                {
                                    "Name": "Road-550-W Yellow, 38",
                                    "SellStartDate": "2012-05-30 00:00:00.000",
                                    "Day of the Week": "4"
                                },
                                {
                                    "Name": "Road-550-W Yellow, 40",
                                    "SellStartDate": "2012-05-30 00:00:00.000",
                                    "Day of the Week": "4"
                                },
                                {
                                    "Name": "Road-550-W Yellow, 42",
                                    "SellStartDate": "2012-05-30 00:00:00.000",
                                    "Day of the Week": "4"
                                },
                                {
                                    "Name": "Road-550-W Yellow, 44",
                                    "SellStartDate": "2012-05-30 00:00:00.000",
                                    "Day of the Week": "4"
                                },
                                {
                                    "Name": "Road-550-W Yellow, 48",
                                    "SellStartDate": "2012-05-30 00:00:00.000",
                                    "Day of the Week": "4"
                                },
                                {
                                    "Name": "Taillights - Battery-Powered",
                                    "SellStartDate": "2012-05-30 00:00:00.000",
                                    "Day of the Week": "4"
                                },
                                {
                                    "Name": "Touring Front Wheel",
                                    "SellStartDate": "2012-05-30 00:00:00.000",
                                    "Day of the Week": "4"
                                },
                                {
                                    "Name": "Touring Rear Wheel",
                                    "SellStartDate": "2012-05-30 00:00:00.000",
                                    "Day of the Week": "4"
                                },
                                {
                                    "Name": "Touring-Panniers, Large",
                                    "SellStartDate": "2012-05-30 00:00:00.000",
                                    "Day of the Week": "4"
                                },
                                {
                                    "Name": "Women's Tights, L",
                                    "SellStartDate": "2012-05-30 00:00:00.000",
                                    "Day of the Week": "4"
                                },
                                {
                                    "Name": "Women's Tights, M",
                                    "SellStartDate": "2012-05-30 00:00:00.000",
                                    "Day of the Week": "4"
                                },
                                {
                                    "Name": "Women's Tights, S",
                                    "SellStartDate": "2012-05-30 00:00:00.000",
                                    "Day of the Week": "4"
                                },
                                {
                                    "Name": "All-Purpose Bike Stand",
                                    "SellStartDate": "2013-05-30 00:00:00.000",
                                    "Day of the Week": "5"
                                },
                                {
                                    "Name": "Bike Wash - Dissolver",
                                    "SellStartDate": "2013-05-30 00:00:00.000",
                                    "Day of the Week": "5"
                                },
                                {
                                    "Name": "Chain",
                                    "SellStartDate": "2013-05-30 00:00:00.000",
                                    "Day of the Week": "5"
                                },
                                {
                                    "Name": "Classic Vest, L",
                                    "SellStartDate": "2013-05-30 00:00:00.000",
                                    "Day of the Week": "5"
                                },
                                {
                                    "Name": "Classic Vest, M",
                                    "SellStartDate": "2013-05-30 00:00:00.000",
                                    "Day of the Week": "5"
                                },
                                {
                                    "Name": "Classic Vest, S",
                                    "SellStartDate": "2013-05-30 00:00:00.000",
                                    "Day of the Week": "5"
                                },
                                {
                                    "Name": "Fender Set - Mountain",
                                    "SellStartDate": "2013-05-30 00:00:00.000",
                                    "Day of the Week": "5"
                                },
                                {
                                    "Name": "Front Brakes",
                                    "SellStartDate": "2013-05-30 00:00:00.000",
                                    "Day of the Week": "5"
                                },
                                {
                                    "Name": "Front Derailleur",
                                    "SellStartDate": "2013-05-30 00:00:00.000",
                                    "Day of the Week": "5"
                                },
                                {
                                    "Name": "Hitch Rack - 4-Bike",
                                    "SellStartDate": "2013-05-30 00:00:00.000",
                                    "Day of the Week": "5"
                                },
                                {
                                    "Name": "HL Bottom Bracket",
                                    "SellStartDate": "2013-05-30 00:00:00.000",
                                    "Day of the Week": "5"
                                },
                                {
                                    "Name": "HL Crankset",
                                    "SellStartDate": "2013-05-30 00:00:00.000",
                                    "Day of the Week": "5"
                                },
                                {
                                    "Name": "HL Mountain Pedal",
                                    "SellStartDate": "2013-05-30 00:00:00.000",
                                    "Day of the Week": "5"
                                },
                                {
                                    "Name": "HL Mountain Seat/Saddle",
                                    "SellStartDate": "2013-05-30 00:00:00.000",
                                    "Day of the Week": "5"
                                },
                                {
                                    "Name": "HL Mountain Tire",
                                    "SellStartDate": "2013-05-30 00:00:00.000",
                                    "Day of the Week": "5"
                                },
                                {
                                    "Name": "HL Road Pedal",
                                    "SellStartDate": "2013-05-30 00:00:00.000",
                                    "Day of the Week": "5"
                                },
                                {
                                    "Name": "HL Road Seat/Saddle",
                                    "SellStartDate": "2013-05-30 00:00:00.000",
                                    "Day of the Week": "5"
                                },
                                {
                                    "Name": "HL Road Tire",
                                    "SellStartDate": "2013-05-30 00:00:00.000",
                                    "Day of the Week": "5"
                                },
                                {
                                    "Name": "HL Touring Frame - Blue, 46",
                                    "SellStartDate": "2013-05-30 00:00:00.000",
                                    "Day of the Week": "5"
                                },
                                {
                                    "Name": "HL Touring Frame - Blue, 50",
                                    "SellStartDate": "2013-05-30 00:00:00.000",
                                    "Day of the Week": "5"
                                },
                                {
                                    "Name": "HL Touring Frame - Blue, 54",
                                    "SellStartDate": "2013-05-30 00:00:00.000",
                                    "Day of the Week": "5"
                                },
                                {
                                    "Name": "HL Touring Frame - Blue, 60",
                                    "SellStartDate": "2013-05-30 00:00:00.000",
                                    "Day of the Week": "5"
                                },
                                {
                                    "Name": "HL Touring Frame - Yellow, 46",
                                    "SellStartDate": "2013-05-30 00:00:00.000",
                                    "Day of the Week": "5"
                                },
                                {
                                    "Name": "HL Touring Frame - Yellow, 50",
                                    "SellStartDate": "2013-05-30 00:00:00.000",
                                    "Day of the Week": "5"
                                },
                                {
                                    "Name": "HL Touring Frame - Yellow, 54",
                                    "SellStartDate": "2013-05-30 00:00:00.000",
                                    "Day of the Week": "5"
                                },
                                {
                                    "Name": "HL Touring Frame - Yellow, 60",
                                    "SellStartDate": "2013-05-30 00:00:00.000",
                                    "Day of the Week": "5"
                                },
                                {
                                    "Name": "HL Touring Handlebars",
                                    "SellStartDate": "2013-05-30 00:00:00.000",
                                    "Day of the Week": "5"
                                },
                                {
                                    "Name": "HL Touring Seat/Saddle",
                                    "SellStartDate": "2013-05-30 00:00:00.000",
                                    "Day of the Week": "5"
                                },
                                {
                                    "Name": "Hydration Pack - 70 oz.",
                                    "SellStartDate": "2013-05-30 00:00:00.000",
                                    "Day of the Week": "5"
                                },
                                {
                                    "Name": "LL Bottom Bracket",
                                    "SellStartDate": "2013-05-30 00:00:00.000",
                                    "Day of the Week": "5"
                                },
                                {
                                    "Name": "LL Crankset",
                                    "SellStartDate": "2013-05-30 00:00:00.000",
                                    "Day of the Week": "5"
                                },
                                {
                                    "Name": "LL Mountain Frame - Black, 40",
                                    "SellStartDate": "2013-05-30 00:00:00.000",
                                    "Day of the Week": "5"
                                },
                                {
                                    "Name": "LL Mountain Frame - Black, 42",
                                    "SellStartDate": "2013-05-30 00:00:00.000",
                                    "Day of the Week": "5"
                                },
                                {
                                    "Name": "LL Mountain Frame - Black, 44",
                                    "SellStartDate": "2013-05-30 00:00:00.000",
                                    "Day of the Week": "5"
                                },
                                {
                                    "Name": "LL Mountain Frame - Black, 48",
                                    "SellStartDate": "2013-05-30 00:00:00.000",
                                    "Day of the Week": "5"
                                },
                                {
                                    "Name": "LL Mountain Frame - Black, 52",
                                    "SellStartDate": "2013-05-30 00:00:00.000",
                                    "Day of the Week": "5"
                                },
                                {
                                    "Name": "LL Mountain Frame - Silver, 40",
                                    "SellStartDate": "2013-05-30 00:00:00.000",
                                    "Day of the Week": "5"
                                },
                                {
                                    "Name": "LL Mountain Frame - Silver, 42",
                                    "SellStartDate": "2013-05-30 00:00:00.000",
                                    "Day of the Week": "5"
                                },
                                {
                                    "Name": "LL Mountain Frame - Silver, 44",
                                    "SellStartDate": "2013-05-30 00:00:00.000",
                                    "Day of the Week": "5"
                                },
                                {
                                    "Name": "LL Mountain Frame - Silver, 48",
                                    "SellStartDate": "2013-05-30 00:00:00.000",
                                    "Day of the Week": "5"
                                },
                                {
                                    "Name": "LL Mountain Frame - Silver, 52",
                                    "SellStartDate": "2013-05-30 00:00:00.000",
                                    "Day of the Week": "5"
                                },
                                {
                                    "Name": "LL Mountain Pedal",
                                    "SellStartDate": "2013-05-30 00:00:00.000",
                                    "Day of the Week": "5"
                                },
                                {
                                    "Name": "LL Mountain Seat/Saddle",
                                    "SellStartDate": "2013-05-30 00:00:00.000",
                                    "Day of the Week": "5"
                                },
                                {
                                    "Name": "LL Mountain Tire",
                                    "SellStartDate": "2013-05-30 00:00:00.000",
                                    "Day of the Week": "5"
                                },
                                {
                                    "Name": "LL Road Pedal",
                                    "SellStartDate": "2013-05-30 00:00:00.000",
                                    "Day of the Week": "5"
                                },
                                {
                                    "Name": "LL Road Seat/Saddle",
                                    "SellStartDate": "2013-05-30 00:00:00.000",
                                    "Day of the Week": "5"
                                },
                                {
                                    "Name": "LL Road Tire",
                                    "SellStartDate": "2013-05-30 00:00:00.000",
                                    "Day of the Week": "5"
                                },
                                {
                                    "Name": "LL Touring Frame - Blue, 44",
                                    "SellStartDate": "2013-05-30 00:00:00.000",
                                    "Day of the Week": "5"
                                },
                                {
                                    "Name": "LL Touring Frame - Blue, 50",
                                    "SellStartDate": "2013-05-30 00:00:00.000",
                                    "Day of the Week": "5"
                                },
                                {
                                    "Name": "LL Touring Frame - Blue, 54",
                                    "SellStartDate": "2013-05-30 00:00:00.000",
                                    "Day of the Week": "5"
                                },
                                {
                                    "Name": "LL Touring Frame - Blue, 58",
                                    "SellStartDate": "2013-05-30 00:00:00.000",
                                    "Day of the Week": "5"
                                },
                                {
                                    "Name": "LL Touring Frame - Blue, 62",
                                    "SellStartDate": "2013-05-30 00:00:00.000",
                                    "Day of the Week": "5"
                                },
                                {
                                    "Name": "LL Touring Frame - Yellow, 44",
                                    "SellStartDate": "2013-05-30 00:00:00.000",
                                    "Day of the Week": "5"
                                },
                                {
                                    "Name": "LL Touring Frame - Yellow, 50",
                                    "SellStartDate": "2013-05-30 00:00:00.000",
                                    "Day of the Week": "5"
                                },
                                {
                                    "Name": "LL Touring Frame - Yellow, 54",
                                    "SellStartDate": "2013-05-30 00:00:00.000",
                                    "Day of the Week": "5"
                                },
                                {
                                    "Name": "LL Touring Frame - Yellow, 58",
                                    "SellStartDate": "2013-05-30 00:00:00.000",
                                    "Day of the Week": "5"
                                },
                                {
                                    "Name": "LL Touring Frame - Yellow, 62",
                                    "SellStartDate": "2013-05-30 00:00:00.000",
                                    "Day of the Week": "5"
                                },
                                {
                                    "Name": "LL Touring Handlebars",
                                    "SellStartDate": "2013-05-30 00:00:00.000",
                                    "Day of the Week": "5"
                                },
                                {
                                    "Name": "LL Touring Seat/Saddle",
                                    "SellStartDate": "2013-05-30 00:00:00.000",
                                    "Day of the Week": "5"
                                },
                                {
                                    "Name": "ML Bottom Bracket",
                                    "SellStartDate": "2013-05-30 00:00:00.000",
                                    "Day of the Week": "5"
                                },
                                {
                                    "Name": "ML Crankset",
                                    "SellStartDate": "2013-05-30 00:00:00.000",
                                    "Day of the Week": "5"
                                },
                                {
                                    "Name": "ML Mountain Frame-W - Silver, 38",
                                    "SellStartDate": "2013-05-30 00:00:00.000",
                                    "Day of the Week": "5"
                                },
                                {
                                    "Name": "ML Mountain Frame-W - Silver, 40",
                                    "SellStartDate": "2013-05-30 00:00:00.000",
                                    "Day of the Week": "5"
                                },
                                {
                                    "Name": "ML Mountain Frame-W - Silver, 42",
                                    "SellStartDate": "2013-05-30 00:00:00.000",
                                    "Day of the Week": "5"
                                },
                                {
                                    "Name": "ML Mountain Frame-W - Silver, 46",
                                    "SellStartDate": "2013-05-30 00:00:00.000",
                                    "Day of the Week": "5"
                                },
                                {
                                    "Name": "ML Mountain Pedal",
                                    "SellStartDate": "2013-05-30 00:00:00.000",
                                    "Day of the Week": "5"
                                },
                                {
                                    "Name": "ML Mountain Seat/Saddle",
                                    "SellStartDate": "2013-05-30 00:00:00.000",
                                    "Day of the Week": "5"
                                },
                                {
                                    "Name": "ML Mountain Tire",
                                    "SellStartDate": "2013-05-30 00:00:00.000",
                                    "Day of the Week": "5"
                                },
                                {
                                    "Name": "ML Road Pedal",
                                    "SellStartDate": "2013-05-30 00:00:00.000",
                                    "Day of the Week": "5"
                                },
                                {
                                    "Name": "ML Road Seat/Saddle",
                                    "SellStartDate": "2013-05-30 00:00:00.000",
                                    "Day of the Week": "5"
                                },
                                {
                                    "Name": "ML Road Tire",
                                    "SellStartDate": "2013-05-30 00:00:00.000",
                                    "Day of the Week": "5"
                                },
                                {
                                    "Name": "ML Touring Seat/Saddle",
                                    "SellStartDate": "2013-05-30 00:00:00.000",
                                    "Day of the Week": "5"
                                },
                                {
                                    "Name": "Mountain Bottle Cage",
                                    "SellStartDate": "2013-05-30 00:00:00.000",
                                    "Day of the Week": "5"
                                },
                                {
                                    "Name": "Mountain Tire Tube",
                                    "SellStartDate": "2013-05-30 00:00:00.000",
                                    "Day of the Week": "5"
                                },
                                {
                                    "Name": "Mountain-400-W Silver, 38",
                                    "SellStartDate": "2013-05-30 00:00:00.000",
                                    "Day of the Week": "5"
                                },
                                {
                                    "Name": "Mountain-400-W Silver, 40",
                                    "SellStartDate": "2013-05-30 00:00:00.000",
                                    "Day of the Week": "5"
                                },
                                {
                                    "Name": "Mountain-400-W Silver, 42",
                                    "SellStartDate": "2013-05-30 00:00:00.000",
                                    "Day of the Week": "5"
                                },
                                {
                                    "Name": "Mountain-400-W Silver, 46",
                                    "SellStartDate": "2013-05-30 00:00:00.000",
                                    "Day of the Week": "5"
                                },
                                {
                                    "Name": "Mountain-500 Black, 40",
                                    "SellStartDate": "2013-05-30 00:00:00.000",
                                    "Day of the Week": "5"
                                },
                                {
                                    "Name": "Mountain-500 Black, 42",
                                    "SellStartDate": "2013-05-30 00:00:00.000",
                                    "Day of the Week": "5"
                                },
                                {
                                    "Name": "Mountain-500 Black, 44",
                                    "SellStartDate": "2013-05-30 00:00:00.000",
                                    "Day of the Week": "5"
                                },
                                {
                                    "Name": "Mountain-500 Black, 48",
                                    "SellStartDate": "2013-05-30 00:00:00.000",
                                    "Day of the Week": "5"
                                },
                                {
                                    "Name": "Mountain-500 Black, 52",
                                    "SellStartDate": "2013-05-30 00:00:00.000",
                                    "Day of the Week": "5"
                                },
                                {
                                    "Name": "Mountain-500 Silver, 40",
                                    "SellStartDate": "2013-05-30 00:00:00.000",
                                    "Day of the Week": "5"
                                },
                                {
                                    "Name": "Mountain-500 Silver, 42",
                                    "SellStartDate": "2013-05-30 00:00:00.000",
                                    "Day of the Week": "5"
                                },
                                {
                                    "Name": "Mountain-500 Silver, 44",
                                    "SellStartDate": "2013-05-30 00:00:00.000",
                                    "Day of the Week": "5"
                                },
                                {
                                    "Name": "Mountain-500 Silver, 48",
                                    "SellStartDate": "2013-05-30 00:00:00.000",
                                    "Day of the Week": "5"
                                },
                                {
                                    "Name": "Mountain-500 Silver, 52",
                                    "SellStartDate": "2013-05-30 00:00:00.000",
                                    "Day of the Week": "5"
                                },
                                {
                                    "Name": "Patch Kit/8 Patches",
                                    "SellStartDate": "2013-05-30 00:00:00.000",
                                    "Day of the Week": "5"
                                },
                                {
                                    "Name": "Racing Socks, L",
                                    "SellStartDate": "2013-05-30 00:00:00.000",
                                    "Day of the Week": "5"
                                },
                                {
                                    "Name": "Racing Socks, M",
                                    "SellStartDate": "2013-05-30 00:00:00.000",
                                    "Day of the Week": "5"
                                },
                                {
                                    "Name": "Rear Brakes",
                                    "SellStartDate": "2013-05-30 00:00:00.000",
                                    "Day of the Week": "5"
                                },
                                {
                                    "Name": "Rear Derailleur",
                                    "SellStartDate": "2013-05-30 00:00:00.000",
                                    "Day of the Week": "5"
                                },
                                {
                                    "Name": "Road Bottle Cage",
                                    "SellStartDate": "2013-05-30 00:00:00.000",
                                    "Day of the Week": "5"
                                },
                                {
                                    "Name": "Road Tire Tube",
                                    "SellStartDate": "2013-05-30 00:00:00.000",
                                    "Day of the Week": "5"
                                },
                                {
                                    "Name": "Road-350-W Yellow, 40",
                                    "SellStartDate": "2013-05-30 00:00:00.000",
                                    "Day of the Week": "5"
                                },
                                {
                                    "Name": "Road-350-W Yellow, 42",
                                    "SellStartDate": "2013-05-30 00:00:00.000",
                                    "Day of the Week": "5"
                                },
                                {
                                    "Name": "Road-350-W Yellow, 44",
                                    "SellStartDate": "2013-05-30 00:00:00.000",
                                    "Day of the Week": "5"
                                },
                                {
                                    "Name": "Road-350-W Yellow, 48",
                                    "SellStartDate": "2013-05-30 00:00:00.000",
                                    "Day of the Week": "5"
                                },
                                {
                                    "Name": "Road-750 Black, 44",
                                    "SellStartDate": "2013-05-30 00:00:00.000",
                                    "Day of the Week": "5"
                                },
                                {
                                    "Name": "Road-750 Black, 48",
                                    "SellStartDate": "2013-05-30 00:00:00.000",
                                    "Day of the Week": "5"
                                },
                                {
                                    "Name": "Road-750 Black, 52",
                                    "SellStartDate": "2013-05-30 00:00:00.000",
                                    "Day of the Week": "5"
                                },
                                {
                                    "Name": "Road-750 Black, 58",
                                    "SellStartDate": "2013-05-30 00:00:00.000",
                                    "Day of the Week": "5"
                                },
                                {
                                    "Name": "Short-Sleeve Classic Jersey, L",
                                    "SellStartDate": "2013-05-30 00:00:00.000",
                                    "Day of the Week": "5"
                                },
                                {
                                    "Name": "Short-Sleeve Classic Jersey, M",
                                    "SellStartDate": "2013-05-30 00:00:00.000",
                                    "Day of the Week": "5"
                                },
                                {
                                    "Name": "Short-Sleeve Classic Jersey, S",
                                    "SellStartDate": "2013-05-30 00:00:00.000",
                                    "Day of the Week": "5"
                                },
                                {
                                    "Name": "Short-Sleeve Classic Jersey, XL",
                                    "SellStartDate": "2013-05-30 00:00:00.000",
                                    "Day of the Week": "5"
                                },
                                {
                                    "Name": "Touring Pedal",
                                    "SellStartDate": "2013-05-30 00:00:00.000",
                                    "Day of the Week": "5"
                                },
                                {
                                    "Name": "Touring Tire",
                                    "SellStartDate": "2013-05-30 00:00:00.000",
                                    "Day of the Week": "5"
                                },
                                {
                                    "Name": "Touring Tire Tube",
                                    "SellStartDate": "2013-05-30 00:00:00.000",
                                    "Day of the Week": "5"
                                },
                                {
                                    "Name": "Touring-1000 Blue, 46",
                                    "SellStartDate": "2013-05-30 00:00:00.000",
                                    "Day of the Week": "5"
                                },
                                {
                                    "Name": "Touring-1000 Blue, 50",
                                    "SellStartDate": "2013-05-30 00:00:00.000",
                                    "Day of the Week": "5"
                                },
                                {
                                    "Name": "Touring-1000 Blue, 54",
                                    "SellStartDate": "2013-05-30 00:00:00.000",
                                    "Day of the Week": "5"
                                },
                                {
                                    "Name": "Touring-1000 Blue, 60",
                                    "SellStartDate": "2013-05-30 00:00:00.000",
                                    "Day of the Week": "5"
                                },
                                {
                                    "Name": "Touring-1000 Yellow, 46",
                                    "SellStartDate": "2013-05-30 00:00:00.000",
                                    "Day of the Week": "5"
                                },
                                {
                                    "Name": "Touring-1000 Yellow, 50",
                                    "SellStartDate": "2013-05-30 00:00:00.000",
                                    "Day of the Week": "5"
                                },
                                {
                                    "Name": "Touring-1000 Yellow, 54",
                                    "SellStartDate": "2013-05-30 00:00:00.000",
                                    "Day of the Week": "5"
                                },
                                {
                                    "Name": "Touring-1000 Yellow, 60",
                                    "SellStartDate": "2013-05-30 00:00:00.000",
                                    "Day of the Week": "5"
                                },
                                {
                                    "Name": "Touring-2000 Blue, 46",
                                    "SellStartDate": "2013-05-30 00:00:00.000",
                                    "Day of the Week": "5"
                                },
                                {
                                    "Name": "Touring-2000 Blue, 50",
                                    "SellStartDate": "2013-05-30 00:00:00.000",
                                    "Day of the Week": "5"
                                },
                                {
                                    "Name": "Touring-2000 Blue, 54",
                                    "SellStartDate": "2013-05-30 00:00:00.000",
                                    "Day of the Week": "5"
                                },
                                {
                                    "Name": "Touring-2000 Blue, 60",
                                    "SellStartDate": "2013-05-30 00:00:00.000",
                                    "Day of the Week": "5"
                                },
                                {
                                    "Name": "Touring-3000 Blue, 44",
                                    "SellStartDate": "2013-05-30 00:00:00.000",
                                    "Day of the Week": "5"
                                },
                                {
                                    "Name": "Touring-3000 Blue, 50",
                                    "SellStartDate": "2013-05-30 00:00:00.000",
                                    "Day of the Week": "5"
                                },
                                {
                                    "Name": "Touring-3000 Blue, 54",
                                    "SellStartDate": "2013-05-30 00:00:00.000",
                                    "Day of the Week": "5"
                                },
                                {
                                    "Name": "Touring-3000 Blue, 58",
                                    "SellStartDate": "2013-05-30 00:00:00.000",
                                    "Day of the Week": "5"
                                },
                                {
                                    "Name": "Touring-3000 Blue, 62",
                                    "SellStartDate": "2013-05-30 00:00:00.000",
                                    "Day of the Week": "5"
                                },
                                {
                                    "Name": "Touring-3000 Yellow, 44",
                                    "SellStartDate": "2013-05-30 00:00:00.000",
                                    "Day of the Week": "5"
                                },
                                {
                                    "Name": "Touring-3000 Yellow, 50",
                                    "SellStartDate": "2013-05-30 00:00:00.000",
                                    "Day of the Week": "5"
                                },
                                {
                                    "Name": "Touring-3000 Yellow, 54",
                                    "SellStartDate": "2013-05-30 00:00:00.000",
                                    "Day of the Week": "5"
                                },
                                {
                                    "Name": "Touring-3000 Yellow, 58",
                                    "SellStartDate": "2013-05-30 00:00:00.000",
                                    "Day of the Week": "5"
                                },
                                {
                                    "Name": "Touring-3000 Yellow, 62",
                                    "SellStartDate": "2013-05-30 00:00:00.000",
                                    "Day of the Week": "5"
                                },
                                {
                                    "Name": "Water Bottle - 30 oz.",
                                    "SellStartDate": "2013-05-30 00:00:00.000",
                                    "Day of the Week": "5"
                                },
                                {
                                    "Name": "Women's Mountain Shorts, L",
                                    "SellStartDate": "2013-05-30 00:00:00.000",
                                    "Day of the Week": "5"
                                },
                                {
                                    "Name": "Women's Mountain Shorts, M",
                                    "SellStartDate": "2013-05-30 00:00:00.000",
                                    "Day of the Week": "5"
                                },
                                {
                                    "Name": "Women's Mountain Shorts, S",
                                    "SellStartDate": "2013-05-30 00:00:00.000",
                                    "Day of the Week": "5"
                                }
                            ]
                        },
                        "text/html": "<table><tr><th>Name</th><th>SellStartDate</th><th>Day of the Week</th></tr><tr><td>HL Mountain Seat Assembly</td><td>2008-04-30 00:00:00.000</td><td>4</td></tr><tr><td>HL Road Frame - Black, 58</td><td>2008-04-30 00:00:00.000</td><td>4</td></tr><tr><td>HL Road Frame - Red, 58</td><td>2008-04-30 00:00:00.000</td><td>4</td></tr><tr><td>HL Road Seat Assembly</td><td>2008-04-30 00:00:00.000</td><td>4</td></tr><tr><td>HL Touring Seat Assembly</td><td>2008-04-30 00:00:00.000</td><td>4</td></tr><tr><td>LL Mountain Seat Assembly</td><td>2008-04-30 00:00:00.000</td><td>4</td></tr><tr><td>LL Road Seat Assembly</td><td>2008-04-30 00:00:00.000</td><td>4</td></tr><tr><td>LL Touring Seat Assembly</td><td>2008-04-30 00:00:00.000</td><td>4</td></tr><tr><td>ML Mountain Seat Assembly</td><td>2008-04-30 00:00:00.000</td><td>4</td></tr><tr><td>ML Road Seat Assembly</td><td>2008-04-30 00:00:00.000</td><td>4</td></tr><tr><td>ML Touring Seat Assembly</td><td>2008-04-30 00:00:00.000</td><td>4</td></tr><tr><td>Cable Lock</td><td>2012-05-30 00:00:00.000</td><td>4</td></tr><tr><td>Full-Finger Gloves, L</td><td>2012-05-30 00:00:00.000</td><td>4</td></tr><tr><td>Full-Finger Gloves, M</td><td>2012-05-30 00:00:00.000</td><td>4</td></tr><tr><td>Full-Finger Gloves, S</td><td>2012-05-30 00:00:00.000</td><td>4</td></tr><tr><td>Half-Finger Gloves, L</td><td>2012-05-30 00:00:00.000</td><td>4</td></tr><tr><td>Half-Finger Gloves, M</td><td>2012-05-30 00:00:00.000</td><td>4</td></tr><tr><td>Half-Finger Gloves, S</td><td>2012-05-30 00:00:00.000</td><td>4</td></tr><tr><td>Headlights - Dual-Beam</td><td>2012-05-30 00:00:00.000</td><td>4</td></tr><tr><td>Headlights - Weatherproof</td><td>2012-05-30 00:00:00.000</td><td>4</td></tr><tr><td>HL Fork</td><td>2012-05-30 00:00:00.000</td><td>4</td></tr><tr><td>HL Headset</td><td>2012-05-30 00:00:00.000</td><td>4</td></tr><tr><td>HL Mountain Front Wheel</td><td>2012-05-30 00:00:00.000</td><td>4</td></tr><tr><td>HL Mountain Handlebars</td><td>2012-05-30 00:00:00.000</td><td>4</td></tr><tr><td>HL Mountain Rear Wheel</td><td>2012-05-30 00:00:00.000</td><td>4</td></tr><tr><td>HL Road Frame - Black, 44</td><td>2012-05-30 00:00:00.000</td><td>4</td></tr><tr><td>HL Road Frame - Black, 48</td><td>2012-05-30 00:00:00.000</td><td>4</td></tr><tr><td>HL Road Frame - Black, 52</td><td>2012-05-30 00:00:00.000</td><td>4</td></tr><tr><td>HL Road Frame - Black, 62</td><td>2012-05-30 00:00:00.000</td><td>4</td></tr><tr><td>HL Road Front Wheel</td><td>2012-05-30 00:00:00.000</td><td>4</td></tr><tr><td>HL Road Handlebars</td><td>2012-05-30 00:00:00.000</td><td>4</td></tr><tr><td>HL Road Rear Wheel</td><td>2012-05-30 00:00:00.000</td><td>4</td></tr><tr><td>LL Fork</td><td>2012-05-30 00:00:00.000</td><td>4</td></tr><tr><td>LL Headset</td><td>2012-05-30 00:00:00.000</td><td>4</td></tr><tr><td>LL Mountain Front Wheel</td><td>2012-05-30 00:00:00.000</td><td>4</td></tr><tr><td>LL Mountain Handlebars</td><td>2012-05-30 00:00:00.000</td><td>4</td></tr><tr><td>LL Mountain Rear Wheel</td><td>2012-05-30 00:00:00.000</td><td>4</td></tr><tr><td>LL Road Front Wheel</td><td>2012-05-30 00:00:00.000</td><td>4</td></tr><tr><td>LL Road Handlebars</td><td>2012-05-30 00:00:00.000</td><td>4</td></tr><tr><td>LL Road Rear Wheel</td><td>2012-05-30 00:00:00.000</td><td>4</td></tr><tr><td>Men&#39;s Bib-Shorts, L</td><td>2012-05-30 00:00:00.000</td><td>4</td></tr><tr><td>Men&#39;s Bib-Shorts, M</td><td>2012-05-30 00:00:00.000</td><td>4</td></tr><tr><td>Men&#39;s Bib-Shorts, S</td><td>2012-05-30 00:00:00.000</td><td>4</td></tr><tr><td>Men&#39;s Sports Shorts, L</td><td>2012-05-30 00:00:00.000</td><td>4</td></tr><tr><td>Men&#39;s Sports Shorts, M</td><td>2012-05-30 00:00:00.000</td><td>4</td></tr><tr><td>Men&#39;s Sports Shorts, S</td><td>2012-05-30 00:00:00.000</td><td>4</td></tr><tr><td>Men&#39;s Sports Shorts, XL</td><td>2012-05-30 00:00:00.000</td><td>4</td></tr><tr><td>Minipump</td><td>2012-05-30 00:00:00.000</td><td>4</td></tr><tr><td>ML Fork</td><td>2012-05-30 00:00:00.000</td><td>4</td></tr><tr><td>ML Headset</td><td>2012-05-30 00:00:00.000</td><td>4</td></tr><tr><td>ML Mountain Frame - Black, 38</td><td>2012-05-30 00:00:00.000</td><td>4</td></tr><tr><td>ML Mountain Frame - Black, 40</td><td>2012-05-30 00:00:00.000</td><td>4</td></tr><tr><td>ML Mountain Frame - Black, 44</td><td>2012-05-30 00:00:00.000</td><td>4</td></tr><tr><td>ML Mountain Frame - Black, 48</td><td>2012-05-30 00:00:00.000</td><td>4</td></tr><tr><td>ML Mountain Front Wheel</td><td>2012-05-30 00:00:00.000</td><td>4</td></tr><tr><td>ML Mountain Handlebars</td><td>2012-05-30 00:00:00.000</td><td>4</td></tr><tr><td>ML Mountain Rear Wheel</td><td>2012-05-30 00:00:00.000</td><td>4</td></tr><tr><td>ML Road Frame-W - Yellow, 38</td><td>2012-05-30 00:00:00.000</td><td>4</td></tr><tr><td>ML Road Frame-W - Yellow, 40</td><td>2012-05-30 00:00:00.000</td><td>4</td></tr><tr><td>ML Road Frame-W - Yellow, 42</td><td>2012-05-30 00:00:00.000</td><td>4</td></tr><tr><td>ML Road Frame-W - Yellow, 44</td><td>2012-05-30 00:00:00.000</td><td>4</td></tr><tr><td>ML Road Frame-W - Yellow, 48</td><td>2012-05-30 00:00:00.000</td><td>4</td></tr><tr><td>ML Road Front Wheel</td><td>2012-05-30 00:00:00.000</td><td>4</td></tr><tr><td>ML Road Handlebars</td><td>2012-05-30 00:00:00.000</td><td>4</td></tr><tr><td>ML Road Rear Wheel</td><td>2012-05-30 00:00:00.000</td><td>4</td></tr><tr><td>Mountain Pump</td><td>2012-05-30 00:00:00.000</td><td>4</td></tr><tr><td>Mountain-200 Black, 38</td><td>2012-05-30 00:00:00.000</td><td>4</td></tr><tr><td>Mountain-200 Black, 42</td><td>2012-05-30 00:00:00.000</td><td>4</td></tr><tr><td>Mountain-200 Black, 46</td><td>2012-05-30 00:00:00.000</td><td>4</td></tr><tr><td>Mountain-200 Silver, 38</td><td>2012-05-30 00:00:00.000</td><td>4</td></tr><tr><td>Mountain-200 Silver, 42</td><td>2012-05-30 00:00:00.000</td><td>4</td></tr><tr><td>Mountain-200 Silver, 46</td><td>2012-05-30 00:00:00.000</td><td>4</td></tr><tr><td>Mountain-300 Black, 38</td><td>2012-05-30 00:00:00.000</td><td>4</td></tr><tr><td>Mountain-300 Black, 40</td><td>2012-05-30 00:00:00.000</td><td>4</td></tr><tr><td>Mountain-300 Black, 44</td><td>2012-05-30 00:00:00.000</td><td>4</td></tr><tr><td>Mountain-300 Black, 48</td><td>2012-05-30 00:00:00.000</td><td>4</td></tr><tr><td>Road-250 Black, 44</td><td>2012-05-30 00:00:00.000</td><td>4</td></tr><tr><td>Road-250 Black, 48</td><td>2012-05-30 00:00:00.000</td><td>4</td></tr><tr><td>Road-250 Black, 52</td><td>2012-05-30 00:00:00.000</td><td>4</td></tr><tr><td>Road-250 Black, 58</td><td>2012-05-30 00:00:00.000</td><td>4</td></tr><tr><td>Road-250 Red, 44</td><td>2012-05-30 00:00:00.000</td><td>4</td></tr><tr><td>Road-250 Red, 48</td><td>2012-05-30 00:00:00.000</td><td>4</td></tr><tr><td>Road-250 Red, 52</td><td>2012-05-30 00:00:00.000</td><td>4</td></tr><tr><td>Road-250 Red, 58</td><td>2012-05-30 00:00:00.000</td><td>4</td></tr><tr><td>Road-550-W Yellow, 38</td><td>2012-05-30 00:00:00.000</td><td>4</td></tr><tr><td>Road-550-W Yellow, 40</td><td>2012-05-30 00:00:00.000</td><td>4</td></tr><tr><td>Road-550-W Yellow, 42</td><td>2012-05-30 00:00:00.000</td><td>4</td></tr><tr><td>Road-550-W Yellow, 44</td><td>2012-05-30 00:00:00.000</td><td>4</td></tr><tr><td>Road-550-W Yellow, 48</td><td>2012-05-30 00:00:00.000</td><td>4</td></tr><tr><td>Taillights - Battery-Powered</td><td>2012-05-30 00:00:00.000</td><td>4</td></tr><tr><td>Touring Front Wheel</td><td>2012-05-30 00:00:00.000</td><td>4</td></tr><tr><td>Touring Rear Wheel</td><td>2012-05-30 00:00:00.000</td><td>4</td></tr><tr><td>Touring-Panniers, Large</td><td>2012-05-30 00:00:00.000</td><td>4</td></tr><tr><td>Women&#39;s Tights, L</td><td>2012-05-30 00:00:00.000</td><td>4</td></tr><tr><td>Women&#39;s Tights, M</td><td>2012-05-30 00:00:00.000</td><td>4</td></tr><tr><td>Women&#39;s Tights, S</td><td>2012-05-30 00:00:00.000</td><td>4</td></tr><tr><td>All-Purpose Bike Stand</td><td>2013-05-30 00:00:00.000</td><td>5</td></tr><tr><td>Bike Wash - Dissolver</td><td>2013-05-30 00:00:00.000</td><td>5</td></tr><tr><td>Chain</td><td>2013-05-30 00:00:00.000</td><td>5</td></tr><tr><td>Classic Vest, L</td><td>2013-05-30 00:00:00.000</td><td>5</td></tr><tr><td>Classic Vest, M</td><td>2013-05-30 00:00:00.000</td><td>5</td></tr><tr><td>Classic Vest, S</td><td>2013-05-30 00:00:00.000</td><td>5</td></tr><tr><td>Fender Set - Mountain</td><td>2013-05-30 00:00:00.000</td><td>5</td></tr><tr><td>Front Brakes</td><td>2013-05-30 00:00:00.000</td><td>5</td></tr><tr><td>Front Derailleur</td><td>2013-05-30 00:00:00.000</td><td>5</td></tr><tr><td>Hitch Rack - 4-Bike</td><td>2013-05-30 00:00:00.000</td><td>5</td></tr><tr><td>HL Bottom Bracket</td><td>2013-05-30 00:00:00.000</td><td>5</td></tr><tr><td>HL Crankset</td><td>2013-05-30 00:00:00.000</td><td>5</td></tr><tr><td>HL Mountain Pedal</td><td>2013-05-30 00:00:00.000</td><td>5</td></tr><tr><td>HL Mountain Seat/Saddle</td><td>2013-05-30 00:00:00.000</td><td>5</td></tr><tr><td>HL Mountain Tire</td><td>2013-05-30 00:00:00.000</td><td>5</td></tr><tr><td>HL Road Pedal</td><td>2013-05-30 00:00:00.000</td><td>5</td></tr><tr><td>HL Road Seat/Saddle</td><td>2013-05-30 00:00:00.000</td><td>5</td></tr><tr><td>HL Road Tire</td><td>2013-05-30 00:00:00.000</td><td>5</td></tr><tr><td>HL Touring Frame - Blue, 46</td><td>2013-05-30 00:00:00.000</td><td>5</td></tr><tr><td>HL Touring Frame - Blue, 50</td><td>2013-05-30 00:00:00.000</td><td>5</td></tr><tr><td>HL Touring Frame - Blue, 54</td><td>2013-05-30 00:00:00.000</td><td>5</td></tr><tr><td>HL Touring Frame - Blue, 60</td><td>2013-05-30 00:00:00.000</td><td>5</td></tr><tr><td>HL Touring Frame - Yellow, 46</td><td>2013-05-30 00:00:00.000</td><td>5</td></tr><tr><td>HL Touring Frame - Yellow, 50</td><td>2013-05-30 00:00:00.000</td><td>5</td></tr><tr><td>HL Touring Frame - Yellow, 54</td><td>2013-05-30 00:00:00.000</td><td>5</td></tr><tr><td>HL Touring Frame - Yellow, 60</td><td>2013-05-30 00:00:00.000</td><td>5</td></tr><tr><td>HL Touring Handlebars</td><td>2013-05-30 00:00:00.000</td><td>5</td></tr><tr><td>HL Touring Seat/Saddle</td><td>2013-05-30 00:00:00.000</td><td>5</td></tr><tr><td>Hydration Pack - 70 oz.</td><td>2013-05-30 00:00:00.000</td><td>5</td></tr><tr><td>LL Bottom Bracket</td><td>2013-05-30 00:00:00.000</td><td>5</td></tr><tr><td>LL Crankset</td><td>2013-05-30 00:00:00.000</td><td>5</td></tr><tr><td>LL Mountain Frame - Black, 40</td><td>2013-05-30 00:00:00.000</td><td>5</td></tr><tr><td>LL Mountain Frame - Black, 42</td><td>2013-05-30 00:00:00.000</td><td>5</td></tr><tr><td>LL Mountain Frame - Black, 44</td><td>2013-05-30 00:00:00.000</td><td>5</td></tr><tr><td>LL Mountain Frame - Black, 48</td><td>2013-05-30 00:00:00.000</td><td>5</td></tr><tr><td>LL Mountain Frame - Black, 52</td><td>2013-05-30 00:00:00.000</td><td>5</td></tr><tr><td>LL Mountain Frame - Silver, 40</td><td>2013-05-30 00:00:00.000</td><td>5</td></tr><tr><td>LL Mountain Frame - Silver, 42</td><td>2013-05-30 00:00:00.000</td><td>5</td></tr><tr><td>LL Mountain Frame - Silver, 44</td><td>2013-05-30 00:00:00.000</td><td>5</td></tr><tr><td>LL Mountain Frame - Silver, 48</td><td>2013-05-30 00:00:00.000</td><td>5</td></tr><tr><td>LL Mountain Frame - Silver, 52</td><td>2013-05-30 00:00:00.000</td><td>5</td></tr><tr><td>LL Mountain Pedal</td><td>2013-05-30 00:00:00.000</td><td>5</td></tr><tr><td>LL Mountain Seat/Saddle</td><td>2013-05-30 00:00:00.000</td><td>5</td></tr><tr><td>LL Mountain Tire</td><td>2013-05-30 00:00:00.000</td><td>5</td></tr><tr><td>LL Road Pedal</td><td>2013-05-30 00:00:00.000</td><td>5</td></tr><tr><td>LL Road Seat/Saddle</td><td>2013-05-30 00:00:00.000</td><td>5</td></tr><tr><td>LL Road Tire</td><td>2013-05-30 00:00:00.000</td><td>5</td></tr><tr><td>LL Touring Frame - Blue, 44</td><td>2013-05-30 00:00:00.000</td><td>5</td></tr><tr><td>LL Touring Frame - Blue, 50</td><td>2013-05-30 00:00:00.000</td><td>5</td></tr><tr><td>LL Touring Frame - Blue, 54</td><td>2013-05-30 00:00:00.000</td><td>5</td></tr><tr><td>LL Touring Frame - Blue, 58</td><td>2013-05-30 00:00:00.000</td><td>5</td></tr><tr><td>LL Touring Frame - Blue, 62</td><td>2013-05-30 00:00:00.000</td><td>5</td></tr><tr><td>LL Touring Frame - Yellow, 44</td><td>2013-05-30 00:00:00.000</td><td>5</td></tr><tr><td>LL Touring Frame - Yellow, 50</td><td>2013-05-30 00:00:00.000</td><td>5</td></tr><tr><td>LL Touring Frame - Yellow, 54</td><td>2013-05-30 00:00:00.000</td><td>5</td></tr><tr><td>LL Touring Frame - Yellow, 58</td><td>2013-05-30 00:00:00.000</td><td>5</td></tr><tr><td>LL Touring Frame - Yellow, 62</td><td>2013-05-30 00:00:00.000</td><td>5</td></tr><tr><td>LL Touring Handlebars</td><td>2013-05-30 00:00:00.000</td><td>5</td></tr><tr><td>LL Touring Seat/Saddle</td><td>2013-05-30 00:00:00.000</td><td>5</td></tr><tr><td>ML Bottom Bracket</td><td>2013-05-30 00:00:00.000</td><td>5</td></tr><tr><td>ML Crankset</td><td>2013-05-30 00:00:00.000</td><td>5</td></tr><tr><td>ML Mountain Frame-W - Silver, 38</td><td>2013-05-30 00:00:00.000</td><td>5</td></tr><tr><td>ML Mountain Frame-W - Silver, 40</td><td>2013-05-30 00:00:00.000</td><td>5</td></tr><tr><td>ML Mountain Frame-W - Silver, 42</td><td>2013-05-30 00:00:00.000</td><td>5</td></tr><tr><td>ML Mountain Frame-W - Silver, 46</td><td>2013-05-30 00:00:00.000</td><td>5</td></tr><tr><td>ML Mountain Pedal</td><td>2013-05-30 00:00:00.000</td><td>5</td></tr><tr><td>ML Mountain Seat/Saddle</td><td>2013-05-30 00:00:00.000</td><td>5</td></tr><tr><td>ML Mountain Tire</td><td>2013-05-30 00:00:00.000</td><td>5</td></tr><tr><td>ML Road Pedal</td><td>2013-05-30 00:00:00.000</td><td>5</td></tr><tr><td>ML Road Seat/Saddle</td><td>2013-05-30 00:00:00.000</td><td>5</td></tr><tr><td>ML Road Tire</td><td>2013-05-30 00:00:00.000</td><td>5</td></tr><tr><td>ML Touring Seat/Saddle</td><td>2013-05-30 00:00:00.000</td><td>5</td></tr><tr><td>Mountain Bottle Cage</td><td>2013-05-30 00:00:00.000</td><td>5</td></tr><tr><td>Mountain Tire Tube</td><td>2013-05-30 00:00:00.000</td><td>5</td></tr><tr><td>Mountain-400-W Silver, 38</td><td>2013-05-30 00:00:00.000</td><td>5</td></tr><tr><td>Mountain-400-W Silver, 40</td><td>2013-05-30 00:00:00.000</td><td>5</td></tr><tr><td>Mountain-400-W Silver, 42</td><td>2013-05-30 00:00:00.000</td><td>5</td></tr><tr><td>Mountain-400-W Silver, 46</td><td>2013-05-30 00:00:00.000</td><td>5</td></tr><tr><td>Mountain-500 Black, 40</td><td>2013-05-30 00:00:00.000</td><td>5</td></tr><tr><td>Mountain-500 Black, 42</td><td>2013-05-30 00:00:00.000</td><td>5</td></tr><tr><td>Mountain-500 Black, 44</td><td>2013-05-30 00:00:00.000</td><td>5</td></tr><tr><td>Mountain-500 Black, 48</td><td>2013-05-30 00:00:00.000</td><td>5</td></tr><tr><td>Mountain-500 Black, 52</td><td>2013-05-30 00:00:00.000</td><td>5</td></tr><tr><td>Mountain-500 Silver, 40</td><td>2013-05-30 00:00:00.000</td><td>5</td></tr><tr><td>Mountain-500 Silver, 42</td><td>2013-05-30 00:00:00.000</td><td>5</td></tr><tr><td>Mountain-500 Silver, 44</td><td>2013-05-30 00:00:00.000</td><td>5</td></tr><tr><td>Mountain-500 Silver, 48</td><td>2013-05-30 00:00:00.000</td><td>5</td></tr><tr><td>Mountain-500 Silver, 52</td><td>2013-05-30 00:00:00.000</td><td>5</td></tr><tr><td>Patch Kit/8 Patches</td><td>2013-05-30 00:00:00.000</td><td>5</td></tr><tr><td>Racing Socks, L</td><td>2013-05-30 00:00:00.000</td><td>5</td></tr><tr><td>Racing Socks, M</td><td>2013-05-30 00:00:00.000</td><td>5</td></tr><tr><td>Rear Brakes</td><td>2013-05-30 00:00:00.000</td><td>5</td></tr><tr><td>Rear Derailleur</td><td>2013-05-30 00:00:00.000</td><td>5</td></tr><tr><td>Road Bottle Cage</td><td>2013-05-30 00:00:00.000</td><td>5</td></tr><tr><td>Road Tire Tube</td><td>2013-05-30 00:00:00.000</td><td>5</td></tr><tr><td>Road-350-W Yellow, 40</td><td>2013-05-30 00:00:00.000</td><td>5</td></tr><tr><td>Road-350-W Yellow, 42</td><td>2013-05-30 00:00:00.000</td><td>5</td></tr><tr><td>Road-350-W Yellow, 44</td><td>2013-05-30 00:00:00.000</td><td>5</td></tr><tr><td>Road-350-W Yellow, 48</td><td>2013-05-30 00:00:00.000</td><td>5</td></tr><tr><td>Road-750 Black, 44</td><td>2013-05-30 00:00:00.000</td><td>5</td></tr><tr><td>Road-750 Black, 48</td><td>2013-05-30 00:00:00.000</td><td>5</td></tr><tr><td>Road-750 Black, 52</td><td>2013-05-30 00:00:00.000</td><td>5</td></tr><tr><td>Road-750 Black, 58</td><td>2013-05-30 00:00:00.000</td><td>5</td></tr><tr><td>Short-Sleeve Classic Jersey, L</td><td>2013-05-30 00:00:00.000</td><td>5</td></tr><tr><td>Short-Sleeve Classic Jersey, M</td><td>2013-05-30 00:00:00.000</td><td>5</td></tr><tr><td>Short-Sleeve Classic Jersey, S</td><td>2013-05-30 00:00:00.000</td><td>5</td></tr><tr><td>Short-Sleeve Classic Jersey, XL</td><td>2013-05-30 00:00:00.000</td><td>5</td></tr><tr><td>Touring Pedal</td><td>2013-05-30 00:00:00.000</td><td>5</td></tr><tr><td>Touring Tire</td><td>2013-05-30 00:00:00.000</td><td>5</td></tr><tr><td>Touring Tire Tube</td><td>2013-05-30 00:00:00.000</td><td>5</td></tr><tr><td>Touring-1000 Blue, 46</td><td>2013-05-30 00:00:00.000</td><td>5</td></tr><tr><td>Touring-1000 Blue, 50</td><td>2013-05-30 00:00:00.000</td><td>5</td></tr><tr><td>Touring-1000 Blue, 54</td><td>2013-05-30 00:00:00.000</td><td>5</td></tr><tr><td>Touring-1000 Blue, 60</td><td>2013-05-30 00:00:00.000</td><td>5</td></tr><tr><td>Touring-1000 Yellow, 46</td><td>2013-05-30 00:00:00.000</td><td>5</td></tr><tr><td>Touring-1000 Yellow, 50</td><td>2013-05-30 00:00:00.000</td><td>5</td></tr><tr><td>Touring-1000 Yellow, 54</td><td>2013-05-30 00:00:00.000</td><td>5</td></tr><tr><td>Touring-1000 Yellow, 60</td><td>2013-05-30 00:00:00.000</td><td>5</td></tr><tr><td>Touring-2000 Blue, 46</td><td>2013-05-30 00:00:00.000</td><td>5</td></tr><tr><td>Touring-2000 Blue, 50</td><td>2013-05-30 00:00:00.000</td><td>5</td></tr><tr><td>Touring-2000 Blue, 54</td><td>2013-05-30 00:00:00.000</td><td>5</td></tr><tr><td>Touring-2000 Blue, 60</td><td>2013-05-30 00:00:00.000</td><td>5</td></tr><tr><td>Touring-3000 Blue, 44</td><td>2013-05-30 00:00:00.000</td><td>5</td></tr><tr><td>Touring-3000 Blue, 50</td><td>2013-05-30 00:00:00.000</td><td>5</td></tr><tr><td>Touring-3000 Blue, 54</td><td>2013-05-30 00:00:00.000</td><td>5</td></tr><tr><td>Touring-3000 Blue, 58</td><td>2013-05-30 00:00:00.000</td><td>5</td></tr><tr><td>Touring-3000 Blue, 62</td><td>2013-05-30 00:00:00.000</td><td>5</td></tr><tr><td>Touring-3000 Yellow, 44</td><td>2013-05-30 00:00:00.000</td><td>5</td></tr><tr><td>Touring-3000 Yellow, 50</td><td>2013-05-30 00:00:00.000</td><td>5</td></tr><tr><td>Touring-3000 Yellow, 54</td><td>2013-05-30 00:00:00.000</td><td>5</td></tr><tr><td>Touring-3000 Yellow, 58</td><td>2013-05-30 00:00:00.000</td><td>5</td></tr><tr><td>Touring-3000 Yellow, 62</td><td>2013-05-30 00:00:00.000</td><td>5</td></tr><tr><td>Water Bottle - 30 oz.</td><td>2013-05-30 00:00:00.000</td><td>5</td></tr><tr><td>Women&#39;s Mountain Shorts, L</td><td>2013-05-30 00:00:00.000</td><td>5</td></tr><tr><td>Women&#39;s Mountain Shorts, M</td><td>2013-05-30 00:00:00.000</td><td>5</td></tr><tr><td>Women&#39;s Mountain Shorts, S</td><td>2013-05-30 00:00:00.000</td><td>5</td></tr></table>"
                    },
                    "metadata": {}
                }
            ],
            "execution_count": 9
        }
    ]
}