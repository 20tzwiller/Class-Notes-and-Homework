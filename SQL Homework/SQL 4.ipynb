{
    "metadata": {
        "kernelspec": {
            "name": "SQL",
            "display_name": "SQL",
            "language": "sql"
        },
        "language_info": {
            "name": "sql",
            "version": ""
        }
    },
    "nbformat_minor": 2,
    "nbformat": 4,
    "cells": [
        {
            "cell_type": "markdown",
            "source": [
                "<span style=\"font-size: 12pt; font-family: &quot;Times New Roman&quot;, serif; color: rgb(0, 0, 0); background-color: transparent; font-variant-numeric: normal; font-variant-east-asian: normal; font-variant-alternates: normal; vertical-align: baseline; white-space-collapse: preserve;\">1. You have been asked to understand how successful the Touring-3000 promotion was. Produce a report that retrieves the reseller name, country name, product category name, total sales amount, and currency name for this promotion.&nbsp; Be sure to show the highest value sales first.</span>"
            ],
            "metadata": {
                "azdata_cell_guid": "22676006-57d0-46ee-aa36-a72da8ba2e7f"
            },
            "attachments": {}
        },
        {
            "cell_type": "code",
            "source": [
                "SELECT DS.ResellerName AS 'Reseller Name' --Cleans up the column name of reseller name\n",
                "    ,DST.SalesTerritoryCountry AS 'Country Sold' --improves readability while also pulling country name\n",
                "    ,DPC.EnglishProductCategoryName AS 'Product Cat Name' --improves readability while also pulling cat name\n",
                "    ,ROUND(SUM(FRS.SalesAmount), 2) AS Total_Sales --sums the sames amounts\n",
                "    ,DC.CurrencyName AS 'Currency Name' --lists the currency name\n",
                "FROM ADW.dbo.FactResellerSales FRS --this is how we get the sales amounts\n",
                "JOIN ADW.dbo.DimPromotion DPRO --grabbing the promotion table so I can filter on it later\n",
                "    ON DPRO.PromotionKey = FRS.PromotionKey --joining on the promotion key\n",
                "JOIN ADW.dbo.DimReseller DS --then going to the dimreseller table so I can avoid overloading one of the tables\n",
                "    ON FRS.ResellerKey = DS.ResellerKey\n",
                "JOIN ADW.dbo.DimGeography DG --I then link to dim geography so that I can...\n",
                "    ON DG.GeographyKey = DS.GeographyKey\n",
                "JOIN ADW.dbo.DimSalesTerritory DST \n",
                "    ON DST.SalesTerritoryKey = DG.SalesTerritoryKey --link to the sales territory key without linking the DST table to the FRS table\n",
                "JOIN ADW.dbo.DimProduct DP --then going to dim product on FRS product key \n",
                "    ON FRS.ProductKey = DP.ProductKey\n",
                "JOIN ADW.dbo.DimProductSubcategory DPS --so I can get subcategory\n",
                "    ON DPS.ProductSubcategoryKey = DP.ProductSubcategoryKey\n",
                "JOIN ADW.dbo.DimProductCategory DPC --so I can get the product category name\n",
                "    ON DPC.ProductCategoryKey = DPS.ProductCategoryKey\n",
                "JOIN ADW.dbo.DimCurrency DC --and then added the currency \n",
                "    ON DC.CurrencyKey = FRS.CurrencyKey\n",
                "WHERE DPRO.PromotionKey = 13 --Filters promotion key 13\n",
                "GROUP BY DS.ResellerName --and then I grouped by the reseller name \n",
                "    ,DST.SalesTerritoryCountry --then the country\n",
                "    ,DC.CurrencyName --the currency name\n",
                "    ,DPC.EnglishProductCategoryName --the category name\n",
                "ORDER BY SUM(FRS.SalesAmount) DESC --and ordered by sales\n",
                "\n",
                "--thank you for the help in office hours! My mistake in problem 2 applied to this question as well. Took an extra join or two, but it worked"
            ],
            "metadata": {
                "azdata_cell_guid": "0920ba04-8934-4e00-8fb4-867555e715bb",
                "language": "sql"
            },
            "outputs": [
                {
                    "output_type": "display_data",
                    "data": {
                        "text/html": "(101 rows affected)"
                    },
                    "metadata": {}
                },
                {
                    "output_type": "display_data",
                    "data": {
                        "text/html": "Total execution time: 00:00:00.103"
                    },
                    "metadata": {}
                },
                {
                    "output_type": "execute_result",
                    "execution_count": 236,
                    "data": {
                        "application/vnd.dataresource+json": {
                            "schema": {
                                "fields": [
                                    {
                                        "name": "Reseller Name"
                                    },
                                    {
                                        "name": "Country Sold"
                                    },
                                    {
                                        "name": "Product Cat Name"
                                    },
                                    {
                                        "name": "Total_Sales"
                                    },
                                    {
                                        "name": "Currency Name"
                                    }
                                ]
                            },
                            "data": [
                                {
                                    "Reseller Name": "Action Bicycle Specialists",
                                    "Country Sold": "United Kingdom",
                                    "Product Cat Name": "Bikes",
                                    "Total_Sales": "19024.57",
                                    "Currency Name": "United Kingdom Pound"
                                },
                                {
                                    "Reseller Name": "Westside Plaza",
                                    "Country Sold": "United States",
                                    "Product Cat Name": "Bikes",
                                    "Total_Sales": "19024.57",
                                    "Currency Name": "US Dollar"
                                },
                                {
                                    "Reseller Name": "Camping and Sports Store",
                                    "Country Sold": "Canada",
                                    "Product Cat Name": "Bikes",
                                    "Total_Sales": "17320.88",
                                    "Currency Name": "Canadian Dollar"
                                },
                                {
                                    "Reseller Name": "Global Bike Retailers",
                                    "Country Sold": "Germany",
                                    "Product Cat Name": "Bikes",
                                    "Total_Sales": "16752.98",
                                    "Currency Name": "EURO"
                                },
                                {
                                    "Reseller Name": "Perfect Toys",
                                    "Country Sold": "France",
                                    "Product Cat Name": "Bikes",
                                    "Total_Sales": "15333.24",
                                    "Currency Name": "US Dollar"
                                },
                                {
                                    "Reseller Name": "Roadway Bicycle Supply",
                                    "Country Sold": "France",
                                    "Product Cat Name": "Bikes",
                                    "Total_Sales": "14481.39",
                                    "Currency Name": "US Dollar"
                                },
                                {
                                    "Reseller Name": "Rally Master Company Inc",
                                    "Country Sold": "United States",
                                    "Product Cat Name": "Bikes",
                                    "Total_Sales": "13913.50",
                                    "Currency Name": "US Dollar"
                                },
                                {
                                    "Reseller Name": "Best Cycle Store",
                                    "Country Sold": "Germany",
                                    "Product Cat Name": "Bikes",
                                    "Total_Sales": "12493.75",
                                    "Currency Name": "EURO"
                                },
                                {
                                    "Reseller Name": "Front Runner Bikes",
                                    "Country Sold": "United States",
                                    "Product Cat Name": "Bikes",
                                    "Total_Sales": "11641.90",
                                    "Currency Name": "US Dollar"
                                },
                                {
                                    "Reseller Name": "Favorite Toy Distributor",
                                    "Country Sold": "France",
                                    "Product Cat Name": "Bikes",
                                    "Total_Sales": "10506.11",
                                    "Currency Name": "EURO"
                                },
                                {
                                    "Reseller Name": "Glossy Bikes",
                                    "Country Sold": "United States",
                                    "Product Cat Name": "Bikes",
                                    "Total_Sales": "9086.36",
                                    "Currency Name": "US Dollar"
                                },
                                {
                                    "Reseller Name": "Outstanding Cycles",
                                    "Country Sold": "United States",
                                    "Product Cat Name": "Bikes",
                                    "Total_Sales": "9086.36",
                                    "Currency Name": "US Dollar"
                                },
                                {
                                    "Reseller Name": "Another Bicycle Company",
                                    "Country Sold": "United States",
                                    "Product Cat Name": "Bikes",
                                    "Total_Sales": "8518.47",
                                    "Currency Name": "US Dollar"
                                },
                                {
                                    "Reseller Name": "Vintage Sport Boutique",
                                    "Country Sold": "United States",
                                    "Product Cat Name": "Bikes",
                                    "Total_Sales": "8518.47",
                                    "Currency Name": "US Dollar"
                                },
                                {
                                    "Reseller Name": "Technical Parts Manufacturing",
                                    "Country Sold": "United States",
                                    "Product Cat Name": "Bikes",
                                    "Total_Sales": "8518.47",
                                    "Currency Name": "US Dollar"
                                },
                                {
                                    "Reseller Name": "Instruments and Parts Company",
                                    "Country Sold": "United Kingdom",
                                    "Product Cat Name": "Bikes",
                                    "Total_Sales": "7950.57",
                                    "Currency Name": "United Kingdom Pound"
                                },
                                {
                                    "Reseller Name": "Metro Metals Co.",
                                    "Country Sold": "United Kingdom",
                                    "Product Cat Name": "Bikes",
                                    "Total_Sales": "7666.62",
                                    "Currency Name": "United Kingdom Pound"
                                },
                                {
                                    "Reseller Name": "Extreme Riding Supplies",
                                    "Country Sold": "United States",
                                    "Product Cat Name": "Bikes",
                                    "Total_Sales": "7666.62",
                                    "Currency Name": "US Dollar"
                                },
                                {
                                    "Reseller Name": "Next Door Cycles",
                                    "Country Sold": "Germany",
                                    "Product Cat Name": "Bikes",
                                    "Total_Sales": "7382.67",
                                    "Currency Name": "EURO"
                                },
                                {
                                    "Reseller Name": "Nationwide Supply",
                                    "Country Sold": "Australia",
                                    "Product Cat Name": "Bikes",
                                    "Total_Sales": "7382.67",
                                    "Currency Name": "Australian Dollar"
                                },
                                {
                                    "Reseller Name": "Petroleum Products Distributors",
                                    "Country Sold": "Canada",
                                    "Product Cat Name": "Bikes",
                                    "Total_Sales": "7098.72",
                                    "Currency Name": "Canadian Dollar"
                                },
                                {
                                    "Reseller Name": "Roadway Bike Emporium",
                                    "Country Sold": "United States",
                                    "Product Cat Name": "Bikes",
                                    "Total_Sales": "7098.72",
                                    "Currency Name": "US Dollar"
                                },
                                {
                                    "Reseller Name": "Utilitarian Sporting Goods",
                                    "Country Sold": "United States",
                                    "Product Cat Name": "Bikes",
                                    "Total_Sales": "6814.77",
                                    "Currency Name": "US Dollar"
                                },
                                {
                                    "Reseller Name": "Grand Industries",
                                    "Country Sold": "Canada",
                                    "Product Cat Name": "Bikes",
                                    "Total_Sales": "6530.82",
                                    "Currency Name": "Canadian Dollar"
                                },
                                {
                                    "Reseller Name": "Farthest Bike Store",
                                    "Country Sold": "Canada",
                                    "Product Cat Name": "Bikes",
                                    "Total_Sales": "6246.88",
                                    "Currency Name": "Canadian Dollar"
                                },
                                {
                                    "Reseller Name": "Excellent Bikes",
                                    "Country Sold": "Germany",
                                    "Product Cat Name": "Bikes",
                                    "Total_Sales": "6246.88",
                                    "Currency Name": "EURO"
                                },
                                {
                                    "Reseller Name": "Running and Cycling Gear",
                                    "Country Sold": "United States",
                                    "Product Cat Name": "Bikes",
                                    "Total_Sales": "5678.98",
                                    "Currency Name": "US Dollar"
                                },
                                {
                                    "Reseller Name": "Amalgamated Parts Shop",
                                    "Country Sold": "Germany",
                                    "Product Cat Name": "Bikes",
                                    "Total_Sales": "5395.03",
                                    "Currency Name": "EURO"
                                },
                                {
                                    "Reseller Name": "Gears and Parts Company",
                                    "Country Sold": "Australia",
                                    "Product Cat Name": "Bikes",
                                    "Total_Sales": "5111.08",
                                    "Currency Name": "Australian Dollar"
                                },
                                {
                                    "Reseller Name": "Rugged Bikes",
                                    "Country Sold": "United States",
                                    "Product Cat Name": "Bikes",
                                    "Total_Sales": "5111.08",
                                    "Currency Name": "US Dollar"
                                },
                                {
                                    "Reseller Name": "Eighth Bike Store",
                                    "Country Sold": "United States",
                                    "Product Cat Name": "Bikes",
                                    "Total_Sales": "4827.13",
                                    "Currency Name": "US Dollar"
                                },
                                {
                                    "Reseller Name": "Helmets and Cycles",
                                    "Country Sold": "Australia",
                                    "Product Cat Name": "Bikes",
                                    "Total_Sales": "4827.13",
                                    "Currency Name": "Australian Dollar"
                                },
                                {
                                    "Reseller Name": "Odometers and Accessories Company",
                                    "Country Sold": "Canada",
                                    "Product Cat Name": "Bikes",
                                    "Total_Sales": "4827.13",
                                    "Currency Name": "Canadian Dollar"
                                },
                                {
                                    "Reseller Name": "Educational Services",
                                    "Country Sold": "Germany",
                                    "Product Cat Name": "Bikes",
                                    "Total_Sales": "4543.18",
                                    "Currency Name": "EURO"
                                },
                                {
                                    "Reseller Name": "Sleek Bikes",
                                    "Country Sold": "United States",
                                    "Product Cat Name": "Bikes",
                                    "Total_Sales": "4543.18",
                                    "Currency Name": "US Dollar"
                                },
                                {
                                    "Reseller Name": "Immense Manufacturing Company",
                                    "Country Sold": "United States",
                                    "Product Cat Name": "Bikes",
                                    "Total_Sales": "4543.18",
                                    "Currency Name": "US Dollar"
                                },
                                {
                                    "Reseller Name": "Kickstands and Accessories Company",
                                    "Country Sold": "United States",
                                    "Product Cat Name": "Bikes",
                                    "Total_Sales": "4259.23",
                                    "Currency Name": "US Dollar"
                                },
                                {
                                    "Reseller Name": "Fourth Bike Store",
                                    "Country Sold": "United States",
                                    "Product Cat Name": "Bikes",
                                    "Total_Sales": "4259.23",
                                    "Currency Name": "US Dollar"
                                },
                                {
                                    "Reseller Name": "Mountain Bike Store",
                                    "Country Sold": "United States",
                                    "Product Cat Name": "Bikes",
                                    "Total_Sales": "4259.23",
                                    "Currency Name": "US Dollar"
                                },
                                {
                                    "Reseller Name": "Cycle Parts and Accessories",
                                    "Country Sold": "Australia",
                                    "Product Cat Name": "Bikes",
                                    "Total_Sales": "3975.28",
                                    "Currency Name": "Australian Dollar"
                                },
                                {
                                    "Reseller Name": "Blue-Ribbon Bike Company",
                                    "Country Sold": "United States",
                                    "Product Cat Name": "Bikes",
                                    "Total_Sales": "3975.28",
                                    "Currency Name": "US Dollar"
                                },
                                {
                                    "Reseller Name": "Quick Parts and Service",
                                    "Country Sold": "Canada",
                                    "Product Cat Name": "Bikes",
                                    "Total_Sales": "3975.28",
                                    "Currency Name": "Canadian Dollar"
                                },
                                {
                                    "Reseller Name": "The Bike Outlet",
                                    "Country Sold": "France",
                                    "Product Cat Name": "Bikes",
                                    "Total_Sales": "3975.28",
                                    "Currency Name": "US Dollar"
                                },
                                {
                                    "Reseller Name": "Industrial Supplies",
                                    "Country Sold": "United States",
                                    "Product Cat Name": "Bikes",
                                    "Total_Sales": "3975.28",
                                    "Currency Name": "US Dollar"
                                },
                                {
                                    "Reseller Name": "Authorized Bike Sales and Rental",
                                    "Country Sold": "United States",
                                    "Product Cat Name": "Bikes",
                                    "Total_Sales": "3975.28",
                                    "Currency Name": "US Dollar"
                                },
                                {
                                    "Reseller Name": "Bike Part Wholesalers",
                                    "Country Sold": "Australia",
                                    "Product Cat Name": "Bikes",
                                    "Total_Sales": "3691.34",
                                    "Currency Name": "Australian Dollar"
                                },
                                {
                                    "Reseller Name": "Fitness Supplies",
                                    "Country Sold": "United States",
                                    "Product Cat Name": "Bikes",
                                    "Total_Sales": "3691.34",
                                    "Currency Name": "US Dollar"
                                },
                                {
                                    "Reseller Name": "Exchange Parts Inc.",
                                    "Country Sold": "United States",
                                    "Product Cat Name": "Bikes",
                                    "Total_Sales": "3691.34",
                                    "Currency Name": "US Dollar"
                                },
                                {
                                    "Reseller Name": "Popular Bike Lines",
                                    "Country Sold": "Australia",
                                    "Product Cat Name": "Bikes",
                                    "Total_Sales": "3691.34",
                                    "Currency Name": "Australian Dollar"
                                },
                                {
                                    "Reseller Name": "Helpful Sales and Repair Service",
                                    "Country Sold": "Australia",
                                    "Product Cat Name": "Bikes",
                                    "Total_Sales": "3691.34",
                                    "Currency Name": "Australian Dollar"
                                },
                                {
                                    "Reseller Name": "Stock Parts and Supplies",
                                    "Country Sold": "United States",
                                    "Product Cat Name": "Bikes",
                                    "Total_Sales": "3407.39",
                                    "Currency Name": "US Dollar"
                                },
                                {
                                    "Reseller Name": "Variety Cycling",
                                    "Country Sold": "United Kingdom",
                                    "Product Cat Name": "Bikes",
                                    "Total_Sales": "3123.44",
                                    "Currency Name": "United Kingdom Pound"
                                },
                                {
                                    "Reseller Name": "Cycles Wholesaler & Mfg.",
                                    "Country Sold": "United Kingdom",
                                    "Product Cat Name": "Bikes",
                                    "Total_Sales": "3123.44",
                                    "Currency Name": "United Kingdom Pound"
                                },
                                {
                                    "Reseller Name": "Fast Bike Works",
                                    "Country Sold": "Australia",
                                    "Product Cat Name": "Bikes",
                                    "Total_Sales": "3123.44",
                                    "Currency Name": "Australian Dollar"
                                },
                                {
                                    "Reseller Name": "Fasteners & Bolts Outlet",
                                    "Country Sold": "Canada",
                                    "Product Cat Name": "Bikes",
                                    "Total_Sales": "2839.49",
                                    "Currency Name": "Canadian Dollar"
                                },
                                {
                                    "Reseller Name": "Locks Company",
                                    "Country Sold": "United States",
                                    "Product Cat Name": "Bikes",
                                    "Total_Sales": "2839.49",
                                    "Currency Name": "US Dollar"
                                },
                                {
                                    "Reseller Name": "Metal Clearing House",
                                    "Country Sold": "Canada",
                                    "Product Cat Name": "Bikes",
                                    "Total_Sales": "2839.49",
                                    "Currency Name": "Canadian Dollar"
                                },
                                {
                                    "Reseller Name": "Pedaling Components",
                                    "Country Sold": "Germany",
                                    "Product Cat Name": "Bikes",
                                    "Total_Sales": "2555.54",
                                    "Currency Name": "EURO"
                                },
                                {
                                    "Reseller Name": "Professional Sales and Service",
                                    "Country Sold": "United States",
                                    "Product Cat Name": "Bikes",
                                    "Total_Sales": "2271.59",
                                    "Currency Name": "US Dollar"
                                },
                                {
                                    "Reseller Name": "Fun Toys and Bikes",
                                    "Country Sold": "United States",
                                    "Product Cat Name": "Bikes",
                                    "Total_Sales": "2271.59",
                                    "Currency Name": "US Dollar"
                                },
                                {
                                    "Reseller Name": "Rich Department Store",
                                    "Country Sold": "Australia",
                                    "Product Cat Name": "Bikes",
                                    "Total_Sales": "2271.59",
                                    "Currency Name": "Australian Dollar"
                                },
                                {
                                    "Reseller Name": "Small Bike Accessories Shop",
                                    "Country Sold": "United States",
                                    "Product Cat Name": "Bikes",
                                    "Total_Sales": "1987.64",
                                    "Currency Name": "US Dollar"
                                },
                                {
                                    "Reseller Name": "Sports Merchandise",
                                    "Country Sold": "United States",
                                    "Product Cat Name": "Bikes",
                                    "Total_Sales": "1987.64",
                                    "Currency Name": "US Dollar"
                                },
                                {
                                    "Reseller Name": "Honest Repair Service",
                                    "Country Sold": "United States",
                                    "Product Cat Name": "Bikes",
                                    "Total_Sales": "1987.64",
                                    "Currency Name": "US Dollar"
                                },
                                {
                                    "Reseller Name": "Liquidation Sales",
                                    "Country Sold": "Australia",
                                    "Product Cat Name": "Bikes",
                                    "Total_Sales": "1703.69",
                                    "Currency Name": "Australian Dollar"
                                },
                                {
                                    "Reseller Name": "Racing Supply Distributors",
                                    "Country Sold": "France",
                                    "Product Cat Name": "Bikes",
                                    "Total_Sales": "1703.69",
                                    "Currency Name": "US Dollar"
                                },
                                {
                                    "Reseller Name": "South Bike Company",
                                    "Country Sold": "Canada",
                                    "Product Cat Name": "Bikes",
                                    "Total_Sales": "1703.69",
                                    "Currency Name": "Canadian Dollar"
                                },
                                {
                                    "Reseller Name": "Quitting Business Distributors",
                                    "Country Sold": "United States",
                                    "Product Cat Name": "Bikes",
                                    "Total_Sales": "1419.74",
                                    "Currency Name": "US Dollar"
                                },
                                {
                                    "Reseller Name": "Thrilling Bike Tours",
                                    "Country Sold": "United States",
                                    "Product Cat Name": "Bikes",
                                    "Total_Sales": "1419.74",
                                    "Currency Name": "US Dollar"
                                },
                                {
                                    "Reseller Name": "Machines & Cycles Store",
                                    "Country Sold": "Canada",
                                    "Product Cat Name": "Bikes",
                                    "Total_Sales": "1419.74",
                                    "Currency Name": "Canadian Dollar"
                                },
                                {
                                    "Reseller Name": "Finer Sporting Goods",
                                    "Country Sold": "France",
                                    "Product Cat Name": "Bikes",
                                    "Total_Sales": "1419.74",
                                    "Currency Name": "US Dollar"
                                },
                                {
                                    "Reseller Name": "First Supplies",
                                    "Country Sold": "Australia",
                                    "Product Cat Name": "Bikes",
                                    "Total_Sales": "1419.74",
                                    "Currency Name": "Australian Dollar"
                                },
                                {
                                    "Reseller Name": "Engineered Bike Systems",
                                    "Country Sold": "United States",
                                    "Product Cat Name": "Bikes",
                                    "Total_Sales": "1135.80",
                                    "Currency Name": "US Dollar"
                                },
                                {
                                    "Reseller Name": "Cycles Sales and Repair",
                                    "Country Sold": "France",
                                    "Product Cat Name": "Bikes",
                                    "Total_Sales": "1135.80",
                                    "Currency Name": "US Dollar"
                                },
                                {
                                    "Reseller Name": "Bicycle Exporters",
                                    "Country Sold": "Germany",
                                    "Product Cat Name": "Bikes",
                                    "Total_Sales": "1135.80",
                                    "Currency Name": "EURO"
                                },
                                {
                                    "Reseller Name": "Novelty Bikes",
                                    "Country Sold": "United States",
                                    "Product Cat Name": "Bikes",
                                    "Total_Sales": "1135.80",
                                    "Currency Name": "US Dollar"
                                },
                                {
                                    "Reseller Name": "Systematic Sales",
                                    "Country Sold": "United States",
                                    "Product Cat Name": "Bikes",
                                    "Total_Sales": "1135.80",
                                    "Currency Name": "US Dollar"
                                },
                                {
                                    "Reseller Name": "Plastic Products Manufacturers",
                                    "Country Sold": "Australia",
                                    "Product Cat Name": "Bikes",
                                    "Total_Sales": "1135.80",
                                    "Currency Name": "Australian Dollar"
                                },
                                {
                                    "Reseller Name": "Finer Mart",
                                    "Country Sold": "United States",
                                    "Product Cat Name": "Bikes",
                                    "Total_Sales": "1135.80",
                                    "Currency Name": "US Dollar"
                                },
                                {
                                    "Reseller Name": "Exemplary Cycles",
                                    "Country Sold": "United States",
                                    "Product Cat Name": "Bikes",
                                    "Total_Sales": "851.85",
                                    "Currency Name": "US Dollar"
                                },
                                {
                                    "Reseller Name": "Paints and Solvents Company",
                                    "Country Sold": "United States",
                                    "Product Cat Name": "Bikes",
                                    "Total_Sales": "851.85",
                                    "Currency Name": "US Dollar"
                                },
                                {
                                    "Reseller Name": "West Wind Distributors",
                                    "Country Sold": "Germany",
                                    "Product Cat Name": "Bikes",
                                    "Total_Sales": "851.85",
                                    "Currency Name": "EURO"
                                },
                                {
                                    "Reseller Name": "Efficient Cycling",
                                    "Country Sold": "Canada",
                                    "Product Cat Name": "Bikes",
                                    "Total_Sales": "851.85",
                                    "Currency Name": "Canadian Dollar"
                                },
                                {
                                    "Reseller Name": "Purchase Mart",
                                    "Country Sold": "United States",
                                    "Product Cat Name": "Bikes",
                                    "Total_Sales": "567.90",
                                    "Currency Name": "US Dollar"
                                },
                                {
                                    "Reseller Name": "Quality Bike Sales",
                                    "Country Sold": "Australia",
                                    "Product Cat Name": "Bikes",
                                    "Total_Sales": "567.90",
                                    "Currency Name": "Australian Dollar"
                                },
                                {
                                    "Reseller Name": "List Price Catalog Company",
                                    "Country Sold": "Australia",
                                    "Product Cat Name": "Bikes",
                                    "Total_Sales": "567.90",
                                    "Currency Name": "Australian Dollar"
                                },
                                {
                                    "Reseller Name": "Rural Department Store",
                                    "Country Sold": "United States",
                                    "Product Cat Name": "Bikes",
                                    "Total_Sales": "567.90",
                                    "Currency Name": "US Dollar"
                                },
                                {
                                    "Reseller Name": "Rustic Bike Store",
                                    "Country Sold": "Germany",
                                    "Product Cat Name": "Bikes",
                                    "Total_Sales": "283.95",
                                    "Currency Name": "EURO"
                                },
                                {
                                    "Reseller Name": "Sensible Sports",
                                    "Country Sold": "Australia",
                                    "Product Cat Name": "Bikes",
                                    "Total_Sales": "283.95",
                                    "Currency Name": "Australian Dollar"
                                },
                                {
                                    "Reseller Name": "Rampart Amusement Company",
                                    "Country Sold": "United Kingdom",
                                    "Product Cat Name": "Bikes",
                                    "Total_Sales": "283.95",
                                    "Currency Name": "United Kingdom Pound"
                                },
                                {
                                    "Reseller Name": "Vale Riding Supplies",
                                    "Country Sold": "United States",
                                    "Product Cat Name": "Bikes",
                                    "Total_Sales": "283.95",
                                    "Currency Name": "US Dollar"
                                },
                                {
                                    "Reseller Name": "Transport Bikes",
                                    "Country Sold": "United States",
                                    "Product Cat Name": "Bikes",
                                    "Total_Sales": "283.95",
                                    "Currency Name": "US Dollar"
                                },
                                {
                                    "Reseller Name": "Incomparable Bicycle Store",
                                    "Country Sold": "United States",
                                    "Product Cat Name": "Bikes",
                                    "Total_Sales": "283.95",
                                    "Currency Name": "US Dollar"
                                },
                                {
                                    "Reseller Name": "Off-Price Bike Center",
                                    "Country Sold": "Germany",
                                    "Product Cat Name": "Bikes",
                                    "Total_Sales": "283.95",
                                    "Currency Name": "EURO"
                                },
                                {
                                    "Reseller Name": "Eastside Cycle Shop",
                                    "Country Sold": "Australia",
                                    "Product Cat Name": "Bikes",
                                    "Total_Sales": "283.95",
                                    "Currency Name": "Australian Dollar"
                                },
                                {
                                    "Reseller Name": "Eastward Bike Accessories",
                                    "Country Sold": "Australia",
                                    "Product Cat Name": "Bikes",
                                    "Total_Sales": "283.95",
                                    "Currency Name": "Australian Dollar"
                                },
                                {
                                    "Reseller Name": "Cycle Clearance",
                                    "Country Sold": "United States",
                                    "Product Cat Name": "Bikes",
                                    "Total_Sales": "283.95",
                                    "Currency Name": "US Dollar"
                                },
                                {
                                    "Reseller Name": "Accessories Network",
                                    "Country Sold": "France",
                                    "Product Cat Name": "Bikes",
                                    "Total_Sales": "283.95",
                                    "Currency Name": "US Dollar"
                                },
                                {
                                    "Reseller Name": "Family Entertainment Center",
                                    "Country Sold": "United States",
                                    "Product Cat Name": "Bikes",
                                    "Total_Sales": "283.95",
                                    "Currency Name": "US Dollar"
                                },
                                {
                                    "Reseller Name": "Fitness Bike Accessories",
                                    "Country Sold": "Australia",
                                    "Product Cat Name": "Bikes",
                                    "Total_Sales": "283.95",
                                    "Currency Name": "Australian Dollar"
                                },
                                {
                                    "Reseller Name": "Fitness Discount Store",
                                    "Country Sold": "Australia",
                                    "Product Cat Name": "Bikes",
                                    "Total_Sales": "283.95",
                                    "Currency Name": "Australian Dollar"
                                }
                            ]
                        },
                        "text/html": "<table><tr><th>Reseller Name</th><th>Country Sold</th><th>Product Cat Name</th><th>Total_Sales</th><th>Currency Name</th></tr><tr><td>Action Bicycle Specialists</td><td>United Kingdom</td><td>Bikes</td><td>19024.57</td><td>United Kingdom Pound</td></tr><tr><td>Westside Plaza</td><td>United States</td><td>Bikes</td><td>19024.57</td><td>US Dollar</td></tr><tr><td>Camping and Sports Store</td><td>Canada</td><td>Bikes</td><td>17320.88</td><td>Canadian Dollar</td></tr><tr><td>Global Bike Retailers</td><td>Germany</td><td>Bikes</td><td>16752.98</td><td>EURO</td></tr><tr><td>Perfect Toys</td><td>France</td><td>Bikes</td><td>15333.24</td><td>US Dollar</td></tr><tr><td>Roadway Bicycle Supply</td><td>France</td><td>Bikes</td><td>14481.39</td><td>US Dollar</td></tr><tr><td>Rally Master Company Inc</td><td>United States</td><td>Bikes</td><td>13913.50</td><td>US Dollar</td></tr><tr><td>Best Cycle Store</td><td>Germany</td><td>Bikes</td><td>12493.75</td><td>EURO</td></tr><tr><td>Front Runner Bikes</td><td>United States</td><td>Bikes</td><td>11641.90</td><td>US Dollar</td></tr><tr><td>Favorite Toy Distributor</td><td>France</td><td>Bikes</td><td>10506.11</td><td>EURO</td></tr><tr><td>Glossy Bikes</td><td>United States</td><td>Bikes</td><td>9086.36</td><td>US Dollar</td></tr><tr><td>Outstanding Cycles</td><td>United States</td><td>Bikes</td><td>9086.36</td><td>US Dollar</td></tr><tr><td>Another Bicycle Company</td><td>United States</td><td>Bikes</td><td>8518.47</td><td>US Dollar</td></tr><tr><td>Vintage Sport Boutique</td><td>United States</td><td>Bikes</td><td>8518.47</td><td>US Dollar</td></tr><tr><td>Technical Parts Manufacturing</td><td>United States</td><td>Bikes</td><td>8518.47</td><td>US Dollar</td></tr><tr><td>Instruments and Parts Company</td><td>United Kingdom</td><td>Bikes</td><td>7950.57</td><td>United Kingdom Pound</td></tr><tr><td>Metro Metals Co.</td><td>United Kingdom</td><td>Bikes</td><td>7666.62</td><td>United Kingdom Pound</td></tr><tr><td>Extreme Riding Supplies</td><td>United States</td><td>Bikes</td><td>7666.62</td><td>US Dollar</td></tr><tr><td>Next Door Cycles</td><td>Germany</td><td>Bikes</td><td>7382.67</td><td>EURO</td></tr><tr><td>Nationwide Supply</td><td>Australia</td><td>Bikes</td><td>7382.67</td><td>Australian Dollar</td></tr><tr><td>Petroleum Products Distributors</td><td>Canada</td><td>Bikes</td><td>7098.72</td><td>Canadian Dollar</td></tr><tr><td>Roadway Bike Emporium</td><td>United States</td><td>Bikes</td><td>7098.72</td><td>US Dollar</td></tr><tr><td>Utilitarian Sporting Goods</td><td>United States</td><td>Bikes</td><td>6814.77</td><td>US Dollar</td></tr><tr><td>Grand Industries</td><td>Canada</td><td>Bikes</td><td>6530.82</td><td>Canadian Dollar</td></tr><tr><td>Farthest Bike Store</td><td>Canada</td><td>Bikes</td><td>6246.88</td><td>Canadian Dollar</td></tr><tr><td>Excellent Bikes</td><td>Germany</td><td>Bikes</td><td>6246.88</td><td>EURO</td></tr><tr><td>Running and Cycling Gear</td><td>United States</td><td>Bikes</td><td>5678.98</td><td>US Dollar</td></tr><tr><td>Amalgamated Parts Shop</td><td>Germany</td><td>Bikes</td><td>5395.03</td><td>EURO</td></tr><tr><td>Gears and Parts Company</td><td>Australia</td><td>Bikes</td><td>5111.08</td><td>Australian Dollar</td></tr><tr><td>Rugged Bikes</td><td>United States</td><td>Bikes</td><td>5111.08</td><td>US Dollar</td></tr><tr><td>Eighth Bike Store</td><td>United States</td><td>Bikes</td><td>4827.13</td><td>US Dollar</td></tr><tr><td>Helmets and Cycles</td><td>Australia</td><td>Bikes</td><td>4827.13</td><td>Australian Dollar</td></tr><tr><td>Odometers and Accessories Company</td><td>Canada</td><td>Bikes</td><td>4827.13</td><td>Canadian Dollar</td></tr><tr><td>Educational Services</td><td>Germany</td><td>Bikes</td><td>4543.18</td><td>EURO</td></tr><tr><td>Sleek Bikes</td><td>United States</td><td>Bikes</td><td>4543.18</td><td>US Dollar</td></tr><tr><td>Immense Manufacturing Company</td><td>United States</td><td>Bikes</td><td>4543.18</td><td>US Dollar</td></tr><tr><td>Kickstands and Accessories Company</td><td>United States</td><td>Bikes</td><td>4259.23</td><td>US Dollar</td></tr><tr><td>Fourth Bike Store</td><td>United States</td><td>Bikes</td><td>4259.23</td><td>US Dollar</td></tr><tr><td>Mountain Bike Store</td><td>United States</td><td>Bikes</td><td>4259.23</td><td>US Dollar</td></tr><tr><td>Cycle Parts and Accessories</td><td>Australia</td><td>Bikes</td><td>3975.28</td><td>Australian Dollar</td></tr><tr><td>Blue-Ribbon Bike Company</td><td>United States</td><td>Bikes</td><td>3975.28</td><td>US Dollar</td></tr><tr><td>Quick Parts and Service</td><td>Canada</td><td>Bikes</td><td>3975.28</td><td>Canadian Dollar</td></tr><tr><td>The Bike Outlet</td><td>France</td><td>Bikes</td><td>3975.28</td><td>US Dollar</td></tr><tr><td>Industrial Supplies</td><td>United States</td><td>Bikes</td><td>3975.28</td><td>US Dollar</td></tr><tr><td>Authorized Bike Sales and Rental</td><td>United States</td><td>Bikes</td><td>3975.28</td><td>US Dollar</td></tr><tr><td>Bike Part Wholesalers</td><td>Australia</td><td>Bikes</td><td>3691.34</td><td>Australian Dollar</td></tr><tr><td>Fitness Supplies</td><td>United States</td><td>Bikes</td><td>3691.34</td><td>US Dollar</td></tr><tr><td>Exchange Parts Inc.</td><td>United States</td><td>Bikes</td><td>3691.34</td><td>US Dollar</td></tr><tr><td>Popular Bike Lines</td><td>Australia</td><td>Bikes</td><td>3691.34</td><td>Australian Dollar</td></tr><tr><td>Helpful Sales and Repair Service</td><td>Australia</td><td>Bikes</td><td>3691.34</td><td>Australian Dollar</td></tr><tr><td>Stock Parts and Supplies</td><td>United States</td><td>Bikes</td><td>3407.39</td><td>US Dollar</td></tr><tr><td>Variety Cycling</td><td>United Kingdom</td><td>Bikes</td><td>3123.44</td><td>United Kingdom Pound</td></tr><tr><td>Cycles Wholesaler &amp; Mfg.</td><td>United Kingdom</td><td>Bikes</td><td>3123.44</td><td>United Kingdom Pound</td></tr><tr><td>Fast Bike Works</td><td>Australia</td><td>Bikes</td><td>3123.44</td><td>Australian Dollar</td></tr><tr><td>Fasteners &amp; Bolts Outlet</td><td>Canada</td><td>Bikes</td><td>2839.49</td><td>Canadian Dollar</td></tr><tr><td>Locks Company</td><td>United States</td><td>Bikes</td><td>2839.49</td><td>US Dollar</td></tr><tr><td>Metal Clearing House</td><td>Canada</td><td>Bikes</td><td>2839.49</td><td>Canadian Dollar</td></tr><tr><td>Pedaling Components</td><td>Germany</td><td>Bikes</td><td>2555.54</td><td>EURO</td></tr><tr><td>Professional Sales and Service</td><td>United States</td><td>Bikes</td><td>2271.59</td><td>US Dollar</td></tr><tr><td>Fun Toys and Bikes</td><td>United States</td><td>Bikes</td><td>2271.59</td><td>US Dollar</td></tr><tr><td>Rich Department Store</td><td>Australia</td><td>Bikes</td><td>2271.59</td><td>Australian Dollar</td></tr><tr><td>Small Bike Accessories Shop</td><td>United States</td><td>Bikes</td><td>1987.64</td><td>US Dollar</td></tr><tr><td>Sports Merchandise</td><td>United States</td><td>Bikes</td><td>1987.64</td><td>US Dollar</td></tr><tr><td>Honest Repair Service</td><td>United States</td><td>Bikes</td><td>1987.64</td><td>US Dollar</td></tr><tr><td>Liquidation Sales</td><td>Australia</td><td>Bikes</td><td>1703.69</td><td>Australian Dollar</td></tr><tr><td>Racing Supply Distributors</td><td>France</td><td>Bikes</td><td>1703.69</td><td>US Dollar</td></tr><tr><td>South Bike Company</td><td>Canada</td><td>Bikes</td><td>1703.69</td><td>Canadian Dollar</td></tr><tr><td>Quitting Business Distributors</td><td>United States</td><td>Bikes</td><td>1419.74</td><td>US Dollar</td></tr><tr><td>Thrilling Bike Tours</td><td>United States</td><td>Bikes</td><td>1419.74</td><td>US Dollar</td></tr><tr><td>Machines &amp; Cycles Store</td><td>Canada</td><td>Bikes</td><td>1419.74</td><td>Canadian Dollar</td></tr><tr><td>Finer Sporting Goods</td><td>France</td><td>Bikes</td><td>1419.74</td><td>US Dollar</td></tr><tr><td>First Supplies</td><td>Australia</td><td>Bikes</td><td>1419.74</td><td>Australian Dollar</td></tr><tr><td>Engineered Bike Systems</td><td>United States</td><td>Bikes</td><td>1135.80</td><td>US Dollar</td></tr><tr><td>Cycles Sales and Repair</td><td>France</td><td>Bikes</td><td>1135.80</td><td>US Dollar</td></tr><tr><td>Bicycle Exporters</td><td>Germany</td><td>Bikes</td><td>1135.80</td><td>EURO</td></tr><tr><td>Novelty Bikes</td><td>United States</td><td>Bikes</td><td>1135.80</td><td>US Dollar</td></tr><tr><td>Systematic Sales</td><td>United States</td><td>Bikes</td><td>1135.80</td><td>US Dollar</td></tr><tr><td>Plastic Products Manufacturers</td><td>Australia</td><td>Bikes</td><td>1135.80</td><td>Australian Dollar</td></tr><tr><td>Finer Mart</td><td>United States</td><td>Bikes</td><td>1135.80</td><td>US Dollar</td></tr><tr><td>Exemplary Cycles</td><td>United States</td><td>Bikes</td><td>851.85</td><td>US Dollar</td></tr><tr><td>Paints and Solvents Company</td><td>United States</td><td>Bikes</td><td>851.85</td><td>US Dollar</td></tr><tr><td>West Wind Distributors</td><td>Germany</td><td>Bikes</td><td>851.85</td><td>EURO</td></tr><tr><td>Efficient Cycling</td><td>Canada</td><td>Bikes</td><td>851.85</td><td>Canadian Dollar</td></tr><tr><td>Purchase Mart</td><td>United States</td><td>Bikes</td><td>567.90</td><td>US Dollar</td></tr><tr><td>Quality Bike Sales</td><td>Australia</td><td>Bikes</td><td>567.90</td><td>Australian Dollar</td></tr><tr><td>List Price Catalog Company</td><td>Australia</td><td>Bikes</td><td>567.90</td><td>Australian Dollar</td></tr><tr><td>Rural Department Store</td><td>United States</td><td>Bikes</td><td>567.90</td><td>US Dollar</td></tr><tr><td>Rustic Bike Store</td><td>Germany</td><td>Bikes</td><td>283.95</td><td>EURO</td></tr><tr><td>Sensible Sports</td><td>Australia</td><td>Bikes</td><td>283.95</td><td>Australian Dollar</td></tr><tr><td>Rampart Amusement Company</td><td>United Kingdom</td><td>Bikes</td><td>283.95</td><td>United Kingdom Pound</td></tr><tr><td>Vale Riding Supplies</td><td>United States</td><td>Bikes</td><td>283.95</td><td>US Dollar</td></tr><tr><td>Transport Bikes</td><td>United States</td><td>Bikes</td><td>283.95</td><td>US Dollar</td></tr><tr><td>Incomparable Bicycle Store</td><td>United States</td><td>Bikes</td><td>283.95</td><td>US Dollar</td></tr><tr><td>Off-Price Bike Center</td><td>Germany</td><td>Bikes</td><td>283.95</td><td>EURO</td></tr><tr><td>Eastside Cycle Shop</td><td>Australia</td><td>Bikes</td><td>283.95</td><td>Australian Dollar</td></tr><tr><td>Eastward Bike Accessories</td><td>Australia</td><td>Bikes</td><td>283.95</td><td>Australian Dollar</td></tr><tr><td>Cycle Clearance</td><td>United States</td><td>Bikes</td><td>283.95</td><td>US Dollar</td></tr><tr><td>Accessories Network</td><td>France</td><td>Bikes</td><td>283.95</td><td>US Dollar</td></tr><tr><td>Family Entertainment Center</td><td>United States</td><td>Bikes</td><td>283.95</td><td>US Dollar</td></tr><tr><td>Fitness Bike Accessories</td><td>Australia</td><td>Bikes</td><td>283.95</td><td>Australian Dollar</td></tr><tr><td>Fitness Discount Store</td><td>Australia</td><td>Bikes</td><td>283.95</td><td>Australian Dollar</td></tr></table>"
                    },
                    "metadata": {}
                }
            ],
            "execution_count": 236
        },
        {
            "cell_type": "markdown",
            "source": [
                "<span style=\"font-size: 12pt; font-family: &quot;Times New Roman&quot;, serif; color: rgb(0, 0, 0); background-color: transparent; font-variant-numeric: normal; font-variant-east-asian: normal; font-variant-alternates: normal; vertical-align: baseline; white-space-collapse: preserve;\">2. You have been asked to examine the performance of sales using the Euro currency.&nbsp; Produce a report showing state or province name, city name, and total reseller sales, subtotaled by city, </span> <span style=\"background-color: transparent; color: rgb(0, 0, 0); font-family: &quot;Times New Roman&quot;, serif; font-size: 12pt; white-space-collapse: preserve;\">for all EURO sales.&nbsp; You should have three columns, called State/Province, City, and Total Reseller Sales, in alphabetical order by State/Province.&nbsp; The total for each state or province should have the word \"Total\" instead of NULL in the city column.&nbsp; The overall total should have the word \"Grand\" in the State/Province column.</span>"
            ],
            "metadata": {
                "language": "sql",
                "azdata_cell_guid": "b3e25ee3-bd92-4f74-b49e-a6c6e7d08e03"
            },
            "attachments": {}
        },
        {
            "cell_type": "code",
            "source": [
                "SELECT COALESCE(DG.StateProvinceName, 'Grand') AS 'State/Province' --I did a coalesce here to handle the rollup nulls, while selecting the state\n",
                "--https://stackoverflow.com/questions/53473439/use-rollup-with-order-by-clause-moves-the-grand-total-row-from-the-bottom-to-the\n",
                "    ,COALESCE(DG.City, 'Total') AS 'City' --same thing here, while selecting the city\n",
                "    ,ROUND(SUM(FRS.SalesAmount), 2) AS 'Subtotal' --summing the sales amounts here\n",
                "FROM ADW.dbo.FactResellerSales FRS --selecting sales from the FactResellerSales table\n",
                "JOIN ADW.dbo.DimCurrency DC --joining the FRS table to the currency table \n",
                "    ON FRS.CurrencyKey = DC.CurrencyKey --so I can filter by currency\n",
                "JOIN ADW.dbo.DimSalesTerritory DST --then joining the sales territory table to the sales table\n",
                "    ON DST.SalesTerritoryKey = FRS.SalesTerritoryKey --so that I can\n",
                "JOIN ADW.dbo.DimReseller DR --link dim reseller over to face reseller\n",
                "    ON DR.ResellerKey = FRS.ResellerKey\n",
                "JOIN ADW.dbo.DimGeography DG --so then I can go into the dim geography table \n",
                "    ON DG.GeographyKey = DR.GeographyKey --and grab the city names without having repeat values\n",
                "WHERE DC.CurrencyKey = 36 --OR DC.CurrencyAlternateKey = 'EUR' --ensuring I capture the right currency by including the alt currency\n",
                "GROUP BY ROLLUP(DG.StateProvinceName --using a rollup function here to calculate subtotals by state and then city\n",
                "                ,DG.City )\n",
                "ORDER BY DG.StateProvinceName ASC --ordered by the state and city name alphabetically \n",
                "         ,DG.City ASC\n",
                "\n",
                "--thank you again for help in office hours :)"
            ],
            "metadata": {
                "language": "sql",
                "azdata_cell_guid": "bb4b8264-af24-4af3-8cc1-a16a249dc95e",
                "tags": []
            },
            "outputs": [
                {
                    "output_type": "display_data",
                    "data": {
                        "text/html": "(46 rows affected)"
                    },
                    "metadata": {}
                },
                {
                    "output_type": "display_data",
                    "data": {
                        "text/html": "Total execution time: 00:00:00.058"
                    },
                    "metadata": {}
                },
                {
                    "output_type": "execute_result",
                    "execution_count": 237,
                    "data": {
                        "application/vnd.dataresource+json": {
                            "schema": {
                                "fields": [
                                    {
                                        "name": "State/Province"
                                    },
                                    {
                                        "name": "City"
                                    },
                                    {
                                        "name": "Subtotal"
                                    }
                                ]
                            },
                            "data": [
                                {
                                    "State/Province": "Grand",
                                    "City": "Total",
                                    "Subtotal": "2474535.71"
                                },
                                {
                                    "State/Province": "Bayern",
                                    "City": "Total",
                                    "Subtotal": "202204.87"
                                },
                                {
                                    "State/Province": "Bayern",
                                    "City": "Augsburg",
                                    "Subtotal": "3192.37"
                                },
                                {
                                    "State/Province": "Bayern",
                                    "City": "Frankfurt",
                                    "Subtotal": "12795.43"
                                },
                                {
                                    "State/Province": "Bayern",
                                    "City": "Grevenbroich",
                                    "Subtotal": "186217.07"
                                },
                                {
                                    "State/Province": "Brandenburg",
                                    "City": "Total",
                                    "Subtotal": "116697.24"
                                },
                                {
                                    "State/Province": "Brandenburg",
                                    "City": "Berlin",
                                    "Subtotal": "144.00"
                                },
                                {
                                    "State/Province": "Brandenburg",
                                    "City": "Eilenburg",
                                    "Subtotal": "116553.24"
                                },
                                {
                                    "State/Province": "Hamburg",
                                    "City": "Total",
                                    "Subtotal": "271495.32"
                                },
                                {
                                    "State/Province": "Hamburg",
                                    "City": "Augsburg",
                                    "Subtotal": "5404.20"
                                },
                                {
                                    "State/Province": "Hamburg",
                                    "City": "Berlin",
                                    "Subtotal": "4689.13"
                                },
                                {
                                    "State/Province": "Hamburg",
                                    "City": "Essen",
                                    "Subtotal": "30648.09"
                                },
                                {
                                    "State/Province": "Hamburg",
                                    "City": "Frankfurt am Main",
                                    "Subtotal": "197327.59"
                                },
                                {
                                    "State/Province": "Hamburg",
                                    "City": "Hamburg",
                                    "Subtotal": "7963.93"
                                },
                                {
                                    "State/Province": "Hamburg",
                                    "City": "Muehlheim",
                                    "Subtotal": "22090.04"
                                },
                                {
                                    "State/Province": "Hamburg",
                                    "City": "Paderborn",
                                    "Subtotal": "3372.34"
                                },
                                {
                                    "State/Province": "Hauts de Seine",
                                    "City": "Total",
                                    "Subtotal": "174535.41"
                                },
                                {
                                    "State/Province": "Hauts de Seine",
                                    "City": "Colombes",
                                    "Subtotal": "147554.83"
                                },
                                {
                                    "State/Province": "Hauts de Seine",
                                    "City": "Suresnes",
                                    "Subtotal": "26980.57"
                                },
                                {
                                    "State/Province": "Hessen",
                                    "City": "Total",
                                    "Subtotal": "361952.29"
                                },
                                {
                                    "State/Province": "Hessen",
                                    "City": "Bad Soden",
                                    "Subtotal": "337756.73"
                                },
                                {
                                    "State/Province": "Hessen",
                                    "City": "Berlin",
                                    "Subtotal": "3372.45"
                                },
                                {
                                    "State/Province": "Hessen",
                                    "City": "Duesseldorf",
                                    "Subtotal": "12240.16"
                                },
                                {
                                    "State/Province": "Hessen",
                                    "City": "München",
                                    "Subtotal": "8582.95"
                                },
                                {
                                    "State/Province": "Nordrhein-Westfalen",
                                    "City": "Total",
                                    "Subtotal": "223919.84"
                                },
                                {
                                    "State/Province": "Nordrhein-Westfalen",
                                    "City": "Berlin",
                                    "Subtotal": "26427.37"
                                },
                                {
                                    "State/Province": "Nordrhein-Westfalen",
                                    "City": "Braunschweig",
                                    "Subtotal": "8140.75"
                                },
                                {
                                    "State/Province": "Nordrhein-Westfalen",
                                    "City": "Hannover",
                                    "Subtotal": "29218.36"
                                },
                                {
                                    "State/Province": "Nordrhein-Westfalen",
                                    "City": "Leipzig",
                                    "Subtotal": "6369.00"
                                },
                                {
                                    "State/Province": "Nordrhein-Westfalen",
                                    "City": "München",
                                    "Subtotal": "153764.35"
                                },
                                {
                                    "State/Province": "Saarland",
                                    "City": "Total",
                                    "Subtotal": "807718.47"
                                },
                                {
                                    "State/Province": "Saarland",
                                    "City": "Berlin",
                                    "Subtotal": "220496.69"
                                },
                                {
                                    "State/Province": "Saarland",
                                    "City": "Frankfurt am Main",
                                    "Subtotal": "5426.79"
                                },
                                {
                                    "State/Province": "Saarland",
                                    "City": "Kiel",
                                    "Subtotal": "56130.07"
                                },
                                {
                                    "State/Province": "Saarland",
                                    "City": "Münster",
                                    "Subtotal": "132143.71"
                                },
                                {
                                    "State/Province": "Saarland",
                                    "City": "Offenbach",
                                    "Subtotal": "272052.23"
                                },
                                {
                                    "State/Province": "Saarland",
                                    "City": "Poing",
                                    "Subtotal": "1344.59"
                                },
                                {
                                    "State/Province": "Saarland",
                                    "City": "Saarbrücken",
                                    "Subtotal": "117328.46"
                                },
                                {
                                    "State/Province": "Saarland",
                                    "City": "Stuttgart",
                                    "Subtotal": "228.58"
                                },
                                {
                                    "State/Province": "Saarland",
                                    "City": "Sulzbach Taunus",
                                    "Subtotal": "2567.36"
                                },
                                {
                                    "State/Province": "Seine (Paris)",
                                    "City": "Total",
                                    "Subtotal": "287495.02"
                                },
                                {
                                    "State/Province": "Seine (Paris)",
                                    "City": "Paris",
                                    "Subtotal": "287495.02"
                                },
                                {
                                    "State/Province": "Seine et Marne",
                                    "City": "Total",
                                    "Subtotal": "31.58"
                                },
                                {
                                    "State/Province": "Seine et Marne",
                                    "City": "Lieusaint",
                                    "Subtotal": "31.58"
                                },
                                {
                                    "State/Province": "Val de Marne",
                                    "City": "Total",
                                    "Subtotal": "28485.66"
                                },
                                {
                                    "State/Province": "Val de Marne",
                                    "City": "Orly",
                                    "Subtotal": "28485.66"
                                }
                            ]
                        },
                        "text/html": "<table><tr><th>State/Province</th><th>City</th><th>Subtotal</th></tr><tr><td>Grand</td><td>Total</td><td>2474535.71</td></tr><tr><td>Bayern</td><td>Total</td><td>202204.87</td></tr><tr><td>Bayern</td><td>Augsburg</td><td>3192.37</td></tr><tr><td>Bayern</td><td>Frankfurt</td><td>12795.43</td></tr><tr><td>Bayern</td><td>Grevenbroich</td><td>186217.07</td></tr><tr><td>Brandenburg</td><td>Total</td><td>116697.24</td></tr><tr><td>Brandenburg</td><td>Berlin</td><td>144.00</td></tr><tr><td>Brandenburg</td><td>Eilenburg</td><td>116553.24</td></tr><tr><td>Hamburg</td><td>Total</td><td>271495.32</td></tr><tr><td>Hamburg</td><td>Augsburg</td><td>5404.20</td></tr><tr><td>Hamburg</td><td>Berlin</td><td>4689.13</td></tr><tr><td>Hamburg</td><td>Essen</td><td>30648.09</td></tr><tr><td>Hamburg</td><td>Frankfurt am Main</td><td>197327.59</td></tr><tr><td>Hamburg</td><td>Hamburg</td><td>7963.93</td></tr><tr><td>Hamburg</td><td>Muehlheim</td><td>22090.04</td></tr><tr><td>Hamburg</td><td>Paderborn</td><td>3372.34</td></tr><tr><td>Hauts de Seine</td><td>Total</td><td>174535.41</td></tr><tr><td>Hauts de Seine</td><td>Colombes</td><td>147554.83</td></tr><tr><td>Hauts de Seine</td><td>Suresnes</td><td>26980.57</td></tr><tr><td>Hessen</td><td>Total</td><td>361952.29</td></tr><tr><td>Hessen</td><td>Bad Soden</td><td>337756.73</td></tr><tr><td>Hessen</td><td>Berlin</td><td>3372.45</td></tr><tr><td>Hessen</td><td>Duesseldorf</td><td>12240.16</td></tr><tr><td>Hessen</td><td>München</td><td>8582.95</td></tr><tr><td>Nordrhein-Westfalen</td><td>Total</td><td>223919.84</td></tr><tr><td>Nordrhein-Westfalen</td><td>Berlin</td><td>26427.37</td></tr><tr><td>Nordrhein-Westfalen</td><td>Braunschweig</td><td>8140.75</td></tr><tr><td>Nordrhein-Westfalen</td><td>Hannover</td><td>29218.36</td></tr><tr><td>Nordrhein-Westfalen</td><td>Leipzig</td><td>6369.00</td></tr><tr><td>Nordrhein-Westfalen</td><td>München</td><td>153764.35</td></tr><tr><td>Saarland</td><td>Total</td><td>807718.47</td></tr><tr><td>Saarland</td><td>Berlin</td><td>220496.69</td></tr><tr><td>Saarland</td><td>Frankfurt am Main</td><td>5426.79</td></tr><tr><td>Saarland</td><td>Kiel</td><td>56130.07</td></tr><tr><td>Saarland</td><td>Münster</td><td>132143.71</td></tr><tr><td>Saarland</td><td>Offenbach</td><td>272052.23</td></tr><tr><td>Saarland</td><td>Poing</td><td>1344.59</td></tr><tr><td>Saarland</td><td>Saarbrücken</td><td>117328.46</td></tr><tr><td>Saarland</td><td>Stuttgart</td><td>228.58</td></tr><tr><td>Saarland</td><td>Sulzbach Taunus</td><td>2567.36</td></tr><tr><td>Seine (Paris)</td><td>Total</td><td>287495.02</td></tr><tr><td>Seine (Paris)</td><td>Paris</td><td>287495.02</td></tr><tr><td>Seine et Marne</td><td>Total</td><td>31.58</td></tr><tr><td>Seine et Marne</td><td>Lieusaint</td><td>31.58</td></tr><tr><td>Val de Marne</td><td>Total</td><td>28485.66</td></tr><tr><td>Val de Marne</td><td>Orly</td><td>28485.66</td></tr></table>"
                    },
                    "metadata": {}
                }
            ],
            "execution_count": 237
        },
        {
            "cell_type": "markdown",
            "source": [
                "<span style=\"font-size: 12pt; font-family: &quot;Times New Roman&quot;, serif; color: rgb(0, 0, 0); background-color: transparent; font-variant-numeric: normal; font-variant-east-asian: normal; font-variant-alternates: normal; vertical-align: baseline; white-space-collapse: preserve;\">3. Produce a report that illustrates the total amount of reseller sales by currency.&nbsp; Ensure that you </span> <span style=\"background-color: transparent; color: rgb(0, 0, 0); font-family: &quot;Times New Roman&quot;, serif; font-size: 12pt; white-space-collapse: preserve;\">show the greatest value first, and please round to two decimal places.</span>"
            ],
            "metadata": {
                "language": "sql",
                "azdata_cell_guid": "c85643de-55cd-40fd-898d-c90b7b6a4d00"
            },
            "attachments": {}
        },
        {
            "cell_type": "code",
            "source": [
                "SELECT ROUND(SUM(FRS.SalesAmount), 2) AS 'Total Sales' --pulling sales amount, summing it, rounding it and then throwing an alias on it\n",
                ",DC.CurrencyName AS 'Currency Name' --then pulling in the currency name and alias-ing it for readability\n",
                "FROM ADW.dbo.FactResellerSales FRS --pulling data from the fact reseller sales table \n",
                "JOIN ADW.dbo.DimCurrency DC --joining the FRS table to the currency table \n",
                "    ON FRS.CurrencyKey = DC.CurrencyKey --so I can filter by currency\n",
                "GROUP BY DC.CurrencyName --grouping by the currency name\n",
                "ORDER BY SUM(FRS.SalesAmount) DESC --and then ordering by currency descending "
            ],
            "metadata": {
                "language": "sql",
                "azdata_cell_guid": "69a486cb-6091-43ad-8a29-af5eb7a1a42a"
            },
            "outputs": [
                {
                    "output_type": "display_data",
                    "data": {
                        "text/html": "(5 rows affected)"
                    },
                    "metadata": {}
                },
                {
                    "output_type": "display_data",
                    "data": {
                        "text/html": "Total execution time: 00:00:00.052"
                    },
                    "metadata": {}
                },
                {
                    "output_type": "execute_result",
                    "execution_count": 238,
                    "data": {
                        "application/vnd.dataresource+json": {
                            "schema": {
                                "fields": [
                                    {
                                        "name": "Total Sales"
                                    },
                                    {
                                        "name": "Currency Name"
                                    }
                                ]
                            },
                            "data": [
                                {
                                    "Total Sales": "57724791.47",
                                    "Currency Name": "US Dollar"
                                },
                                {
                                    "Total Sales": "14377925.60",
                                    "Currency Name": "Canadian Dollar"
                                },
                                {
                                    "Total Sales": "4279008.83",
                                    "Currency Name": "United Kingdom Pound"
                                },
                                {
                                    "Total Sales": "2474535.71",
                                    "Currency Name": "EURO"
                                },
                                {
                                    "Total Sales": "1594335.38",
                                    "Currency Name": "Australian Dollar"
                                }
                            ]
                        },
                        "text/html": "<table><tr><th>Total Sales</th><th>Currency Name</th></tr><tr><td>57724791.47</td><td>US Dollar</td></tr><tr><td>14377925.60</td><td>Canadian Dollar</td></tr><tr><td>4279008.83</td><td>United Kingdom Pound</td></tr><tr><td>2474535.71</td><td>EURO</td></tr><tr><td>1594335.38</td><td>Australian Dollar</td></tr></table>"
                    },
                    "metadata": {}
                }
            ],
            "execution_count": 238
        },
        {
            "cell_type": "markdown",
            "source": [
                "<span style=\"background-color: transparent;\"><b>4.&nbsp;</b></span>     <span style=\"background-color: transparent; color: rgb(0, 0, 0); font-family: &quot;Times New Roman&quot;, serif; font-size: 12pt; white-space-collapse: preserve;\">Leadership wants to compare the effectiveness of the Touring-1000 and Touring-3000 promotions across fiscal quarters for reseller sales. Produce a report with the following columns: </span> <span style=\"background-color: transparent; white-space-collapse: preserve; font-size: 12pt; font-family: &quot;Times New Roman&quot;, serif; color: rgb(0, 0, 0); font-variant-numeric: normal; font-variant-east-asian: normal; font-variant-alternates: normal; vertical-align: baseline;\">FiscalYear, English Promotion Name, Currency Name, FiscalQ2, FiscalQ3, </span> <span style=\"background-color: transparent; white-space-collapse: preserve; color: rgb(0, 0, 0); font-family: &quot;Times New Roman&quot;, serif; font-size: 12pt;\">N.B. The FiscalQ2 and FiscalQ3 columns should contain the total sales the </span> <span style=\"background-color: transparent; white-space-collapse: preserve; color: rgb(0, 0, 0); font-family: &quot;Times New Roman&quot;, serif; font-size: 12pt;\">given fiscal year and promotion name.</span>"
            ],
            "metadata": {
                "language": "sql",
                "azdata_cell_guid": "f8bf9e72-bd5b-42ff-a439-92024930fc0e"
            },
            "attachments": {}
        },
        {
            "cell_type": "code",
            "source": [
                "SELECT DD.FiscalYear --pulling fiscal year\n",
                "      ,DP.EnglishPromotionName --pulling promotion name in English\n",
                "      ,DC.CurrencyName -- pulling the currency name\n",
                "      ,SUM(CASE WHEN DD.FiscalQuarter = 2 THEN FRS.SalesAmount ELSE 0 END) AS FiscalQ2 -- I then summed the sales amount if quarter = 2\n",
                "      ,SUM(CASE WHEN DD.FiscalQuarter = 3 THEN FRS.SalesAmount ELSE 0 END) AS FiscalQ3 -- and then the sales amount for quarter = 3\n",
                "FROM ADW.dbo.FactResellerSales FRS --I started by pulling from the fact resller sales table\n",
                "JOIN ADW.dbo.DimPromotion DP --and bound it to the promotions table by the promotion key\n",
                "    ON DP.PromotionKey = FRS.PromotionKey --which allowed me to get the english promotion name\n",
                "JOIN ADW.dbo.DimCurrency DC  --and then added the dim currency table on the currency key\n",
                "    ON DC.CurrencyKey = FRS.CurrencyKey --so then I could get the currency name\n",
                "JOIN ADW.dbo.DimDate DD --I also added the date table binding by the date key\n",
                "    ON DD.DateKey = FRS.OrderDateKey --Which allowed me to get the fiscal year in the select name, and the quarter in fiscal quarters\n",
                "WHERE DP.PromotionKey = 13 or DP.PromotionKey = 14 --filtering by the promotion key\n",
                "GROUP BY DD.FiscalYear --grouping by fiscal year\n",
                "        ,DP.EnglishPromotionName --then promotion name\n",
                "        ,DC.CurrencyName --then currency name\n",
                "ORDER BY DC.CurrencyName --then ordering by currency name for readability"
            ],
            "metadata": {
                "language": "sql",
                "azdata_cell_guid": "040360e7-d533-48e2-8757-478d19b6c670"
            },
            "outputs": [
                {
                    "output_type": "display_data",
                    "data": {
                        "text/html": "(10 rows affected)"
                    },
                    "metadata": {}
                },
                {
                    "output_type": "display_data",
                    "data": {
                        "text/html": "Total execution time: 00:00:00.093"
                    },
                    "metadata": {}
                },
                {
                    "output_type": "execute_result",
                    "execution_count": 239,
                    "data": {
                        "application/vnd.dataresource+json": {
                            "schema": {
                                "fields": [
                                    {
                                        "name": "FiscalYear"
                                    },
                                    {
                                        "name": "EnglishPromotionName"
                                    },
                                    {
                                        "name": "CurrencyName"
                                    },
                                    {
                                        "name": "FiscalQ2"
                                    },
                                    {
                                        "name": "FiscalQ3"
                                    }
                                ]
                            },
                            "data": [
                                {
                                    "FiscalYear": "2012",
                                    "EnglishPromotionName": "Touring-1000 Promotion",
                                    "CurrencyName": "Australian Dollar",
                                    "FiscalQ2": "12206.4384",
                                    "FiscalQ3": "66372.5088"
                                },
                                {
                                    "FiscalYear": "2012",
                                    "EnglishPromotionName": "Touring-3000 Promotion",
                                    "CurrencyName": "Australian Dollar",
                                    "FiscalQ2": "8234.5178",
                                    "FiscalQ3": "36345.4572"
                                },
                                {
                                    "FiscalYear": "2012",
                                    "EnglishPromotionName": "Touring-1000 Promotion",
                                    "CurrencyName": "Canadian Dollar",
                                    "FiscalQ2": "3051.6096",
                                    "FiscalQ3": "71712.8256"
                                },
                                {
                                    "FiscalYear": "2012",
                                    "EnglishPromotionName": "Touring-3000 Promotion",
                                    "CurrencyName": "Canadian Dollar",
                                    "FiscalQ2": "1419.7445",
                                    "FiscalQ3": "54234.2361"
                                },
                                {
                                    "FiscalYear": "2012",
                                    "EnglishPromotionName": "Touring-1000 Promotion",
                                    "CurrencyName": "EURO",
                                    "FiscalQ2": "28227.3888",
                                    "FiscalQ3": "37382.2176"
                                },
                                {
                                    "FiscalYear": "2012",
                                    "EnglishPromotionName": "Touring-3000 Promotion",
                                    "CurrencyName": "EURO",
                                    "FiscalQ2": "19024.5749",
                                    "FiscalQ3": "49407.1052"
                                },
                                {
                                    "FiscalYear": "2012",
                                    "EnglishPromotionName": "Touring-1000 Promotion",
                                    "CurrencyName": "United Kingdom Pound",
                                    "FiscalQ2": "6103.2192",
                                    "FiscalQ3": "42722.5344"
                                },
                                {
                                    "FiscalYear": "2012",
                                    "EnglishPromotionName": "Touring-3000 Promotion",
                                    "CurrencyName": "United Kingdom Pound",
                                    "FiscalQ2": "3123.4377",
                                    "FiscalQ3": "38049.1499"
                                },
                                {
                                    "FiscalYear": "2012",
                                    "EnglishPromotionName": "Touring-1000 Promotion",
                                    "CurrencyName": "US Dollar",
                                    "FiscalQ2": "83919.264",
                                    "FiscalQ3": "229633.6224"
                                },
                                {
                                    "FiscalYear": "2012",
                                    "EnglishPromotionName": "Touring-3000 Promotion",
                                    "CurrencyName": "US Dollar",
                                    "FiscalQ2": "64172.4467",
                                    "FiscalQ3": "169233.5343"
                                }
                            ]
                        },
                        "text/html": "<table><tr><th>FiscalYear</th><th>EnglishPromotionName</th><th>CurrencyName</th><th>FiscalQ2</th><th>FiscalQ3</th></tr><tr><td>2012</td><td>Touring-1000 Promotion</td><td>Australian Dollar</td><td>12206.4384</td><td>66372.5088</td></tr><tr><td>2012</td><td>Touring-3000 Promotion</td><td>Australian Dollar</td><td>8234.5178</td><td>36345.4572</td></tr><tr><td>2012</td><td>Touring-1000 Promotion</td><td>Canadian Dollar</td><td>3051.6096</td><td>71712.8256</td></tr><tr><td>2012</td><td>Touring-3000 Promotion</td><td>Canadian Dollar</td><td>1419.7445</td><td>54234.2361</td></tr><tr><td>2012</td><td>Touring-1000 Promotion</td><td>EURO</td><td>28227.3888</td><td>37382.2176</td></tr><tr><td>2012</td><td>Touring-3000 Promotion</td><td>EURO</td><td>19024.5749</td><td>49407.1052</td></tr><tr><td>2012</td><td>Touring-1000 Promotion</td><td>United Kingdom Pound</td><td>6103.2192</td><td>42722.5344</td></tr><tr><td>2012</td><td>Touring-3000 Promotion</td><td>United Kingdom Pound</td><td>3123.4377</td><td>38049.1499</td></tr><tr><td>2012</td><td>Touring-1000 Promotion</td><td>US Dollar</td><td>83919.264</td><td>229633.6224</td></tr><tr><td>2012</td><td>Touring-3000 Promotion</td><td>US Dollar</td><td>64172.4467</td><td>169233.5343</td></tr></table>"
                    },
                    "metadata": {}
                }
            ],
            "execution_count": 239
        },
        {
            "cell_type": "markdown",
            "source": [
                "<span style=\"font-size:12pt;font-family:'Times New Roman',serif;color:#000000;background-color:transparent;font-weight:400;font-style:normal;font-variant:normal;text-decoration:none;vertical-align:baseline;white-space:pre;white-space:pre-wrap;\">5. Leadership wants to improve profitability by targeting geographies with low spend as a function of income.&nbsp; Develop a report that shows sales territory region, associated state province name, currency, average income, average sales, and average sales as a percentage of average income.&nbsp; Order the result set so that the lowest share of income is first.</span>"
            ],
            "metadata": {
                "language": "sql",
                "azdata_cell_guid": "a897bdb7-8399-42f0-9626-1febaf53ae50"
            },
            "attachments": {}
        },
        {
            "cell_type": "code",
            "source": [
                "SELECT DST.SalesTerritoryRegion --pulls the territory region\n",
                "      ,DG.StateProvinceName --then pulls the state province name\n",
                "      ,DCUR.CurrencyName\n",
                "      ,ROUND(AVG(DC.YearlyIncome), 2) AS Average_Income --and then gets the average income for the province\n",
                "      ,ROUND(AVG(FRS.SalesAmount), 2) AS Average_Sales --and the average sales for the province\n",
                "      ,AVG(FRS.SalesAmount) / AVG(DC.YearlyIncome) AS Percent_OF_Income --and then divides sales by the yearly income\n",
                "FROM ADW.dbo.FactResellerSales FRS --pulling in the fact reseller sales table in order to get financial information\n",
                "JOIN ADW.dbo.DimGeography DG --and then binding the dim geography table\n",
                "    ON FRS.SalesTerritoryKey = DG.SalesTerritoryKey --so I can pull the state province name\n",
                "JOIN ADW.dbo.DimSalesTerritory DST --and binds the sales territory table to it\n",
                "    ON DST.SalesTerritoryKey = DG.SalesTerritoryKey --by using the sales territory key, so I can get the region name and province name\n",
                "JOIN ADW.dbo.DimCustomer DC --then binding the customer dimension table by geography key\n",
                "    ON DG.GeographyKey = DC.GeographyKey --using the geography key, which allows me to get yearly income\n",
                "JOIN ADW.dbo.DimCurrency DCUR --I then added the DimCurrency table by using the currency key\n",
                "    ON DCUR.CurrencyKey = FRS.CurrencyKey --so I could pull the currency used \n",
                "GROUP BY DST.SalesTerritoryRegion --and then grouping by the territory region\n",
                "        ,DG.StateProvinceName --the province name\n",
                "        ,DCUR.CurrencyName --and the currency name\n",
                "ORDER BY Percent_OF_Income ASC --and then sorting by the created percent of income\n",
                "\n",
                "--after talking to you in office hours I did end up dropping the * 100 conversion on percent of income..."
            ],
            "metadata": {
                "language": "sql",
                "azdata_cell_guid": "ee502509-4126-4cef-803a-25a31afc5437"
            },
            "outputs": [
                {
                    "output_type": "display_data",
                    "data": {
                        "text/html": "(69 rows affected)"
                    },
                    "metadata": {}
                },
                {
                    "output_type": "display_data",
                    "data": {
                        "text/html": "Total execution time: 00:01:45.881"
                    },
                    "metadata": {}
                },
                {
                    "output_type": "execute_result",
                    "execution_count": 240,
                    "data": {
                        "application/vnd.dataresource+json": {
                            "schema": {
                                "fields": [
                                    {
                                        "name": "SalesTerritoryRegion"
                                    },
                                    {
                                        "name": "StateProvinceName"
                                    },
                                    {
                                        "name": "CurrencyName"
                                    },
                                    {
                                        "name": "Average_Income"
                                    },
                                    {
                                        "name": "Average_Sales"
                                    },
                                    {
                                        "name": "Percent_OF_Income"
                                    }
                                ]
                            },
                            "data": [
                                {
                                    "SalesTerritoryRegion": "Southeast",
                                    "StateProvinceName": "South Carolina",
                                    "CurrencyName": "US Dollar",
                                    "Average_Income": "110000.00",
                                    "Average_Sales": "1325.15",
                                    "Percent_OF_Income": "0.012"
                                },
                                {
                                    "SalesTerritoryRegion": "Australia",
                                    "StateProvinceName": "Queensland",
                                    "CurrencyName": "Australian Dollar",
                                    "Average_Income": "64716.27",
                                    "Average_Sales": "930.73",
                                    "Percent_OF_Income": "0.0143"
                                },
                                {
                                    "SalesTerritoryRegion": "Australia",
                                    "StateProvinceName": "New South Wales",
                                    "CurrencyName": "Australian Dollar",
                                    "Average_Income": "64759.46",
                                    "Average_Sales": "930.73",
                                    "Percent_OF_Income": "0.0143"
                                },
                                {
                                    "SalesTerritoryRegion": "Australia",
                                    "StateProvinceName": "Tasmania",
                                    "CurrencyName": "Australian Dollar",
                                    "Average_Income": "64433.96",
                                    "Average_Sales": "930.73",
                                    "Percent_OF_Income": "0.0144"
                                },
                                {
                                    "SalesTerritoryRegion": "Australia",
                                    "StateProvinceName": "Victoria",
                                    "CurrencyName": "Australian Dollar",
                                    "Average_Income": "63545.86",
                                    "Average_Sales": "930.73",
                                    "Percent_OF_Income": "0.0146"
                                },
                                {
                                    "SalesTerritoryRegion": "Australia",
                                    "StateProvinceName": "South Australia",
                                    "CurrencyName": "Australian Dollar",
                                    "Average_Income": "63263.60",
                                    "Average_Sales": "930.73",
                                    "Percent_OF_Income": "0.0147"
                                },
                                {
                                    "SalesTerritoryRegion": "Central",
                                    "StateProvinceName": "Minnesota",
                                    "CurrencyName": "US Dollar",
                                    "Average_Income": "80000.00",
                                    "Average_Sales": "1360.29",
                                    "Percent_OF_Income": "0.017"
                                },
                                {
                                    "SalesTerritoryRegion": "Central",
                                    "StateProvinceName": "Missouri",
                                    "CurrencyName": "US Dollar",
                                    "Average_Income": "80000.00",
                                    "Average_Sales": "1360.29",
                                    "Percent_OF_Income": "0.017"
                                },
                                {
                                    "SalesTerritoryRegion": "Northwest",
                                    "StateProvinceName": "Montana",
                                    "CurrencyName": "US Dollar",
                                    "Average_Income": "90000.00",
                                    "Average_Sales": "1579.66",
                                    "Percent_OF_Income": "0.0175"
                                },
                                {
                                    "SalesTerritoryRegion": "Southeast",
                                    "StateProvinceName": "Kentucky",
                                    "CurrencyName": "US Dollar",
                                    "Average_Income": "70000.00",
                                    "Average_Sales": "1325.15",
                                    "Percent_OF_Income": "0.0189"
                                },
                                {
                                    "SalesTerritoryRegion": "Southeast",
                                    "StateProvinceName": "Georgia",
                                    "CurrencyName": "US Dollar",
                                    "Average_Income": "66666.67",
                                    "Average_Sales": "1325.15",
                                    "Percent_OF_Income": "0.0198"
                                },
                                {
                                    "SalesTerritoryRegion": "Northeast",
                                    "StateProvinceName": "Massachusetts",
                                    "CurrencyName": "US Dollar",
                                    "Average_Income": "60000.00",
                                    "Average_Sales": "1193.47",
                                    "Percent_OF_Income": "0.0198"
                                },
                                {
                                    "SalesTerritoryRegion": "Southwest",
                                    "StateProvinceName": "California",
                                    "CurrencyName": "US Dollar",
                                    "Average_Income": "66584.16",
                                    "Average_Sales": "1380.26",
                                    "Percent_OF_Income": "0.0207"
                                },
                                {
                                    "SalesTerritoryRegion": "Canada",
                                    "StateProvinceName": "British Columbia",
                                    "CurrencyName": "Canadian Dollar",
                                    "Average_Income": "57216.16",
                                    "Average_Sales": "1256.37",
                                    "Percent_OF_Income": "0.0219"
                                },
                                {
                                    "SalesTerritoryRegion": "France",
                                    "StateProvinceName": "Charente-Maritime",
                                    "CurrencyName": "EURO",
                                    "Average_Income": "47142.86",
                                    "Average_Sales": "1075.76",
                                    "Percent_OF_Income": "0.0228"
                                },
                                {
                                    "SalesTerritoryRegion": "Southeast",
                                    "StateProvinceName": "Florida",
                                    "CurrencyName": "US Dollar",
                                    "Average_Income": "56666.67",
                                    "Average_Sales": "1325.15",
                                    "Percent_OF_Income": "0.0233"
                                },
                                {
                                    "SalesTerritoryRegion": "United Kingdom",
                                    "StateProvinceName": "England",
                                    "CurrencyName": "United Kingdom Pound",
                                    "Average_Income": "52169.37",
                                    "Average_Sales": "1215.63",
                                    "Percent_OF_Income": "0.0233"
                                },
                                {
                                    "SalesTerritoryRegion": "Germany",
                                    "StateProvinceName": "Saarland",
                                    "CurrencyName": "EURO",
                                    "Average_Income": "45497.74",
                                    "Average_Sales": "1078.84",
                                    "Percent_OF_Income": "0.0237"
                                },
                                {
                                    "SalesTerritoryRegion": "France",
                                    "StateProvinceName": "Val d'Oise",
                                    "CurrencyName": "EURO",
                                    "Average_Income": "45333.33",
                                    "Average_Sales": "1075.76",
                                    "Percent_OF_Income": "0.0237"
                                },
                                {
                                    "SalesTerritoryRegion": "Canada",
                                    "StateProvinceName": "Alberta",
                                    "CurrencyName": "Canadian Dollar",
                                    "Average_Income": "51818.18",
                                    "Average_Sales": "1256.37",
                                    "Percent_OF_Income": "0.0242"
                                },
                                {
                                    "SalesTerritoryRegion": "Germany",
                                    "StateProvinceName": "Hamburg",
                                    "CurrencyName": "EURO",
                                    "Average_Income": "43367.00",
                                    "Average_Sales": "1078.84",
                                    "Percent_OF_Income": "0.0248"
                                },
                                {
                                    "SalesTerritoryRegion": "Northeast",
                                    "StateProvinceName": "Ohio",
                                    "CurrencyName": "US Dollar",
                                    "Average_Income": "47500.00",
                                    "Average_Sales": "1193.47",
                                    "Percent_OF_Income": "0.0251"
                                },
                                {
                                    "SalesTerritoryRegion": "France",
                                    "StateProvinceName": "Loir et Cher",
                                    "CurrencyName": "EURO",
                                    "Average_Income": "42352.94",
                                    "Average_Sales": "1075.76",
                                    "Percent_OF_Income": "0.0253"
                                },
                                {
                                    "SalesTerritoryRegion": "Northeast",
                                    "StateProvinceName": "New York",
                                    "CurrencyName": "US Dollar",
                                    "Average_Income": "46666.67",
                                    "Average_Sales": "1193.47",
                                    "Percent_OF_Income": "0.0255"
                                },
                                {
                                    "SalesTerritoryRegion": "Germany",
                                    "StateProvinceName": "Hessen",
                                    "CurrencyName": "EURO",
                                    "Average_Income": "42148.54",
                                    "Average_Sales": "1078.84",
                                    "Percent_OF_Income": "0.0255"
                                },
                                {
                                    "SalesTerritoryRegion": "Germany",
                                    "StateProvinceName": "Nordrhein-Westfalen",
                                    "CurrencyName": "EURO",
                                    "Average_Income": "42167.49",
                                    "Average_Sales": "1078.84",
                                    "Percent_OF_Income": "0.0255"
                                },
                                {
                                    "SalesTerritoryRegion": "Northwest",
                                    "StateProvinceName": "Washington",
                                    "CurrencyName": "US Dollar",
                                    "Average_Income": "60132.57",
                                    "Average_Sales": "1579.66",
                                    "Percent_OF_Income": "0.0262"
                                },
                                {
                                    "SalesTerritoryRegion": "Northwest",
                                    "StateProvinceName": "Wyoming",
                                    "CurrencyName": "US Dollar",
                                    "Average_Income": "60000.00",
                                    "Average_Sales": "1579.66",
                                    "Percent_OF_Income": "0.0263"
                                },
                                {
                                    "SalesTerritoryRegion": "Northwest",
                                    "StateProvinceName": "Utah",
                                    "CurrencyName": "US Dollar",
                                    "Average_Income": "60000.00",
                                    "Average_Sales": "1579.66",
                                    "Percent_OF_Income": "0.0263"
                                },
                                {
                                    "SalesTerritoryRegion": "Germany",
                                    "StateProvinceName": "Bayern",
                                    "CurrencyName": "EURO",
                                    "Average_Income": "40789.47",
                                    "Average_Sales": "1078.84",
                                    "Percent_OF_Income": "0.0264"
                                },
                                {
                                    "SalesTerritoryRegion": "Northwest",
                                    "StateProvinceName": "Oregon",
                                    "CurrencyName": "US Dollar",
                                    "Average_Income": "59002.80",
                                    "Average_Sales": "1579.66",
                                    "Percent_OF_Income": "0.0267"
                                },
                                {
                                    "SalesTerritoryRegion": "France",
                                    "StateProvinceName": "Moselle",
                                    "CurrencyName": "EURO",
                                    "Average_Income": "39107.14",
                                    "Average_Sales": "1075.76",
                                    "Percent_OF_Income": "0.0275"
                                },
                                {
                                    "SalesTerritoryRegion": "France",
                                    "StateProvinceName": "Somme",
                                    "CurrencyName": "EURO",
                                    "Average_Income": "38636.36",
                                    "Average_Sales": "1075.76",
                                    "Percent_OF_Income": "0.0278"
                                },
                                {
                                    "SalesTerritoryRegion": "France",
                                    "StateProvinceName": "Seine et Marne",
                                    "CurrencyName": "EURO",
                                    "Average_Income": "38000.00",
                                    "Average_Sales": "1075.76",
                                    "Percent_OF_Income": "0.0283"
                                },
                                {
                                    "SalesTerritoryRegion": "Germany",
                                    "StateProvinceName": "Brandenburg",
                                    "CurrencyName": "EURO",
                                    "Average_Income": "38000.00",
                                    "Average_Sales": "1078.84",
                                    "Percent_OF_Income": "0.0283"
                                },
                                {
                                    "SalesTerritoryRegion": "France",
                                    "StateProvinceName": "Charente-Maritime",
                                    "CurrencyName": "US Dollar",
                                    "Average_Income": "47142.86",
                                    "Average_Sales": "1339.29",
                                    "Percent_OF_Income": "0.0284"
                                },
                                {
                                    "SalesTerritoryRegion": "Southwest",
                                    "StateProvinceName": "Texas",
                                    "CurrencyName": "US Dollar",
                                    "Average_Income": "47500.00",
                                    "Average_Sales": "1380.26",
                                    "Percent_OF_Income": "0.029"
                                },
                                {
                                    "SalesTerritoryRegion": "France",
                                    "StateProvinceName": "Hauts de Seine",
                                    "CurrencyName": "EURO",
                                    "Average_Income": "36871.79",
                                    "Average_Sales": "1075.76",
                                    "Percent_OF_Income": "0.0291"
                                },
                                {
                                    "SalesTerritoryRegion": "France",
                                    "StateProvinceName": "Val d'Oise",
                                    "CurrencyName": "US Dollar",
                                    "Average_Income": "45333.33",
                                    "Average_Sales": "1339.29",
                                    "Percent_OF_Income": "0.0295"
                                },
                                {
                                    "SalesTerritoryRegion": "France",
                                    "StateProvinceName": "Nord",
                                    "CurrencyName": "EURO",
                                    "Average_Income": "36161.97",
                                    "Average_Sales": "1075.76",
                                    "Percent_OF_Income": "0.0297"
                                },
                                {
                                    "SalesTerritoryRegion": "France",
                                    "StateProvinceName": "Seine (Paris)",
                                    "CurrencyName": "EURO",
                                    "Average_Income": "36088.08",
                                    "Average_Sales": "1075.76",
                                    "Percent_OF_Income": "0.0298"
                                },
                                {
                                    "SalesTerritoryRegion": "Central",
                                    "StateProvinceName": "Illinois",
                                    "CurrencyName": "US Dollar",
                                    "Average_Income": "45000.00",
                                    "Average_Sales": "1360.29",
                                    "Percent_OF_Income": "0.0302"
                                },
                                {
                                    "SalesTerritoryRegion": "France",
                                    "StateProvinceName": "Seine Saint Denis",
                                    "CurrencyName": "EURO",
                                    "Average_Income": "34912.28",
                                    "Average_Sales": "1075.76",
                                    "Percent_OF_Income": "0.0308"
                                },
                                {
                                    "SalesTerritoryRegion": "France",
                                    "StateProvinceName": "Val de Marne",
                                    "CurrencyName": "EURO",
                                    "Average_Income": "34666.67",
                                    "Average_Sales": "1075.76",
                                    "Percent_OF_Income": "0.031"
                                },
                                {
                                    "SalesTerritoryRegion": "France",
                                    "StateProvinceName": "Yveline",
                                    "CurrencyName": "EURO",
                                    "Average_Income": "34345.24",
                                    "Average_Sales": "1075.76",
                                    "Percent_OF_Income": "0.0313"
                                },
                                {
                                    "SalesTerritoryRegion": "Canada",
                                    "StateProvinceName": "Ontario",
                                    "CurrencyName": "Canadian Dollar",
                                    "Average_Income": "40000.00",
                                    "Average_Sales": "1256.37",
                                    "Percent_OF_Income": "0.0314"
                                },
                                {
                                    "SalesTerritoryRegion": "France",
                                    "StateProvinceName": "Loir et Cher",
                                    "CurrencyName": "US Dollar",
                                    "Average_Income": "42352.94",
                                    "Average_Sales": "1339.29",
                                    "Percent_OF_Income": "0.0316"
                                },
                                {
                                    "SalesTerritoryRegion": "France",
                                    "StateProvinceName": "Pas de Calais",
                                    "CurrencyName": "EURO",
                                    "Average_Income": "33750.00",
                                    "Average_Sales": "1075.76",
                                    "Percent_OF_Income": "0.0318"
                                },
                                {
                                    "SalesTerritoryRegion": "France",
                                    "StateProvinceName": "Essonne",
                                    "CurrencyName": "EURO",
                                    "Average_Income": "33600.00",
                                    "Average_Sales": "1075.76",
                                    "Percent_OF_Income": "0.032"
                                },
                                {
                                    "SalesTerritoryRegion": "Southeast",
                                    "StateProvinceName": "Alabama",
                                    "CurrencyName": "US Dollar",
                                    "Average_Income": "40000.00",
                                    "Average_Sales": "1325.15",
                                    "Percent_OF_Income": "0.0331"
                                },
                                {
                                    "SalesTerritoryRegion": "Southeast",
                                    "StateProvinceName": "Mississippi",
                                    "CurrencyName": "US Dollar",
                                    "Average_Income": "40000.00",
                                    "Average_Sales": "1325.15",
                                    "Percent_OF_Income": "0.0331"
                                },
                                {
                                    "SalesTerritoryRegion": "Southeast",
                                    "StateProvinceName": "North Carolina",
                                    "CurrencyName": "US Dollar",
                                    "Average_Income": "40000.00",
                                    "Average_Sales": "1325.15",
                                    "Percent_OF_Income": "0.0331"
                                },
                                {
                                    "SalesTerritoryRegion": "Southeast",
                                    "StateProvinceName": "Virginia",
                                    "CurrencyName": "US Dollar",
                                    "Average_Income": "40000.00",
                                    "Average_Sales": "1325.15",
                                    "Percent_OF_Income": "0.0331"
                                },
                                {
                                    "SalesTerritoryRegion": "France",
                                    "StateProvinceName": "Moselle",
                                    "CurrencyName": "US Dollar",
                                    "Average_Income": "39107.14",
                                    "Average_Sales": "1339.29",
                                    "Percent_OF_Income": "0.0342"
                                },
                                {
                                    "SalesTerritoryRegion": "Southwest",
                                    "StateProvinceName": "Arizona",
                                    "CurrencyName": "US Dollar",
                                    "Average_Income": "40000.00",
                                    "Average_Sales": "1380.26",
                                    "Percent_OF_Income": "0.0345"
                                },
                                {
                                    "SalesTerritoryRegion": "France",
                                    "StateProvinceName": "Somme",
                                    "CurrencyName": "US Dollar",
                                    "Average_Income": "38636.36",
                                    "Average_Sales": "1339.29",
                                    "Percent_OF_Income": "0.0346"
                                },
                                {
                                    "SalesTerritoryRegion": "France",
                                    "StateProvinceName": "Seine et Marne",
                                    "CurrencyName": "US Dollar",
                                    "Average_Income": "38000.00",
                                    "Average_Sales": "1339.29",
                                    "Percent_OF_Income": "0.0352"
                                },
                                {
                                    "SalesTerritoryRegion": "France",
                                    "StateProvinceName": "Hauts de Seine",
                                    "CurrencyName": "US Dollar",
                                    "Average_Income": "36871.79",
                                    "Average_Sales": "1339.29",
                                    "Percent_OF_Income": "0.0363"
                                },
                                {
                                    "SalesTerritoryRegion": "France",
                                    "StateProvinceName": "Garonne (Haute)",
                                    "CurrencyName": "EURO",
                                    "Average_Income": "29000.00",
                                    "Average_Sales": "1075.76",
                                    "Percent_OF_Income": "0.037"
                                },
                                {
                                    "SalesTerritoryRegion": "France",
                                    "StateProvinceName": "Loiret",
                                    "CurrencyName": "EURO",
                                    "Average_Income": "29000.00",
                                    "Average_Sales": "1075.76",
                                    "Percent_OF_Income": "0.037"
                                },
                                {
                                    "SalesTerritoryRegion": "France",
                                    "StateProvinceName": "Nord",
                                    "CurrencyName": "US Dollar",
                                    "Average_Income": "36161.97",
                                    "Average_Sales": "1339.29",
                                    "Percent_OF_Income": "0.037"
                                },
                                {
                                    "SalesTerritoryRegion": "France",
                                    "StateProvinceName": "Seine (Paris)",
                                    "CurrencyName": "US Dollar",
                                    "Average_Income": "36088.08",
                                    "Average_Sales": "1339.29",
                                    "Percent_OF_Income": "0.0371"
                                },
                                {
                                    "SalesTerritoryRegion": "France",
                                    "StateProvinceName": "Seine Saint Denis",
                                    "CurrencyName": "US Dollar",
                                    "Average_Income": "34912.28",
                                    "Average_Sales": "1339.29",
                                    "Percent_OF_Income": "0.0383"
                                },
                                {
                                    "SalesTerritoryRegion": "France",
                                    "StateProvinceName": "Val de Marne",
                                    "CurrencyName": "US Dollar",
                                    "Average_Income": "34666.67",
                                    "Average_Sales": "1339.29",
                                    "Percent_OF_Income": "0.0386"
                                },
                                {
                                    "SalesTerritoryRegion": "France",
                                    "StateProvinceName": "Yveline",
                                    "CurrencyName": "US Dollar",
                                    "Average_Income": "34345.24",
                                    "Average_Sales": "1339.29",
                                    "Percent_OF_Income": "0.0389"
                                },
                                {
                                    "SalesTerritoryRegion": "France",
                                    "StateProvinceName": "Pas de Calais",
                                    "CurrencyName": "US Dollar",
                                    "Average_Income": "33750.00",
                                    "Average_Sales": "1339.29",
                                    "Percent_OF_Income": "0.0396"
                                },
                                {
                                    "SalesTerritoryRegion": "France",
                                    "StateProvinceName": "Essonne",
                                    "CurrencyName": "US Dollar",
                                    "Average_Income": "33600.00",
                                    "Average_Sales": "1339.29",
                                    "Percent_OF_Income": "0.0398"
                                },
                                {
                                    "SalesTerritoryRegion": "France",
                                    "StateProvinceName": "Garonne (Haute)",
                                    "CurrencyName": "US Dollar",
                                    "Average_Income": "29000.00",
                                    "Average_Sales": "1339.29",
                                    "Percent_OF_Income": "0.0461"
                                },
                                {
                                    "SalesTerritoryRegion": "France",
                                    "StateProvinceName": "Loiret",
                                    "CurrencyName": "US Dollar",
                                    "Average_Income": "29000.00",
                                    "Average_Sales": "1339.29",
                                    "Percent_OF_Income": "0.0461"
                                }
                            ]
                        },
                        "text/html": "<table><tr><th>SalesTerritoryRegion</th><th>StateProvinceName</th><th>CurrencyName</th><th>Average_Income</th><th>Average_Sales</th><th>Percent_OF_Income</th></tr><tr><td>Southeast</td><td>South Carolina</td><td>US Dollar</td><td>110000.00</td><td>1325.15</td><td>0.012</td></tr><tr><td>Australia</td><td>Queensland</td><td>Australian Dollar</td><td>64716.27</td><td>930.73</td><td>0.0143</td></tr><tr><td>Australia</td><td>New South Wales</td><td>Australian Dollar</td><td>64759.46</td><td>930.73</td><td>0.0143</td></tr><tr><td>Australia</td><td>Tasmania</td><td>Australian Dollar</td><td>64433.96</td><td>930.73</td><td>0.0144</td></tr><tr><td>Australia</td><td>Victoria</td><td>Australian Dollar</td><td>63545.86</td><td>930.73</td><td>0.0146</td></tr><tr><td>Australia</td><td>South Australia</td><td>Australian Dollar</td><td>63263.60</td><td>930.73</td><td>0.0147</td></tr><tr><td>Central</td><td>Minnesota</td><td>US Dollar</td><td>80000.00</td><td>1360.29</td><td>0.017</td></tr><tr><td>Central</td><td>Missouri</td><td>US Dollar</td><td>80000.00</td><td>1360.29</td><td>0.017</td></tr><tr><td>Northwest</td><td>Montana</td><td>US Dollar</td><td>90000.00</td><td>1579.66</td><td>0.0175</td></tr><tr><td>Southeast</td><td>Kentucky</td><td>US Dollar</td><td>70000.00</td><td>1325.15</td><td>0.0189</td></tr><tr><td>Southeast</td><td>Georgia</td><td>US Dollar</td><td>66666.67</td><td>1325.15</td><td>0.0198</td></tr><tr><td>Northeast</td><td>Massachusetts</td><td>US Dollar</td><td>60000.00</td><td>1193.47</td><td>0.0198</td></tr><tr><td>Southwest</td><td>California</td><td>US Dollar</td><td>66584.16</td><td>1380.26</td><td>0.0207</td></tr><tr><td>Canada</td><td>British Columbia</td><td>Canadian Dollar</td><td>57216.16</td><td>1256.37</td><td>0.0219</td></tr><tr><td>France</td><td>Charente-Maritime</td><td>EURO</td><td>47142.86</td><td>1075.76</td><td>0.0228</td></tr><tr><td>Southeast</td><td>Florida</td><td>US Dollar</td><td>56666.67</td><td>1325.15</td><td>0.0233</td></tr><tr><td>United Kingdom</td><td>England</td><td>United Kingdom Pound</td><td>52169.37</td><td>1215.63</td><td>0.0233</td></tr><tr><td>Germany</td><td>Saarland</td><td>EURO</td><td>45497.74</td><td>1078.84</td><td>0.0237</td></tr><tr><td>France</td><td>Val d&#39;Oise</td><td>EURO</td><td>45333.33</td><td>1075.76</td><td>0.0237</td></tr><tr><td>Canada</td><td>Alberta</td><td>Canadian Dollar</td><td>51818.18</td><td>1256.37</td><td>0.0242</td></tr><tr><td>Germany</td><td>Hamburg</td><td>EURO</td><td>43367.00</td><td>1078.84</td><td>0.0248</td></tr><tr><td>Northeast</td><td>Ohio</td><td>US Dollar</td><td>47500.00</td><td>1193.47</td><td>0.0251</td></tr><tr><td>France</td><td>Loir et Cher</td><td>EURO</td><td>42352.94</td><td>1075.76</td><td>0.0253</td></tr><tr><td>Northeast</td><td>New York</td><td>US Dollar</td><td>46666.67</td><td>1193.47</td><td>0.0255</td></tr><tr><td>Germany</td><td>Hessen</td><td>EURO</td><td>42148.54</td><td>1078.84</td><td>0.0255</td></tr><tr><td>Germany</td><td>Nordrhein-Westfalen</td><td>EURO</td><td>42167.49</td><td>1078.84</td><td>0.0255</td></tr><tr><td>Northwest</td><td>Washington</td><td>US Dollar</td><td>60132.57</td><td>1579.66</td><td>0.0262</td></tr><tr><td>Northwest</td><td>Wyoming</td><td>US Dollar</td><td>60000.00</td><td>1579.66</td><td>0.0263</td></tr><tr><td>Northwest</td><td>Utah</td><td>US Dollar</td><td>60000.00</td><td>1579.66</td><td>0.0263</td></tr><tr><td>Germany</td><td>Bayern</td><td>EURO</td><td>40789.47</td><td>1078.84</td><td>0.0264</td></tr><tr><td>Northwest</td><td>Oregon</td><td>US Dollar</td><td>59002.80</td><td>1579.66</td><td>0.0267</td></tr><tr><td>France</td><td>Moselle</td><td>EURO</td><td>39107.14</td><td>1075.76</td><td>0.0275</td></tr><tr><td>France</td><td>Somme</td><td>EURO</td><td>38636.36</td><td>1075.76</td><td>0.0278</td></tr><tr><td>France</td><td>Seine et Marne</td><td>EURO</td><td>38000.00</td><td>1075.76</td><td>0.0283</td></tr><tr><td>Germany</td><td>Brandenburg</td><td>EURO</td><td>38000.00</td><td>1078.84</td><td>0.0283</td></tr><tr><td>France</td><td>Charente-Maritime</td><td>US Dollar</td><td>47142.86</td><td>1339.29</td><td>0.0284</td></tr><tr><td>Southwest</td><td>Texas</td><td>US Dollar</td><td>47500.00</td><td>1380.26</td><td>0.029</td></tr><tr><td>France</td><td>Hauts de Seine</td><td>EURO</td><td>36871.79</td><td>1075.76</td><td>0.0291</td></tr><tr><td>France</td><td>Val d&#39;Oise</td><td>US Dollar</td><td>45333.33</td><td>1339.29</td><td>0.0295</td></tr><tr><td>France</td><td>Nord</td><td>EURO</td><td>36161.97</td><td>1075.76</td><td>0.0297</td></tr><tr><td>France</td><td>Seine (Paris)</td><td>EURO</td><td>36088.08</td><td>1075.76</td><td>0.0298</td></tr><tr><td>Central</td><td>Illinois</td><td>US Dollar</td><td>45000.00</td><td>1360.29</td><td>0.0302</td></tr><tr><td>France</td><td>Seine Saint Denis</td><td>EURO</td><td>34912.28</td><td>1075.76</td><td>0.0308</td></tr><tr><td>France</td><td>Val de Marne</td><td>EURO</td><td>34666.67</td><td>1075.76</td><td>0.031</td></tr><tr><td>France</td><td>Yveline</td><td>EURO</td><td>34345.24</td><td>1075.76</td><td>0.0313</td></tr><tr><td>Canada</td><td>Ontario</td><td>Canadian Dollar</td><td>40000.00</td><td>1256.37</td><td>0.0314</td></tr><tr><td>France</td><td>Loir et Cher</td><td>US Dollar</td><td>42352.94</td><td>1339.29</td><td>0.0316</td></tr><tr><td>France</td><td>Pas de Calais</td><td>EURO</td><td>33750.00</td><td>1075.76</td><td>0.0318</td></tr><tr><td>France</td><td>Essonne</td><td>EURO</td><td>33600.00</td><td>1075.76</td><td>0.032</td></tr><tr><td>Southeast</td><td>Alabama</td><td>US Dollar</td><td>40000.00</td><td>1325.15</td><td>0.0331</td></tr><tr><td>Southeast</td><td>Mississippi</td><td>US Dollar</td><td>40000.00</td><td>1325.15</td><td>0.0331</td></tr><tr><td>Southeast</td><td>North Carolina</td><td>US Dollar</td><td>40000.00</td><td>1325.15</td><td>0.0331</td></tr><tr><td>Southeast</td><td>Virginia</td><td>US Dollar</td><td>40000.00</td><td>1325.15</td><td>0.0331</td></tr><tr><td>France</td><td>Moselle</td><td>US Dollar</td><td>39107.14</td><td>1339.29</td><td>0.0342</td></tr><tr><td>Southwest</td><td>Arizona</td><td>US Dollar</td><td>40000.00</td><td>1380.26</td><td>0.0345</td></tr><tr><td>France</td><td>Somme</td><td>US Dollar</td><td>38636.36</td><td>1339.29</td><td>0.0346</td></tr><tr><td>France</td><td>Seine et Marne</td><td>US Dollar</td><td>38000.00</td><td>1339.29</td><td>0.0352</td></tr><tr><td>France</td><td>Hauts de Seine</td><td>US Dollar</td><td>36871.79</td><td>1339.29</td><td>0.0363</td></tr><tr><td>France</td><td>Garonne (Haute)</td><td>EURO</td><td>29000.00</td><td>1075.76</td><td>0.037</td></tr><tr><td>France</td><td>Loiret</td><td>EURO</td><td>29000.00</td><td>1075.76</td><td>0.037</td></tr><tr><td>France</td><td>Nord</td><td>US Dollar</td><td>36161.97</td><td>1339.29</td><td>0.037</td></tr><tr><td>France</td><td>Seine (Paris)</td><td>US Dollar</td><td>36088.08</td><td>1339.29</td><td>0.0371</td></tr><tr><td>France</td><td>Seine Saint Denis</td><td>US Dollar</td><td>34912.28</td><td>1339.29</td><td>0.0383</td></tr><tr><td>France</td><td>Val de Marne</td><td>US Dollar</td><td>34666.67</td><td>1339.29</td><td>0.0386</td></tr><tr><td>France</td><td>Yveline</td><td>US Dollar</td><td>34345.24</td><td>1339.29</td><td>0.0389</td></tr><tr><td>France</td><td>Pas de Calais</td><td>US Dollar</td><td>33750.00</td><td>1339.29</td><td>0.0396</td></tr><tr><td>France</td><td>Essonne</td><td>US Dollar</td><td>33600.00</td><td>1339.29</td><td>0.0398</td></tr><tr><td>France</td><td>Garonne (Haute)</td><td>US Dollar</td><td>29000.00</td><td>1339.29</td><td>0.0461</td></tr><tr><td>France</td><td>Loiret</td><td>US Dollar</td><td>29000.00</td><td>1339.29</td><td>0.0461</td></tr></table>"
                    },
                    "metadata": {}
                }
            ],
            "execution_count": 240
        }
    ]
}