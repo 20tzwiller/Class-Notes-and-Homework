{
    "metadata": {
        "kernelspec": {
            "name": "SQL",
            "display_name": "SQL",
            "language": "sql"
        },
        "language_info": {
            "name": "sql",
            "version": ""
        }
    },
    "nbformat_minor": 2,
    "nbformat": 4,
    "cells": [
        {
            "cell_type": "code",
            "source": [
                "--Question 1 Part A\n",
                "SELECT ROUND(SUM(SOH.SubTotal),0) as Region_Sales, --Rounds Column as Region Sales\n",
                "    ST.Name --Pulls name from Sales Territory\n",
                "FROM Sales.SalesOrderHeader SOH --Pulls Sales from SOH\n",
                "JOIN Sales.SalesTerritory ST --join clause based on territory ID\n",
                "    ON SOH.TerritoryID = ST.TerritoryID\n",
                "GROUP BY ST.Name --groups by name from Territory table\n",
                "ORDER BY Region_Sales DESC --orders by sales descending"
            ],
            "metadata": {
                "azdata_cell_guid": "00dae057-dc33-4eca-ad5c-7bc333edf0e1",
                "language": "sql"
            },
            "outputs": [
                {
                    "output_type": "display_data",
                    "data": {
                        "text/html": "(10 rows affected)"
                    },
                    "metadata": {}
                },
                {
                    "output_type": "display_data",
                    "data": {
                        "text/html": "Total execution time: 00:00:00.068"
                    },
                    "metadata": {}
                },
                {
                    "output_type": "execute_result",
                    "execution_count": 19,
                    "data": {
                        "application/vnd.dataresource+json": {
                            "schema": {
                                "fields": [
                                    {
                                        "name": "Region_Sales"
                                    },
                                    {
                                        "name": "Name"
                                    }
                                ]
                            },
                            "data": [
                                {
                                    "Region_Sales": "24184610.00",
                                    "Name": "Southwest"
                                },
                                {
                                    "Region_Sales": "16355770.00",
                                    "Name": "Canada"
                                },
                                {
                                    "Region_Sales": "16084943.00",
                                    "Name": "Northwest"
                                },
                                {
                                    "Region_Sales": "10655336.00",
                                    "Name": "Australia"
                                },
                                {
                                    "Region_Sales": "7909009.00",
                                    "Name": "Central"
                                },
                                {
                                    "Region_Sales": "7879655.00",
                                    "Name": "Southeast"
                                },
                                {
                                    "Region_Sales": "7670721.00",
                                    "Name": "United Kingdom"
                                },
                                {
                                    "Region_Sales": "7251556.00",
                                    "Name": "France"
                                },
                                {
                                    "Region_Sales": "6939374.00",
                                    "Name": "Northeast"
                                },
                                {
                                    "Region_Sales": "4915408.00",
                                    "Name": "Germany"
                                }
                            ]
                        },
                        "text/html": "<table><tr><th>Region_Sales</th><th>Name</th></tr><tr><td>24184610.00</td><td>Southwest</td></tr><tr><td>16355770.00</td><td>Canada</td></tr><tr><td>16084943.00</td><td>Northwest</td></tr><tr><td>10655336.00</td><td>Australia</td></tr><tr><td>7909009.00</td><td>Central</td></tr><tr><td>7879655.00</td><td>Southeast</td></tr><tr><td>7670721.00</td><td>United Kingdom</td></tr><tr><td>7251556.00</td><td>France</td></tr><tr><td>6939374.00</td><td>Northeast</td></tr><tr><td>4915408.00</td><td>Germany</td></tr></table>"
                    },
                    "metadata": {}
                }
            ],
            "execution_count": 19
        },
        {
            "cell_type": "code",
            "source": [
                "--Question 1 Part B \n",
                "SELECT ST.Name as Region_Name --Pulls name from Sales Territory\n",
                "    ,DateName(MONTH, SOH.OrderDate) as Order_Month --kicks back just the month name\n",
                "    ,Year(SOH.OrderDate) as Order_Year --kicks back just the year\n",
                "    ,ROUND(SUM(SOH.SubTotal),0) as Region_Sales --Rounds Column as Region Sales\n",
                "FROM Sales.SalesOrderHeader SOH --Pulls Sales from SOH\n",
                "JOIN Sales.SalesTerritory ST --join clause based on territory ID\n",
                "    ON SOH.TerritoryID = ST.TerritoryID\n",
                "WHERE SOH.OrderDate >= '2013-01-01' AND SOH.OrderDate < '2014-01-01'\n",
                "GROUP BY ST.Name, DateName(Month, SOH.OrderDate), Year(SOH.OrderDate) --groups by name from Territory table\n",
                "ORDER BY Region_Name ASC, Order_Month ASC --orders by region asc, then month name asc"
            ],
            "metadata": {
                "language": "sql",
                "azdata_cell_guid": "b45db3ea-cc32-48eb-907e-a2a86b97b6ef",
                "tags": []
            },
            "outputs": [
                {
                    "output_type": "display_data",
                    "data": {
                        "text/html": "(120 rows affected)"
                    },
                    "metadata": {}
                },
                {
                    "output_type": "display_data",
                    "data": {
                        "text/html": "Total execution time: 00:00:00.093"
                    },
                    "metadata": {}
                },
                {
                    "output_type": "execute_result",
                    "metadata": {},
                    "execution_count": 1,
                    "data": {
                        "application/vnd.dataresource+json": {
                            "schema": {
                                "fields": [
                                    {
                                        "name": "Region_Name"
                                    },
                                    {
                                        "name": "Order_Month"
                                    },
                                    {
                                        "name": "Order_Year"
                                    },
                                    {
                                        "name": "Region_Sales"
                                    }
                                ]
                            },
                            "data": [
                                {
                                    "Region_Name": "Australia",
                                    "Order_Month": "April",
                                    "Order_Year": "2013",
                                    "Region_Sales": "205166.00"
                                },
                                {
                                    "Region_Name": "Australia",
                                    "Order_Month": "August",
                                    "Order_Year": "2013",
                                    "Region_Sales": "394786.00"
                                },
                                {
                                    "Region_Name": "Australia",
                                    "Order_Month": "December",
                                    "Order_Year": "2013",
                                    "Region_Sales": "468650.00"
                                },
                                {
                                    "Region_Name": "Australia",
                                    "Order_Month": "February",
                                    "Order_Year": "2013",
                                    "Region_Sales": "177688.00"
                                },
                                {
                                    "Region_Name": "Australia",
                                    "Order_Month": "January",
                                    "Order_Year": "2013",
                                    "Region_Sales": "222514.00"
                                },
                                {
                                    "Region_Name": "Australia",
                                    "Order_Month": "July",
                                    "Order_Year": "2013",
                                    "Region_Sales": "456778.00"
                                },
                                {
                                    "Region_Name": "Australia",
                                    "Order_Month": "June",
                                    "Order_Year": "2013",
                                    "Region_Sales": "380029.00"
                                },
                                {
                                    "Region_Name": "Australia",
                                    "Order_Month": "March",
                                    "Order_Year": "2013",
                                    "Region_Sales": "215688.00"
                                },
                                {
                                    "Region_Name": "Australia",
                                    "Order_Month": "May",
                                    "Order_Year": "2013",
                                    "Region_Sales": "252419.00"
                                },
                                {
                                    "Region_Name": "Australia",
                                    "Order_Month": "November",
                                    "Order_Year": "2013",
                                    "Region_Sales": "427533.00"
                                },
                                {
                                    "Region_Name": "Australia",
                                    "Order_Month": "October",
                                    "Order_Year": "2013",
                                    "Region_Sales": "572304.00"
                                },
                                {
                                    "Region_Name": "Australia",
                                    "Order_Month": "September",
                                    "Order_Year": "2013",
                                    "Region_Sales": "457110.00"
                                },
                                {
                                    "Region_Name": "Canada",
                                    "Order_Month": "April",
                                    "Order_Year": "2013",
                                    "Region_Sales": "467353.00"
                                },
                                {
                                    "Region_Name": "Canada",
                                    "Order_Month": "August",
                                    "Order_Year": "2013",
                                    "Region_Sales": "467319.00"
                                },
                                {
                                    "Region_Name": "Canada",
                                    "Order_Month": "December",
                                    "Order_Year": "2013",
                                    "Region_Sales": "436189.00"
                                },
                                {
                                    "Region_Name": "Canada",
                                    "Order_Month": "February",
                                    "Order_Year": "2013",
                                    "Region_Sales": "461556.00"
                                },
                                {
                                    "Region_Name": "Canada",
                                    "Order_Month": "January",
                                    "Order_Year": "2013",
                                    "Region_Sales": "417125.00"
                                },
                                {
                                    "Region_Name": "Canada",
                                    "Order_Month": "July",
                                    "Order_Year": "2013",
                                    "Region_Sales": "733453.00"
                                },
                                {
                                    "Region_Name": "Canada",
                                    "Order_Month": "June",
                                    "Order_Year": "2013",
                                    "Region_Sales": "607975.00"
                                },
                                {
                                    "Region_Name": "Canada",
                                    "Order_Month": "March",
                                    "Order_Year": "2013",
                                    "Region_Sales": "485927.00"
                                },
                                {
                                    "Region_Name": "Canada",
                                    "Order_Month": "May",
                                    "Order_Year": "2013",
                                    "Region_Sales": "510801.00"
                                },
                                {
                                    "Region_Name": "Canada",
                                    "Order_Month": "November",
                                    "Order_Year": "2013",
                                    "Region_Sales": "356269.00"
                                },
                                {
                                    "Region_Name": "Canada",
                                    "Order_Month": "October",
                                    "Order_Year": "2013",
                                    "Region_Sales": "804615.00"
                                },
                                {
                                    "Region_Name": "Canada",
                                    "Order_Month": "September",
                                    "Order_Year": "2013",
                                    "Region_Sales": "480936.00"
                                },
                                {
                                    "Region_Name": "Central",
                                    "Order_Month": "April",
                                    "Order_Year": "2013",
                                    "Region_Sales": "220322.00"
                                },
                                {
                                    "Region_Name": "Central",
                                    "Order_Month": "August",
                                    "Order_Year": "2013",
                                    "Region_Sales": "162558.00"
                                },
                                {
                                    "Region_Name": "Central",
                                    "Order_Month": "December",
                                    "Order_Year": "2013",
                                    "Region_Sales": "253954.00"
                                },
                                {
                                    "Region_Name": "Central",
                                    "Order_Month": "February",
                                    "Order_Year": "2013",
                                    "Region_Sales": "193947.00"
                                },
                                {
                                    "Region_Name": "Central",
                                    "Order_Month": "January",
                                    "Order_Year": "2013",
                                    "Region_Sales": "179655.00"
                                },
                                {
                                    "Region_Name": "Central",
                                    "Order_Month": "July",
                                    "Order_Year": "2013",
                                    "Region_Sales": "348164.00"
                                },
                                {
                                    "Region_Name": "Central",
                                    "Order_Month": "June",
                                    "Order_Year": "2013",
                                    "Region_Sales": "378578.00"
                                },
                                {
                                    "Region_Name": "Central",
                                    "Order_Month": "March",
                                    "Order_Year": "2013",
                                    "Region_Sales": "283992.00"
                                },
                                {
                                    "Region_Name": "Central",
                                    "Order_Month": "May",
                                    "Order_Year": "2013",
                                    "Region_Sales": "216804.00"
                                },
                                {
                                    "Region_Name": "Central",
                                    "Order_Month": "November",
                                    "Order_Year": "2013",
                                    "Region_Sales": "113958.00"
                                },
                                {
                                    "Region_Name": "Central",
                                    "Order_Month": "October",
                                    "Order_Year": "2013",
                                    "Region_Sales": "317443.00"
                                },
                                {
                                    "Region_Name": "Central",
                                    "Order_Month": "September",
                                    "Order_Year": "2013",
                                    "Region_Sales": "324853.00"
                                },
                                {
                                    "Region_Name": "France",
                                    "Order_Month": "April",
                                    "Order_Year": "2013",
                                    "Region_Sales": "138184.00"
                                },
                                {
                                    "Region_Name": "France",
                                    "Order_Month": "August",
                                    "Order_Year": "2013",
                                    "Region_Sales": "163919.00"
                                },
                                {
                                    "Region_Name": "France",
                                    "Order_Month": "December",
                                    "Order_Year": "2013",
                                    "Region_Sales": "583347.00"
                                },
                                {
                                    "Region_Name": "France",
                                    "Order_Month": "February",
                                    "Order_Year": "2013",
                                    "Region_Sales": "123079.00"
                                },
                                {
                                    "Region_Name": "France",
                                    "Order_Month": "January",
                                    "Order_Year": "2013",
                                    "Region_Sales": "108416.00"
                                },
                                {
                                    "Region_Name": "France",
                                    "Order_Month": "July",
                                    "Order_Year": "2013",
                                    "Region_Sales": "281400.00"
                                },
                                {
                                    "Region_Name": "France",
                                    "Order_Month": "June",
                                    "Order_Year": "2013",
                                    "Region_Sales": "800815.00"
                                },
                                {
                                    "Region_Name": "France",
                                    "Order_Month": "March",
                                    "Order_Year": "2013",
                                    "Region_Sales": "246492.00"
                                },
                                {
                                    "Region_Name": "France",
                                    "Order_Month": "May",
                                    "Order_Year": "2013",
                                    "Region_Sales": "151473.00"
                                },
                                {
                                    "Region_Name": "France",
                                    "Order_Month": "November",
                                    "Order_Year": "2013",
                                    "Region_Sales": "224719.00"
                                },
                                {
                                    "Region_Name": "France",
                                    "Order_Month": "October",
                                    "Order_Year": "2013",
                                    "Region_Sales": "270755.00"
                                },
                                {
                                    "Region_Name": "France",
                                    "Order_Month": "September",
                                    "Order_Year": "2013",
                                    "Region_Sales": "713907.00"
                                },
                                {
                                    "Region_Name": "Germany",
                                    "Order_Month": "April",
                                    "Order_Year": "2013",
                                    "Region_Sales": "56416.00"
                                },
                                {
                                    "Region_Name": "Germany",
                                    "Order_Month": "August",
                                    "Order_Year": "2013",
                                    "Region_Sales": "308561.00"
                                },
                                {
                                    "Region_Name": "Germany",
                                    "Order_Month": "December",
                                    "Order_Year": "2013",
                                    "Region_Sales": "308301.00"
                                },
                                {
                                    "Region_Name": "Germany",
                                    "Order_Month": "February",
                                    "Order_Year": "2013",
                                    "Region_Sales": "56643.00"
                                },
                                {
                                    "Region_Name": "Germany",
                                    "Order_Month": "January",
                                    "Order_Year": "2013",
                                    "Region_Sales": "69561.00"
                                },
                                {
                                    "Region_Name": "Germany",
                                    "Order_Month": "July",
                                    "Order_Year": "2013",
                                    "Region_Sales": "225865.00"
                                },
                                {
                                    "Region_Name": "Germany",
                                    "Order_Month": "June",
                                    "Order_Year": "2013",
                                    "Region_Sales": "362450.00"
                                },
                                {
                                    "Region_Name": "Germany",
                                    "Order_Month": "March",
                                    "Order_Year": "2013",
                                    "Region_Sales": "66450.00"
                                },
                                {
                                    "Region_Name": "Germany",
                                    "Order_Month": "May",
                                    "Order_Year": "2013",
                                    "Region_Sales": "252220.00"
                                },
                                {
                                    "Region_Name": "Germany",
                                    "Order_Month": "November",
                                    "Order_Year": "2013",
                                    "Region_Sales": "287291.00"
                                },
                                {
                                    "Region_Name": "Germany",
                                    "Order_Month": "October",
                                    "Order_Year": "2013",
                                    "Region_Sales": "276967.00"
                                },
                                {
                                    "Region_Name": "Germany",
                                    "Order_Month": "September",
                                    "Order_Year": "2013",
                                    "Region_Sales": "294496.00"
                                },
                                {
                                    "Region_Name": "Northeast",
                                    "Order_Month": "April",
                                    "Order_Year": "2013",
                                    "Region_Sales": "178885.00"
                                },
                                {
                                    "Region_Name": "Northeast",
                                    "Order_Month": "August",
                                    "Order_Year": "2013",
                                    "Region_Sales": "189074.00"
                                },
                                {
                                    "Region_Name": "Northeast",
                                    "Order_Month": "December",
                                    "Order_Year": "2013",
                                    "Region_Sales": "140656.00"
                                },
                                {
                                    "Region_Name": "Northeast",
                                    "Order_Month": "February",
                                    "Order_Year": "2013",
                                    "Region_Sales": "335169.00"
                                },
                                {
                                    "Region_Name": "Northeast",
                                    "Order_Month": "January",
                                    "Order_Year": "2013",
                                    "Region_Sales": "152396.00"
                                },
                                {
                                    "Region_Name": "Northeast",
                                    "Order_Month": "July",
                                    "Order_Year": "2013",
                                    "Region_Sales": "273329.00"
                                },
                                {
                                    "Region_Name": "Northeast",
                                    "Order_Month": "June",
                                    "Order_Year": "2013",
                                    "Region_Sales": "286993.00"
                                },
                                {
                                    "Region_Name": "Northeast",
                                    "Order_Month": "March",
                                    "Order_Year": "2013",
                                    "Region_Sales": "341011.00"
                                },
                                {
                                    "Region_Name": "Northeast",
                                    "Order_Month": "May",
                                    "Order_Year": "2013",
                                    "Region_Sales": "190500.00"
                                },
                                {
                                    "Region_Name": "Northeast",
                                    "Order_Month": "November",
                                    "Order_Year": "2013",
                                    "Region_Sales": "140163.00"
                                },
                                {
                                    "Region_Name": "Northeast",
                                    "Order_Month": "October",
                                    "Order_Year": "2013",
                                    "Region_Sales": "221905.00"
                                },
                                {
                                    "Region_Name": "Northeast",
                                    "Order_Month": "September",
                                    "Order_Year": "2013",
                                    "Region_Sales": "181179.00"
                                },
                                {
                                    "Region_Name": "Northwest",
                                    "Order_Month": "April",
                                    "Order_Year": "2013",
                                    "Region_Sales": "148982.00"
                                },
                                {
                                    "Region_Name": "Northwest",
                                    "Order_Month": "August",
                                    "Order_Year": "2013",
                                    "Region_Sales": "418150.00"
                                },
                                {
                                    "Region_Name": "Northwest",
                                    "Order_Month": "December",
                                    "Order_Year": "2013",
                                    "Region_Sales": "637728.00"
                                },
                                {
                                    "Region_Name": "Northwest",
                                    "Order_Month": "February",
                                    "Order_Year": "2013",
                                    "Region_Sales": "259074.00"
                                },
                                {
                                    "Region_Name": "Northwest",
                                    "Order_Month": "January",
                                    "Order_Year": "2013",
                                    "Region_Sales": "118274.00"
                                },
                                {
                                    "Region_Name": "Northwest",
                                    "Order_Month": "July",
                                    "Order_Year": "2013",
                                    "Region_Sales": "702756.00"
                                },
                                {
                                    "Region_Name": "Northwest",
                                    "Order_Month": "June",
                                    "Order_Year": "2013",
                                    "Region_Sales": "820494.00"
                                },
                                {
                                    "Region_Name": "Northwest",
                                    "Order_Month": "March",
                                    "Order_Year": "2013",
                                    "Region_Sales": "546006.00"
                                },
                                {
                                    "Region_Name": "Northwest",
                                    "Order_Month": "May",
                                    "Order_Year": "2013",
                                    "Region_Sales": "431414.00"
                                },
                                {
                                    "Region_Name": "Northwest",
                                    "Order_Month": "November",
                                    "Order_Year": "2013",
                                    "Region_Sales": "544111.00"
                                },
                                {
                                    "Region_Name": "Northwest",
                                    "Order_Month": "October",
                                    "Order_Year": "2013",
                                    "Region_Sales": "676266.00"
                                },
                                {
                                    "Region_Name": "Northwest",
                                    "Order_Month": "September",
                                    "Order_Year": "2013",
                                    "Region_Sales": "711921.00"
                                },
                                {
                                    "Region_Name": "Southeast",
                                    "Order_Month": "April",
                                    "Order_Year": "2013",
                                    "Region_Sales": "209090.00"
                                },
                                {
                                    "Region_Name": "Southeast",
                                    "Order_Month": "August",
                                    "Order_Year": "2013",
                                    "Region_Sales": "161507.00"
                                },
                                {
                                    "Region_Name": "Southeast",
                                    "Order_Month": "December",
                                    "Order_Year": "2013",
                                    "Region_Sales": "191157.00"
                                },
                                {
                                    "Region_Name": "Southeast",
                                    "Order_Month": "February",
                                    "Order_Year": "2013",
                                    "Region_Sales": "174644.00"
                                },
                                {
                                    "Region_Name": "Southeast",
                                    "Order_Month": "January",
                                    "Order_Year": "2013",
                                    "Region_Sales": "139830.00"
                                },
                                {
                                    "Region_Name": "Southeast",
                                    "Order_Month": "July",
                                    "Order_Year": "2013",
                                    "Region_Sales": "289525.00"
                                },
                                {
                                    "Region_Name": "Southeast",
                                    "Order_Month": "June",
                                    "Order_Year": "2013",
                                    "Region_Sales": "274597.00"
                                },
                                {
                                    "Region_Name": "Southeast",
                                    "Order_Month": "March",
                                    "Order_Year": "2013",
                                    "Region_Sales": "213206.00"
                                },
                                {
                                    "Region_Name": "Southeast",
                                    "Order_Month": "May",
                                    "Order_Year": "2013",
                                    "Region_Sales": "177763.00"
                                },
                                {
                                    "Region_Name": "Southeast",
                                    "Order_Month": "November",
                                    "Order_Year": "2013",
                                    "Region_Sales": "114993.00"
                                },
                                {
                                    "Region_Name": "Southeast",
                                    "Order_Month": "October",
                                    "Order_Year": "2013",
                                    "Region_Sales": "219936.00"
                                },
                                {
                                    "Region_Name": "Southeast",
                                    "Order_Month": "September",
                                    "Order_Year": "2013",
                                    "Region_Sales": "233699.00"
                                },
                                {
                                    "Region_Name": "Southwest",
                                    "Order_Month": "April",
                                    "Order_Year": "2013",
                                    "Region_Sales": "710288.00"
                                },
                                {
                                    "Region_Name": "Southwest",
                                    "Order_Month": "August",
                                    "Order_Year": "2013",
                                    "Region_Sales": "814277.00"
                                },
                                {
                                    "Region_Name": "Southwest",
                                    "Order_Month": "December",
                                    "Order_Year": "2013",
                                    "Region_Sales": "749160.00"
                                },
                                {
                                    "Region_Name": "Southwest",
                                    "Order_Month": "February",
                                    "Order_Year": "2013",
                                    "Region_Sales": "431230.00"
                                },
                                {
                                    "Region_Name": "Southwest",
                                    "Order_Month": "January",
                                    "Order_Year": "2013",
                                    "Region_Sales": "494888.00"
                                },
                                {
                                    "Region_Name": "Southwest",
                                    "Order_Month": "July",
                                    "Order_Year": "2013",
                                    "Region_Sales": "967045.00"
                                },
                                {
                                    "Region_Name": "Southwest",
                                    "Order_Month": "June",
                                    "Order_Year": "2013",
                                    "Region_Sales": "827496.00"
                                },
                                {
                                    "Region_Name": "Southwest",
                                    "Order_Month": "March",
                                    "Order_Year": "2013",
                                    "Region_Sales": "846761.00"
                                },
                                {
                                    "Region_Name": "Southwest",
                                    "Order_Month": "May",
                                    "Order_Year": "2013",
                                    "Region_Sales": "848815.00"
                                },
                                {
                                    "Region_Name": "Southwest",
                                    "Order_Month": "November",
                                    "Order_Year": "2013",
                                    "Region_Sales": "805845.00"
                                },
                                {
                                    "Region_Name": "Southwest",
                                    "Order_Month": "October",
                                    "Order_Year": "2013",
                                    "Region_Sales": "833388.00"
                                },
                                {
                                    "Region_Name": "Southwest",
                                    "Order_Month": "September",
                                    "Order_Year": "2013",
                                    "Region_Sales": "787346.00"
                                },
                                {
                                    "Region_Name": "United Kingdom",
                                    "Order_Month": "April",
                                    "Order_Year": "2013",
                                    "Region_Sales": "197580.00"
                                },
                                {
                                    "Region_Name": "United Kingdom",
                                    "Order_Month": "August",
                                    "Order_Year": "2013",
                                    "Region_Sales": "253814.00"
                                },
                                {
                                    "Region_Name": "United Kingdom",
                                    "Order_Month": "December",
                                    "Order_Year": "2013",
                                    "Region_Sales": "306343.00"
                                },
                                {
                                    "Region_Name": "United Kingdom",
                                    "Order_Month": "February",
                                    "Order_Year": "2013",
                                    "Region_Sales": "103892.00"
                                },
                                {
                                    "Region_Name": "United Kingdom",
                                    "Order_Month": "January",
                                    "Order_Year": "2013",
                                    "Region_Sales": "185214.00"
                                },
                                {
                                    "Region_Name": "United Kingdom",
                                    "Order_Month": "July",
                                    "Order_Year": "2013",
                                    "Region_Sales": "618040.00"
                                },
                                {
                                    "Region_Name": "United Kingdom",
                                    "Order_Month": "June",
                                    "Order_Year": "2013",
                                    "Region_Sales": "341642.00"
                                },
                                {
                                    "Region_Name": "United Kingdom",
                                    "Order_Month": "March",
                                    "Order_Year": "2013",
                                    "Region_Sales": "166536.00"
                                },
                                {
                                    "Region_Name": "United Kingdom",
                                    "Order_Month": "May",
                                    "Order_Year": "2013",
                                    "Region_Sales": "213417.00"
                                },
                                {
                                    "Region_Name": "United Kingdom",
                                    "Order_Month": "November",
                                    "Order_Year": "2013",
                                    "Region_Sales": "297249.00"
                                },
                                {
                                    "Region_Name": "United Kingdom",
                                    "Order_Month": "October",
                                    "Order_Year": "2013",
                                    "Region_Sales": "602234.00"
                                },
                                {
                                    "Region_Name": "United Kingdom",
                                    "Order_Month": "September",
                                    "Order_Year": "2013",
                                    "Region_Sales": "347462.00"
                                }
                            ]
                        },
                        "text/html": [
                            "<table>",
                            "<tr><th>Region_Name</th><th>Order_Month</th><th>Order_Year</th><th>Region_Sales</th></tr>",
                            "<tr><td>Australia</td><td>April</td><td>2013</td><td>205166.00</td></tr>",
                            "<tr><td>Australia</td><td>August</td><td>2013</td><td>394786.00</td></tr>",
                            "<tr><td>Australia</td><td>December</td><td>2013</td><td>468650.00</td></tr>",
                            "<tr><td>Australia</td><td>February</td><td>2013</td><td>177688.00</td></tr>",
                            "<tr><td>Australia</td><td>January</td><td>2013</td><td>222514.00</td></tr>",
                            "<tr><td>Australia</td><td>July</td><td>2013</td><td>456778.00</td></tr>",
                            "<tr><td>Australia</td><td>June</td><td>2013</td><td>380029.00</td></tr>",
                            "<tr><td>Australia</td><td>March</td><td>2013</td><td>215688.00</td></tr>",
                            "<tr><td>Australia</td><td>May</td><td>2013</td><td>252419.00</td></tr>",
                            "<tr><td>Australia</td><td>November</td><td>2013</td><td>427533.00</td></tr>",
                            "<tr><td>Australia</td><td>October</td><td>2013</td><td>572304.00</td></tr>",
                            "<tr><td>Australia</td><td>September</td><td>2013</td><td>457110.00</td></tr>",
                            "<tr><td>Canada</td><td>April</td><td>2013</td><td>467353.00</td></tr>",
                            "<tr><td>Canada</td><td>August</td><td>2013</td><td>467319.00</td></tr>",
                            "<tr><td>Canada</td><td>December</td><td>2013</td><td>436189.00</td></tr>",
                            "<tr><td>Canada</td><td>February</td><td>2013</td><td>461556.00</td></tr>",
                            "<tr><td>Canada</td><td>January</td><td>2013</td><td>417125.00</td></tr>",
                            "<tr><td>Canada</td><td>July</td><td>2013</td><td>733453.00</td></tr>",
                            "<tr><td>Canada</td><td>June</td><td>2013</td><td>607975.00</td></tr>",
                            "<tr><td>Canada</td><td>March</td><td>2013</td><td>485927.00</td></tr>",
                            "<tr><td>Canada</td><td>May</td><td>2013</td><td>510801.00</td></tr>",
                            "<tr><td>Canada</td><td>November</td><td>2013</td><td>356269.00</td></tr>",
                            "<tr><td>Canada</td><td>October</td><td>2013</td><td>804615.00</td></tr>",
                            "<tr><td>Canada</td><td>September</td><td>2013</td><td>480936.00</td></tr>",
                            "<tr><td>Central</td><td>April</td><td>2013</td><td>220322.00</td></tr>",
                            "<tr><td>Central</td><td>August</td><td>2013</td><td>162558.00</td></tr>",
                            "<tr><td>Central</td><td>December</td><td>2013</td><td>253954.00</td></tr>",
                            "<tr><td>Central</td><td>February</td><td>2013</td><td>193947.00</td></tr>",
                            "<tr><td>Central</td><td>January</td><td>2013</td><td>179655.00</td></tr>",
                            "<tr><td>Central</td><td>July</td><td>2013</td><td>348164.00</td></tr>",
                            "<tr><td>Central</td><td>June</td><td>2013</td><td>378578.00</td></tr>",
                            "<tr><td>Central</td><td>March</td><td>2013</td><td>283992.00</td></tr>",
                            "<tr><td>Central</td><td>May</td><td>2013</td><td>216804.00</td></tr>",
                            "<tr><td>Central</td><td>November</td><td>2013</td><td>113958.00</td></tr>",
                            "<tr><td>Central</td><td>October</td><td>2013</td><td>317443.00</td></tr>",
                            "<tr><td>Central</td><td>September</td><td>2013</td><td>324853.00</td></tr>",
                            "<tr><td>France</td><td>April</td><td>2013</td><td>138184.00</td></tr>",
                            "<tr><td>France</td><td>August</td><td>2013</td><td>163919.00</td></tr>",
                            "<tr><td>France</td><td>December</td><td>2013</td><td>583347.00</td></tr>",
                            "<tr><td>France</td><td>February</td><td>2013</td><td>123079.00</td></tr>",
                            "<tr><td>France</td><td>January</td><td>2013</td><td>108416.00</td></tr>",
                            "<tr><td>France</td><td>July</td><td>2013</td><td>281400.00</td></tr>",
                            "<tr><td>France</td><td>June</td><td>2013</td><td>800815.00</td></tr>",
                            "<tr><td>France</td><td>March</td><td>2013</td><td>246492.00</td></tr>",
                            "<tr><td>France</td><td>May</td><td>2013</td><td>151473.00</td></tr>",
                            "<tr><td>France</td><td>November</td><td>2013</td><td>224719.00</td></tr>",
                            "<tr><td>France</td><td>October</td><td>2013</td><td>270755.00</td></tr>",
                            "<tr><td>France</td><td>September</td><td>2013</td><td>713907.00</td></tr>",
                            "<tr><td>Germany</td><td>April</td><td>2013</td><td>56416.00</td></tr>",
                            "<tr><td>Germany</td><td>August</td><td>2013</td><td>308561.00</td></tr>",
                            "<tr><td>Germany</td><td>December</td><td>2013</td><td>308301.00</td></tr>",
                            "<tr><td>Germany</td><td>February</td><td>2013</td><td>56643.00</td></tr>",
                            "<tr><td>Germany</td><td>January</td><td>2013</td><td>69561.00</td></tr>",
                            "<tr><td>Germany</td><td>July</td><td>2013</td><td>225865.00</td></tr>",
                            "<tr><td>Germany</td><td>June</td><td>2013</td><td>362450.00</td></tr>",
                            "<tr><td>Germany</td><td>March</td><td>2013</td><td>66450.00</td></tr>",
                            "<tr><td>Germany</td><td>May</td><td>2013</td><td>252220.00</td></tr>",
                            "<tr><td>Germany</td><td>November</td><td>2013</td><td>287291.00</td></tr>",
                            "<tr><td>Germany</td><td>October</td><td>2013</td><td>276967.00</td></tr>",
                            "<tr><td>Germany</td><td>September</td><td>2013</td><td>294496.00</td></tr>",
                            "<tr><td>Northeast</td><td>April</td><td>2013</td><td>178885.00</td></tr>",
                            "<tr><td>Northeast</td><td>August</td><td>2013</td><td>189074.00</td></tr>",
                            "<tr><td>Northeast</td><td>December</td><td>2013</td><td>140656.00</td></tr>",
                            "<tr><td>Northeast</td><td>February</td><td>2013</td><td>335169.00</td></tr>",
                            "<tr><td>Northeast</td><td>January</td><td>2013</td><td>152396.00</td></tr>",
                            "<tr><td>Northeast</td><td>July</td><td>2013</td><td>273329.00</td></tr>",
                            "<tr><td>Northeast</td><td>June</td><td>2013</td><td>286993.00</td></tr>",
                            "<tr><td>Northeast</td><td>March</td><td>2013</td><td>341011.00</td></tr>",
                            "<tr><td>Northeast</td><td>May</td><td>2013</td><td>190500.00</td></tr>",
                            "<tr><td>Northeast</td><td>November</td><td>2013</td><td>140163.00</td></tr>",
                            "<tr><td>Northeast</td><td>October</td><td>2013</td><td>221905.00</td></tr>",
                            "<tr><td>Northeast</td><td>September</td><td>2013</td><td>181179.00</td></tr>",
                            "<tr><td>Northwest</td><td>April</td><td>2013</td><td>148982.00</td></tr>",
                            "<tr><td>Northwest</td><td>August</td><td>2013</td><td>418150.00</td></tr>",
                            "<tr><td>Northwest</td><td>December</td><td>2013</td><td>637728.00</td></tr>",
                            "<tr><td>Northwest</td><td>February</td><td>2013</td><td>259074.00</td></tr>",
                            "<tr><td>Northwest</td><td>January</td><td>2013</td><td>118274.00</td></tr>",
                            "<tr><td>Northwest</td><td>July</td><td>2013</td><td>702756.00</td></tr>",
                            "<tr><td>Northwest</td><td>June</td><td>2013</td><td>820494.00</td></tr>",
                            "<tr><td>Northwest</td><td>March</td><td>2013</td><td>546006.00</td></tr>",
                            "<tr><td>Northwest</td><td>May</td><td>2013</td><td>431414.00</td></tr>",
                            "<tr><td>Northwest</td><td>November</td><td>2013</td><td>544111.00</td></tr>",
                            "<tr><td>Northwest</td><td>October</td><td>2013</td><td>676266.00</td></tr>",
                            "<tr><td>Northwest</td><td>September</td><td>2013</td><td>711921.00</td></tr>",
                            "<tr><td>Southeast</td><td>April</td><td>2013</td><td>209090.00</td></tr>",
                            "<tr><td>Southeast</td><td>August</td><td>2013</td><td>161507.00</td></tr>",
                            "<tr><td>Southeast</td><td>December</td><td>2013</td><td>191157.00</td></tr>",
                            "<tr><td>Southeast</td><td>February</td><td>2013</td><td>174644.00</td></tr>",
                            "<tr><td>Southeast</td><td>January</td><td>2013</td><td>139830.00</td></tr>",
                            "<tr><td>Southeast</td><td>July</td><td>2013</td><td>289525.00</td></tr>",
                            "<tr><td>Southeast</td><td>June</td><td>2013</td><td>274597.00</td></tr>",
                            "<tr><td>Southeast</td><td>March</td><td>2013</td><td>213206.00</td></tr>",
                            "<tr><td>Southeast</td><td>May</td><td>2013</td><td>177763.00</td></tr>",
                            "<tr><td>Southeast</td><td>November</td><td>2013</td><td>114993.00</td></tr>",
                            "<tr><td>Southeast</td><td>October</td><td>2013</td><td>219936.00</td></tr>",
                            "<tr><td>Southeast</td><td>September</td><td>2013</td><td>233699.00</td></tr>",
                            "<tr><td>Southwest</td><td>April</td><td>2013</td><td>710288.00</td></tr>",
                            "<tr><td>Southwest</td><td>August</td><td>2013</td><td>814277.00</td></tr>",
                            "<tr><td>Southwest</td><td>December</td><td>2013</td><td>749160.00</td></tr>",
                            "<tr><td>Southwest</td><td>February</td><td>2013</td><td>431230.00</td></tr>",
                            "<tr><td>Southwest</td><td>January</td><td>2013</td><td>494888.00</td></tr>",
                            "<tr><td>Southwest</td><td>July</td><td>2013</td><td>967045.00</td></tr>",
                            "<tr><td>Southwest</td><td>June</td><td>2013</td><td>827496.00</td></tr>",
                            "<tr><td>Southwest</td><td>March</td><td>2013</td><td>846761.00</td></tr>",
                            "<tr><td>Southwest</td><td>May</td><td>2013</td><td>848815.00</td></tr>",
                            "<tr><td>Southwest</td><td>November</td><td>2013</td><td>805845.00</td></tr>",
                            "<tr><td>Southwest</td><td>October</td><td>2013</td><td>833388.00</td></tr>",
                            "<tr><td>Southwest</td><td>September</td><td>2013</td><td>787346.00</td></tr>",
                            "<tr><td>United Kingdom</td><td>April</td><td>2013</td><td>197580.00</td></tr>",
                            "<tr><td>United Kingdom</td><td>August</td><td>2013</td><td>253814.00</td></tr>",
                            "<tr><td>United Kingdom</td><td>December</td><td>2013</td><td>306343.00</td></tr>",
                            "<tr><td>United Kingdom</td><td>February</td><td>2013</td><td>103892.00</td></tr>",
                            "<tr><td>United Kingdom</td><td>January</td><td>2013</td><td>185214.00</td></tr>",
                            "<tr><td>United Kingdom</td><td>July</td><td>2013</td><td>618040.00</td></tr>",
                            "<tr><td>United Kingdom</td><td>June</td><td>2013</td><td>341642.00</td></tr>",
                            "<tr><td>United Kingdom</td><td>March</td><td>2013</td><td>166536.00</td></tr>",
                            "<tr><td>United Kingdom</td><td>May</td><td>2013</td><td>213417.00</td></tr>",
                            "<tr><td>United Kingdom</td><td>November</td><td>2013</td><td>297249.00</td></tr>",
                            "<tr><td>United Kingdom</td><td>October</td><td>2013</td><td>602234.00</td></tr>",
                            "<tr><td>United Kingdom</td><td>September</td><td>2013</td><td>347462.00</td></tr>",
                            "</table>"
                        ]
                    }
                }
            ],
            "execution_count": 1
        },
        {
            "cell_type": "code",
            "source": [
                "--Question 1 Part C\n",
                "SELECT DISTINCT(ST.Name) as AwardWinners --Pulls names as 'Award Winners'\n",
                "FROM Sales.SalesOrderHeader SOH --Pulls Sales from SOH\n",
                "JOIN Sales.SalesTerritory ST --join clause based on territory ID\n",
                "    ON SOH.TerritoryID = ST.TerritoryID --join clause based on territory ID\n",
                "JOIN (\n",
                "                                    SELECT STSQ.Name as Region_Name --STSQ is SalesTerritory Sub-Query\n",
                "                                        ,DateName(MONTH, SOHSQ.OrderDate) as Order_Month --kicks back just the month name\n",
                "                                    FROM Sales.SalesOrderHeader SOHSQ --SOHSQ -> SalesOrderHeader Sub-Query\n",
                "                                    JOIN Sales.SalesTerritory STSQ --Joins the two in the subquery \n",
                "                                        ON SOHSQ.TerritoryID = STSQ.TerritoryID \n",
                "                                    WHERE SOHSQ.OrderDate >= '2013-01-01' AND SOHSQ.OrderDate < '2014-01-01' --sets date limit\n",
                "                                    GROUP BY STSQ.Name, DateName(Month, SOHSQ.OrderDate) --groups by month and name\n",
                "                                    HAVING SUM(SOHSQ.Subtotal) >= 750000 --checks monthly compared to 750000\n",
                "                                    ) AS Regional_Monthly_Sales --names the sub-query\n",
                "    ON ST.Name = Regional_Monthly_Sales.Region_Name --joins the query to the sub-query\n",
                "ORDER BY AwardWinners ASC --orders in alphabetical"
            ],
            "metadata": {
                "language": "sql",
                "azdata_cell_guid": "af40dcd5-86d9-468b-b519-a75236f022bb"
            },
            "outputs": [
                {
                    "output_type": "display_data",
                    "data": {
                        "text/html": "(4 rows affected)"
                    },
                    "metadata": {}
                },
                {
                    "output_type": "display_data",
                    "data": {
                        "text/html": "Total execution time: 00:00:00.152"
                    },
                    "metadata": {}
                },
                {
                    "output_type": "execute_result",
                    "execution_count": 67,
                    "data": {
                        "application/vnd.dataresource+json": {
                            "schema": {
                                "fields": [
                                    {
                                        "name": "AwardWinners"
                                    }
                                ]
                            },
                            "data": [
                                {
                                    "AwardWinners": "Canada"
                                },
                                {
                                    "AwardWinners": "France"
                                },
                                {
                                    "AwardWinners": "Northwest"
                                },
                                {
                                    "AwardWinners": "Southwest"
                                }
                            ]
                        },
                        "text/html": "<table><tr><th>AwardWinners</th></tr><tr><td>Canada</td></tr><tr><td>France</td></tr><tr><td>Northwest</td></tr><tr><td>Southwest</td></tr></table>"
                    },
                    "metadata": {}
                }
            ],
            "execution_count": 67
        },
        {
            "cell_type": "code",
            "source": [
                "--Question 1 Part D\n",
                "SELECT DISTINCT ST.Name as Additional_Training --Creates Set A, which contains all the distinct Region Names\n",
                "FROM Sales.SalesTerritory ST \n",
                "\n",
                "EXCEPT --Subtracts any region names from Set A by using the query from Question 1 Part C\n",
                "\n",
                "SELECT ST.Name --Pulls names\n",
                "FROM Sales.SalesOrderHeader SOH --Pulls Sales from SOH\n",
                "JOIN Sales.SalesTerritory ST --join clause based on territory ID\n",
                "    ON SOH.TerritoryID = ST.TerritoryID --join clause based on territory ID\n",
                "JOIN (\n",
                "                                    SELECT STSQ.Name as Region_Name --STSQ is SalesTerritory Sub-Query\n",
                "                                        ,DateName(MONTH, SOHSQ.OrderDate) as Order_Month --kicks back just the month name\n",
                "                                    FROM Sales.SalesOrderHeader SOHSQ --SOHSQ -> SalesOrderHeader Sub-Query\n",
                "                                    JOIN Sales.SalesTerritory STSQ --Joins the two in the subquery \n",
                "                                        ON SOHSQ.TerritoryID = STSQ.TerritoryID \n",
                "                                    WHERE SOHSQ.OrderDate >= '2013-01-01' AND SOHSQ.OrderDate < '2014-01-01' --sets date limit\n",
                "                                    GROUP BY STSQ.Name, DateName(Month, SOHSQ.OrderDate) --groups by month and name\n",
                "                                    HAVING SUM(SOHSQ.Subtotal) >= 750000 --checks monthly compared to 750000\n",
                "                                    ) AS Regional_Monthly_Sales --names the sub-query\n",
                "                                    --apologies for moving the subquery all the way out here. It felt too clunky to have the subquery that close to the main body\n",
                "                                    -- In addition, I used to write C++ code and this sort of resembles that so it felt more readable to me\n",
                "    ON ST.Name = Regional_Monthly_Sales.Region_Name --joins the query to the sub-query\n",
                "\n",
                "ORDER BY St.Name -- Orders by Region Name\n",
                "-- Order By has to be put at the end to order after the set operation"
            ],
            "metadata": {
                "language": "sql",
                "azdata_cell_guid": "5360e89e-50a3-4c91-8cf0-469ce3884cfa",
                "tags": []
            },
            "outputs": [
                {
                    "output_type": "display_data",
                    "data": {
                        "text/html": "(6 rows affected)"
                    },
                    "metadata": {}
                },
                {
                    "output_type": "display_data",
                    "data": {
                        "text/html": "Total execution time: 00:00:00.128"
                    },
                    "metadata": {}
                },
                {
                    "output_type": "execute_result",
                    "execution_count": 90,
                    "data": {
                        "application/vnd.dataresource+json": {
                            "schema": {
                                "fields": [
                                    {
                                        "name": "Additional_Training"
                                    }
                                ]
                            },
                            "data": [
                                {
                                    "Additional_Training": "Australia"
                                },
                                {
                                    "Additional_Training": "Central"
                                },
                                {
                                    "Additional_Training": "Germany"
                                },
                                {
                                    "Additional_Training": "Northeast"
                                },
                                {
                                    "Additional_Training": "Southeast"
                                },
                                {
                                    "Additional_Training": "United Kingdom"
                                }
                            ]
                        },
                        "text/html": "<table><tr><th>Additional_Training</th></tr><tr><td>Australia</td></tr><tr><td>Central</td></tr><tr><td>Germany</td></tr><tr><td>Northeast</td></tr><tr><td>Southeast</td></tr><tr><td>United Kingdom</td></tr></table>"
                    },
                    "metadata": {}
                }
            ],
            "execution_count": 90
        },
        {
            "cell_type": "code",
            "source": [
                "--Question 2 Part A\n",
                "SELECT PP.Name AS Product_Name --returns product name\n",
                "    ,SUM(SOD.OrderQty) AS Product_Quantity  --retuns summed quantity \n",
                "FROM Production.Product PP --pulls from product table\n",
                "JOIN Sales.SalesOrderDetail SOD --Joins sales with product based on product ID so that\n",
                "    ON PP.ProductID = SOD.ProductID --joins on product ID\n",
                "JOIN Sales.SalesOrderHeader SOH --we can link these two together by sales order ID and then group by SOD Order Quantity\n",
                "    ON SOH.SalesOrderID = SOD.SalesOrderID\n",
                "WHERE FinishedGoodsFlag = 1 AND PP.DiscontinuedDate IS NULL --ensures that the product is a finished good and has not been discontinued \n",
                "GROUP BY PP.Name --groups by product name\n",
                "HAVING Sum(SOD.OrderQty) < 50 --sets the grouping to less than 50\n",
                "ORDER BY Product_Quantity ASC --orders by least sold units"
            ],
            "metadata": {
                "azdata_cell_guid": "3d956e9b-c72a-4732-80ca-9c4521d3a829",
                "language": "sql"
            },
            "outputs": [
                {
                    "output_type": "display_data",
                    "data": {
                        "text/html": "(10 rows affected)"
                    },
                    "metadata": {}
                },
                {
                    "output_type": "display_data",
                    "data": {
                        "text/html": "Total execution time: 00:00:00.099"
                    },
                    "metadata": {}
                },
                {
                    "output_type": "execute_result",
                    "execution_count": 132,
                    "data": {
                        "application/vnd.dataresource+json": {
                            "schema": {
                                "fields": [
                                    {
                                        "name": "Product_Name"
                                    },
                                    {
                                        "name": "Product_Quantity"
                                    }
                                ]
                            },
                            "data": [
                                {
                                    "Product_Name": "LL Touring Frame - Blue, 58",
                                    "Product_Quantity": "4"
                                },
                                {
                                    "Product_Name": "ML Mountain Frame-W - Silver, 38",
                                    "Product_Quantity": "7"
                                },
                                {
                                    "Product_Name": "LL Mountain Frame - Black, 40",
                                    "Product_Quantity": "8"
                                },
                                {
                                    "Product_Name": "LL Road Seat/Saddle",
                                    "Product_Quantity": "10"
                                },
                                {
                                    "Product_Name": "LL Touring Frame - Blue, 62",
                                    "Product_Quantity": "15"
                                },
                                {
                                    "Product_Name": "LL Mountain Frame - Black, 52",
                                    "Product_Quantity": "15"
                                },
                                {
                                    "Product_Name": "HL Mountain Frame - Black, 44",
                                    "Product_Quantity": "17"
                                },
                                {
                                    "Product_Name": "LL Touring Frame - Blue, 44",
                                    "Product_Quantity": "25"
                                },
                                {
                                    "Product_Name": "LL Touring Frame - Yellow, 58",
                                    "Product_Quantity": "36"
                                },
                                {
                                    "Product_Name": "LL Mountain Frame - Silver, 48",
                                    "Product_Quantity": "44"
                                }
                            ]
                        },
                        "text/html": "<table><tr><th>Product_Name</th><th>Product_Quantity</th></tr><tr><td>LL Touring Frame - Blue, 58</td><td>4</td></tr><tr><td>ML Mountain Frame-W - Silver, 38</td><td>7</td></tr><tr><td>LL Mountain Frame - Black, 40</td><td>8</td></tr><tr><td>LL Road Seat/Saddle</td><td>10</td></tr><tr><td>LL Touring Frame - Blue, 62</td><td>15</td></tr><tr><td>LL Mountain Frame - Black, 52</td><td>15</td></tr><tr><td>HL Mountain Frame - Black, 44</td><td>17</td></tr><tr><td>LL Touring Frame - Blue, 44</td><td>25</td></tr><tr><td>LL Touring Frame - Yellow, 58</td><td>36</td></tr><tr><td>LL Mountain Frame - Silver, 48</td><td>44</td></tr></table>"
                    },
                    "metadata": {}
                }
            ],
            "execution_count": 132
        },
        {
            "cell_type": "code",
            "source": [
                "--Question 2 Part B\n",
                "SELECT CR.Name --Selects the name from the Country Region Table\n",
                "    ,MAX(STR.TaxRate) --Selects the Max tax rate from the Sales Tax Rate Table\n",
                "FROM Sales.SalesTaxRate STR --pulls from the sales tax rate table in sales\n",
                "JOIN Person.StateProvince SP --joins with person state province table so that...\n",
                "    ON STR.StateProvinceID = SP.StateProvinceID\n",
                "JOIN Person.CountryRegion CR --we can join it with the country region table!\n",
                "    ON SP.CountryRegionCode = CR.CountryRegionCode\n",
                "GROUP BY CR.Name --it then groups by the country region name\n",
                "ORDER BY MAX(STR.TaxRate) DESC --and orders by the maximum tax rate for each country!"
            ],
            "metadata": {
                "language": "sql",
                "azdata_cell_guid": "77c25b7e-898f-401d-a4b9-4a13cba13bfa"
            },
            "outputs": [
                {
                    "output_type": "display_data",
                    "data": {
                        "text/html": "(6 rows affected)"
                    },
                    "metadata": {}
                },
                {
                    "output_type": "display_data",
                    "data": {
                        "text/html": "Total execution time: 00:00:00.037"
                    },
                    "metadata": {}
                },
                {
                    "output_type": "execute_result",
                    "execution_count": 62,
                    "data": {
                        "application/vnd.dataresource+json": {
                            "schema": {
                                "fields": [
                                    {
                                        "name": "Name"
                                    },
                                    {
                                        "name": "(No column name)"
                                    }
                                ]
                            },
                            "data": [
                                {
                                    "Name": "France",
                                    "(No column name)": "19.60"
                                },
                                {
                                    "Name": "United Kingdom",
                                    "(No column name)": "17.50"
                                },
                                {
                                    "Name": "Germany",
                                    "(No column name)": "16.00"
                                },
                                {
                                    "Name": "Canada",
                                    "(No column name)": "14.25"
                                },
                                {
                                    "Name": "Australia",
                                    "(No column name)": "10.00"
                                },
                                {
                                    "Name": "United States",
                                    "(No column name)": "8.80"
                                }
                            ]
                        },
                        "text/html": "<table><tr><th>Name</th><th>(No column name)</th></tr><tr><td>France</td><td>19.60</td></tr><tr><td>United Kingdom</td><td>17.50</td></tr><tr><td>Germany</td><td>16.00</td></tr><tr><td>Canada</td><td>14.25</td></tr><tr><td>Australia</td><td>10.00</td></tr><tr><td>United States</td><td>8.80</td></tr></table>"
                    },
                    "metadata": {}
                }
            ],
            "execution_count": 62
        },
        {
            "cell_type": "code",
            "source": [
                "--Question 2 Part C\n",
                "SELECT DISTINCT STR.Name AS Store_Name --Selects store name \n",
                "    ,SST.Name AS Territory_Name --selects territory name\n",
                "FROM Sales.SalesOrderHeader SOH --We need this for the shipping date, which is very different from the order date, as I found out\n",
                "INNER JOIN Sales.SalesOrderDetail SOD  -- Need SOD as a linking table \n",
                "    ON SOH.SalesOrderID = SOD.SalesOrderID\n",
                "INNER JOIN Production.Product PP --Need this to filter by the product %Helmet% which I do below as a wildcard function \n",
                "    ON PP.ProductID = SOD.ProductID \n",
                "INNER JOIN Sales.Customer CUS  --allows me to link the SOH table to the store and territory tables \n",
                "    ON CUS.CustomerID = SOH.CustomerID \n",
                "INNER JOIN Sales.Store STR --linking customer to store so I can figure out which store I need to pull\n",
                "    ON CUS.StoreID = STR.BusinessEntityID\n",
                "INNER JOIN Sales.SalesTerritory SST --and then linking store to territory so I can figure out what territory the store is in \n",
                "    ON SOH.TerritoryID = SST.TerritoryID \n",
                "WHERE SOH.ShipDate BETWEEN '2014-02-01' AND '2014-02-05' --simply apply the filter\n",
                "AND PP.Name LIKE '%Helmet%' --wildcard helmet to pull all helmets\n",
                "ORDER BY Territory_Name ASC, Store_Name ASC --and sort by names!"
            ],
            "metadata": {
                "language": "sql",
                "azdata_cell_guid": "3c33b159-ebb5-464b-ba8e-7a32bde97987"
            },
            "outputs": [
                {
                    "output_type": "display_data",
                    "data": {
                        "text/html": "(36 rows affected)"
                    },
                    "metadata": {}
                },
                {
                    "output_type": "display_data",
                    "data": {
                        "text/html": "Total execution time: 00:00:00.053"
                    },
                    "metadata": {}
                },
                {
                    "output_type": "execute_result",
                    "execution_count": 126,
                    "data": {
                        "application/vnd.dataresource+json": {
                            "schema": {
                                "fields": [
                                    {
                                        "name": "Store_Name"
                                    },
                                    {
                                        "name": "Territory_Name"
                                    }
                                ]
                            },
                            "data": [
                                {
                                    "Store_Name": "Bike Part Wholesalers",
                                    "Territory_Name": "Australia"
                                },
                                {
                                    "Store_Name": "Nationwide Supply",
                                    "Territory_Name": "Australia"
                                },
                                {
                                    "Store_Name": "Popular Bike Lines",
                                    "Territory_Name": "Australia"
                                },
                                {
                                    "Store_Name": "Corner Bicycle Supply",
                                    "Territory_Name": "Canada"
                                },
                                {
                                    "Store_Name": "Odometers and Accessories Company",
                                    "Territory_Name": "Canada"
                                },
                                {
                                    "Store_Name": "Petroleum Products Distributors",
                                    "Territory_Name": "Canada"
                                },
                                {
                                    "Store_Name": "Rapid Bikes",
                                    "Territory_Name": "Canada"
                                },
                                {
                                    "Store_Name": "Vigorous Exercise Company",
                                    "Territory_Name": "Canada"
                                },
                                {
                                    "Store_Name": "Local Sales and Rental",
                                    "Territory_Name": "Central"
                                },
                                {
                                    "Store_Name": "Riders Company",
                                    "Territory_Name": "Central"
                                },
                                {
                                    "Store_Name": "Work and Play Association",
                                    "Territory_Name": "Central"
                                },
                                {
                                    "Store_Name": "World of Bikes",
                                    "Territory_Name": "Central"
                                },
                                {
                                    "Store_Name": "Getaway Inn",
                                    "Territory_Name": "France"
                                },
                                {
                                    "Store_Name": "Neighborhood Bicycle Storehouse",
                                    "Territory_Name": "France"
                                },
                                {
                                    "Store_Name": "Racing Sales and Service",
                                    "Territory_Name": "France"
                                },
                                {
                                    "Store_Name": "Educational Services",
                                    "Territory_Name": "Germany"
                                },
                                {
                                    "Store_Name": "Enterprise Center",
                                    "Territory_Name": "Germany"
                                },
                                {
                                    "Store_Name": "Rodeway Bike Store",
                                    "Territory_Name": "Germany"
                                },
                                {
                                    "Store_Name": "Fourth Bike Store",
                                    "Territory_Name": "Northeast"
                                },
                                {
                                    "Store_Name": "Glossy Bikes",
                                    "Territory_Name": "Northeast"
                                },
                                {
                                    "Store_Name": "Larger Cycle Shop",
                                    "Territory_Name": "Northeast"
                                },
                                {
                                    "Store_Name": "Recreation Systems",
                                    "Territory_Name": "Northeast"
                                },
                                {
                                    "Store_Name": "The Bike Mechanics",
                                    "Territory_Name": "Northeast"
                                },
                                {
                                    "Store_Name": "Fashionable Bikes and Accessories",
                                    "Territory_Name": "Northwest"
                                },
                                {
                                    "Store_Name": "Blue-Ribbon Bike Company",
                                    "Territory_Name": "Southeast"
                                },
                                {
                                    "Store_Name": "Excellent Riding Supplies",
                                    "Territory_Name": "Southeast"
                                },
                                {
                                    "Store_Name": "Front Runner Bikes",
                                    "Territory_Name": "Southeast"
                                },
                                {
                                    "Store_Name": "Sales and Supply Company",
                                    "Territory_Name": "Southeast"
                                },
                                {
                                    "Store_Name": "Advanced Bike Components",
                                    "Territory_Name": "Southwest"
                                },
                                {
                                    "Store_Name": "Chic Department Stores",
                                    "Territory_Name": "Southwest"
                                },
                                {
                                    "Store_Name": "Coalition Bike Company",
                                    "Territory_Name": "Southwest"
                                },
                                {
                                    "Store_Name": "Eastside Department Store",
                                    "Territory_Name": "Southwest"
                                },
                                {
                                    "Store_Name": "First Cycle Store",
                                    "Territory_Name": "Southwest"
                                },
                                {
                                    "Store_Name": "Futuristic Bikes",
                                    "Territory_Name": "Southwest"
                                },
                                {
                                    "Store_Name": "Action Bicycle Specialists",
                                    "Territory_Name": "United Kingdom"
                                },
                                {
                                    "Store_Name": "Riding Cycles",
                                    "Territory_Name": "United Kingdom"
                                }
                            ]
                        },
                        "text/html": "<table><tr><th>Store_Name</th><th>Territory_Name</th></tr><tr><td>Bike Part Wholesalers</td><td>Australia</td></tr><tr><td>Nationwide Supply</td><td>Australia</td></tr><tr><td>Popular Bike Lines</td><td>Australia</td></tr><tr><td>Corner Bicycle Supply</td><td>Canada</td></tr><tr><td>Odometers and Accessories Company</td><td>Canada</td></tr><tr><td>Petroleum Products Distributors</td><td>Canada</td></tr><tr><td>Rapid Bikes</td><td>Canada</td></tr><tr><td>Vigorous Exercise Company</td><td>Canada</td></tr><tr><td>Local Sales and Rental</td><td>Central</td></tr><tr><td>Riders Company</td><td>Central</td></tr><tr><td>Work and Play Association</td><td>Central</td></tr><tr><td>World of Bikes</td><td>Central</td></tr><tr><td>Getaway Inn</td><td>France</td></tr><tr><td>Neighborhood Bicycle Storehouse</td><td>France</td></tr><tr><td>Racing Sales and Service</td><td>France</td></tr><tr><td>Educational Services</td><td>Germany</td></tr><tr><td>Enterprise Center</td><td>Germany</td></tr><tr><td>Rodeway Bike Store</td><td>Germany</td></tr><tr><td>Fourth Bike Store</td><td>Northeast</td></tr><tr><td>Glossy Bikes</td><td>Northeast</td></tr><tr><td>Larger Cycle Shop</td><td>Northeast</td></tr><tr><td>Recreation Systems</td><td>Northeast</td></tr><tr><td>The Bike Mechanics</td><td>Northeast</td></tr><tr><td>Fashionable Bikes and Accessories</td><td>Northwest</td></tr><tr><td>Blue-Ribbon Bike Company</td><td>Southeast</td></tr><tr><td>Excellent Riding Supplies</td><td>Southeast</td></tr><tr><td>Front Runner Bikes</td><td>Southeast</td></tr><tr><td>Sales and Supply Company</td><td>Southeast</td></tr><tr><td>Advanced Bike Components</td><td>Southwest</td></tr><tr><td>Chic Department Stores</td><td>Southwest</td></tr><tr><td>Coalition Bike Company</td><td>Southwest</td></tr><tr><td>Eastside Department Store</td><td>Southwest</td></tr><tr><td>First Cycle Store</td><td>Southwest</td></tr><tr><td>Futuristic Bikes</td><td>Southwest</td></tr><tr><td>Action Bicycle Specialists</td><td>United Kingdom</td></tr><tr><td>Riding Cycles</td><td>United Kingdom</td></tr></table>"
                    },
                    "metadata": {}
                }
            ],
            "execution_count": 126
        }
    ]
}